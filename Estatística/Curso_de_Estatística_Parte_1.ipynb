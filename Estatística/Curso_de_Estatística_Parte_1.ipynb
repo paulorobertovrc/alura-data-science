{
 "cells": [
  {
   "cell_type": "markdown",
   "metadata": {
    "colab_type": "text",
    "id": "WvMflodMjQKe"
   },
   "source": [
    "***\n",
    "# <font color=green size=10>CURSO DE ESTATÍSTICA - PARTE 1</font>\n",
    "***"
   ]
  },
  {
   "cell_type": "markdown",
   "metadata": {
    "colab_type": "text",
    "id": "cVgsZ_E3jQKg"
   },
   "source": [
    "# <font color=green>1 CONHECENDO OS DADOS</font>\n",
    "***"
   ]
  },
  {
   "cell_type": "markdown",
   "metadata": {
    "colab_type": "text",
    "id": "TDjqYYNojQKh"
   },
   "source": [
    "## <font color=green>1.1 Dataset do projeto</font>\n",
    "***"
   ]
  },
  {
   "cell_type": "markdown",
   "metadata": {
    "colab_type": "text",
    "id": "iN1gIbaKjQKh"
   },
   "source": [
    "### Pesquisa Nacional por Amostra de Domicílios - 2015\n",
    "\n",
    "A <b>Pesquisa Nacional por Amostra de Domicílios - PNAD</b> investiga anualmente, de forma permanente, características gerais da população, de educação, trabalho, rendimento e habitação e outras, com periodicidade variável, de acordo com as necessidades de informação para o país, como as características sobre migração, fecundidade, nupcialidade, saúde, segurança alimentar, entre outros temas. O levantamento dessas estatísticas constitui, ao longo dos 49 anos de realização da pesquisa, um importante instrumento para formulação, validação e avaliação de políticas orientadas para o desenvolvimento socioeconômico e a melhoria das condições de vida no Brasil."
   ]
  },
  {
   "cell_type": "markdown",
   "metadata": {
    "colab_type": "text",
    "id": "U6V7br1RjQKi"
   },
   "source": [
    "### Fonte dos Dados\n",
    "\n",
    "https://ww2.ibge.gov.br/home/estatistica/populacao/trabalhoerendimento/pnad2015/microdados.shtm"
   ]
  },
  {
   "cell_type": "markdown",
   "metadata": {
    "colab_type": "text",
    "id": "r0Fe_qnzjQKj"
   },
   "source": [
    "### Variáveis utilizadas\n",
    "\n",
    "> ### Renda\n",
    "> ***\n",
    "\n",
    "Rendimento mensal do trabalho principal para pessoas de 10 anos ou mais de idade.\n",
    "\n",
    "> ### Idade\n",
    "> ***\n",
    "\n",
    "Idade do morador na data de referência em anos.\n",
    "\n",
    "> ### Altura (elaboração própria)\n",
    "> ***\n",
    "\n",
    "Altura do morador em metros.\n",
    "\n",
    "> ### UF\n",
    "> ***\n",
    "\n",
    "|Código|Descrição|\n",
    "|---|---|\n",
    "|11|Rondônia|\n",
    "|12|Acre|\n",
    "|13|Amazonas|\n",
    "|14|Roraima|\n",
    "|15|Pará|\n",
    "|16|Amapá|\n",
    "|17|Tocantins|\n",
    "|21|Maranhão|\n",
    "|22|Piauí|\n",
    "|23|Ceará|\n",
    "|24|Rio Grande do Norte|\n",
    "|25|Paraíba|\n",
    "|26|Pernambuco|\n",
    "|27|Alagoas|\n",
    "|28|Sergipe|\n",
    "|29|Bahia|\n",
    "|31|Minas Gerais|\n",
    "|32|Espírito Santo|\n",
    "|33|Rio de Janeiro|\n",
    "|35|São Paulo|\n",
    "|41|Paraná|\n",
    "|42|Santa Catarina|\n",
    "|43|Rio Grande do Sul|\n",
    "|50|Mato Grosso do Sul|\n",
    "|51|Mato Grosso|\n",
    "|52|Goiás|\n",
    "|53|Distrito Federal|\n",
    "\n",
    "> ### Sexo\t\n",
    "> ***\n",
    "\n",
    "|Código|Descrição|\n",
    "|---|---|\n",
    "|0|Masculino|\n",
    "|1|Feminino|\n",
    "\n",
    "> ### Anos de Estudo\n",
    "> ***\n",
    "\n",
    "|Código|Descrição|\n",
    "|---|---|\n",
    "|1|Sem instrução e menos de 1 ano|\n",
    "|2|1 ano|\n",
    "|3|2 anos|\n",
    "|4|3 anos|\n",
    "|5|4 anos|\n",
    "|6|5 anos|\n",
    "|7|6 anos|\n",
    "|8|7 anos|\n",
    "|9|8 anos|\n",
    "|10|9 anos|\n",
    "|11|10 anos|\n",
    "|12|11 anos|\n",
    "|13|12 anos|\n",
    "|14|13 anos|\n",
    "|15|14 anos|\n",
    "|16|15 anos ou mais|\n",
    "|17|Não determinados| \n",
    "||Não aplicável|\n",
    "\n",
    "> ### Cor\n",
    "> ***\n",
    "\n",
    "|Código|Descrição|\n",
    "|---|---|\n",
    "|0|Indígena|\n",
    "|2|Branca|\n",
    "|4|Preta|\n",
    "|6|Amarela|\n",
    "|8|Parda|\n",
    "|9|Sem declaração|"
   ]
  },
  {
   "cell_type": "markdown",
   "metadata": {
    "colab_type": "text",
    "id": "OK1IQH5cX7Gb"
   },
   "source": [
    "#### <font color='red'>Observação</font>\n",
    "***\n",
    "> Os seguintes tratamentos foram realizados nos dados originais:\n",
    "> 1. Foram eliminados os registros onde a <b>Renda</b> era inválida (999 999 999 999);\n",
    "> 2. Foram eliminados os registros onde a <b>Renda</b> era missing;\n",
    "> 3. Foram considerados somente os registros das <b>Pessoas de Referência</b> de cada domicílio (responsável pelo domicílio)."
   ]
  },
  {
   "cell_type": "markdown",
   "metadata": {
    "colab_type": "text",
    "id": "8Rw70V6ojQKk"
   },
   "source": [
    "### Importando pandas e lendo o dataset do projeto\n",
    "\n",
    "https://pandas.pydata.org/"
   ]
  },
  {
   "cell_type": "code",
   "execution_count": 1,
   "metadata": {
    "colab": {},
    "colab_type": "code",
    "id": "8QgOpE-wjQKl",
    "ExecuteTime": {
     "end_time": "2024-02-13T17:28:36.420969Z",
     "start_time": "2024-02-13T17:28:36.416382Z"
    }
   },
   "outputs": [],
   "source": [
    "import pandas as pd"
   ]
  },
  {
   "cell_type": "code",
   "execution_count": 2,
   "metadata": {
    "colab": {},
    "colab_type": "code",
    "id": "ufRZ7TLwjQKo",
    "ExecuteTime": {
     "end_time": "2024-02-13T17:28:36.440327Z",
     "start_time": "2024-02-13T17:28:36.418788Z"
    }
   },
   "outputs": [],
   "source": [
    "dados = pd.read_csv('dados/dados.csv')"
   ]
  },
  {
   "cell_type": "code",
   "execution_count": 3,
   "metadata": {
    "colab": {
     "base_uri": "https://localhost:8080/",
     "height": 204
    },
    "colab_type": "code",
    "id": "GsC_WhLFjQKq",
    "outputId": "5eef662c-f904-4e46-ee7a-159616d06554",
    "scrolled": true,
    "ExecuteTime": {
     "end_time": "2024-02-13T17:28:36.468827Z",
     "start_time": "2024-02-13T17:28:36.441460Z"
    }
   },
   "outputs": [
    {
     "data": {
      "text/plain": "   UF  Sexo  Idade  Cor  Anos de Estudo  Renda    Altura\n0  11     0     23    8              12    800  1.603808\n1  11     1     23    2              12   1150  1.739790\n2  11     1     35    8              15    880  1.760444\n3  11     0     46    2               6   3500  1.783158\n4  11     1     47    8               9    150  1.690631",
      "text/html": "<div>\n<style scoped>\n    .dataframe tbody tr th:only-of-type {\n        vertical-align: middle;\n    }\n\n    .dataframe tbody tr th {\n        vertical-align: top;\n    }\n\n    .dataframe thead th {\n        text-align: right;\n    }\n</style>\n<table border=\"1\" class=\"dataframe\">\n  <thead>\n    <tr style=\"text-align: right;\">\n      <th></th>\n      <th>UF</th>\n      <th>Sexo</th>\n      <th>Idade</th>\n      <th>Cor</th>\n      <th>Anos de Estudo</th>\n      <th>Renda</th>\n      <th>Altura</th>\n    </tr>\n  </thead>\n  <tbody>\n    <tr>\n      <th>0</th>\n      <td>11</td>\n      <td>0</td>\n      <td>23</td>\n      <td>8</td>\n      <td>12</td>\n      <td>800</td>\n      <td>1.603808</td>\n    </tr>\n    <tr>\n      <th>1</th>\n      <td>11</td>\n      <td>1</td>\n      <td>23</td>\n      <td>2</td>\n      <td>12</td>\n      <td>1150</td>\n      <td>1.739790</td>\n    </tr>\n    <tr>\n      <th>2</th>\n      <td>11</td>\n      <td>1</td>\n      <td>35</td>\n      <td>8</td>\n      <td>15</td>\n      <td>880</td>\n      <td>1.760444</td>\n    </tr>\n    <tr>\n      <th>3</th>\n      <td>11</td>\n      <td>0</td>\n      <td>46</td>\n      <td>2</td>\n      <td>6</td>\n      <td>3500</td>\n      <td>1.783158</td>\n    </tr>\n    <tr>\n      <th>4</th>\n      <td>11</td>\n      <td>1</td>\n      <td>47</td>\n      <td>8</td>\n      <td>9</td>\n      <td>150</td>\n      <td>1.690631</td>\n    </tr>\n  </tbody>\n</table>\n</div>"
     },
     "execution_count": 3,
     "metadata": {},
     "output_type": "execute_result"
    }
   ],
   "source": [
    "# type(dados) # pandas.core.frame.DataFrame\n",
    "dados.head()"
   ]
  },
  {
   "cell_type": "markdown",
   "metadata": {
    "colab_type": "text",
    "id": "E3Mx0tVqjQKs"
   },
   "source": [
    "## <font color=green>1.2 Tipos de dados</font>\n",
    "***"
   ]
  },
  {
   "cell_type": "markdown",
   "metadata": {
    "colab_type": "text",
    "id": "oB4TCBFojQKt"
   },
   "source": [
    "### Variáveis qualitativas ordinais\n",
    "\n",
    "► Variáveis que podem ser ordenadas ou hierarquizardas"
   ]
  },
  {
   "cell_type": "code",
   "execution_count": 4,
   "metadata": {
    "colab": {
     "base_uri": "https://localhost:8080/",
     "height": 35
    },
    "colab_type": "code",
    "id": "NtQZNGNbjQKt",
    "outputId": "f75cd222-87e0-487c-b3cd-641c701dd6b1",
    "ExecuteTime": {
     "end_time": "2024-02-13T17:28:36.471982Z",
     "start_time": "2024-02-13T17:28:36.446210Z"
    }
   },
   "outputs": [
    {
     "data": {
      "text/plain": "[1, 2, 3, 4, 5, 6, 7, 8, 9, 10, 11, 12, 13, 14, 15, 16, 17]"
     },
     "execution_count": 4,
     "metadata": {},
     "output_type": "execute_result"
    }
   ],
   "source": [
    "sorted(dados['Anos de Estudo'].unique())"
   ]
  },
  {
   "cell_type": "markdown",
   "metadata": {
    "colab_type": "text",
    "id": "i2mCIMyojQKv"
   },
   "source": [
    "### Variáveis qualitativas nominais\n",
    "\n",
    "► Variáveis que não podem ser ordenadas ou hierarquizardas"
   ]
  },
  {
   "cell_type": "code",
   "execution_count": 5,
   "metadata": {
    "colab": {
     "base_uri": "https://localhost:8080/",
     "height": 503
    },
    "colab_type": "code",
    "id": "NODtY5IxjQKw",
    "outputId": "9b36ef0c-fa30-47cd-a568-6334b2330fd7",
    "scrolled": true,
    "ExecuteTime": {
     "end_time": "2024-02-13T17:28:36.485132Z",
     "start_time": "2024-02-13T17:28:36.448961Z"
    }
   },
   "outputs": [
    {
     "data": {
      "text/plain": "[11,\n 12,\n 13,\n 14,\n 15,\n 16,\n 17,\n 21,\n 22,\n 23,\n 24,\n 25,\n 26,\n 27,\n 28,\n 29,\n 31,\n 32,\n 33,\n 35,\n 41,\n 42,\n 43,\n 50,\n 51,\n 52,\n 53]"
     },
     "execution_count": 5,
     "metadata": {},
     "output_type": "execute_result"
    }
   ],
   "source": [
    "sorted(dados['UF'].unique())"
   ]
  },
  {
   "cell_type": "code",
   "execution_count": 6,
   "metadata": {
    "colab": {
     "base_uri": "https://localhost:8080/",
     "height": 35
    },
    "colab_type": "code",
    "id": "NURfft2QjQKy",
    "outputId": "8dd13533-8135-4234-e3ff-44f72b8fa535",
    "ExecuteTime": {
     "end_time": "2024-02-13T17:28:36.488156Z",
     "start_time": "2024-02-13T17:28:36.452069Z"
    }
   },
   "outputs": [
    {
     "data": {
      "text/plain": "[0, 2, 4, 6, 8]"
     },
     "execution_count": 6,
     "metadata": {},
     "output_type": "execute_result"
    }
   ],
   "source": [
    "sorted(dados['Cor'].unique())"
   ]
  },
  {
   "cell_type": "code",
   "execution_count": 7,
   "metadata": {
    "colab": {
     "base_uri": "https://localhost:8080/",
     "height": 35
    },
    "colab_type": "code",
    "id": "6VwGyqxMjQK1",
    "outputId": "6f0a238e-e94a-4691-eff8-239e64db9913",
    "ExecuteTime": {
     "end_time": "2024-02-13T17:28:36.490963Z",
     "start_time": "2024-02-13T17:28:36.455664Z"
    }
   },
   "outputs": [
    {
     "data": {
      "text/plain": "[0, 1]"
     },
     "execution_count": 7,
     "metadata": {},
     "output_type": "execute_result"
    }
   ],
   "source": [
    "sorted(dados['Sexo'].unique())"
   ]
  },
  {
   "cell_type": "markdown",
   "metadata": {
    "colab_type": "text",
    "id": "FQhi81LsjQK5"
   },
   "source": [
    "### Variáveis quantitativas discretas\n",
    "\n",
    "► Variáveis que representam uma contagem onde os valores possíveis formam um conjunto finito ou enumerável."
   ]
  },
  {
   "cell_type": "code",
   "execution_count": 8,
   "metadata": {
    "colab": {
     "base_uri": "https://localhost:8080/",
     "height": 35
    },
    "colab_type": "code",
    "id": "sr4JXeZkjQK5",
    "outputId": "eea4cb2d-c154-4ad1-b03f-7f5cdf06a285",
    "ExecuteTime": {
     "end_time": "2024-02-13T17:28:36.498287Z",
     "start_time": "2024-02-13T17:28:36.457881Z"
    }
   },
   "outputs": [
    {
     "name": "stdout",
     "output_type": "stream",
     "text": [
      "Menor idade: 13 | Maior idade: 99\n"
     ]
    }
   ],
   "source": [
    "# sorted(dados['Idade'].unique())\n",
    "print(f'Menor idade: {dados[\"Idade\"].min()} | Maior idade: {dados[\"Idade\"].max()}')"
   ]
  },
  {
   "cell_type": "markdown",
   "metadata": {
    "colab_type": "text",
    "id": "7mMXLTukjQK-"
   },
   "source": [
    "#### <font color='red'>Observação</font>\n",
    "***\n",
    "> A variável idade pode ser classificada de três formas distintas:\n",
    "> 1. <b>QUANTITATIVA DISCRETA</b> - quando representa anos completos (números inteiros);\n",
    "> 2. <b>QUANTITATIVA CONTÍNUA</b> - quando representa a idade exata, sendo representado por frações de anos; e\n",
    "> 3. <b>QUALITATIVA ORDINAL</b> - quando representa faixas de idade."
   ]
  },
  {
   "cell_type": "markdown",
   "metadata": {
    "colab_type": "text",
    "id": "J0L2OkaQjQK7"
   },
   "source": [
    "### Variáveis quantitativas contínuas\n",
    "\n",
    "► Variáveis que representam uma contagem ou mensuração que assumem valores em uma escala contínua (números reais)."
   ]
  },
  {
   "cell_type": "code",
   "execution_count": 9,
   "metadata": {
    "colab": {
     "base_uri": "https://localhost:8080/",
     "height": 35
    },
    "colab_type": "code",
    "id": "jOW-bGyRjQK8",
    "outputId": "f3667c96-a570-4f95-818e-4bcc9cbe9403",
    "ExecuteTime": {
     "end_time": "2024-02-13T17:28:36.501226Z",
     "start_time": "2024-02-13T17:28:36.460609Z"
    }
   },
   "outputs": [
    {
     "name": "stdout",
     "output_type": "stream",
     "text": [
      "Menor altura: 1.339244614 | Maior altura: 2.028496765\n"
     ]
    }
   ],
   "source": [
    "print(f'Menor altura: {dados[\"Altura\"].min()} | Maior altura: {dados[\"Altura\"].max()}')"
   ]
  },
  {
   "cell_type": "markdown",
   "metadata": {
    "colab_type": "text",
    "id": "d_LW5gMIjQK_"
   },
   "source": [
    "### Classificação de uma variável\n",
    "<img src='https://caelum-online-public.s3.amazonaws.com/1177-estatistica-parte1/01/img001.png' width='70%'>"
   ]
  },
  {
   "cell_type": "markdown",
   "metadata": {
    "colab_type": "text",
    "id": "PNIg_4VEjQK_"
   },
   "source": [
    "# <font color=green>2 DISTRIBUIÇÃO DE FREQUÊNCIAS</font>\n",
    "***\n",
    "\n",
    "O primeiro passo em um trabalho de análise é o conhecimento do comportamento das variáveis envolvidas no estudo. Utilizando técnicas estatísticas como as análises das <b>DISTRIBUIÇÕES DE FREQUÊNCIAS</b> e <b>HISTOGRAMAS</b> podemos avaliar melhor a forma como os fenômenos em estudo se distribuem."
   ]
  },
  {
   "cell_type": "markdown",
   "metadata": {
    "colab_type": "text",
    "id": "JhpyjkEFjQLA"
   },
   "source": [
    "## <font color=green>2.1 Distribuição de frequências para variáveis qualitativas</font>\n",
    "***"
   ]
  },
  {
   "cell_type": "markdown",
   "metadata": {
    "colab_type": "text",
    "id": "SsN3ikjqjQLB"
   },
   "source": [
    "### Método 1"
   ]
  },
  {
   "cell_type": "markdown",
   "metadata": {
    "colab_type": "text",
    "id": "dj_v0M44X7G3"
   },
   "source": [
    "https://pandas.pydata.org/pandas-docs/version/0.22/generated/pandas.Series.value_counts.html"
   ]
  },
  {
   "cell_type": "code",
   "execution_count": 10,
   "metadata": {
    "colab": {
     "base_uri": "https://localhost:8080/",
     "height": 71
    },
    "colab_type": "code",
    "id": "cA4gUboZjQLB",
    "outputId": "960bc58d-62e2-4ca2-bb6d-df888813cb34",
    "ExecuteTime": {
     "end_time": "2024-02-13T17:28:36.505788Z",
     "start_time": "2024-02-13T17:28:36.463388Z"
    }
   },
   "outputs": [
    {
     "data": {
      "text/plain": "Sexo\n0    53250\n1    23590\nName: count, dtype: int64"
     },
     "execution_count": 10,
     "metadata": {},
     "output_type": "execute_result"
    }
   ],
   "source": [
    "dados['Sexo'].value_counts()"
   ]
  },
  {
   "cell_type": "code",
   "execution_count": 11,
   "metadata": {
    "colab": {
     "base_uri": "https://localhost:8080/",
     "height": 71
    },
    "colab_type": "code",
    "id": "iy4-ijknjQLD",
    "outputId": "609cb9bf-45b6-4d6a-ab57-f7eee496a41b",
    "ExecuteTime": {
     "end_time": "2024-02-13T17:28:36.610200Z",
     "start_time": "2024-02-13T17:28:36.466724Z"
    }
   },
   "outputs": [
    {
     "data": {
      "text/plain": "Sexo\n0    69.299844\n1    30.700156\nName: proportion, dtype: float64"
     },
     "execution_count": 11,
     "metadata": {},
     "output_type": "execute_result"
    }
   ],
   "source": [
    "dados['Sexo'].value_counts(normalize=True) * 100"
   ]
  },
  {
   "cell_type": "code",
   "execution_count": 12,
   "metadata": {
    "colab": {},
    "colab_type": "code",
    "id": "qfkiLcFijQLG",
    "ExecuteTime": {
     "end_time": "2024-02-13T17:28:36.630641Z",
     "start_time": "2024-02-13T17:28:36.469148Z"
    }
   },
   "outputs": [],
   "source": [
    "frequencia = dados['Sexo'].value_counts()"
   ]
  },
  {
   "cell_type": "code",
   "execution_count": 13,
   "metadata": {
    "colab": {},
    "colab_type": "code",
    "id": "t4uFMt6fjQLI",
    "ExecuteTime": {
     "end_time": "2024-02-13T17:28:36.647691Z",
     "start_time": "2024-02-13T17:28:36.471232Z"
    }
   },
   "outputs": [],
   "source": [
    "frequencia_percentual = dados['Sexo'].value_counts(normalize=True) * 100"
   ]
  },
  {
   "cell_type": "code",
   "execution_count": 14,
   "metadata": {
    "colab": {},
    "colab_type": "code",
    "id": "zUGfju86jQLM",
    "ExecuteTime": {
     "end_time": "2024-02-13T17:28:36.651042Z",
     "start_time": "2024-02-13T17:28:36.472771Z"
    }
   },
   "outputs": [
    {
     "data": {
      "text/plain": "      Frequência  Percentual (%)\nSexo                            \n0          53250       69.299844\n1          23590       30.700156",
      "text/html": "<div>\n<style scoped>\n    .dataframe tbody tr th:only-of-type {\n        vertical-align: middle;\n    }\n\n    .dataframe tbody tr th {\n        vertical-align: top;\n    }\n\n    .dataframe thead th {\n        text-align: right;\n    }\n</style>\n<table border=\"1\" class=\"dataframe\">\n  <thead>\n    <tr style=\"text-align: right;\">\n      <th></th>\n      <th>Frequência</th>\n      <th>Percentual (%)</th>\n    </tr>\n    <tr>\n      <th>Sexo</th>\n      <th></th>\n      <th></th>\n    </tr>\n  </thead>\n  <tbody>\n    <tr>\n      <th>0</th>\n      <td>53250</td>\n      <td>69.299844</td>\n    </tr>\n    <tr>\n      <th>1</th>\n      <td>23590</td>\n      <td>30.700156</td>\n    </tr>\n  </tbody>\n</table>\n</div>"
     },
     "execution_count": 14,
     "metadata": {},
     "output_type": "execute_result"
    }
   ],
   "source": [
    "dist_freq_qualitativas = pd.DataFrame({'Frequência': frequencia, 'Percentual (%)': frequencia_percentual})\n",
    "dist_freq_qualitativas"
   ]
  },
  {
   "cell_type": "code",
   "execution_count": 15,
   "metadata": {
    "colab": {
     "base_uri": "https://localhost:8080/",
     "height": 111
    },
    "colab_type": "code",
    "id": "kPOYfijijQLO",
    "outputId": "4af843fe-2772-4fc7-a04c-6e50d2384b58",
    "ExecuteTime": {
     "end_time": "2024-02-13T17:28:36.654222Z",
     "start_time": "2024-02-13T17:28:36.480833Z"
    }
   },
   "outputs": [
    {
     "data": {
      "text/plain": "           Frequência  Percentual (%)\nSexo                                 \nMasculino       53250       69.299844\nFeminino        23590       30.700156",
      "text/html": "<div>\n<style scoped>\n    .dataframe tbody tr th:only-of-type {\n        vertical-align: middle;\n    }\n\n    .dataframe tbody tr th {\n        vertical-align: top;\n    }\n\n    .dataframe thead th {\n        text-align: right;\n    }\n</style>\n<table border=\"1\" class=\"dataframe\">\n  <thead>\n    <tr style=\"text-align: right;\">\n      <th></th>\n      <th>Frequência</th>\n      <th>Percentual (%)</th>\n    </tr>\n    <tr>\n      <th>Sexo</th>\n      <th></th>\n      <th></th>\n    </tr>\n  </thead>\n  <tbody>\n    <tr>\n      <th>Masculino</th>\n      <td>53250</td>\n      <td>69.299844</td>\n    </tr>\n    <tr>\n      <th>Feminino</th>\n      <td>23590</td>\n      <td>30.700156</td>\n    </tr>\n  </tbody>\n</table>\n</div>"
     },
     "execution_count": 15,
     "metadata": {},
     "output_type": "execute_result"
    }
   ],
   "source": [
    "dist_freq_qualitativas.rename(index={0: 'Masculino', 1: 'Feminino'}, inplace=True)\n",
    "dist_freq_qualitativas"
   ]
  },
  {
   "cell_type": "code",
   "execution_count": 16,
   "metadata": {
    "colab": {},
    "colab_type": "code",
    "id": "tMS-VSk3jQLQ",
    "ExecuteTime": {
     "end_time": "2024-02-13T17:28:36.664473Z",
     "start_time": "2024-02-13T17:28:36.484995Z"
    }
   },
   "outputs": [
    {
     "data": {
      "text/plain": "Sexo       Frequência  Percentual (%)\nSexo                                 \nMasculino       53250       69.299844\nFeminino        23590       30.700156",
      "text/html": "<div>\n<style scoped>\n    .dataframe tbody tr th:only-of-type {\n        vertical-align: middle;\n    }\n\n    .dataframe tbody tr th {\n        vertical-align: top;\n    }\n\n    .dataframe thead th {\n        text-align: right;\n    }\n</style>\n<table border=\"1\" class=\"dataframe\">\n  <thead>\n    <tr style=\"text-align: right;\">\n      <th>Sexo</th>\n      <th>Frequência</th>\n      <th>Percentual (%)</th>\n    </tr>\n    <tr>\n      <th>Sexo</th>\n      <th></th>\n      <th></th>\n    </tr>\n  </thead>\n  <tbody>\n    <tr>\n      <th>Masculino</th>\n      <td>53250</td>\n      <td>69.299844</td>\n    </tr>\n    <tr>\n      <th>Feminino</th>\n      <td>23590</td>\n      <td>30.700156</td>\n    </tr>\n  </tbody>\n</table>\n</div>"
     },
     "execution_count": 16,
     "metadata": {},
     "output_type": "execute_result"
    }
   ],
   "source": [
    "dist_freq_qualitativas.rename_axis('Sexo', axis=1, inplace=True) # axis = 0 (linha) ou 1 (coluna). Também é possível passar a string 'columns' ou 'rows'\n",
    "dist_freq_qualitativas"
   ]
  },
  {
   "cell_type": "markdown",
   "metadata": {
    "colab_type": "text",
    "id": "D82ocp_djQLR"
   },
   "source": [
    "### Método 2"
   ]
  },
  {
   "cell_type": "markdown",
   "metadata": {
    "colab_type": "text",
    "id": "rLbfeA_UX7HF"
   },
   "source": [
    "https://pandas.pydata.org/pandas-docs/version/0.22/generated/pandas.crosstab.html"
   ]
  },
  {
   "cell_type": "code",
   "execution_count": 17,
   "metadata": {
    "colab": {},
    "colab_type": "code",
    "id": "d8XMZiEfjQLS",
    "ExecuteTime": {
     "end_time": "2024-02-13T17:28:36.672810Z",
     "start_time": "2024-02-13T17:28:36.487613Z"
    }
   },
   "outputs": [],
   "source": [
    "sexo = {0: 'Masculino', 1: 'Feminino'}\n",
    "cor = {0: 'Indígena', 2: 'Branca', 4: 'Preta', 6: 'Amarela', 8: 'Parda', 9: 'Sem declaração'}"
   ]
  },
  {
   "cell_type": "code",
   "execution_count": 18,
   "metadata": {
    "colab": {
     "base_uri": "https://localhost:8080/",
     "height": 142
    },
    "colab_type": "code",
    "id": "YLCyOKYcjQLU",
    "outputId": "7edebb2b-4a25-4b77-f78a-f47adbc8b3d9",
    "ExecuteTime": {
     "end_time": "2024-02-13T17:28:36.686007Z",
     "start_time": "2024-02-13T17:28:36.489354Z"
    }
   },
   "outputs": [
    {
     "data": {
      "text/plain": "Cor        Indígena  Branca  Preta  Amarela  Parda\nSexo                                              \nMasculino       256   22194   5502      235  25063\nFeminino        101    9621   2889      117  10862",
      "text/html": "<div>\n<style scoped>\n    .dataframe tbody tr th:only-of-type {\n        vertical-align: middle;\n    }\n\n    .dataframe tbody tr th {\n        vertical-align: top;\n    }\n\n    .dataframe thead th {\n        text-align: right;\n    }\n</style>\n<table border=\"1\" class=\"dataframe\">\n  <thead>\n    <tr style=\"text-align: right;\">\n      <th>Cor</th>\n      <th>Indígena</th>\n      <th>Branca</th>\n      <th>Preta</th>\n      <th>Amarela</th>\n      <th>Parda</th>\n    </tr>\n    <tr>\n      <th>Sexo</th>\n      <th></th>\n      <th></th>\n      <th></th>\n      <th></th>\n      <th></th>\n    </tr>\n  </thead>\n  <tbody>\n    <tr>\n      <th>Masculino</th>\n      <td>256</td>\n      <td>22194</td>\n      <td>5502</td>\n      <td>235</td>\n      <td>25063</td>\n    </tr>\n    <tr>\n      <th>Feminino</th>\n      <td>101</td>\n      <td>9621</td>\n      <td>2889</td>\n      <td>117</td>\n      <td>10862</td>\n    </tr>\n  </tbody>\n</table>\n</div>"
     },
     "execution_count": 18,
     "metadata": {},
     "output_type": "execute_result"
    }
   ],
   "source": [
    "frequencia = pd.crosstab(dados['Sexo'], dados['Cor'])\n",
    "frequencia.rename(index=sexo, inplace=True)\n",
    "frequencia.rename(columns=cor, inplace=True)\n",
    "frequencia"
   ]
  },
  {
   "cell_type": "code",
   "execution_count": 19,
   "metadata": {
    "colab": {
     "base_uri": "https://localhost:8080/",
     "height": 142
    },
    "colab_type": "code",
    "id": "nrDtcf5gjQLV",
    "outputId": "6138e377-ca89-4606-8f22-084729b89637",
    "ExecuteTime": {
     "end_time": "2024-02-13T17:28:36.705208Z",
     "start_time": "2024-02-13T17:28:36.498645Z"
    }
   },
   "outputs": [
    {
     "data": {
      "text/plain": "Cor        Indígena     Branca     Preta   Amarela      Parda\nSexo                                                         \nMasculino  0.333160  28.883394  7.160333  0.305830  32.617126\nFeminino   0.131442  12.520822  3.759761  0.152264  14.135867",
      "text/html": "<div>\n<style scoped>\n    .dataframe tbody tr th:only-of-type {\n        vertical-align: middle;\n    }\n\n    .dataframe tbody tr th {\n        vertical-align: top;\n    }\n\n    .dataframe thead th {\n        text-align: right;\n    }\n</style>\n<table border=\"1\" class=\"dataframe\">\n  <thead>\n    <tr style=\"text-align: right;\">\n      <th>Cor</th>\n      <th>Indígena</th>\n      <th>Branca</th>\n      <th>Preta</th>\n      <th>Amarela</th>\n      <th>Parda</th>\n    </tr>\n    <tr>\n      <th>Sexo</th>\n      <th></th>\n      <th></th>\n      <th></th>\n      <th></th>\n      <th></th>\n    </tr>\n  </thead>\n  <tbody>\n    <tr>\n      <th>Masculino</th>\n      <td>0.333160</td>\n      <td>28.883394</td>\n      <td>7.160333</td>\n      <td>0.305830</td>\n      <td>32.617126</td>\n    </tr>\n    <tr>\n      <th>Feminino</th>\n      <td>0.131442</td>\n      <td>12.520822</td>\n      <td>3.759761</td>\n      <td>0.152264</td>\n      <td>14.135867</td>\n    </tr>\n  </tbody>\n</table>\n</div>"
     },
     "execution_count": 19,
     "metadata": {},
     "output_type": "execute_result"
    }
   ],
   "source": [
    "frequencia_percentual = pd.crosstab(dados['Sexo'], dados['Cor'], normalize=True) * 100\n",
    "frequencia_percentual.rename(index=sexo, inplace=True)\n",
    "frequencia_percentual.rename(columns=cor, inplace=True)\n",
    "frequencia_percentual"
   ]
  },
  {
   "cell_type": "code",
   "execution_count": 20,
   "metadata": {
    "colab": {
     "base_uri": "https://localhost:8080/",
     "height": 142
    },
    "colab_type": "code",
    "id": "_MHwBGcdp6dl",
    "outputId": "d2674b4f-214e-4b08-de79-13e443d41d41",
    "ExecuteTime": {
     "end_time": "2024-02-13T17:28:36.721099Z",
     "start_time": "2024-02-13T17:28:36.507251Z"
    }
   },
   "outputs": [
    {
     "data": {
      "text/plain": "Cor           Indígena       Branca        Preta      Amarela        Parda\nSexo                                                                      \nMasculino  1081.710938  2925.744435  1603.861687  4758.251064  1659.577425\nFeminino   2464.386139  2109.866750  1134.596400  3027.341880  1176.758516",
      "text/html": "<div>\n<style scoped>\n    .dataframe tbody tr th:only-of-type {\n        vertical-align: middle;\n    }\n\n    .dataframe tbody tr th {\n        vertical-align: top;\n    }\n\n    .dataframe thead th {\n        text-align: right;\n    }\n</style>\n<table border=\"1\" class=\"dataframe\">\n  <thead>\n    <tr style=\"text-align: right;\">\n      <th>Cor</th>\n      <th>Indígena</th>\n      <th>Branca</th>\n      <th>Preta</th>\n      <th>Amarela</th>\n      <th>Parda</th>\n    </tr>\n    <tr>\n      <th>Sexo</th>\n      <th></th>\n      <th></th>\n      <th></th>\n      <th></th>\n      <th></th>\n    </tr>\n  </thead>\n  <tbody>\n    <tr>\n      <th>Masculino</th>\n      <td>1081.710938</td>\n      <td>2925.744435</td>\n      <td>1603.861687</td>\n      <td>4758.251064</td>\n      <td>1659.577425</td>\n    </tr>\n    <tr>\n      <th>Feminino</th>\n      <td>2464.386139</td>\n      <td>2109.866750</td>\n      <td>1134.596400</td>\n      <td>3027.341880</td>\n      <td>1176.758516</td>\n    </tr>\n  </tbody>\n</table>\n</div>"
     },
     "execution_count": 20,
     "metadata": {},
     "output_type": "execute_result"
    }
   ],
   "source": [
    "frequencia_percentual = pd.crosstab(\n",
    "    dados['Sexo'],\n",
    "    dados['Cor'],\n",
    "    aggfunc='mean',\n",
    "    values=dados['Renda'])\n",
    "frequencia_percentual.rename(index=sexo, inplace=True)\n",
    "frequencia_percentual.rename(columns=cor, inplace=True)\n",
    "frequencia_percentual"
   ]
  },
  {
   "cell_type": "markdown",
   "metadata": {
    "colab_type": "text",
    "id": "eaXQUxnXjQLa"
   },
   "source": [
    "## <font color=green>2.2 Distribuição de frequências para variáveis quantitativas (classes personalizadas)</font>\n",
    "***"
   ]
  },
  {
   "cell_type": "markdown",
   "metadata": {
    "colab_type": "text",
    "id": "wxsSD-VVjQLb"
   },
   "source": [
    "### Passo 1 - Especificar os limites de cada classe\n",
    "\n",
    "Utilizar a seguinte classificação:\n",
    "\n",
    "<b>A</b> ► Acima de 20 SM\n",
    "\n",
    "<b>B</b> ► De 10 a 20 SM\n",
    "\n",
    "<b>C</b> ► De 4 a 10 SM\n",
    "\n",
    "<b>D</b> ► De 2 a 4 SM\n",
    "\n",
    "<b>E</b> ► Até 2 SM\n",
    "\n",
    "onde <b>SM</b> é o valor do salário mínimo na época. Em nosso caso <b>R$ 788,00</b> (2015):\n",
    "\n",
    "<b>A</b> ► Acima de 15.760\n",
    "\n",
    "<b>B</b> ► De 7.880 a 15.760\n",
    "\n",
    "<b>C</b> ► De 3.152 a 7.880\n",
    "\n",
    "<b>D</b> ► De 1.576 a 3.152\n",
    "\n",
    "<b>E</b> ► Até 1.576\n"
   ]
  },
  {
   "cell_type": "code",
   "execution_count": 21,
   "metadata": {
    "colab": {
     "base_uri": "https://localhost:8080/",
     "height": 35
    },
    "colab_type": "code",
    "id": "Z08790GUjQLc",
    "outputId": "4a7bafb3-8440-42ee-fc60-a29080527059",
    "ExecuteTime": {
     "end_time": "2024-02-13T17:28:36.724226Z",
     "start_time": "2024-02-13T17:28:36.548361Z"
    }
   },
   "outputs": [
    {
     "data": {
      "text/plain": "0"
     },
     "execution_count": 21,
     "metadata": {},
     "output_type": "execute_result"
    }
   ],
   "source": [
    "dados['Renda'].min()"
   ]
  },
  {
   "cell_type": "code",
   "execution_count": 22,
   "metadata": {
    "colab": {
     "base_uri": "https://localhost:8080/",
     "height": 35
    },
    "colab_type": "code",
    "id": "5q2V5-0FjQLe",
    "outputId": "4d3c65eb-f1b0-454d-eb93-09c82314e311",
    "ExecuteTime": {
     "end_time": "2024-02-13T17:28:36.741149Z",
     "start_time": "2024-02-13T17:28:36.555029Z"
    }
   },
   "outputs": [
    {
     "data": {
      "text/plain": "200000"
     },
     "execution_count": 22,
     "metadata": {},
     "output_type": "execute_result"
    }
   ],
   "source": [
    "dados['Renda'].max()"
   ]
  },
  {
   "cell_type": "code",
   "execution_count": 23,
   "metadata": {
    "colab": {},
    "colab_type": "code",
    "id": "Qt5F5w2UjQLg",
    "ExecuteTime": {
     "end_time": "2024-02-13T17:28:36.743988Z",
     "start_time": "2024-02-13T17:28:36.557124Z"
    }
   },
   "outputs": [],
   "source": [
    "classes = [0, 1576, 3152, 7880, 15760, 200000]"
   ]
  },
  {
   "cell_type": "code",
   "execution_count": 24,
   "metadata": {
    "colab": {},
    "colab_type": "code",
    "id": "DKPIGOLLjQLi",
    "ExecuteTime": {
     "end_time": "2024-02-13T17:28:36.751917Z",
     "start_time": "2024-02-13T17:28:36.558897Z"
    }
   },
   "outputs": [],
   "source": [
    "labels = ['E', 'D', 'C', 'B', 'A']"
   ]
  },
  {
   "cell_type": "markdown",
   "metadata": {
    "colab_type": "text",
    "id": "IQhlvrQUjQLk"
   },
   "source": [
    "### Passo 2 - Criar a tabela de frequências"
   ]
  },
  {
   "cell_type": "markdown",
   "metadata": {
    "colab_type": "text",
    "id": "Uy3fH4IxX7Hc"
   },
   "source": [
    "https://pandas.pydata.org/pandas-docs/version/0.22/generated/pandas.cut.html"
   ]
  },
  {
   "cell_type": "code",
   "outputs": [
    {
     "data": {
      "text/plain": "   UF  Sexo  Idade  Cor  Anos de Estudo  Renda    Altura\n0  11     0     23    8              12    800  1.603808\n1  11     1     23    2              12   1150  1.739790\n2  11     1     35    8              15    880  1.760444\n3  11     0     46    2               6   3500  1.783158\n4  11     1     47    8               9    150  1.690631",
      "text/html": "<div>\n<style scoped>\n    .dataframe tbody tr th:only-of-type {\n        vertical-align: middle;\n    }\n\n    .dataframe tbody tr th {\n        vertical-align: top;\n    }\n\n    .dataframe thead th {\n        text-align: right;\n    }\n</style>\n<table border=\"1\" class=\"dataframe\">\n  <thead>\n    <tr style=\"text-align: right;\">\n      <th></th>\n      <th>UF</th>\n      <th>Sexo</th>\n      <th>Idade</th>\n      <th>Cor</th>\n      <th>Anos de Estudo</th>\n      <th>Renda</th>\n      <th>Altura</th>\n    </tr>\n  </thead>\n  <tbody>\n    <tr>\n      <th>0</th>\n      <td>11</td>\n      <td>0</td>\n      <td>23</td>\n      <td>8</td>\n      <td>12</td>\n      <td>800</td>\n      <td>1.603808</td>\n    </tr>\n    <tr>\n      <th>1</th>\n      <td>11</td>\n      <td>1</td>\n      <td>23</td>\n      <td>2</td>\n      <td>12</td>\n      <td>1150</td>\n      <td>1.739790</td>\n    </tr>\n    <tr>\n      <th>2</th>\n      <td>11</td>\n      <td>1</td>\n      <td>35</td>\n      <td>8</td>\n      <td>15</td>\n      <td>880</td>\n      <td>1.760444</td>\n    </tr>\n    <tr>\n      <th>3</th>\n      <td>11</td>\n      <td>0</td>\n      <td>46</td>\n      <td>2</td>\n      <td>6</td>\n      <td>3500</td>\n      <td>1.783158</td>\n    </tr>\n    <tr>\n      <th>4</th>\n      <td>11</td>\n      <td>1</td>\n      <td>47</td>\n      <td>8</td>\n      <td>9</td>\n      <td>150</td>\n      <td>1.690631</td>\n    </tr>\n  </tbody>\n</table>\n</div>"
     },
     "execution_count": 25,
     "metadata": {},
     "output_type": "execute_result"
    }
   ],
   "source": [
    "dados.head()"
   ],
   "metadata": {
    "collapsed": false,
    "ExecuteTime": {
     "end_time": "2024-02-13T17:28:36.755441Z",
     "start_time": "2024-02-13T17:28:36.562002Z"
    }
   },
   "execution_count": 25
  },
  {
   "cell_type": "code",
   "execution_count": 26,
   "metadata": {
    "colab": {
     "base_uri": "https://localhost:8080/",
     "height": 125
    },
    "colab_type": "code",
    "id": "N-wZ_2UajQLm",
    "outputId": "62245a56-ed43-4344-d2fa-bbad51c61c55",
    "ExecuteTime": {
     "end_time": "2024-02-13T17:28:36.761150Z",
     "start_time": "2024-02-13T17:28:36.564449Z"
    }
   },
   "outputs": [
    {
     "data": {
      "text/plain": "0        E\n1        E\n2        E\n3        C\n4        E\n        ..\n76835    E\n76836    E\n76837    E\n76838    E\n76839    E\nName: Renda, Length: 76840, dtype: category\nCategories (5, object): ['E' < 'D' < 'C' < 'B' < 'A']"
     },
     "execution_count": 26,
     "metadata": {},
     "output_type": "execute_result"
    }
   ],
   "source": [
    "pd.cut(x = dados['Renda'],\n",
    "       bins=classes,\n",
    "       labels=labels,\n",
    "       include_lowest=True) # Por padrão, o menor valor não é incluído"
   ]
  },
  {
   "cell_type": "code",
   "execution_count": 27,
   "metadata": {
    "colab": {
     "base_uri": "https://localhost:8080/",
     "height": 125
    },
    "colab_type": "code",
    "id": "WrZ2m2GajQLo",
    "outputId": "363ba010-04c1-4f23-a08a-f5431372fcf4",
    "ExecuteTime": {
     "end_time": "2024-02-13T17:28:36.911844Z",
     "start_time": "2024-02-13T17:28:36.568872Z"
    }
   },
   "outputs": [
    {
     "data": {
      "text/plain": "Renda\nE    49755\nD    16700\nC     7599\nB     2178\nA      608\nName: count, dtype: int64"
     },
     "execution_count": 27,
     "metadata": {},
     "output_type": "execute_result"
    }
   ],
   "source": [
    "frequencia = pd.value_counts(pd.cut(x = dados['Renda'],\n",
    "                       bins=classes,\n",
    "                       labels=labels,\n",
    "                       include_lowest=True))\n",
    "frequencia"
   ]
  },
  {
   "cell_type": "code",
   "execution_count": 28,
   "metadata": {
    "colab": {
     "base_uri": "https://localhost:8080/",
     "height": 204
    },
    "colab_type": "code",
    "id": "btKoxJDujQLp",
    "outputId": "849e9644-dcf1-4c0f-88c8-9bd00f24a53b",
    "ExecuteTime": {
     "end_time": "2024-02-13T17:28:36.952580Z",
     "start_time": "2024-02-13T17:28:36.573498Z"
    }
   },
   "outputs": [
    {
     "data": {
      "text/plain": "Renda\nE    64.751432\nD    21.733472\nC     9.889381\nB     2.834461\nA     0.791255\nName: proportion, dtype: float64"
     },
     "execution_count": 28,
     "metadata": {},
     "output_type": "execute_result"
    }
   ],
   "source": [
    "frequencia_percentual = pd.value_counts(\n",
    "    pd.cut(x = dados['Renda'],\n",
    "           bins=classes,\n",
    "           labels=labels,\n",
    "           include_lowest=True),\n",
    "    normalize=True) * 100\n",
    "frequencia_percentual"
   ]
  },
  {
   "cell_type": "code",
   "execution_count": 29,
   "metadata": {
    "colab": {
     "base_uri": "https://localhost:8080/",
     "height": 204
    },
    "colab_type": "code",
    "id": "uTMEJXUHjQLs",
    "outputId": "ce17e408-9d56-44b2-fb26-a4037df3af00",
    "ExecuteTime": {
     "end_time": "2024-02-13T17:28:36.956272Z",
     "start_time": "2024-02-13T17:28:36.579253Z"
    }
   },
   "outputs": [
    {
     "data": {
      "text/plain": "       Frequência  Percentual (%)\nRenda                            \nA             608        0.791255\nB            2178        2.834461\nC            7599        9.889381\nD           16700       21.733472\nE           49755       64.751432",
      "text/html": "<div>\n<style scoped>\n    .dataframe tbody tr th:only-of-type {\n        vertical-align: middle;\n    }\n\n    .dataframe tbody tr th {\n        vertical-align: top;\n    }\n\n    .dataframe thead th {\n        text-align: right;\n    }\n</style>\n<table border=\"1\" class=\"dataframe\">\n  <thead>\n    <tr style=\"text-align: right;\">\n      <th></th>\n      <th>Frequência</th>\n      <th>Percentual (%)</th>\n    </tr>\n    <tr>\n      <th>Renda</th>\n      <th></th>\n      <th></th>\n    </tr>\n  </thead>\n  <tbody>\n    <tr>\n      <th>A</th>\n      <td>608</td>\n      <td>0.791255</td>\n    </tr>\n    <tr>\n      <th>B</th>\n      <td>2178</td>\n      <td>2.834461</td>\n    </tr>\n    <tr>\n      <th>C</th>\n      <td>7599</td>\n      <td>9.889381</td>\n    </tr>\n    <tr>\n      <th>D</th>\n      <td>16700</td>\n      <td>21.733472</td>\n    </tr>\n    <tr>\n      <th>E</th>\n      <td>49755</td>\n      <td>64.751432</td>\n    </tr>\n  </tbody>\n</table>\n</div>"
     },
     "execution_count": 29,
     "metadata": {},
     "output_type": "execute_result"
    }
   ],
   "source": [
    "dist_freq_quantitativas_personalizadas = pd.DataFrame(\n",
    "    {'Frequência' : frequencia, 'Percentual (%)': frequencia_percentual}\n",
    ")\n",
    "dist_freq_quantitativas_personalizadas.sort_index(ascending=False)"
   ]
  },
  {
   "cell_type": "markdown",
   "metadata": {
    "colab_type": "text",
    "id": "ViJYvvjujQLu"
   },
   "source": [
    "## <font color=green>2.3 Distribuição de frequências para variáveis quantitativas (classes de amplitude fixa)</font>\n",
    "***"
   ]
  },
  {
   "cell_type": "markdown",
   "metadata": {
    "colab_type": "text",
    "id": "02ve2BVojQLv"
   },
   "source": [
    "### Importando bibliotecas\n",
    "\n",
    "http://www.numpy.org/"
   ]
  },
  {
   "cell_type": "code",
   "execution_count": 30,
   "metadata": {
    "colab": {},
    "colab_type": "code",
    "id": "hSIsHKuJjQLw",
    "ExecuteTime": {
     "end_time": "2024-02-13T17:28:36.983583Z",
     "start_time": "2024-02-13T17:28:36.581460Z"
    }
   },
   "outputs": [],
   "source": [
    "import numpy as np"
   ]
  },
  {
   "cell_type": "markdown",
   "metadata": {
    "colab_type": "text",
    "id": "s9UGNaMzjQLy"
   },
   "source": [
    "### Passo 1 - Difinindo o número de classes"
   ]
  },
  {
   "cell_type": "markdown",
   "metadata": {
    "colab_type": "text",
    "id": "p268tvNHjQLy"
   },
   "source": [
    "#### Regra de Sturges\n",
    "\n",
    "# $$k = 1 + \\frac {10}{3}\\log_{10}n$$"
   ]
  },
  {
   "cell_type": "markdown",
   "source": [
    "###### A Regra de Sturges é um método para definição do número de classes, baseado no total de amostras (n) da base de dados"
   ],
   "metadata": {
    "collapsed": false
   }
  },
  {
   "cell_type": "code",
   "execution_count": 31,
   "metadata": {
    "colab": {
     "base_uri": "https://localhost:8080/",
     "height": 35
    },
    "colab_type": "code",
    "id": "wgLH6gGqjQLz",
    "outputId": "0cac691b-d35f-40a2-e1e7-31cfa0a5698a",
    "ExecuteTime": {
     "end_time": "2024-02-13T17:28:37.014566Z",
     "start_time": "2024-02-13T17:28:36.583534Z"
    }
   },
   "outputs": [
    {
     "data": {
      "text/plain": "76840"
     },
     "execution_count": 31,
     "metadata": {},
     "output_type": "execute_result"
    }
   ],
   "source": [
    "n = dados.shape[0]\n",
    "n"
   ]
  },
  {
   "cell_type": "code",
   "execution_count": 32,
   "metadata": {
    "colab": {},
    "colab_type": "code",
    "id": "uTuVep-8jQL0",
    "ExecuteTime": {
     "end_time": "2024-02-13T17:28:37.017877Z",
     "start_time": "2024-02-13T17:28:36.586412Z"
    }
   },
   "outputs": [
    {
     "data": {
      "text/plain": "17.285291187298853"
     },
     "execution_count": 32,
     "metadata": {},
     "output_type": "execute_result"
    }
   ],
   "source": [
    "k = 1 + (10/3) * np.log10(n)\n",
    "k"
   ]
  },
  {
   "cell_type": "code",
   "execution_count": 33,
   "metadata": {
    "colab": {
     "base_uri": "https://localhost:8080/",
     "height": 35
    },
    "colab_type": "code",
    "id": "988IDFNOjQL2",
    "outputId": "9de2b02d-c804-487c-b95e-3f5386860fd0",
    "ExecuteTime": {
     "end_time": "2024-02-13T17:28:37.029718Z",
     "start_time": "2024-02-13T17:28:36.588655Z"
    }
   },
   "outputs": [
    {
     "data": {
      "text/plain": "17"
     },
     "execution_count": 33,
     "metadata": {},
     "output_type": "execute_result"
    }
   ],
   "source": [
    "k = int(round(k, 0))\n",
    "k"
   ]
  },
  {
   "cell_type": "markdown",
   "metadata": {
    "colab_type": "text",
    "id": "5eO-RhaljQL6"
   },
   "source": [
    "### Passo 2 - Criar a tabela de frequências"
   ]
  },
  {
   "cell_type": "code",
   "execution_count": 34,
   "metadata": {
    "colab": {},
    "colab_type": "code",
    "id": "sVVA-jvDjQL7",
    "ExecuteTime": {
     "end_time": "2024-02-13T17:28:37.033523Z",
     "start_time": "2024-02-13T17:28:36.590978Z"
    }
   },
   "outputs": [],
   "source": [
    "frequencia = pd.value_counts(\n",
    "    pd.cut(\n",
    "        x = dados['Renda'],\n",
    "        bins = k,\n",
    "        include_lowest = True\n",
    "    ),\n",
    "    sort=False\n",
    ")"
   ]
  },
  {
   "cell_type": "code",
   "execution_count": 35,
   "metadata": {
    "colab": {
     "base_uri": "https://localhost:8080/",
     "height": 341
    },
    "colab_type": "code",
    "id": "-ylxSip1jQL9",
    "outputId": "d362e353-a3c9-4721-efd3-2a8ff7c85ab5",
    "ExecuteTime": {
     "end_time": "2024-02-13T17:28:37.036457Z",
     "start_time": "2024-02-13T17:28:36.596876Z"
    }
   },
   "outputs": [],
   "source": [
    "frequencia_percentual = pd.value_counts(\n",
    "    pd.cut(\n",
    "        x = dados['Renda'],\n",
    "        bins = k,\n",
    "        include_lowest = True\n",
    "    ),\n",
    "    sort=False,\n",
    "    normalize=True\n",
    ") * 100"
   ]
  },
  {
   "cell_type": "code",
   "execution_count": 36,
   "metadata": {
    "colab": {
     "base_uri": "https://localhost:8080/",
     "height": 576
    },
    "colab_type": "code",
    "id": "n9kkJ0WTjQL_",
    "outputId": "994669b3-9a10-424c-adab-6f934f87fd45",
    "ExecuteTime": {
     "end_time": "2024-02-13T17:28:37.039798Z",
     "start_time": "2024-02-13T17:28:36.604097Z"
    }
   },
   "outputs": [
    {
     "data": {
      "text/plain": "                          Frequência  Percentual (%)\nRenda                                               \n(-200.001, 11764.706]          75594       98.378449\n(11764.706, 23529.412]          1022        1.330036\n(23529.412, 35294.118]           169        0.219938\n(35294.118, 47058.824]            19        0.024727\n(47058.824, 58823.529]            16        0.020822\n(58823.529, 70588.235]             5        0.006507\n(70588.235, 82352.941]             4        0.005206\n(82352.941, 94117.647]             1        0.001301\n(94117.647, 105882.353]            6        0.007808\n(105882.353, 117647.059]           0        0.000000\n(117647.059, 129411.765]           1        0.001301\n(129411.765, 141176.471]           0        0.000000\n(141176.471, 152941.176]           0        0.000000\n(152941.176, 164705.882]           0        0.000000\n(164705.882, 176470.588]           0        0.000000\n(176470.588, 188235.294]           0        0.000000\n(188235.294, 200000.0]             3        0.003904",
      "text/html": "<div>\n<style scoped>\n    .dataframe tbody tr th:only-of-type {\n        vertical-align: middle;\n    }\n\n    .dataframe tbody tr th {\n        vertical-align: top;\n    }\n\n    .dataframe thead th {\n        text-align: right;\n    }\n</style>\n<table border=\"1\" class=\"dataframe\">\n  <thead>\n    <tr style=\"text-align: right;\">\n      <th></th>\n      <th>Frequência</th>\n      <th>Percentual (%)</th>\n    </tr>\n    <tr>\n      <th>Renda</th>\n      <th></th>\n      <th></th>\n    </tr>\n  </thead>\n  <tbody>\n    <tr>\n      <th>(-200.001, 11764.706]</th>\n      <td>75594</td>\n      <td>98.378449</td>\n    </tr>\n    <tr>\n      <th>(11764.706, 23529.412]</th>\n      <td>1022</td>\n      <td>1.330036</td>\n    </tr>\n    <tr>\n      <th>(23529.412, 35294.118]</th>\n      <td>169</td>\n      <td>0.219938</td>\n    </tr>\n    <tr>\n      <th>(35294.118, 47058.824]</th>\n      <td>19</td>\n      <td>0.024727</td>\n    </tr>\n    <tr>\n      <th>(47058.824, 58823.529]</th>\n      <td>16</td>\n      <td>0.020822</td>\n    </tr>\n    <tr>\n      <th>(58823.529, 70588.235]</th>\n      <td>5</td>\n      <td>0.006507</td>\n    </tr>\n    <tr>\n      <th>(70588.235, 82352.941]</th>\n      <td>4</td>\n      <td>0.005206</td>\n    </tr>\n    <tr>\n      <th>(82352.941, 94117.647]</th>\n      <td>1</td>\n      <td>0.001301</td>\n    </tr>\n    <tr>\n      <th>(94117.647, 105882.353]</th>\n      <td>6</td>\n      <td>0.007808</td>\n    </tr>\n    <tr>\n      <th>(105882.353, 117647.059]</th>\n      <td>0</td>\n      <td>0.000000</td>\n    </tr>\n    <tr>\n      <th>(117647.059, 129411.765]</th>\n      <td>1</td>\n      <td>0.001301</td>\n    </tr>\n    <tr>\n      <th>(129411.765, 141176.471]</th>\n      <td>0</td>\n      <td>0.000000</td>\n    </tr>\n    <tr>\n      <th>(141176.471, 152941.176]</th>\n      <td>0</td>\n      <td>0.000000</td>\n    </tr>\n    <tr>\n      <th>(152941.176, 164705.882]</th>\n      <td>0</td>\n      <td>0.000000</td>\n    </tr>\n    <tr>\n      <th>(164705.882, 176470.588]</th>\n      <td>0</td>\n      <td>0.000000</td>\n    </tr>\n    <tr>\n      <th>(176470.588, 188235.294]</th>\n      <td>0</td>\n      <td>0.000000</td>\n    </tr>\n    <tr>\n      <th>(188235.294, 200000.0]</th>\n      <td>3</td>\n      <td>0.003904</td>\n    </tr>\n  </tbody>\n</table>\n</div>"
     },
     "execution_count": 36,
     "metadata": {},
     "output_type": "execute_result"
    }
   ],
   "source": [
    "dist_freq_amplitude_fixa = pd.DataFrame(\n",
    "    {'Frequência' : frequencia, 'Percentual (%)': frequencia_percentual}\n",
    ")\n",
    "dist_freq_amplitude_fixa"
   ]
  },
  {
   "cell_type": "markdown",
   "metadata": {
    "colab_type": "text",
    "id": "Js9iLwNkjQME"
   },
   "source": [
    "## <font color=green>2.4 Histograma</font>\n",
    "***\n",
    "\n",
    "O <b>HISTOGRAMA</b> é a representação gráfica de uma distribuição de frequências. É uma gráfico formado por um conjunto de retângulos colocados lado a lado, onde a área de cada retângulo é proporcional à frequência da classe que ele representa."
   ]
  },
  {
   "cell_type": "markdown",
   "metadata": {
    "colab_type": "text",
    "id": "VzZEXDKX3PUH"
   },
   "source": [
    "### Importando a biblioteca\n",
    "\n",
    "https://seaborn.pydata.org/"
   ]
  },
  {
   "cell_type": "code",
   "execution_count": 37,
   "metadata": {
    "colab": {},
    "colab_type": "code",
    "id": "PYRaBCnxjQME",
    "ExecuteTime": {
     "end_time": "2024-02-13T17:28:37.052588Z",
     "start_time": "2024-02-13T17:28:36.606448Z"
    }
   },
   "outputs": [],
   "source": [
    "import seaborn as sns"
   ]
  },
  {
   "cell_type": "code",
   "execution_count": 38,
   "metadata": {
    "colab": {
     "base_uri": "https://localhost:8080/",
     "height": 429
    },
    "colab_type": "code",
    "id": "GAX3aCa6jQMG",
    "outputId": "e9da92bc-7d3e-4c46-e4e1-eeed3d853fef",
    "ExecuteTime": {
     "end_time": "2024-02-13T17:28:37.197697Z",
     "start_time": "2024-02-13T17:28:36.609123Z"
    }
   },
   "outputs": [
    {
     "name": "stderr",
     "output_type": "stream",
     "text": [
      "/var/folders/v3/cd9ctqm16fl8gn9vl4dgy_7c0000gn/T/ipykernel_10647/4204075741.py:1: UserWarning: \n",
      "\n",
      "`distplot` is a deprecated function and will be removed in seaborn v0.14.0.\n",
      "\n",
      "Please adapt your code to use either `displot` (a figure-level function with\n",
      "similar flexibility) or `histplot` (an axes-level function for histograms).\n",
      "\n",
      "For a guide to updating your code to use the new functions, please see\n",
      "https://gist.github.com/mwaskom/de44147ed2974457ad6372750bbe5751\n",
      "\n",
      "  ax = sns.distplot(dados['Altura'], kde=False)\n"
     ]
    },
    {
     "data": {
      "text/plain": "<Axes: title={'center': 'Distribuição de Frequências - Altura'}, xlabel='Metros'>"
     },
     "execution_count": 38,
     "metadata": {},
     "output_type": "execute_result"
    },
    {
     "data": {
      "text/plain": "<Figure size 1200x600 with 1 Axes>",
      "image/png": "[encoded data removed]"
     },
     "metadata": {},
     "output_type": "display_data"
    }
   ],
   "source": [
    "ax = sns.distplot(dados['Altura'], kde=False)\n",
    "ax.figure.set_size_inches(12, 6)\n",
    "ax.set_title('Distribuição de Frequências - Altura', fontsize=18)\n",
    "ax.set_xlabel('Metros', fontsize=14)\n",
    "ax"
   ]
  },
  {
   "cell_type": "code",
   "execution_count": 39,
   "metadata": {
    "colab": {
     "base_uri": "https://localhost:8080/",
     "height": 429
    },
    "colab_type": "code",
    "id": "wiQPnuMojQMJ",
    "outputId": "5deacde5-bca6-49cd-d054-02e250708859",
    "ExecuteTime": {
     "end_time": "2024-02-13T17:28:37.933507Z",
     "start_time": "2024-02-13T17:28:36.765616Z"
    }
   },
   "outputs": [
    {
     "name": "stderr",
     "output_type": "stream",
     "text": [
      "/var/folders/v3/cd9ctqm16fl8gn9vl4dgy_7c0000gn/T/ipykernel_10647/4075032855.py:1: UserWarning: \n",
      "\n",
      "`distplot` is a deprecated function and will be removed in seaborn v0.14.0.\n",
      "\n",
      "Please adapt your code to use either `displot` (a figure-level function with\n",
      "similar flexibility) or `histplot` (an axes-level function for histograms).\n",
      "\n",
      "For a guide to updating your code to use the new functions, please see\n",
      "https://gist.github.com/mwaskom/de44147ed2974457ad6372750bbe5751\n",
      "\n",
      "  ax = sns.distplot(dados['Altura'])\n"
     ]
    },
    {
     "data": {
      "text/plain": "<Axes: title={'center': 'Distribuição de Frequências - Altura com KDE'}, xlabel='Metros', ylabel='Density'>"
     },
     "execution_count": 39,
     "metadata": {},
     "output_type": "execute_result"
    },
    {
     "data": {
      "text/plain": "<Figure size 1200x600 with 1 Axes>",
      "image/png": "[encoded data removed]"
     },
     "metadata": {},
     "output_type": "display_data"
    }
   ],
   "source": [
    "ax = sns.distplot(dados['Altura'])\n",
    "ax.figure.set_size_inches(12, 6)\n",
    "ax.set_title('Distribuição de Frequências - Altura com KDE', fontsize=18) # KDE = função de densidade\n",
    "ax.set_xlabel('Metros', fontsize=14)\n",
    "ax"
   ]
  },
  {
   "cell_type": "code",
   "execution_count": 40,
   "metadata": {
    "colab": {
     "base_uri": "https://localhost:8080/",
     "height": 392
    },
    "colab_type": "code",
    "id": "3fySBW7qjQMK",
    "outputId": "43604d3b-3b8a-42e9-eb74-5dd1eab2a00b",
    "ExecuteTime": {
     "end_time": "2024-02-13T17:28:37.947758Z",
     "start_time": "2024-02-13T17:28:37.066875Z"
    }
   },
   "outputs": [
    {
     "data": {
      "text/plain": "<Axes: >"
     },
     "execution_count": 40,
     "metadata": {},
     "output_type": "execute_result"
    },
    {
     "data": {
      "text/plain": "<Figure size 1200x600 with 1 Axes>",
      "image/png": "[encoded data removed]"
     },
     "metadata": {},
     "output_type": "display_data"
    }
   ],
   "source": [
    "dados['Altura'].hist(bins=50, figsize=(12, 6))"
   ]
  },
  {
   "cell_type": "code",
   "execution_count": 41,
   "metadata": {
    "colab": {
     "base_uri": "https://localhost:8080/",
     "height": 204
    },
    "colab_type": "code",
    "id": "0HcLhLYtjQMM",
    "outputId": "45a291b3-4b7a-4ea8-c135-a873ad231c02",
    "ExecuteTime": {
     "end_time": "2024-02-13T17:28:38.016267Z",
     "start_time": "2024-02-13T17:28:37.171292Z"
    }
   },
   "outputs": [
    {
     "data": {
      "text/plain": "<Axes: xlabel='Renda'>"
     },
     "execution_count": 41,
     "metadata": {},
     "output_type": "execute_result"
    },
    {
     "data": {
      "text/plain": "<Figure size 1200x600 with 1 Axes>",
      "image/png": "[encoded data removed]"
     },
     "metadata": {},
     "output_type": "display_data"
    }
   ],
   "source": [
    "dist_freq_quantitativas_personalizadas['Frequência'].plot.bar(width=1, color='blue', alpha=0.2, figsize=(12, 6))"
   ]
  },
  {
   "cell_type": "markdown",
   "metadata": {
    "colab_type": "text",
    "id": "uIb17Es3jQMP"
   },
   "source": [
    "# <font color=green>3 MEDIDAS DE TENDÊNCIA CENTRAL</font>\n",
    "***"
   ]
  },
  {
   "cell_type": "markdown",
   "metadata": {
    "colab_type": "text",
    "id": "Wrya4suEX7H-"
   },
   "source": [
    "## DataFrame de exemplo"
   ]
  },
  {
   "cell_type": "code",
   "execution_count": 42,
   "metadata": {
    "colab": {
     "base_uri": "https://localhost:8080/",
     "height": 266
    },
    "colab_type": "code",
    "id": "jj7a21flX7H_",
    "outputId": "772a6f47-ed2a-4d49-9db0-bd0944270891",
    "ExecuteTime": {
     "end_time": "2024-02-13T17:28:38.085822Z",
     "start_time": "2024-02-13T17:28:37.231718Z"
    }
   },
   "outputs": [
    {
     "data": {
      "text/plain": "Matérias    Fulano  Beltrano  Sicrano\nMatemática       8      10.0      7.5\nPortuguês       10       2.0      8.0\nInglês           4       0.5      7.0\nGeografia        8       1.0      8.0\nHistória         6       3.0      8.0\nFísica          10       9.5      8.5\nQuímica          8      10.0      7.0",
      "text/html": "<div>\n<style scoped>\n    .dataframe tbody tr th:only-of-type {\n        vertical-align: middle;\n    }\n\n    .dataframe tbody tr th {\n        vertical-align: top;\n    }\n\n    .dataframe thead th {\n        text-align: right;\n    }\n</style>\n<table border=\"1\" class=\"dataframe\">\n  <thead>\n    <tr style=\"text-align: right;\">\n      <th>Matérias</th>\n      <th>Fulano</th>\n      <th>Beltrano</th>\n      <th>Sicrano</th>\n    </tr>\n  </thead>\n  <tbody>\n    <tr>\n      <th>Matemática</th>\n      <td>8</td>\n      <td>10.0</td>\n      <td>7.5</td>\n    </tr>\n    <tr>\n      <th>Português</th>\n      <td>10</td>\n      <td>2.0</td>\n      <td>8.0</td>\n    </tr>\n    <tr>\n      <th>Inglês</th>\n      <td>4</td>\n      <td>0.5</td>\n      <td>7.0</td>\n    </tr>\n    <tr>\n      <th>Geografia</th>\n      <td>8</td>\n      <td>1.0</td>\n      <td>8.0</td>\n    </tr>\n    <tr>\n      <th>História</th>\n      <td>6</td>\n      <td>3.0</td>\n      <td>8.0</td>\n    </tr>\n    <tr>\n      <th>Física</th>\n      <td>10</td>\n      <td>9.5</td>\n      <td>8.5</td>\n    </tr>\n    <tr>\n      <th>Química</th>\n      <td>8</td>\n      <td>10.0</td>\n      <td>7.0</td>\n    </tr>\n  </tbody>\n</table>\n</div>"
     },
     "execution_count": 42,
     "metadata": {},
     "output_type": "execute_result"
    }
   ],
   "source": [
    "df = pd.DataFrame(data = {'Fulano': [8, 10, 4, 8, 6, 10, 8],\n",
    "                          'Beltrano': [10, 2, 0.5, 1, 3, 9.5, 10],\n",
    "                          'Sicrano': [7.5, 8, 7, 8, 8, 8.5, 7]},\n",
    "                  index = ['Matemática',\n",
    "                           'Português',\n",
    "                           'Inglês',\n",
    "                           'Geografia',\n",
    "                           'História',\n",
    "                           'Física',\n",
    "                           'Química'])\n",
    "df.rename_axis('Matérias', axis = 'columns', inplace = True)\n",
    "df"
   ]
  },
  {
   "cell_type": "markdown",
   "metadata": {
    "colab_type": "text",
    "id": "kcHJFW-YjQMP"
   },
   "source": [
    "## <font color=green>3.1 Média aritmética</font>\n",
    "***\n",
    "\n",
    "É representada por $\\mu$ quando se refere à população e por $\\bar{X}$ quando se refere à amostra\n",
    "\n",
    "# $$\\mu = \\frac 1n\\sum_{i=1}^{n}X_i$$\n",
    "\n",
    "onde \n",
    "\n",
    "$n$ = número de observações (registros)\n",
    "\n",
    "$X_i$ = valor da i-ésima observação (registro)"
   ]
  },
  {
   "cell_type": "markdown",
   "source": [
    "###### A média é o centro de massa/ponto de equilíbrio da distribuição da variável e, portanto, muito sensível aos extremos"
   ],
   "metadata": {
    "collapsed": false
   }
  },
  {
   "cell_type": "code",
   "execution_count": 43,
   "metadata": {
    "colab": {
     "base_uri": "https://localhost:8080/",
     "height": 35
    },
    "colab_type": "code",
    "id": "QW4JPcBmX7IA",
    "outputId": "45810cfa-fba2-4bf3-b571-eddd9d8ebd09",
    "ExecuteTime": {
     "end_time": "2024-02-13T17:28:38.089255Z",
     "start_time": "2024-02-13T17:28:37.235495Z"
    }
   },
   "outputs": [
    {
     "data": {
      "text/plain": "7.714285714285714"
     },
     "execution_count": 43,
     "metadata": {},
     "output_type": "execute_result"
    }
   ],
   "source": [
    "(8 + 10 + 4 + 8 + 6 + 10 + 8) / 7"
   ]
  },
  {
   "cell_type": "code",
   "execution_count": 44,
   "metadata": {
    "colab": {
     "base_uri": "https://localhost:8080/",
     "height": 35
    },
    "colab_type": "code",
    "id": "LuT8WNy5X7IB",
    "outputId": "1fde4b44-b250-41d9-ff02-70c9a0e05aca",
    "ExecuteTime": {
     "end_time": "2024-02-13T17:28:38.141498Z",
     "start_time": "2024-02-13T17:28:37.239416Z"
    }
   },
   "outputs": [
    {
     "data": {
      "text/plain": "7.714285714285714"
     },
     "execution_count": 44,
     "metadata": {},
     "output_type": "execute_result"
    }
   ],
   "source": [
    "df['Fulano'].mean()"
   ]
  },
  {
   "cell_type": "code",
   "execution_count": 45,
   "metadata": {
    "colab": {
     "base_uri": "https://localhost:8080/",
     "height": 35
    },
    "colab_type": "code",
    "id": "BRMZcmMEjQMQ",
    "outputId": "5f3334d9-0f5f-40e2-e2b7-191e0bc3a5d6",
    "ExecuteTime": {
     "end_time": "2024-02-13T17:28:38.158685Z",
     "start_time": "2024-02-13T17:28:37.242680Z"
    }
   },
   "outputs": [
    {
     "data": {
      "text/plain": "2000.3831988547631"
     },
     "execution_count": 45,
     "metadata": {},
     "output_type": "execute_result"
    }
   ],
   "source": [
    "dados['Renda'].mean()"
   ]
  },
  {
   "cell_type": "code",
   "execution_count": 46,
   "metadata": {
    "colab": {
     "base_uri": "https://localhost:8080/",
     "height": 89
    },
    "colab_type": "code",
    "id": "CGgJbsK0HBQc",
    "outputId": "35b8a334-5f7d-4f17-ec85-2e10ec6ae5ab",
    "ExecuteTime": {
     "end_time": "2024-02-13T17:28:38.189930Z",
     "start_time": "2024-02-13T17:28:37.246119Z"
    }
   },
   "outputs": [
    {
     "data": {
      "text/plain": "Sexo\n0    2192.441596\n1    1566.847393\nName: Renda, dtype: float64"
     },
     "execution_count": 46,
     "metadata": {},
     "output_type": "execute_result"
    }
   ],
   "source": [
    "dados.groupby(['Sexo'])['Renda'].mean()"
   ]
  },
  {
   "cell_type": "markdown",
   "metadata": {
    "colab_type": "text",
    "id": "9geu3UcKjQMS"
   },
   "source": [
    "## <font color=green>3.2 Mediana</font>\n",
    "***\n",
    "\n",
    "Para obtermos a mediana de uma conjunto de dados devemos proceder da seguinte maneira:\n",
    "1. Ordenar o conjunto de dados;\n",
    "2. Identificar o número de observações (registros) do conjunto de dados ($n$);\n",
    "3. Identicar o elemento mediano:\n",
    "\n",
    "> Quando $n$ for ímpar, a posição do elemento mediano será obtida da seguinte forma:\n",
    "\n",
    "\n",
    "# $$Elemento_{Md} = \\frac{n+1}2$$\n",
    "\n",
    "> Quando $n$ for par, a posição do elemento mediano será obtida da seguinte forma:\n",
    "\n",
    "\n",
    "# $$Elemento_{Md} = \\frac{n}2$$\n",
    "\n",
    "4. Obter a mediana:\n",
    "\n",
    "> Quando $n$ for ímpar:\n",
    "\n",
    "\n",
    "# $$Md = X_{Elemento_{Md}}$$\n",
    "\n",
    "> Quando $n$ for par:\n",
    "\n",
    "\n",
    "# $$Md = \\frac{X_{Elemento_{Md}} + X_{Elemento_{Md}+1}}2$$\n",
    "***"
   ]
  },
  {
   "cell_type": "markdown",
   "metadata": {
    "colab_type": "text",
    "id": "e0IuYdJFjQMT"
   },
   "source": [
    "### Exemplo 1 - n ímpar\n",
    "\n",
    "<img src='https://caelum-online-public.s3.amazonaws.com/1177-estatistica-parte1/01/img002.png' width='40%' style=\"float:left\">"
   ]
  },
  {
   "cell_type": "code",
   "execution_count": 47,
   "metadata": {
    "colab": {
     "base_uri": "https://localhost:8080/",
     "height": 161
    },
    "colab_type": "code",
    "id": "3dXjdRFlX7IH",
    "outputId": "d032eb05-bd06-4c1f-817d-f19abedb42bc",
    "ExecuteTime": {
     "end_time": "2024-02-13T17:28:38.210975Z",
     "start_time": "2024-02-13T17:28:37.251197Z"
    }
   },
   "outputs": [
    {
     "data": {
      "text/plain": "Matemática     8\nPortuguês     10\nInglês         4\nGeografia      8\nHistória       6\nFísica        10\nQuímica        8\nName: Fulano, dtype: int64"
     },
     "execution_count": 47,
     "metadata": {},
     "output_type": "execute_result"
    }
   ],
   "source": [
    "notas_fulano = df['Fulano']\n",
    "notas_fulano"
   ]
  },
  {
   "cell_type": "code",
   "execution_count": 48,
   "metadata": {
    "colab": {
     "base_uri": "https://localhost:8080/",
     "height": 161
    },
    "colab_type": "code",
    "id": "cU91DJ-yjQMV",
    "outputId": "928ea4b6-51e4-433e-9140-412596b3b42a",
    "ExecuteTime": {
     "end_time": "2024-02-13T17:28:38.250039Z",
     "start_time": "2024-02-13T17:28:37.255178Z"
    }
   },
   "outputs": [
    {
     "data": {
      "text/plain": "Inglês         4\nHistória       6\nMatemática     8\nGeografia      8\nQuímica        8\nPortuguês     10\nFísica        10\nName: Fulano, dtype: int64"
     },
     "execution_count": 48,
     "metadata": {},
     "output_type": "execute_result"
    }
   ],
   "source": [
    "notas_fulano = notas_fulano.sort_values()\n",
    "notas_fulano"
   ]
  },
  {
   "cell_type": "code",
   "execution_count": 49,
   "metadata": {
    "colab": {
     "base_uri": "https://localhost:8080/",
     "height": 266
    },
    "colab_type": "code",
    "id": "z9bOnYKf1NOd",
    "outputId": "a1d69cc0-145e-4ec9-9504-32b220cf4e5c",
    "ExecuteTime": {
     "end_time": "2024-02-13T17:28:38.269127Z",
     "start_time": "2024-02-13T17:28:37.259433Z"
    }
   },
   "outputs": [
    {
     "data": {
      "text/plain": "        index  Fulano\n0      Inglês       4\n1    História       6\n2  Matemática       8\n3   Geografia       8\n4     Química       8\n5   Português      10\n6      Física      10",
      "text/html": "<div>\n<style scoped>\n    .dataframe tbody tr th:only-of-type {\n        vertical-align: middle;\n    }\n\n    .dataframe tbody tr th {\n        vertical-align: top;\n    }\n\n    .dataframe thead th {\n        text-align: right;\n    }\n</style>\n<table border=\"1\" class=\"dataframe\">\n  <thead>\n    <tr style=\"text-align: right;\">\n      <th></th>\n      <th>index</th>\n      <th>Fulano</th>\n    </tr>\n  </thead>\n  <tbody>\n    <tr>\n      <th>0</th>\n      <td>Inglês</td>\n      <td>4</td>\n    </tr>\n    <tr>\n      <th>1</th>\n      <td>História</td>\n      <td>6</td>\n    </tr>\n    <tr>\n      <th>2</th>\n      <td>Matemática</td>\n      <td>8</td>\n    </tr>\n    <tr>\n      <th>3</th>\n      <td>Geografia</td>\n      <td>8</td>\n    </tr>\n    <tr>\n      <th>4</th>\n      <td>Química</td>\n      <td>8</td>\n    </tr>\n    <tr>\n      <th>5</th>\n      <td>Português</td>\n      <td>10</td>\n    </tr>\n    <tr>\n      <th>6</th>\n      <td>Física</td>\n      <td>10</td>\n    </tr>\n  </tbody>\n</table>\n</div>"
     },
     "execution_count": 49,
     "metadata": {},
     "output_type": "execute_result"
    }
   ],
   "source": [
    "notas_fulano = notas_fulano.reset_index()\n",
    "notas_fulano"
   ]
  },
  {
   "cell_type": "code",
   "execution_count": 50,
   "metadata": {
    "colab": {
     "base_uri": "https://localhost:8080/",
     "height": 35
    },
    "colab_type": "code",
    "id": "u3nfPEFjjQMW",
    "outputId": "a683f234-d732-4dc0-9e3e-eac66a6f904d",
    "ExecuteTime": {
     "end_time": "2024-02-13T17:28:38.274356Z",
     "start_time": "2024-02-13T17:28:37.262471Z"
    }
   },
   "outputs": [
    {
     "data": {
      "text/plain": "7"
     },
     "execution_count": 50,
     "metadata": {},
     "output_type": "execute_result"
    }
   ],
   "source": [
    "n = notas_fulano.shape[0]\n",
    "n"
   ]
  },
  {
   "cell_type": "code",
   "execution_count": 51,
   "metadata": {
    "colab": {
     "base_uri": "https://localhost:8080/",
     "height": 35
    },
    "colab_type": "code",
    "id": "trC12MHxjQMY",
    "outputId": "917c6720-daa2-45be-a72d-3e0d63c67fd0",
    "ExecuteTime": {
     "end_time": "2024-02-13T17:28:38.277330Z",
     "start_time": "2024-02-13T17:28:37.265616Z"
    }
   },
   "outputs": [
    {
     "data": {
      "text/plain": "4.0"
     },
     "execution_count": 51,
     "metadata": {},
     "output_type": "execute_result"
    }
   ],
   "source": [
    "elemento_mediano = (n + 1) / 2\n",
    "elemento_mediano # É o elemento na posição..."
   ]
  },
  {
   "cell_type": "code",
   "execution_count": 52,
   "metadata": {
    "colab": {
     "base_uri": "https://localhost:8080/",
     "height": 71
    },
    "colab_type": "code",
    "id": "NKccffcLjQMZ",
    "outputId": "46c1c33a-100b-4aca-e876-f3589b699b48",
    "ExecuteTime": {
     "end_time": "2024-02-13T17:28:38.282911Z",
     "start_time": "2024-02-13T17:28:37.269862Z"
    }
   },
   "outputs": [
    {
     "data": {
      "text/plain": "index     Geografia\nFulano            8\nName: 3, dtype: object"
     },
     "execution_count": 52,
     "metadata": {},
     "output_type": "execute_result"
    }
   ],
   "source": [
    "notas_fulano.loc[elemento_mediano - 1]"
   ]
  },
  {
   "cell_type": "code",
   "execution_count": 53,
   "metadata": {
    "colab": {
     "base_uri": "https://localhost:8080/",
     "height": 53
    },
    "colab_type": "code",
    "id": "ody5mfXLjQMb",
    "outputId": "d43b24b8-1d80-4780-a059-720cdc073353",
    "ExecuteTime": {
     "end_time": "2024-02-13T17:28:38.311809Z",
     "start_time": "2024-02-13T17:28:37.273768Z"
    }
   },
   "outputs": [
    {
     "data": {
      "text/plain": "Fulano    8.0\ndtype: float64"
     },
     "execution_count": 53,
     "metadata": {},
     "output_type": "execute_result"
    }
   ],
   "source": [
    "notas_fulano.median(numeric_only=True)"
   ]
  },
  {
   "cell_type": "markdown",
   "metadata": {
    "colab_type": "text",
    "id": "hQHyjfLkjQMe"
   },
   "source": [
    "### Exemplo 2 - n par\n",
    "\n",
    "<img src='https://caelum-online-public.s3.amazonaws.com/1177-estatistica-parte1/01/img003.png' width='50%' style=\"float:left\">"
   ]
  },
  {
   "cell_type": "code",
   "execution_count": 54,
   "metadata": {
    "colab": {
     "base_uri": "https://localhost:8080/",
     "height": 143
    },
    "colab_type": "code",
    "id": "Jkx1WZenjQMe",
    "outputId": "2482f6a4-b2c1-4751-865c-827ac57bba01",
    "ExecuteTime": {
     "end_time": "2024-02-13T17:28:38.315716Z",
     "start_time": "2024-02-13T17:28:37.277024Z"
    }
   },
   "outputs": [
    {
     "data": {
      "text/plain": "Matemática    10.0\nInglês         0.5\nFísica         9.5\nHistória       3.0\nQuímica       10.0\nPortuguês      2.0\nName: Beltrano, dtype: float64"
     },
     "execution_count": 54,
     "metadata": {},
     "output_type": "execute_result"
    }
   ],
   "source": [
    "notas_beltrano = df['Beltrano'].sample(6, random_state=101)\n",
    "notas_beltrano"
   ]
  },
  {
   "cell_type": "code",
   "execution_count": 55,
   "metadata": {
    "colab": {
     "base_uri": "https://localhost:8080/",
     "height": 143
    },
    "colab_type": "code",
    "id": "D1LUpvZkYsHq",
    "outputId": "d23d2d1c-bf17-4273-c441-092e04ec1ea8",
    "ExecuteTime": {
     "end_time": "2024-02-13T17:28:38.353660Z",
     "start_time": "2024-02-13T17:28:37.280476Z"
    }
   },
   "outputs": [
    {
     "data": {
      "text/plain": "6.25"
     },
     "execution_count": 55,
     "metadata": {},
     "output_type": "execute_result"
    }
   ],
   "source": [
    "notas_beltrano.median()"
   ]
  },
  {
   "cell_type": "markdown",
   "metadata": {
    "colab_type": "text",
    "id": "nK27TxrkjQMl"
   },
   "source": [
    "### Obtendo a mediana em nosso dataset"
   ]
  },
  {
   "cell_type": "code",
   "execution_count": 56,
   "metadata": {
    "colab": {
     "base_uri": "https://localhost:8080/",
     "height": 35
    },
    "colab_type": "code",
    "id": "dJznpnjUjQMl",
    "outputId": "f4728447-b763-4116-9076-9ac9c4d19d75",
    "ExecuteTime": {
     "end_time": "2024-02-13T17:28:38.363956Z",
     "start_time": "2024-02-13T17:28:37.283159Z"
    }
   },
   "outputs": [
    {
     "data": {
      "text/plain": "1200.0"
     },
     "execution_count": 56,
     "metadata": {},
     "output_type": "execute_result"
    }
   ],
   "source": [
    "dados['Renda'].median()"
   ]
  },
  {
   "cell_type": "code",
   "execution_count": 57,
   "metadata": {
    "colab": {
     "base_uri": "https://localhost:8080/",
     "height": 35
    },
    "colab_type": "code",
    "id": "W4a5PVYdjQMm",
    "outputId": "3e8a9233-4eb6-4684-9f96-ce79e53ffa7a",
    "ExecuteTime": {
     "end_time": "2024-02-13T17:28:38.367184Z",
     "start_time": "2024-02-13T17:28:37.286872Z"
    }
   },
   "outputs": [
    {
     "data": {
      "text/plain": "1200.0"
     },
     "execution_count": 57,
     "metadata": {},
     "output_type": "execute_result"
    }
   ],
   "source": [
    "dados['Renda'].quantile()"
   ]
  },
  {
   "cell_type": "markdown",
   "metadata": {
    "colab_type": "text",
    "id": "CmCu6BXQjQMo"
   },
   "source": [
    "## <font color=green>3.3 Moda</font>\n",
    "***\n",
    "\n",
    "Pode-se definir a moda como sendo o valor mais frequente de um conjunto de dados. A moda é bastante utilizada para dados qualitativos."
   ]
  },
  {
   "cell_type": "code",
   "execution_count": 58,
   "metadata": {
    "colab": {
     "base_uri": "https://localhost:8080/",
     "height": 266
    },
    "colab_type": "code",
    "id": "BHibMzw8X7Id",
    "outputId": "6b9375f3-1c22-4866-a40b-c28be3a01047",
    "ExecuteTime": {
     "end_time": "2024-02-13T17:28:38.408937Z",
     "start_time": "2024-02-13T17:28:37.292367Z"
    }
   },
   "outputs": [
    {
     "data": {
      "text/plain": "Matérias    Fulano  Beltrano  Sicrano\nMatemática       8      10.0      7.5\nPortuguês       10       2.0      8.0\nInglês           4       0.5      7.0\nGeografia        8       1.0      8.0\nHistória         6       3.0      8.0\nFísica          10       9.5      8.5\nQuímica          8      10.0      7.0",
      "text/html": "<div>\n<style scoped>\n    .dataframe tbody tr th:only-of-type {\n        vertical-align: middle;\n    }\n\n    .dataframe tbody tr th {\n        vertical-align: top;\n    }\n\n    .dataframe thead th {\n        text-align: right;\n    }\n</style>\n<table border=\"1\" class=\"dataframe\">\n  <thead>\n    <tr style=\"text-align: right;\">\n      <th>Matérias</th>\n      <th>Fulano</th>\n      <th>Beltrano</th>\n      <th>Sicrano</th>\n    </tr>\n  </thead>\n  <tbody>\n    <tr>\n      <th>Matemática</th>\n      <td>8</td>\n      <td>10.0</td>\n      <td>7.5</td>\n    </tr>\n    <tr>\n      <th>Português</th>\n      <td>10</td>\n      <td>2.0</td>\n      <td>8.0</td>\n    </tr>\n    <tr>\n      <th>Inglês</th>\n      <td>4</td>\n      <td>0.5</td>\n      <td>7.0</td>\n    </tr>\n    <tr>\n      <th>Geografia</th>\n      <td>8</td>\n      <td>1.0</td>\n      <td>8.0</td>\n    </tr>\n    <tr>\n      <th>História</th>\n      <td>6</td>\n      <td>3.0</td>\n      <td>8.0</td>\n    </tr>\n    <tr>\n      <th>Física</th>\n      <td>10</td>\n      <td>9.5</td>\n      <td>8.5</td>\n    </tr>\n    <tr>\n      <th>Química</th>\n      <td>8</td>\n      <td>10.0</td>\n      <td>7.0</td>\n    </tr>\n  </tbody>\n</table>\n</div>"
     },
     "execution_count": 58,
     "metadata": {},
     "output_type": "execute_result"
    }
   ],
   "source": [
    "df"
   ]
  },
  {
   "cell_type": "code",
   "execution_count": 59,
   "metadata": {
    "colab": {
     "base_uri": "https://localhost:8080/",
     "height": 80
    },
    "colab_type": "code",
    "id": "xICDpQguX7Ik",
    "outputId": "7863773e-e0d3-4fa4-d565-deb63cf0e82b",
    "ExecuteTime": {
     "end_time": "2024-02-13T17:28:38.437296Z",
     "start_time": "2024-02-13T17:28:37.296838Z"
    }
   },
   "outputs": [
    {
     "data": {
      "text/plain": "Matérias  Fulano  Beltrano  Sicrano\n0              8      10.0      8.0",
      "text/html": "<div>\n<style scoped>\n    .dataframe tbody tr th:only-of-type {\n        vertical-align: middle;\n    }\n\n    .dataframe tbody tr th {\n        vertical-align: top;\n    }\n\n    .dataframe thead th {\n        text-align: right;\n    }\n</style>\n<table border=\"1\" class=\"dataframe\">\n  <thead>\n    <tr style=\"text-align: right;\">\n      <th>Matérias</th>\n      <th>Fulano</th>\n      <th>Beltrano</th>\n      <th>Sicrano</th>\n    </tr>\n  </thead>\n  <tbody>\n    <tr>\n      <th>0</th>\n      <td>8</td>\n      <td>10.0</td>\n      <td>8.0</td>\n    </tr>\n  </tbody>\n</table>\n</div>"
     },
     "execution_count": 59,
     "metadata": {},
     "output_type": "execute_result"
    }
   ],
   "source": [
    "df.mode()"
   ]
  },
  {
   "cell_type": "code",
   "execution_count": 60,
   "metadata": {
    "colab": {
     "base_uri": "https://localhost:8080/",
     "height": 197
    },
    "colab_type": "code",
    "id": "x9lIRFESX7Il",
    "outputId": "44945487-3723-422d-e720-57fd216be8e2",
    "ExecuteTime": {
     "end_time": "2024-02-13T17:28:38.451649Z",
     "start_time": "2024-02-13T17:28:37.299922Z"
    }
   },
   "outputs": [
    {
     "data": {
      "text/plain": "0    1\n1    2\n2    2\n3    3\n4    4\n5    4\n6    5\n7    6\n8    6\ndtype: int64"
     },
     "execution_count": 60,
     "metadata": {},
     "output_type": "execute_result"
    }
   ],
   "source": [
    "exemplo = pd.Series([1,2,2,3,4,4,5,6,6])\n",
    "exemplo"
   ]
  },
  {
   "cell_type": "code",
   "execution_count": 61,
   "metadata": {
    "colab": {
     "base_uri": "https://localhost:8080/",
     "height": 71
    },
    "colab_type": "code",
    "id": "yUP6QFuiX7Io",
    "outputId": "4d51e179-bf46-4e35-dd06-f772e2fcab39",
    "ExecuteTime": {
     "end_time": "2024-02-13T17:28:38.463400Z",
     "start_time": "2024-02-13T17:28:37.302908Z"
    }
   },
   "outputs": [
    {
     "data": {
      "text/plain": "0    2\n1    4\n2    6\ndtype: int64"
     },
     "execution_count": 61,
     "metadata": {},
     "output_type": "execute_result"
    }
   ],
   "source": [
    "exemplo.mode()"
   ]
  },
  {
   "cell_type": "markdown",
   "metadata": {
    "colab_type": "text",
    "id": "YwhBwz-JjQMr"
   },
   "source": [
    "### Obtendo a moda em nosso dataset"
   ]
  },
  {
   "cell_type": "code",
   "execution_count": 62,
   "metadata": {
    "colab": {
     "base_uri": "https://localhost:8080/",
     "height": 53
    },
    "colab_type": "code",
    "id": "mC8vvYk-jQMr",
    "outputId": "bb3e196d-2447-4596-917f-5bdf34067dd9",
    "ExecuteTime": {
     "end_time": "2024-02-13T17:28:38.466771Z",
     "start_time": "2024-02-13T17:28:37.306875Z"
    }
   },
   "outputs": [
    {
     "data": {
      "text/plain": "0    788\nName: Renda, dtype: int64"
     },
     "execution_count": 62,
     "metadata": {},
     "output_type": "execute_result"
    }
   ],
   "source": [
    "dados['Renda'].mode()"
   ]
  },
  {
   "cell_type": "code",
   "execution_count": 63,
   "metadata": {
    "colab": {
     "base_uri": "https://localhost:8080/",
     "height": 197
    },
    "colab_type": "code",
    "id": "Sdosy_vSX7Iw",
    "outputId": "949a3b5a-b978-40ab-eed0-872fb425d0f4",
    "ExecuteTime": {
     "end_time": "2024-02-13T17:28:38.523261Z",
     "start_time": "2024-02-13T17:28:37.313886Z"
    }
   },
   "outputs": [
    {
     "data": {
      "text/plain": "0    1.568128\n1    1.671225\n2    1.681659\n3    1.692977\n4    1.708163\n5    1.708370\n6    1.753842\n7    1.779073\n8    1.796462\nName: Altura, dtype: float64"
     },
     "execution_count": 63,
     "metadata": {},
     "output_type": "execute_result"
    }
   ],
   "source": [
    "dados['Altura'].mode()"
   ]
  },
  {
   "cell_type": "markdown",
   "metadata": {
    "colab_type": "text",
    "id": "_-0gjQWFjQMu"
   },
   "source": [
    "## <font color=green>3.4 Relação entre média, mediana e moda</font>\n",
    "***"
   ]
  },
  {
   "cell_type": "markdown",
   "metadata": {
    "colab_type": "text",
    "id": "0S7pa_jLjQMu"
   },
   "source": [
    "<img src='https://caelum-online-public.s3.amazonaws.com/1177-estatistica-parte1/01/img004.png' width='80%'>"
   ]
  },
  {
   "cell_type": "markdown",
   "metadata": {
    "colab_type": "text",
    "id": "b7ZchyFsjQMu"
   },
   "source": [
    "### Avaliando a variável RENDA"
   ]
  },
  {
   "cell_type": "code",
   "execution_count": 64,
   "metadata": {
    "colab": {
     "base_uri": "https://localhost:8080/",
     "height": 406
    },
    "colab_type": "code",
    "id": "d8WQQ0PdjQMv",
    "outputId": "da495910-b7ab-4d66-f187-a8d6ff6b00f0",
    "ExecuteTime": {
     "end_time": "2024-02-13T17:28:38.796871Z",
     "start_time": "2024-02-13T17:28:37.317823Z"
    }
   },
   "outputs": [
    {
     "name": "stderr",
     "output_type": "stream",
     "text": [
      "/var/folders/v3/cd9ctqm16fl8gn9vl4dgy_7c0000gn/T/ipykernel_10647/664468123.py:1: UserWarning: \n",
      "\n",
      "`distplot` is a deprecated function and will be removed in seaborn v0.14.0.\n",
      "\n",
      "Please adapt your code to use either `displot` (a figure-level function with\n",
      "similar flexibility) or `histplot` (an axes-level function for histograms).\n",
      "\n",
      "For a guide to updating your code to use the new functions, please see\n",
      "https://gist.github.com/mwaskom/de44147ed2974457ad6372750bbe5751\n",
      "\n",
      "  ax = sns.distplot(dados['Renda'])\n"
     ]
    },
    {
     "data": {
      "text/plain": "<Axes: xlabel='Renda', ylabel='Density'>"
     },
     "execution_count": 64,
     "metadata": {},
     "output_type": "execute_result"
    },
    {
     "data": {
      "text/plain": "<Figure size 1200x600 with 1 Axes>",
      "image/png": "[encoded data removed]"
     },
     "metadata": {},
     "output_type": "display_data"
    }
   ],
   "source": [
    "ax = sns.distplot(dados['Renda'])\n",
    "ax.figure.set_size_inches(12, 6)\n",
    "ax"
   ]
  },
  {
   "cell_type": "code",
   "execution_count": 65,
   "metadata": {
    "colab": {
     "base_uri": "https://localhost:8080/",
     "height": 35
    },
    "colab_type": "code",
    "id": "krws6f_SjQMw",
    "outputId": "22ef1fae-c11c-468c-fa4a-f19fbf932411",
    "ExecuteTime": {
     "end_time": "2024-02-13T17:28:38.866720Z",
     "start_time": "2024-02-13T17:28:37.622604Z"
    }
   },
   "outputs": [
    {
     "name": "stderr",
     "output_type": "stream",
     "text": [
      "/var/folders/v3/cd9ctqm16fl8gn9vl4dgy_7c0000gn/T/ipykernel_10647/4142981643.py:1: UserWarning: \n",
      "\n",
      "`distplot` is a deprecated function and will be removed in seaborn v0.14.0.\n",
      "\n",
      "Please adapt your code to use either `displot` (a figure-level function with\n",
      "similar flexibility) or `histplot` (an axes-level function for histograms).\n",
      "\n",
      "For a guide to updating your code to use the new functions, please see\n",
      "https://gist.github.com/mwaskom/de44147ed2974457ad6372750bbe5751\n",
      "\n",
      "  ax = sns.distplot(dados.query('Renda < 20000').Renda)\n"
     ]
    },
    {
     "data": {
      "text/plain": "<Axes: xlabel='Renda', ylabel='Density'>"
     },
     "execution_count": 65,
     "metadata": {},
     "output_type": "execute_result"
    },
    {
     "data": {
      "text/plain": "<Figure size 1200x600 with 1 Axes>",
      "image/png": "[encoded data removed]"
     },
     "metadata": {},
     "output_type": "display_data"
    }
   ],
   "source": [
    "ax = sns.distplot(dados.query('Renda < 20000').Renda)\n",
    "ax.figure.set_size_inches(12, 6)\n",
    "ax\n"
   ]
  },
  {
   "cell_type": "code",
   "execution_count": 66,
   "metadata": {
    "colab": {
     "base_uri": "https://localhost:8080/",
     "height": 35
    },
    "colab_type": "code",
    "id": "_Y7KpB25jQMx",
    "outputId": "66d5c523-420c-47a3-a5d7-964d29545c02",
    "ExecuteTime": {
     "end_time": "2024-02-13T17:28:38.867811Z",
     "start_time": "2024-02-13T17:28:37.936895Z"
    }
   },
   "outputs": [
    {
     "data": {
      "text/plain": "788"
     },
     "execution_count": 66,
     "metadata": {},
     "output_type": "execute_result"
    }
   ],
   "source": [
    "moda = dados['Renda'].mode()[0]\n",
    "moda"
   ]
  },
  {
   "cell_type": "code",
   "execution_count": 67,
   "metadata": {
    "colab": {
     "base_uri": "https://localhost:8080/",
     "height": 35
    },
    "colab_type": "code",
    "id": "gQ0e56VajQMy",
    "outputId": "796f4faa-7171-4322-89e9-fd62b950a463",
    "ExecuteTime": {
     "end_time": "2024-02-13T17:28:38.885112Z",
     "start_time": "2024-02-13T17:28:37.947726Z"
    }
   },
   "outputs": [
    {
     "data": {
      "text/plain": "1200.0"
     },
     "execution_count": 67,
     "metadata": {},
     "output_type": "execute_result"
    }
   ],
   "source": [
    "mediana = dados['Renda'].median()\n",
    "mediana"
   ]
  },
  {
   "cell_type": "code",
   "execution_count": 68,
   "metadata": {
    "colab": {
     "base_uri": "https://localhost:8080/",
     "height": 35
    },
    "colab_type": "code",
    "id": "nX6lnCBujQM0",
    "outputId": "d4bd80b4-9eee-4ad2-f41d-29c12362580e",
    "ExecuteTime": {
     "end_time": "2024-02-13T17:28:38.890543Z",
     "start_time": "2024-02-13T17:28:37.950223Z"
    }
   },
   "outputs": [
    {
     "data": {
      "text/plain": "2000.3831988547631"
     },
     "execution_count": 68,
     "metadata": {},
     "output_type": "execute_result"
    }
   ],
   "source": [
    "media = dados['Renda'].mean()\n",
    "media"
   ]
  },
  {
   "cell_type": "markdown",
   "metadata": {
    "colab_type": "text",
    "id": "FnLQAxSijQM1"
   },
   "source": [
    "***"
   ]
  },
  {
   "cell_type": "markdown",
   "metadata": {
    "colab_type": "text",
    "id": "WazchssNjQM1"
   },
   "source": [
    "### Avaliando a variável ALTURA"
   ]
  },
  {
   "cell_type": "code",
   "execution_count": 69,
   "metadata": {
    "colab": {
     "base_uri": "https://localhost:8080/",
     "height": 406
    },
    "colab_type": "code",
    "id": "41uJsCk9jQM2",
    "outputId": "3f7aec0c-e6b0-4629-d235-8061ce3b25c4",
    "ExecuteTime": {
     "end_time": "2024-02-13T17:28:38.962530Z",
     "start_time": "2024-02-13T17:28:37.959100Z"
    }
   },
   "outputs": [
    {
     "name": "stderr",
     "output_type": "stream",
     "text": [
      "/var/folders/v3/cd9ctqm16fl8gn9vl4dgy_7c0000gn/T/ipykernel_10647/1078350488.py:1: UserWarning: \n",
      "\n",
      "`distplot` is a deprecated function and will be removed in seaborn v0.14.0.\n",
      "\n",
      "Please adapt your code to use either `displot` (a figure-level function with\n",
      "similar flexibility) or `histplot` (an axes-level function for histograms).\n",
      "\n",
      "For a guide to updating your code to use the new functions, please see\n",
      "https://gist.github.com/mwaskom/de44147ed2974457ad6372750bbe5751\n",
      "\n",
      "  ax = sns.distplot(dados['Altura'])\n"
     ]
    },
    {
     "data": {
      "text/plain": "<Axes: xlabel='Altura', ylabel='Density'>"
     },
     "execution_count": 69,
     "metadata": {},
     "output_type": "execute_result"
    },
    {
     "data": {
      "text/plain": "<Figure size 1200x600 with 1 Axes>",
      "image/png": "[encoded data removed]"
     },
     "metadata": {},
     "output_type": "display_data"
    }
   ],
   "source": [
    "ax = sns.distplot(dados['Altura'])\n",
    "ax.figure.set_size_inches(12, 6)\n",
    "ax"
   ]
  },
  {
   "cell_type": "code",
   "execution_count": 70,
   "metadata": {
    "colab": {
     "base_uri": "https://localhost:8080/",
     "height": 197
    },
    "colab_type": "code",
    "id": "EkgerGuXjQM3",
    "outputId": "2966d112-76a5-4286-923c-bb01f02c6acf",
    "ExecuteTime": {
     "end_time": "2024-02-13T17:28:38.967695Z",
     "start_time": "2024-02-13T17:28:38.241668Z"
    }
   },
   "outputs": [
    {
     "data": {
      "text/plain": "1.56812756"
     },
     "execution_count": 70,
     "metadata": {},
     "output_type": "execute_result"
    }
   ],
   "source": [
    "moda = dados['Altura'].mode()[0]\n",
    "moda"
   ]
  },
  {
   "cell_type": "code",
   "execution_count": 71,
   "metadata": {
    "colab": {
     "base_uri": "https://localhost:8080/",
     "height": 35
    },
    "colab_type": "code",
    "id": "Jj6MFUXbjQM4",
    "outputId": "ef153a71-fa7b-4165-b23c-136157955825",
    "ExecuteTime": {
     "end_time": "2024-02-13T17:28:38.979604Z",
     "start_time": "2024-02-13T17:28:38.248383Z"
    }
   },
   "outputs": [
    {
     "data": {
      "text/plain": "1.6993247325"
     },
     "execution_count": 71,
     "metadata": {},
     "output_type": "execute_result"
    }
   ],
   "source": [
    "mediana = dados['Altura'].median()\n",
    "mediana"
   ]
  },
  {
   "cell_type": "code",
   "execution_count": 72,
   "metadata": {
    "colab": {
     "base_uri": "https://localhost:8080/",
     "height": 35
    },
    "colab_type": "code",
    "id": "84X-3AzvjQM5",
    "outputId": "c2b94040-6ef1-46d1-cac1-58c8f6ba0d53",
    "ExecuteTime": {
     "end_time": "2024-02-13T17:28:38.982582Z",
     "start_time": "2024-02-13T17:28:38.254716Z"
    }
   },
   "outputs": [
    {
     "data": {
      "text/plain": "1.6995124540575741"
     },
     "execution_count": 72,
     "metadata": {},
     "output_type": "execute_result"
    }
   ],
   "source": [
    "media = dados['Altura'].mean()\n",
    "media"
   ]
  },
  {
   "cell_type": "markdown",
   "metadata": {
    "colab_type": "text",
    "id": "PJIMB8i8jQM6"
   },
   "source": [
    "***"
   ]
  },
  {
   "cell_type": "markdown",
   "metadata": {
    "colab_type": "text",
    "id": "eS4I2H7jjQM7"
   },
   "source": [
    "### Avaliando a variável ANOS DE ESTUDO"
   ]
  },
  {
   "cell_type": "code",
   "execution_count": 73,
   "metadata": {
    "colab": {
     "base_uri": "https://localhost:8080/",
     "height": 407
    },
    "colab_type": "code",
    "id": "NPCcjXqPjQM8",
    "outputId": "e811449e-866e-4986-a20b-8f2d44ddb437",
    "ExecuteTime": {
     "end_time": "2024-02-13T17:28:39.097326Z",
     "start_time": "2024-02-13T17:28:38.259624Z"
    }
   },
   "outputs": [
    {
     "name": "stderr",
     "output_type": "stream",
     "text": [
      "/var/folders/v3/cd9ctqm16fl8gn9vl4dgy_7c0000gn/T/ipykernel_10647/96283920.py:1: UserWarning: \n",
      "\n",
      "`distplot` is a deprecated function and will be removed in seaborn v0.14.0.\n",
      "\n",
      "Please adapt your code to use either `displot` (a figure-level function with\n",
      "similar flexibility) or `histplot` (an axes-level function for histograms).\n",
      "\n",
      "For a guide to updating your code to use the new functions, please see\n",
      "https://gist.github.com/mwaskom/de44147ed2974457ad6372750bbe5751\n",
      "\n",
      "  ax = sns.distplot(dados['Anos de Estudo'], bins = 17)\n"
     ]
    },
    {
     "data": {
      "text/plain": "<Axes: xlabel='Anos de Estudo', ylabel='Density'>"
     },
     "execution_count": 73,
     "metadata": {},
     "output_type": "execute_result"
    },
    {
     "data": {
      "text/plain": "<Figure size 1200x600 with 1 Axes>",
      "image/png": "[encoded data removed]"
     },
     "metadata": {},
     "output_type": "display_data"
    }
   ],
   "source": [
    "ax = sns.distplot(dados['Anos de Estudo'], bins = 17)\n",
    "ax.figure.set_size_inches(12, 6)\n",
    "ax"
   ]
  },
  {
   "cell_type": "code",
   "execution_count": 74,
   "metadata": {
    "colab": {
     "base_uri": "https://localhost:8080/",
     "height": 35
    },
    "colab_type": "code",
    "id": "PjfvPYUajQM9",
    "outputId": "477cf5fc-d11a-4e6f-dc45-dade49eff315",
    "ExecuteTime": {
     "end_time": "2024-02-13T17:28:39.100559Z",
     "start_time": "2024-02-13T17:28:38.559618Z"
    }
   },
   "outputs": [
    {
     "data": {
      "text/plain": "12"
     },
     "execution_count": 74,
     "metadata": {},
     "output_type": "execute_result"
    }
   ],
   "source": [
    "moda = dados['Anos de Estudo'].mode()[0]\n",
    "moda"
   ]
  },
  {
   "cell_type": "code",
   "execution_count": 75,
   "metadata": {
    "colab": {
     "base_uri": "https://localhost:8080/",
     "height": 35
    },
    "colab_type": "code",
    "id": "VF_Bj8x2jQM-",
    "outputId": "70b0abb2-902e-4f80-b8c7-fe0f8c0e3140",
    "ExecuteTime": {
     "end_time": "2024-02-13T17:28:39.105238Z",
     "start_time": "2024-02-13T17:28:38.564347Z"
    }
   },
   "outputs": [
    {
     "data": {
      "text/plain": "11.0"
     },
     "execution_count": 75,
     "metadata": {},
     "output_type": "execute_result"
    }
   ],
   "source": [
    "mediana = dados['Anos de Estudo'].median()\n",
    "mediana"
   ]
  },
  {
   "cell_type": "code",
   "execution_count": 76,
   "metadata": {
    "colab": {
     "base_uri": "https://localhost:8080/",
     "height": 35
    },
    "colab_type": "code",
    "id": "ohqUZ5RsjQNA",
    "outputId": "286e2b23-ef56-453f-e92a-2c73887c1af4",
    "ExecuteTime": {
     "end_time": "2024-02-13T17:28:39.108113Z",
     "start_time": "2024-02-13T17:28:38.568313Z"
    }
   },
   "outputs": [
    {
     "data": {
      "text/plain": "9.469664237376367"
     },
     "execution_count": 76,
     "metadata": {},
     "output_type": "execute_result"
    }
   ],
   "source": [
    "media = dados['Anos de Estudo'].mean()\n",
    "media"
   ]
  },
  {
   "cell_type": "markdown",
   "metadata": {
    "colab_type": "text",
    "id": "vcaIo45UjQND"
   },
   "source": [
    "# <font color=green>4 MEDIDAS SEPARATRIZES</font>\n",
    "***"
   ]
  },
  {
   "cell_type": "markdown",
   "metadata": {
    "colab_type": "text",
    "id": "f4XrApNxjQNE"
   },
   "source": [
    "## <font color=green>4.1 Quartis, decis e percentis</font>\n",
    "***\n",
    "\n",
    "Há uma série de medidas de posição semelhantes na sua concepção à mediana, embora não sejam medidas de tendência central. Como se sabe, a mediana divide a distribuição em duas partes iguais quanto ao número de elementos de cada parte. Já os quartis permitem dividir a distribuição em quatro partes iguais quanto ao número de elementos de cada uma; os decis em dez partes e os centis em cem partes iguais."
   ]
  },
  {
   "cell_type": "code",
   "execution_count": 77,
   "metadata": {
    "colab": {
     "base_uri": "https://localhost:8080/",
     "height": 89
    },
    "colab_type": "code",
    "id": "VmbdUO-ujQNE",
    "outputId": "d7a091db-3901-45ae-95c9-2d1a6b840cb6",
    "ExecuteTime": {
     "end_time": "2024-02-13T17:28:39.112901Z",
     "start_time": "2024-02-13T17:28:38.571809Z"
    }
   },
   "outputs": [
    {
     "data": {
      "text/plain": "0.25     788.0\n0.50    1200.0\n0.75    2000.0\nName: Renda, dtype: float64"
     },
     "execution_count": 77,
     "metadata": {},
     "output_type": "execute_result"
    }
   ],
   "source": [
    "dados['Renda'].quantile(\n",
    "    q=[0.25, 0.5, 0.75]\n",
    ")"
   ]
  },
  {
   "cell_type": "code",
   "execution_count": 78,
   "metadata": {
    "colab": {
     "base_uri": "https://localhost:8080/",
     "height": 35
    },
    "colab_type": "code",
    "id": "gyiJDAMbjQNF",
    "outputId": "565e6c38-11b6-4030-c05e-c1e74f69b2b9",
    "ExecuteTime": {
     "end_time": "2024-02-13T17:28:39.116239Z",
     "start_time": "2024-02-13T17:28:38.576583Z"
    }
   },
   "outputs": [
    {
     "data": {
      "text/plain": "[0.1, 0.2, 0.3, 0.4, 0.5, 0.6, 0.7, 0.8, 0.9]"
     },
     "execution_count": 78,
     "metadata": {},
     "output_type": "execute_result"
    }
   ],
   "source": [
    "decis = [i/10 for i in range(1, 10) ]\n",
    "decis"
   ]
  },
  {
   "cell_type": "code",
   "execution_count": 79,
   "metadata": {
    "colab": {
     "base_uri": "https://localhost:8080/",
     "height": 197
    },
    "colab_type": "code",
    "id": "EpRKboV5jQNG",
    "outputId": "dfe7892e-35d2-4b99-a635-68a04967b84f",
    "ExecuteTime": {
     "end_time": "2024-02-13T17:28:39.296981Z",
     "start_time": "2024-02-13T17:28:38.580037Z"
    }
   },
   "outputs": [
    {
     "data": {
      "text/plain": "0.1     350.0\n0.2     788.0\n0.3     800.0\n0.4    1000.0\n0.5    1200.0\n0.6    1500.0\n0.7    1900.0\n0.8    2500.0\n0.9    4000.0\nName: Renda, dtype: float64"
     },
     "execution_count": 79,
     "metadata": {},
     "output_type": "execute_result"
    }
   ],
   "source": [
    "dados['Renda'].quantile(decis)"
   ]
  },
  {
   "cell_type": "code",
   "execution_count": 80,
   "metadata": {
    "colab": {},
    "colab_type": "code",
    "id": "LQW--GapjQNI",
    "scrolled": true,
    "ExecuteTime": {
     "end_time": "2024-02-13T17:28:39.324624Z",
     "start_time": "2024-02-13T17:28:38.584001Z"
    }
   },
   "outputs": [
    {
     "data": {
      "text/plain": "[0.01,\n 0.02,\n 0.03,\n 0.04,\n 0.05,\n 0.06,\n 0.07,\n 0.08,\n 0.09,\n 0.1,\n 0.11,\n 0.12,\n 0.13,\n 0.14,\n 0.15,\n 0.16,\n 0.17,\n 0.18,\n 0.19,\n 0.2,\n 0.21,\n 0.22,\n 0.23,\n 0.24,\n 0.25,\n 0.26,\n 0.27,\n 0.28,\n 0.29,\n 0.3,\n 0.31,\n 0.32,\n 0.33,\n 0.34,\n 0.35,\n 0.36,\n 0.37,\n 0.38,\n 0.39,\n 0.4,\n 0.41,\n 0.42,\n 0.43,\n 0.44,\n 0.45,\n 0.46,\n 0.47,\n 0.48,\n 0.49,\n 0.5,\n 0.51,\n 0.52,\n 0.53,\n 0.54,\n 0.55,\n 0.56,\n 0.57,\n 0.58,\n 0.59,\n 0.6,\n 0.61,\n 0.62,\n 0.63,\n 0.64,\n 0.65,\n 0.66,\n 0.67,\n 0.68,\n 0.69,\n 0.7,\n 0.71,\n 0.72,\n 0.73,\n 0.74,\n 0.75,\n 0.76,\n 0.77,\n 0.78,\n 0.79,\n 0.8,\n 0.81,\n 0.82,\n 0.83,\n 0.84,\n 0.85,\n 0.86,\n 0.87,\n 0.88,\n 0.89,\n 0.9,\n 0.91,\n 0.92,\n 0.93,\n 0.94,\n 0.95,\n 0.96,\n 0.97,\n 0.98,\n 0.99]"
     },
     "execution_count": 80,
     "metadata": {},
     "output_type": "execute_result"
    }
   ],
   "source": [
    "percentil = [i/100 for i in range(1, 100) ]\n",
    "percentil"
   ]
  },
  {
   "cell_type": "code",
   "execution_count": 81,
   "metadata": {
    "colab": {
     "base_uri": "https://localhost:8080/",
     "height": 449
    },
    "colab_type": "code",
    "id": "pO2HCo1WUE5F",
    "outputId": "1d51695f-6cf2-4a2e-dae1-738ee842e617",
    "ExecuteTime": {
     "end_time": "2024-02-13T17:28:39.327612Z",
     "start_time": "2024-02-13T17:28:38.587018Z"
    }
   },
   "outputs": [
    {
     "data": {
      "text/plain": "0.01        0.0\n0.02        0.0\n0.03        0.0\n0.04       50.0\n0.05      100.0\n         ...   \n0.95     6000.0\n0.96     7000.0\n0.97     8000.0\n0.98    10000.0\n0.99    15000.0\nName: Renda, Length: 99, dtype: float64"
     },
     "execution_count": 81,
     "metadata": {},
     "output_type": "execute_result"
    }
   ],
   "source": [
    "dados['Renda'].quantile(percentil)"
   ]
  },
  {
   "cell_type": "code",
   "execution_count": 82,
   "metadata": {
    "colab": {
     "base_uri": "https://localhost:8080/",
     "height": 197
    },
    "colab_type": "code",
    "id": "GGHVrQA7jQNI",
    "outputId": "39bcdcfa-d7e3-40bc-f1d1-9e46a2237912",
    "ExecuteTime": {
     "end_time": "2024-02-13T17:28:39.575132Z",
     "start_time": "2024-02-13T17:28:38.594516Z"
    }
   },
   "outputs": [
    {
     "name": "stderr",
     "output_type": "stream",
     "text": [
      "/var/folders/v3/cd9ctqm16fl8gn9vl4dgy_7c0000gn/T/ipykernel_10647/166306007.py:1: UserWarning: \n",
      "\n",
      "`distplot` is a deprecated function and will be removed in seaborn v0.14.0.\n",
      "\n",
      "Please adapt your code to use either `displot` (a figure-level function with\n",
      "similar flexibility) or `histplot` (an axes-level function for histograms).\n",
      "\n",
      "For a guide to updating your code to use the new functions, please see\n",
      "https://gist.github.com/mwaskom/de44147ed2974457ad6372750bbe5751\n",
      "\n",
      "  ax = sns.distplot(dados['Idade'],\n"
     ]
    },
    {
     "ename": "AttributeError",
     "evalue": "'tuple' object has no attribute 'figure'",
     "output_type": "error",
     "traceback": [
      "\u001B[0;31m---------------------------------------------------------------------------\u001B[0m",
      "\u001B[0;31mAttributeError\u001B[0m                            Traceback (most recent call last)",
      "Cell \u001B[0;32mIn[82], line 4\u001B[0m\n\u001B[1;32m      1\u001B[0m ax \u001B[38;5;241m=\u001B[39m sns\u001B[38;5;241m.\u001B[39mdistplot(dados[\u001B[38;5;124m'\u001B[39m\u001B[38;5;124mIdade\u001B[39m\u001B[38;5;124m'\u001B[39m],\n\u001B[1;32m      2\u001B[0m                   hist_kws \u001B[38;5;241m=\u001B[39m {\u001B[38;5;124m'\u001B[39m\u001B[38;5;124mcumulative\u001B[39m\u001B[38;5;124m'\u001B[39m: \u001B[38;5;28;01mTrue\u001B[39;00m},\n\u001B[1;32m      3\u001B[0m                   kde_kws \u001B[38;5;241m=\u001B[39m {\u001B[38;5;124m'\u001B[39m\u001B[38;5;124mcumulative\u001B[39m\u001B[38;5;124m'\u001B[39m: \u001B[38;5;28;01mTrue\u001B[39;00m}),\n\u001B[0;32m----> 4\u001B[0m ax\u001B[38;5;241m.\u001B[39mfigure\u001B[38;5;241m.\u001B[39mset_size_inches(\u001B[38;5;241m14\u001B[39m, \u001B[38;5;241m6\u001B[39m)\n\u001B[1;32m      5\u001B[0m ax\u001B[38;5;241m.\u001B[39mset_title(\u001B[38;5;124m'\u001B[39m\u001B[38;5;124mDistribuição de Frequências Acumulada\u001B[39m\u001B[38;5;124m'\u001B[39m, fontsize\u001B[38;5;241m=\u001B[39m\u001B[38;5;241m18\u001B[39m)\n\u001B[1;32m      6\u001B[0m ax\u001B[38;5;241m.\u001B[39mset_ylabel(\u001B[38;5;124m'\u001B[39m\u001B[38;5;124mAcumulado\u001B[39m\u001B[38;5;124m'\u001B[39m, fontsize\u001B[38;5;241m=\u001B[39m\u001B[38;5;241m14\u001B[39m)\n",
      "\u001B[0;31mAttributeError\u001B[0m: 'tuple' object has no attribute 'figure'"
     ]
    },
    {
     "data": {
      "text/plain": "<Figure size 640x480 with 1 Axes>",
      "image/png": "[encoded data removed]"
     },
     "metadata": {},
     "output_type": "display_data"
    }
   ],
   "source": [
    "ax = sns.distplot(dados['Idade'],\n",
    "                  hist_kws = {'cumulative': True},\n",
    "                  kde_kws = {'cumulative': True}),\n",
    "ax.figure.set_size_inches(14, 6)\n",
    "ax.set_title('Distribuição de Frequências Acumulada', fontsize=18)\n",
    "ax.set_ylabel('Acumulado', fontsize=14)\n",
    "ax.set_xlabel('Anos', fontsize=14)\n",
    "ax"
   ]
  },
  {
   "cell_type": "markdown",
   "metadata": {
    "colab_type": "text",
    "id": "6gIeZO_CjQNJ"
   },
   "source": [
    "## <font color=green>4.2 Box-plot</font>\n",
    "***\n",
    "\n",
    "O box plot dá uma idéia da posição, dispersão, assimetria, caudas e dados discrepantes (outliers). A posição central é dada pela mediana e a dispersão por $IIQ$. As posições relativas de $Q1$, $Mediana$ e $Q3$ dão uma noção da simetria da distribuição. Os comprimentos das cauda são dados pelas linhas que vão do retângulo aos valores remotos e pelos valores atípicos."
   ]
  },
  {
   "cell_type": "markdown",
   "metadata": {
    "colab_type": "text",
    "id": "VeiTE_gvjQNK"
   },
   "source": [
    "<img src='https://caelum-online-public.s3.amazonaws.com/1177-estatistica-parte1/01/img005.png' width='65%'>"
   ]
  },
  {
   "cell_type": "code",
   "execution_count": null,
   "metadata": {
    "colab": {
     "base_uri": "https://localhost:8080/",
     "height": 320
    },
    "colab_type": "code",
    "id": "pBY2EWkzjQNK",
    "outputId": "eaef866d-66ed-4f6e-b0de-3e9a8bfa4b50",
    "ExecuteTime": {
     "start_time": "2024-02-13T17:28:39.247966Z"
    }
   },
   "outputs": [],
   "source": [
    "ax = sns.boxplot(\n",
    "    x='Altura',\n",
    "    data=dados,\n",
    "    orient='h'\n",
    ")\n",
    "ax.figure.set_size_inches(12, 4)\n",
    "ax.set_title('Altura', fontsize=18)\n",
    "ax.set_xlabel('Metros', fontsize=14)\n",
    "ax"
   ]
  },
  {
   "cell_type": "code",
   "execution_count": null,
   "metadata": {
    "colab": {
     "base_uri": "https://localhost:8080/",
     "height": 320
    },
    "colab_type": "code",
    "id": "2ZPrRov1suSF",
    "outputId": "6b176c56-cee6-4570-f288-5adfa84bc022",
    "ExecuteTime": {
     "start_time": "2024-02-13T17:28:39.249138Z"
    }
   },
   "outputs": [],
   "source": [
    "ax = sns.boxplot(\n",
    "    x='Renda',\n",
    "    data=dados,\n",
    "    orient='h'\n",
    ")\n",
    "ax.figure.set_size_inches(12, 4)\n",
    "ax.set_title('Renda', fontsize=18)\n",
    "ax.set_xlabel('R$', fontsize=14)\n",
    "ax"
   ]
  },
  {
   "cell_type": "code",
   "execution_count": null,
   "metadata": {
    "colab": {
     "base_uri": "https://localhost:8080/",
     "height": 320
    },
    "colab_type": "code",
    "id": "CSwlKUrrsuFi",
    "outputId": "895356d3-f6ab-4659-f821-f1bee28ae21a",
    "ExecuteTime": {
     "start_time": "2024-02-13T17:28:39.249950Z"
    }
   },
   "outputs": [],
   "source": [
    "ax = sns.boxplot(\n",
    "    x='Renda',\n",
    "    data=dados.query('Renda < 10000'),\n",
    "    orient='h'\n",
    ")\n",
    "ax.figure.set_size_inches(12, 4)\n",
    "ax.set_title('Renda', fontsize=18)\n",
    "ax.set_xlabel('R$', fontsize=14)\n",
    "ax"
   ]
  },
  {
   "cell_type": "code",
   "execution_count": null,
   "metadata": {
    "colab": {
     "base_uri": "https://localhost:8080/",
     "height": 320
    },
    "colab_type": "code",
    "id": "IDrzBcJ_jQNL",
    "outputId": "af4f0ff0-8db8-4550-f230-3508561dd8a6",
    "ExecuteTime": {
     "start_time": "2024-02-13T17:28:39.250910Z"
    }
   },
   "outputs": [],
   "source": [
    "ax = sns.boxplot(\n",
    "    x='Renda',\n",
    "    y='Sexo',\n",
    "    data=dados.query('Renda < 10000'),\n",
    "    orient='h'\n",
    ")\n",
    "ax.figure.set_size_inches(12, 4)\n",
    "ax.set_title('Renda', fontsize=18)\n",
    "ax.set_xlabel('R$', fontsize=14)\n",
    "ax"
   ]
  },
  {
   "cell_type": "code",
   "execution_count": null,
   "metadata": {
    "colab": {
     "base_uri": "https://localhost:8080/",
     "height": 320
    },
    "colab_type": "code",
    "id": "V3I-2KsbjQNM",
    "outputId": "4ba82684-e7cf-4ca8-eec3-21df2008f5ad",
    "ExecuteTime": {
     "start_time": "2024-02-13T17:28:39.252Z"
    }
   },
   "outputs": [],
   "source": [
    "ax = sns.boxplot(\n",
    "    x='Anos de Estudo',\n",
    "    data=dados,\n",
    "    orient='h'\n",
    ")\n",
    "ax.figure.set_size_inches(12, 4)\n",
    "ax.set_title('Anos de Estudo', fontsize=18)\n",
    "ax.set_xlabel('Anos', fontsize=14)\n",
    "ax"
   ]
  },
  {
   "cell_type": "code",
   "outputs": [],
   "source": [
    "ax = sns.boxplot(\n",
    "    x='Anos de Estudo',\n",
    "    y='Sexo',\n",
    "    data=dados,\n",
    "    orient='h'\n",
    ")\n",
    "ax.figure.set_size_inches(12, 4)\n",
    "ax.set_title('Anos de Estudo', fontsize=18)\n",
    "ax.set_xlabel('Anos', fontsize=14)\n",
    "ax"
   ],
   "metadata": {
    "collapsed": false,
    "ExecuteTime": {
     "start_time": "2024-02-13T17:28:39.253070Z"
    }
   },
   "execution_count": null
  },
  {
   "cell_type": "code",
   "outputs": [],
   "source": [
    "dados['Anos de Estudo'].quantile(q=[0.25, 0.5, 0.75])"
   ],
   "metadata": {
    "collapsed": false,
    "ExecuteTime": {
     "start_time": "2024-02-13T17:28:39.254030Z"
    }
   },
   "execution_count": null
  },
  {
   "cell_type": "code",
   "outputs": [],
   "source": [
    "df_masculino = dados.groupby('Sexo').get_group(0)\n",
    "df_feminino = dados.groupby('Sexo').get_group(1)"
   ],
   "metadata": {
    "collapsed": false,
    "ExecuteTime": {
     "start_time": "2024-02-13T17:28:39.254988Z"
    }
   },
   "execution_count": null
  },
  {
   "cell_type": "code",
   "outputs": [],
   "source": [
    "df_masculino['Anos de Estudo'].quantile(q=[0.25, 0.5, 0.75])"
   ],
   "metadata": {
    "collapsed": false,
    "ExecuteTime": {
     "start_time": "2024-02-13T17:28:39.255984Z"
    }
   },
   "execution_count": null
  },
  {
   "cell_type": "code",
   "outputs": [],
   "source": [
    "df_feminino['Anos de Estudo'].quantile(q=[0.25, 0.5, 0.75])"
   ],
   "metadata": {
    "collapsed": false,
    "ExecuteTime": {
     "start_time": "2024-02-13T17:28:39.256982Z"
    }
   },
   "execution_count": null
  },
  {
   "cell_type": "code",
   "outputs": [],
   "source": [
    "print(f'Tamanho da amostra : Feminino = {df_feminino.shape[0]} | Masculino = {df_masculino.shape[0]}')"
   ],
   "metadata": {
    "collapsed": false,
    "ExecuteTime": {
     "start_time": "2024-02-13T17:28:39.257842Z"
    }
   },
   "execution_count": null
  },
  {
   "cell_type": "markdown",
   "metadata": {
    "colab_type": "text",
    "id": "amloMZwVjQNN"
   },
   "source": [
    "<img src='https://caelum-online-public.s3.amazonaws.com/1177-estatistica-parte1/01/img006.png' width='80%'>"
   ]
  },
  {
   "cell_type": "markdown",
   "metadata": {
    "colab_type": "text",
    "id": "aJ6v_NI9jQNN"
   },
   "source": [
    "# <font color=green>5 MEDIDAS DE DISPERSÃO</font>\n",
    "***\n",
    "\n",
    "Embora as medidas de posição forneçam uma sumarização bastante importante dos dados, elas podem não ser suficientes para caracterizar conjuntos distintos, especialmente quando as observações de determinada distribuição apresentarem dados muito dispersos."
   ]
  },
  {
   "cell_type": "markdown",
   "metadata": {
    "colab_type": "text",
    "id": "D6xVxAQ7jQNO"
   },
   "source": [
    "## <font color=green>5.1 Desvio médio absoluto</font>\n",
    "***\n",
    "\n",
    "\n",
    "# $$DM = \\frac 1n\\sum_{i=1}^{n}|X_i-\\bar{X}|$$\n"
   ]
  },
  {
   "cell_type": "code",
   "execution_count": 83,
   "metadata": {
    "colab": {
     "base_uri": "https://localhost:8080/",
     "height": 266
    },
    "colab_type": "code",
    "id": "0sL31blV7nz3",
    "outputId": "5f44f5d3-88b4-40e2-810c-7e1e1a9bace0",
    "ExecuteTime": {
     "end_time": "2024-02-13T17:37:17.470964Z",
     "start_time": "2024-02-13T17:37:17.431245Z"
    }
   },
   "outputs": [
    {
     "data": {
      "text/plain": "Matérias    Fulano  Beltrano  Sicrano\nMatemática       8      10.0      7.5\nPortuguês       10       2.0      8.0\nInglês           4       0.5      7.0\nGeografia        8       1.0      8.0\nHistória         6       3.0      8.0\nFísica          10       9.5      8.5\nQuímica          8      10.0      7.0",
      "text/html": "<div>\n<style scoped>\n    .dataframe tbody tr th:only-of-type {\n        vertical-align: middle;\n    }\n\n    .dataframe tbody tr th {\n        vertical-align: top;\n    }\n\n    .dataframe thead th {\n        text-align: right;\n    }\n</style>\n<table border=\"1\" class=\"dataframe\">\n  <thead>\n    <tr style=\"text-align: right;\">\n      <th>Matérias</th>\n      <th>Fulano</th>\n      <th>Beltrano</th>\n      <th>Sicrano</th>\n    </tr>\n  </thead>\n  <tbody>\n    <tr>\n      <th>Matemática</th>\n      <td>8</td>\n      <td>10.0</td>\n      <td>7.5</td>\n    </tr>\n    <tr>\n      <th>Português</th>\n      <td>10</td>\n      <td>2.0</td>\n      <td>8.0</td>\n    </tr>\n    <tr>\n      <th>Inglês</th>\n      <td>4</td>\n      <td>0.5</td>\n      <td>7.0</td>\n    </tr>\n    <tr>\n      <th>Geografia</th>\n      <td>8</td>\n      <td>1.0</td>\n      <td>8.0</td>\n    </tr>\n    <tr>\n      <th>História</th>\n      <td>6</td>\n      <td>3.0</td>\n      <td>8.0</td>\n    </tr>\n    <tr>\n      <th>Física</th>\n      <td>10</td>\n      <td>9.5</td>\n      <td>8.5</td>\n    </tr>\n    <tr>\n      <th>Química</th>\n      <td>8</td>\n      <td>10.0</td>\n      <td>7.0</td>\n    </tr>\n  </tbody>\n</table>\n</div>"
     },
     "execution_count": 83,
     "metadata": {},
     "output_type": "execute_result"
    }
   ],
   "source": [
    "df"
   ]
  },
  {
   "cell_type": "code",
   "execution_count": 84,
   "metadata": {
    "colab": {
     "base_uri": "https://localhost:8080/",
     "height": 266
    },
    "colab_type": "code",
    "id": "f3pAri4G7nc4",
    "outputId": "f6800dd6-a0dd-47ae-d6d1-b7feca522389",
    "ExecuteTime": {
     "end_time": "2024-02-13T17:37:45.549482Z",
     "start_time": "2024-02-13T17:37:45.475299Z"
    }
   },
   "outputs": [
    {
     "data": {
      "text/plain": "Matérias    Fulano\nMatemática       8\nPortuguês       10\nInglês           4\nGeografia        8\nHistória         6\nFísica          10\nQuímica          8",
      "text/html": "<div>\n<style scoped>\n    .dataframe tbody tr th:only-of-type {\n        vertical-align: middle;\n    }\n\n    .dataframe tbody tr th {\n        vertical-align: top;\n    }\n\n    .dataframe thead th {\n        text-align: right;\n    }\n</style>\n<table border=\"1\" class=\"dataframe\">\n  <thead>\n    <tr style=\"text-align: right;\">\n      <th>Matérias</th>\n      <th>Fulano</th>\n    </tr>\n  </thead>\n  <tbody>\n    <tr>\n      <th>Matemática</th>\n      <td>8</td>\n    </tr>\n    <tr>\n      <th>Português</th>\n      <td>10</td>\n    </tr>\n    <tr>\n      <th>Inglês</th>\n      <td>4</td>\n    </tr>\n    <tr>\n      <th>Geografia</th>\n      <td>8</td>\n    </tr>\n    <tr>\n      <th>História</th>\n      <td>6</td>\n    </tr>\n    <tr>\n      <th>Física</th>\n      <td>10</td>\n    </tr>\n    <tr>\n      <th>Química</th>\n      <td>8</td>\n    </tr>\n  </tbody>\n</table>\n</div>"
     },
     "execution_count": 84,
     "metadata": {},
     "output_type": "execute_result"
    }
   ],
   "source": [
    "notas_fulano = df[['Fulano']]\n",
    "notas_fulano"
   ]
  },
  {
   "cell_type": "code",
   "execution_count": 86,
   "metadata": {
    "colab": {
     "base_uri": "https://localhost:8080/",
     "height": 35
    },
    "colab_type": "code",
    "id": "8_Q2tOTmjQNO",
    "outputId": "5c0d8214-aa63-4d0f-cfb1-f61bc171195f",
    "ExecuteTime": {
     "end_time": "2024-02-13T17:38:51.746046Z",
     "start_time": "2024-02-13T17:38:51.710167Z"
    }
   },
   "outputs": [
    {
     "data": {
      "text/plain": "7.714285714285714"
     },
     "execution_count": 86,
     "metadata": {},
     "output_type": "execute_result"
    }
   ],
   "source": [
    "nota_media_fulano = notas_fulano.mean()[0]\n",
    "nota_media_fulano"
   ]
  },
  {
   "cell_type": "code",
   "execution_count": 87,
   "metadata": {
    "colab": {
     "base_uri": "https://localhost:8080/",
     "height": 266
    },
    "colab_type": "code",
    "id": "RWo0AhBEjQNP",
    "outputId": "19437165-543f-4cb7-885c-956eb5e31090",
    "ExecuteTime": {
     "end_time": "2024-02-13T17:39:45.377404Z",
     "start_time": "2024-02-13T17:39:45.316531Z"
    }
   },
   "outputs": [
    {
     "name": "stderr",
     "output_type": "stream",
     "text": [
      "/var/folders/v3/cd9ctqm16fl8gn9vl4dgy_7c0000gn/T/ipykernel_10647/3281084762.py:1: SettingWithCopyWarning: \n",
      "A value is trying to be set on a copy of a slice from a DataFrame.\n",
      "Try using .loc[row_indexer,col_indexer] = value instead\n",
      "\n",
      "See the caveats in the documentation: https://pandas.pydata.org/pandas-docs/stable/user_guide/indexing.html#returning-a-view-versus-a-copy\n",
      "  notas_fulano['Desvio'] = notas_fulano['Fulano'] - nota_media_fulano\n"
     ]
    },
    {
     "data": {
      "text/plain": "Matérias    Fulano    Desvio\nMatemática       8  0.285714\nPortuguês       10  2.285714\nInglês           4 -3.714286\nGeografia        8  0.285714\nHistória         6 -1.714286\nFísica          10  2.285714\nQuímica          8  0.285714",
      "text/html": "<div>\n<style scoped>\n    .dataframe tbody tr th:only-of-type {\n        vertical-align: middle;\n    }\n\n    .dataframe tbody tr th {\n        vertical-align: top;\n    }\n\n    .dataframe thead th {\n        text-align: right;\n    }\n</style>\n<table border=\"1\" class=\"dataframe\">\n  <thead>\n    <tr style=\"text-align: right;\">\n      <th>Matérias</th>\n      <th>Fulano</th>\n      <th>Desvio</th>\n    </tr>\n  </thead>\n  <tbody>\n    <tr>\n      <th>Matemática</th>\n      <td>8</td>\n      <td>0.285714</td>\n    </tr>\n    <tr>\n      <th>Português</th>\n      <td>10</td>\n      <td>2.285714</td>\n    </tr>\n    <tr>\n      <th>Inglês</th>\n      <td>4</td>\n      <td>-3.714286</td>\n    </tr>\n    <tr>\n      <th>Geografia</th>\n      <td>8</td>\n      <td>0.285714</td>\n    </tr>\n    <tr>\n      <th>História</th>\n      <td>6</td>\n      <td>-1.714286</td>\n    </tr>\n    <tr>\n      <th>Física</th>\n      <td>10</td>\n      <td>2.285714</td>\n    </tr>\n    <tr>\n      <th>Química</th>\n      <td>8</td>\n      <td>0.285714</td>\n    </tr>\n  </tbody>\n</table>\n</div>"
     },
     "execution_count": 87,
     "metadata": {},
     "output_type": "execute_result"
    }
   ],
   "source": [
    "notas_fulano['Desvio'] = notas_fulano['Fulano'] - nota_media_fulano\n",
    "notas_fulano"
   ]
  },
  {
   "cell_type": "code",
   "execution_count": 89,
   "metadata": {
    "colab": {
     "base_uri": "https://localhost:8080/",
     "height": 35
    },
    "colab_type": "code",
    "id": "OiWDTw0ljQNQ",
    "outputId": "0123646d-ad0d-457e-cc5a-035bd6a843ec",
    "ExecuteTime": {
     "end_time": "2024-02-13T17:44:17.835813Z",
     "start_time": "2024-02-13T17:44:17.780256Z"
    }
   },
   "outputs": [
    {
     "data": {
      "text/plain": "Matérias    Fulano    Desvio  |Desvio|\nMatemática       8  0.285714  0.285714\nPortuguês       10  2.285714  2.285714\nInglês           4 -3.714286  3.714286\nGeografia        8  0.285714  0.285714\nHistória         6 -1.714286  1.714286\nFísica          10  2.285714  2.285714\nQuímica          8  0.285714  0.285714",
      "text/html": "<div>\n<style scoped>\n    .dataframe tbody tr th:only-of-type {\n        vertical-align: middle;\n    }\n\n    .dataframe tbody tr th {\n        vertical-align: top;\n    }\n\n    .dataframe thead th {\n        text-align: right;\n    }\n</style>\n<table border=\"1\" class=\"dataframe\">\n  <thead>\n    <tr style=\"text-align: right;\">\n      <th>Matérias</th>\n      <th>Fulano</th>\n      <th>Desvio</th>\n      <th>|Desvio|</th>\n    </tr>\n  </thead>\n  <tbody>\n    <tr>\n      <th>Matemática</th>\n      <td>8</td>\n      <td>0.285714</td>\n      <td>0.285714</td>\n    </tr>\n    <tr>\n      <th>Português</th>\n      <td>10</td>\n      <td>2.285714</td>\n      <td>2.285714</td>\n    </tr>\n    <tr>\n      <th>Inglês</th>\n      <td>4</td>\n      <td>-3.714286</td>\n      <td>3.714286</td>\n    </tr>\n    <tr>\n      <th>Geografia</th>\n      <td>8</td>\n      <td>0.285714</td>\n      <td>0.285714</td>\n    </tr>\n    <tr>\n      <th>História</th>\n      <td>6</td>\n      <td>-1.714286</td>\n      <td>1.714286</td>\n    </tr>\n    <tr>\n      <th>Física</th>\n      <td>10</td>\n      <td>2.285714</td>\n      <td>2.285714</td>\n    </tr>\n    <tr>\n      <th>Química</th>\n      <td>8</td>\n      <td>0.285714</td>\n      <td>0.285714</td>\n    </tr>\n  </tbody>\n</table>\n</div>"
     },
     "execution_count": 89,
     "metadata": {},
     "output_type": "execute_result"
    }
   ],
   "source": [
    "notas_fulano['|Desvio|'] = notas_fulano['Desvio'].abs()\n",
    "notas_fulano"
   ]
  },
  {
   "cell_type": "code",
   "execution_count": 90,
   "metadata": {
    "colab": {
     "base_uri": "https://localhost:8080/",
     "height": 266
    },
    "colab_type": "code",
    "id": "qQbjktz5jQNR",
    "outputId": "d3649964-e345-457c-859c-e179e57e1468",
    "ExecuteTime": {
     "end_time": "2024-02-13T17:46:09.384728Z",
     "start_time": "2024-02-13T17:46:09.344345Z"
    }
   },
   "outputs": [
    {
     "data": {
      "text/plain": "1.5510204081632648"
     },
     "execution_count": 90,
     "metadata": {},
     "output_type": "execute_result"
    }
   ],
   "source": [
    "notas_fulano['|Desvio|'].mean()"
   ]
  },
  {
   "cell_type": "markdown",
   "metadata": {
    "colab_type": "text",
    "id": "jSKfnKwEjQNW"
   },
   "source": [
    "## <font color=green>5.2 Variância</font>\n",
    "***"
   ]
  },
  {
   "cell_type": "markdown",
   "metadata": {
    "colab_type": "text",
    "id": "tHD3yNqzjQNW"
   },
   "source": [
    "### Variância\n",
    "\n",
    "A variância é construída a partir das diferenças entre cada observação e a média dos dados, ou seja, o desvio em torno da média. No cálculo da variância, os desvios em torno da média são elevados ao quadrado."
   ]
  },
  {
   "cell_type": "markdown",
   "metadata": {
    "colab_type": "text",
    "id": "WrCn9hw0jQNX"
   },
   "source": [
    "### Variância populacional\n",
    "\n",
    "# $$\\sigma^2 = \\frac 1n\\sum_{i=1}^{n}(X_i-\\mu)^2$$"
   ]
  },
  {
   "cell_type": "markdown",
   "metadata": {
    "colab_type": "text",
    "id": "jV5mQT_djQNX"
   },
   "source": [
    "### Variância amostral\n",
    "\n",
    "# $$S^2 = \\frac 1{n-1}\\sum_{i=1}^{n}(X_i-\\bar{X})^2$$"
   ]
  },
  {
   "cell_type": "code",
   "execution_count": 94,
   "metadata": {
    "colab": {
     "base_uri": "https://localhost:8080/",
     "height": 266
    },
    "colab_type": "code",
    "id": "4tlbCQeujQNZ",
    "outputId": "21e4a6b5-8a87-4338-8f94-b02ef2ea9e07",
    "ExecuteTime": {
     "end_time": "2024-02-13T17:52:53.016982Z",
     "start_time": "2024-02-13T17:52:52.967299Z"
    }
   },
   "outputs": [
    {
     "data": {
      "text/plain": "Matérias    Fulano    Desvio  |Desvio|  (Desvio)^2\nMatemática       8  0.285714  0.285714    0.081633\nPortuguês       10  2.285714  2.285714    5.224490\nInglês           4 -3.714286  3.714286   13.795918\nGeografia        8  0.285714  0.285714    0.081633\nHistória         6 -1.714286  1.714286    2.938776\nFísica          10  2.285714  2.285714    5.224490\nQuímica          8  0.285714  0.285714    0.081633",
      "text/html": "<div>\n<style scoped>\n    .dataframe tbody tr th:only-of-type {\n        vertical-align: middle;\n    }\n\n    .dataframe tbody tr th {\n        vertical-align: top;\n    }\n\n    .dataframe thead th {\n        text-align: right;\n    }\n</style>\n<table border=\"1\" class=\"dataframe\">\n  <thead>\n    <tr style=\"text-align: right;\">\n      <th>Matérias</th>\n      <th>Fulano</th>\n      <th>Desvio</th>\n      <th>|Desvio|</th>\n      <th>(Desvio)^2</th>\n    </tr>\n  </thead>\n  <tbody>\n    <tr>\n      <th>Matemática</th>\n      <td>8</td>\n      <td>0.285714</td>\n      <td>0.285714</td>\n      <td>0.081633</td>\n    </tr>\n    <tr>\n      <th>Português</th>\n      <td>10</td>\n      <td>2.285714</td>\n      <td>2.285714</td>\n      <td>5.224490</td>\n    </tr>\n    <tr>\n      <th>Inglês</th>\n      <td>4</td>\n      <td>-3.714286</td>\n      <td>3.714286</td>\n      <td>13.795918</td>\n    </tr>\n    <tr>\n      <th>Geografia</th>\n      <td>8</td>\n      <td>0.285714</td>\n      <td>0.285714</td>\n      <td>0.081633</td>\n    </tr>\n    <tr>\n      <th>História</th>\n      <td>6</td>\n      <td>-1.714286</td>\n      <td>1.714286</td>\n      <td>2.938776</td>\n    </tr>\n    <tr>\n      <th>Física</th>\n      <td>10</td>\n      <td>2.285714</td>\n      <td>2.285714</td>\n      <td>5.224490</td>\n    </tr>\n    <tr>\n      <th>Química</th>\n      <td>8</td>\n      <td>0.285714</td>\n      <td>0.285714</td>\n      <td>0.081633</td>\n    </tr>\n  </tbody>\n</table>\n</div>"
     },
     "execution_count": 94,
     "metadata": {},
     "output_type": "execute_result"
    }
   ],
   "source": [
    "notas_fulano['(Desvio)^2'] = notas_fulano['Desvio'].pow(2)\n",
    "notas_fulano"
   ]
  },
  {
   "cell_type": "code",
   "execution_count": 96,
   "metadata": {
    "colab": {
     "base_uri": "https://localhost:8080/",
     "height": 35
    },
    "colab_type": "code",
    "id": "oCcAfoIOjQNa",
    "outputId": "e55249a4-6d91-4776-d89f-428f067a87ae",
    "ExecuteTime": {
     "end_time": "2024-02-13T17:54:26.113662Z",
     "start_time": "2024-02-13T17:54:26.055318Z"
    }
   },
   "outputs": [
    {
     "data": {
      "text/plain": "4.57142857142857"
     },
     "execution_count": 96,
     "metadata": {},
     "output_type": "execute_result"
    }
   ],
   "source": [
    "notas_fulano['(Desvio)^2'].sum() / (len(notas_fulano) - 1)"
   ]
  },
  {
   "cell_type": "code",
   "execution_count": 97,
   "metadata": {
    "colab": {
     "base_uri": "https://localhost:8080/",
     "height": 35
    },
    "colab_type": "code",
    "id": "EyrfPHLtjQNb",
    "outputId": "a024839f-1c4a-4a91-b892-3966d7cc8f95",
    "ExecuteTime": {
     "end_time": "2024-02-13T17:54:45.575927Z",
     "start_time": "2024-02-13T17:54:45.513025Z"
    }
   },
   "outputs": [
    {
     "data": {
      "text/plain": "4.571428571428571"
     },
     "execution_count": 97,
     "metadata": {},
     "output_type": "execute_result"
    }
   ],
   "source": [
    "variancia = notas_fulano['Fulano'].var()\n",
    "variancia"
   ]
  },
  {
   "cell_type": "markdown",
   "metadata": {
    "colab_type": "text",
    "id": "wQl_CsytjQNg"
   },
   "source": [
    "## <font color=green>5.3 Desvio padrão</font>\n",
    "***\n",
    "\n",
    "Uma das restrições da variância é o fato de fornecer medidas em quadrados das unidades originais - a variância de medidas de comprimento, por exemplo, é em unidades de área. Logo, o fato de as unidades serem diferentes dificulta a comparação da dispersão com as variáveis que a definem. Um modo de eliminar essa dificuldade é considerar sua raiz quadrada."
   ]
  },
  {
   "cell_type": "markdown",
   "metadata": {
    "colab_type": "text",
    "id": "X9w1Iqt3jQNg"
   },
   "source": [
    "### Desvio padrão populacional\n",
    "\n",
    "# $$\\sigma = \\sqrt{\\frac 1n\\sum_{i=1}^{n}(X_i-\\mu)^2} \\Longrightarrow \\sigma = \\sqrt{\\sigma^2}$$"
   ]
  },
  {
   "cell_type": "markdown",
   "metadata": {
    "colab_type": "text",
    "id": "D3J4MvMpjQNg"
   },
   "source": [
    "### Desvio padrão amostral\n",
    "\n",
    "# $$S = \\sqrt{\\frac 1{n-1}\\sum_{i=1}^{n}(X_i-\\bar{X})^2} \\Longrightarrow S = \\sqrt{S^2}$$"
   ]
  },
  {
   "cell_type": "code",
   "outputs": [
    {
     "data": {
      "text/plain": "2.138089935299395"
     },
     "execution_count": 99,
     "metadata": {},
     "output_type": "execute_result"
    }
   ],
   "source": [
    "np.sqrt(variancia)"
   ],
   "metadata": {
    "collapsed": false,
    "ExecuteTime": {
     "end_time": "2024-02-13T18:00:48.761567Z",
     "start_time": "2024-02-13T18:00:48.707619Z"
    }
   },
   "execution_count": 99
  },
  {
   "cell_type": "code",
   "execution_count": 101,
   "metadata": {
    "colab": {
     "base_uri": "https://localhost:8080/",
     "height": 35
    },
    "colab_type": "code",
    "id": "BMTx9yKHSPON",
    "outputId": "2a045e01-b0a6-4c42-96e8-18708617687d",
    "ExecuteTime": {
     "end_time": "2024-02-13T18:01:04.010276Z",
     "start_time": "2024-02-13T18:01:03.979230Z"
    }
   },
   "outputs": [
    {
     "data": {
      "text/plain": "2.138089935299395"
     },
     "execution_count": 101,
     "metadata": {},
     "output_type": "execute_result"
    }
   ],
   "source": [
    "desvio_padrao = notas_fulano['Fulano'].std()\n",
    "desvio_padrao"
   ]
  },
  {
   "cell_type": "code",
   "execution_count": 107,
   "metadata": {
    "colab": {
     "base_uri": "https://localhost:8080/",
     "height": 266
    },
    "colab_type": "code",
    "id": "_PeQtqbdjQNh",
    "outputId": "dd38bbe1-9fbc-4be6-85a5-8e481520bf85",
    "ExecuteTime": {
     "end_time": "2024-02-13T18:03:18.758680Z",
     "start_time": "2024-02-13T18:03:18.719170Z"
    }
   },
   "outputs": [
    {
     "data": {
      "text/plain": "Matérias\nFulano      7.714286\nBeltrano    5.142857\nSicrano     7.714286\ndtype: float64"
     },
     "execution_count": 107,
     "metadata": {},
     "output_type": "execute_result"
    }
   ],
   "source": [
    "df.mean()"
   ]
  },
  {
   "cell_type": "code",
   "execution_count": 103,
   "metadata": {
    "colab": {
     "base_uri": "https://localhost:8080/",
     "height": 107
    },
    "colab_type": "code",
    "id": "5LYOKy25jQNi",
    "outputId": "c263cc75-8407-4546-ef00-64a6abd9a6a7",
    "ExecuteTime": {
     "end_time": "2024-02-13T18:02:52.729453Z",
     "start_time": "2024-02-13T18:02:52.692255Z"
    }
   },
   "outputs": [
    {
     "data": {
      "text/plain": "Matérias\nFulano      8.0\nBeltrano    3.0\nSicrano     8.0\ndtype: float64"
     },
     "execution_count": 103,
     "metadata": {},
     "output_type": "execute_result"
    }
   ],
   "source": [
    "df.median()"
   ]
  },
  {
   "cell_type": "code",
   "execution_count": 104,
   "metadata": {
    "colab": {
     "base_uri": "https://localhost:8080/",
     "height": 107
    },
    "colab_type": "code",
    "id": "FfcyfSkFjQNj",
    "outputId": "ccdf8bc6-4e1c-4845-b6b7-bb5ae85fe25f",
    "ExecuteTime": {
     "end_time": "2024-02-13T18:02:55.419042Z",
     "start_time": "2024-02-13T18:02:55.378619Z"
    }
   },
   "outputs": [
    {
     "data": {
      "text/plain": "Matérias  Fulano  Beltrano  Sicrano\n0              8      10.0      8.0",
      "text/html": "<div>\n<style scoped>\n    .dataframe tbody tr th:only-of-type {\n        vertical-align: middle;\n    }\n\n    .dataframe tbody tr th {\n        vertical-align: top;\n    }\n\n    .dataframe thead th {\n        text-align: right;\n    }\n</style>\n<table border=\"1\" class=\"dataframe\">\n  <thead>\n    <tr style=\"text-align: right;\">\n      <th>Matérias</th>\n      <th>Fulano</th>\n      <th>Beltrano</th>\n      <th>Sicrano</th>\n    </tr>\n  </thead>\n  <tbody>\n    <tr>\n      <th>0</th>\n      <td>8</td>\n      <td>10.0</td>\n      <td>8.0</td>\n    </tr>\n  </tbody>\n</table>\n</div>"
     },
     "execution_count": 104,
     "metadata": {},
     "output_type": "execute_result"
    }
   ],
   "source": [
    "df.mode()"
   ]
  },
  {
   "cell_type": "code",
   "execution_count": 105,
   "metadata": {
    "colab": {
     "base_uri": "https://localhost:8080/",
     "height": 80
    },
    "colab_type": "code",
    "id": "G8vorygCjQNk",
    "outputId": "39af6a22-deed-47eb-eeee-17e48ccf9a7f",
    "ExecuteTime": {
     "end_time": "2024-02-13T18:02:58.515718Z",
     "start_time": "2024-02-13T18:02:58.484472Z"
    }
   },
   "outputs": [
    {
     "data": {
      "text/plain": "Matérias\nFulano      2.138090\nBeltrano    4.460141\nSicrano     0.566947\ndtype: float64"
     },
     "execution_count": 105,
     "metadata": {},
     "output_type": "execute_result"
    }
   ],
   "source": [
    "df.std()"
   ]
  }
 ],
 "metadata": {
  "colab": {
   "name": "Curso_de_Estatística_Parte_1.ipynb",
   "provenance": [],
   "toc_visible": true,
   "version": "0.3.2"
  },
  "kernelspec": {
   "display_name": "Python 3",
   "language": "python",
   "name": "python3"
  },
  "language_info": {
   "codemirror_mode": {
    "name": "ipython",
    "version": 3
   },
   "file_extension": ".py",
   "mimetype": "text/x-python",
   "name": "python",
   "nbconvert_exporter": "python",
   "pygments_lexer": "ipython3",
   "version": "3.6.5"
  }
 },
 "nbformat": 4,
 "nbformat_minor": 1
}
