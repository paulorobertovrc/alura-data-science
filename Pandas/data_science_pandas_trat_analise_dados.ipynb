{
 "cells": [
  {
   "cell_type": "markdown",
   "source": [
    "# Curso Pandas: tratando e analisando dados\n",
    "## Formação Data Science | Alura"
   ],
   "metadata": {
    "collapsed": false
   },
   "id": "bd723a4b8b1358d0"
  },
  {
   "cell_type": "code",
   "execution_count": 1,
   "id": "initial_id",
   "metadata": {
    "collapsed": true,
    "ExecuteTime": {
     "end_time": "2024-02-01T16:08:59.038583Z",
     "start_time": "2024-02-01T16:08:58.753462Z"
    }
   },
   "outputs": [],
   "source": [
    "import pandas as pd"
   ]
  },
  {
   "cell_type": "code",
   "outputs": [
    {
     "data": {
      "text/plain": "                          Tipo                Bairro  Quartos  Vagas  Suites  \\\n0                    Quitinete            Copacabana        1      0       0   \n1                         Casa       Jardim Botânico        2      0       1   \n2      Conjunto Comercial/Sala       Barra da Tijuca        0      4       0   \n3                  Apartamento                Centro        1      0       0   \n4                  Apartamento          Higienópolis        1      0       0   \n...                        ...                   ...      ...    ...     ...   \n32955                Quitinete                Centro        0      0       0   \n32956              Apartamento           Jacarepaguá        3      1       2   \n32957              Apartamento  São Francisco Xavier        2      1       0   \n32958              Apartamento                Leblon        2      0       0   \n32959  Conjunto Comercial/Sala                Centro        0      0       0   \n\n       Area   Valor  Condominio    IPTU  \n0        40  1700.0       500.0    60.0  \n1       100  7000.0         NaN     NaN  \n2       150  5200.0      4020.0  1111.0  \n3        15   800.0       390.0    20.0  \n4        48   800.0       230.0     NaN  \n...     ...     ...         ...     ...  \n32955    27   800.0       350.0    25.0  \n32956    78  1800.0       800.0    40.0  \n32957    48  1400.0       509.0    37.0  \n32958    70  3000.0       760.0     NaN  \n32959   250  6500.0      4206.0  1109.0  \n\n[32960 rows x 9 columns]",
      "text/html": "<div>\n<style scoped>\n    .dataframe tbody tr th:only-of-type {\n        vertical-align: middle;\n    }\n\n    .dataframe tbody tr th {\n        vertical-align: top;\n    }\n\n    .dataframe thead th {\n        text-align: right;\n    }\n</style>\n<table border=\"1\" class=\"dataframe\">\n  <thead>\n    <tr style=\"text-align: right;\">\n      <th></th>\n      <th>Tipo</th>\n      <th>Bairro</th>\n      <th>Quartos</th>\n      <th>Vagas</th>\n      <th>Suites</th>\n      <th>Area</th>\n      <th>Valor</th>\n      <th>Condominio</th>\n      <th>IPTU</th>\n    </tr>\n  </thead>\n  <tbody>\n    <tr>\n      <th>0</th>\n      <td>Quitinete</td>\n      <td>Copacabana</td>\n      <td>1</td>\n      <td>0</td>\n      <td>0</td>\n      <td>40</td>\n      <td>1700.0</td>\n      <td>500.0</td>\n      <td>60.0</td>\n    </tr>\n    <tr>\n      <th>1</th>\n      <td>Casa</td>\n      <td>Jardim Botânico</td>\n      <td>2</td>\n      <td>0</td>\n      <td>1</td>\n      <td>100</td>\n      <td>7000.0</td>\n      <td>NaN</td>\n      <td>NaN</td>\n    </tr>\n    <tr>\n      <th>2</th>\n      <td>Conjunto Comercial/Sala</td>\n      <td>Barra da Tijuca</td>\n      <td>0</td>\n      <td>4</td>\n      <td>0</td>\n      <td>150</td>\n      <td>5200.0</td>\n      <td>4020.0</td>\n      <td>1111.0</td>\n    </tr>\n    <tr>\n      <th>3</th>\n      <td>Apartamento</td>\n      <td>Centro</td>\n      <td>1</td>\n      <td>0</td>\n      <td>0</td>\n      <td>15</td>\n      <td>800.0</td>\n      <td>390.0</td>\n      <td>20.0</td>\n    </tr>\n    <tr>\n      <th>4</th>\n      <td>Apartamento</td>\n      <td>Higienópolis</td>\n      <td>1</td>\n      <td>0</td>\n      <td>0</td>\n      <td>48</td>\n      <td>800.0</td>\n      <td>230.0</td>\n      <td>NaN</td>\n    </tr>\n    <tr>\n      <th>...</th>\n      <td>...</td>\n      <td>...</td>\n      <td>...</td>\n      <td>...</td>\n      <td>...</td>\n      <td>...</td>\n      <td>...</td>\n      <td>...</td>\n      <td>...</td>\n    </tr>\n    <tr>\n      <th>32955</th>\n      <td>Quitinete</td>\n      <td>Centro</td>\n      <td>0</td>\n      <td>0</td>\n      <td>0</td>\n      <td>27</td>\n      <td>800.0</td>\n      <td>350.0</td>\n      <td>25.0</td>\n    </tr>\n    <tr>\n      <th>32956</th>\n      <td>Apartamento</td>\n      <td>Jacarepaguá</td>\n      <td>3</td>\n      <td>1</td>\n      <td>2</td>\n      <td>78</td>\n      <td>1800.0</td>\n      <td>800.0</td>\n      <td>40.0</td>\n    </tr>\n    <tr>\n      <th>32957</th>\n      <td>Apartamento</td>\n      <td>São Francisco Xavier</td>\n      <td>2</td>\n      <td>1</td>\n      <td>0</td>\n      <td>48</td>\n      <td>1400.0</td>\n      <td>509.0</td>\n      <td>37.0</td>\n    </tr>\n    <tr>\n      <th>32958</th>\n      <td>Apartamento</td>\n      <td>Leblon</td>\n      <td>2</td>\n      <td>0</td>\n      <td>0</td>\n      <td>70</td>\n      <td>3000.0</td>\n      <td>760.0</td>\n      <td>NaN</td>\n    </tr>\n    <tr>\n      <th>32959</th>\n      <td>Conjunto Comercial/Sala</td>\n      <td>Centro</td>\n      <td>0</td>\n      <td>0</td>\n      <td>0</td>\n      <td>250</td>\n      <td>6500.0</td>\n      <td>4206.0</td>\n      <td>1109.0</td>\n    </tr>\n  </tbody>\n</table>\n<p>32960 rows × 9 columns</p>\n</div>"
     },
     "execution_count": 2,
     "metadata": {},
     "output_type": "execute_result"
    }
   ],
   "source": [
    "dados = pd.read_csv('dados/aluguel.csv', sep=';')\n",
    "dados"
   ],
   "metadata": {
    "collapsed": false,
    "ExecuteTime": {
     "end_time": "2024-02-01T16:08:59.068435Z",
     "start_time": "2024-02-01T16:08:59.038790Z"
    }
   },
   "id": "be9b69bc2cc71d0",
   "execution_count": 2
  },
  {
   "cell_type": "code",
   "outputs": [
    {
     "name": "stdout",
     "output_type": "stream",
     "text": [
      "<class 'pandas.core.frame.DataFrame'>\n",
      "RangeIndex: 32960 entries, 0 to 32959\n",
      "Data columns (total 9 columns):\n",
      " #   Column      Non-Null Count  Dtype  \n",
      "---  ------      --------------  -----  \n",
      " 0   Tipo        32960 non-null  object \n",
      " 1   Bairro      32960 non-null  object \n",
      " 2   Quartos     32960 non-null  int64  \n",
      " 3   Vagas       32960 non-null  int64  \n",
      " 4   Suites      32960 non-null  int64  \n",
      " 5   Area        32960 non-null  int64  \n",
      " 6   Valor       32943 non-null  float64\n",
      " 7   Condominio  28867 non-null  float64\n",
      " 8   IPTU        22723 non-null  float64\n",
      "dtypes: float64(3), int64(4), object(2)\n",
      "memory usage: 2.3+ MB\n"
     ]
    }
   ],
   "source": [
    "dados.info()"
   ],
   "metadata": {
    "collapsed": false,
    "ExecuteTime": {
     "end_time": "2024-02-01T16:08:59.082671Z",
     "start_time": "2024-02-01T16:08:59.067776Z"
    }
   },
   "id": "a2a2011a3bd5c1ad",
   "execution_count": 3
  },
  {
   "cell_type": "code",
   "outputs": [
    {
     "data": {
      "text/plain": "Variáveis  Tipos de Dados\nTipo               object\nBairro             object\nQuartos             int64\nVagas               int64\nSuites              int64\nArea                int64\nValor             float64\nCondominio        float64\nIPTU              float64",
      "text/html": "<div>\n<style scoped>\n    .dataframe tbody tr th:only-of-type {\n        vertical-align: middle;\n    }\n\n    .dataframe tbody tr th {\n        vertical-align: top;\n    }\n\n    .dataframe thead th {\n        text-align: right;\n    }\n</style>\n<table border=\"1\" class=\"dataframe\">\n  <thead>\n    <tr style=\"text-align: right;\">\n      <th>Variáveis</th>\n      <th>Tipos de Dados</th>\n    </tr>\n  </thead>\n  <tbody>\n    <tr>\n      <th>Tipo</th>\n      <td>object</td>\n    </tr>\n    <tr>\n      <th>Bairro</th>\n      <td>object</td>\n    </tr>\n    <tr>\n      <th>Quartos</th>\n      <td>int64</td>\n    </tr>\n    <tr>\n      <th>Vagas</th>\n      <td>int64</td>\n    </tr>\n    <tr>\n      <th>Suites</th>\n      <td>int64</td>\n    </tr>\n    <tr>\n      <th>Area</th>\n      <td>int64</td>\n    </tr>\n    <tr>\n      <th>Valor</th>\n      <td>float64</td>\n    </tr>\n    <tr>\n      <th>Condominio</th>\n      <td>float64</td>\n    </tr>\n    <tr>\n      <th>IPTU</th>\n      <td>float64</td>\n    </tr>\n  </tbody>\n</table>\n</div>"
     },
     "execution_count": 4,
     "metadata": {},
     "output_type": "execute_result"
    }
   ],
   "source": [
    "tipos_de_dados = pd.DataFrame(dados.dtypes, columns=['Tipos de Dados'])\n",
    "tipos_de_dados.columns.name = 'Variáveis'\n",
    "tipos_de_dados"
   ],
   "metadata": {
    "collapsed": false,
    "ExecuteTime": {
     "end_time": "2024-02-01T16:08:59.083678Z",
     "start_time": "2024-02-01T16:08:59.075241Z"
    }
   },
   "id": "6ba6c8f961768546",
   "execution_count": 4
  },
  {
   "cell_type": "code",
   "outputs": [
    {
     "data": {
      "text/plain": "0                      Quitinete\n1                           Casa\n2        Conjunto Comercial/Sala\n3                    Apartamento\n4                    Apartamento\n                  ...           \n32955                  Quitinete\n32956                Apartamento\n32957                Apartamento\n32958                Apartamento\n32959    Conjunto Comercial/Sala\nName: Tipo, Length: 32960, dtype: object"
     },
     "execution_count": 5,
     "metadata": {},
     "output_type": "execute_result"
    }
   ],
   "source": [
    "tipos_de_imovel = dados['Tipo']\n",
    "tipos_de_imovel"
   ],
   "metadata": {
    "collapsed": false,
    "ExecuteTime": {
     "end_time": "2024-02-01T16:08:59.084644Z",
     "start_time": "2024-02-01T16:08:59.079005Z"
    }
   },
   "id": "ef0e5cb9fd79eba7",
   "execution_count": 5
  },
  {
   "cell_type": "code",
   "outputs": [
    {
     "data": {
      "text/plain": "pandas.core.series.Series"
     },
     "execution_count": 6,
     "metadata": {},
     "output_type": "execute_result"
    }
   ],
   "source": [
    "type(tipos_de_imovel)"
   ],
   "metadata": {
    "collapsed": false,
    "ExecuteTime": {
     "end_time": "2024-02-01T16:08:59.095610Z",
     "start_time": "2024-02-01T16:08:59.081263Z"
    }
   },
   "id": "c0ecfef0bca6119b",
   "execution_count": 6
  },
  {
   "cell_type": "code",
   "outputs": [],
   "source": [
    "tipos_de_imovel.drop_duplicates(inplace=True)"
   ],
   "metadata": {
    "collapsed": false,
    "ExecuteTime": {
     "end_time": "2024-02-01T16:08:59.097589Z",
     "start_time": "2024-02-01T16:08:59.084301Z"
    }
   },
   "id": "38a02f9e5cf7ae84",
   "execution_count": 7
  },
  {
   "cell_type": "code",
   "outputs": [
    {
     "data": {
      "text/plain": "array(['Quitinete', 'Casa', 'Conjunto Comercial/Sala', 'Apartamento',\n       'Casa de Condomínio', 'Prédio Inteiro', 'Flat', 'Loja/Salão',\n       'Galpão/Depósito/Armazém', 'Casa Comercial', 'Casa de Vila',\n       'Terreno Padrão', 'Box/Garagem', 'Loft',\n       'Loja Shopping/ Ct Comercial', 'Chácara', 'Loteamento/Condomínio',\n       'Sítio', 'Pousada/Chalé', 'Studio', 'Hotel', 'Indústria'],\n      dtype=object)"
     },
     "execution_count": 8,
     "metadata": {},
     "output_type": "execute_result"
    }
   ],
   "source": [
    "tipos_de_imovel.unique()"
   ],
   "metadata": {
    "collapsed": false,
    "ExecuteTime": {
     "end_time": "2024-02-01T16:08:59.138656Z",
     "start_time": "2024-02-01T16:08:59.086890Z"
    }
   },
   "id": "a8ae95feb34100ce",
   "execution_count": 8
  },
  {
   "cell_type": "code",
   "outputs": [
    {
     "data": {
      "text/plain": "                              Tipo\n0                        Quitinete\n1                             Casa\n2          Conjunto Comercial/Sala\n3                      Apartamento\n7               Casa de Condomínio\n16                  Prédio Inteiro\n17                            Flat\n29                      Loja/Salão\n80         Galpão/Depósito/Armazém\n83                  Casa Comercial\n117                   Casa de Vila\n159                 Terreno Padrão\n207                    Box/Garagem\n347                           Loft\n589    Loja Shopping/ Ct Comercial\n2157                       Chácara\n3354         Loteamento/Condomínio\n4379                         Sítio\n4721                 Pousada/Chalé\n6983                        Studio\n9687                         Hotel\n23614                    Indústria",
      "text/html": "<div>\n<style scoped>\n    .dataframe tbody tr th:only-of-type {\n        vertical-align: middle;\n    }\n\n    .dataframe tbody tr th {\n        vertical-align: top;\n    }\n\n    .dataframe thead th {\n        text-align: right;\n    }\n</style>\n<table border=\"1\" class=\"dataframe\">\n  <thead>\n    <tr style=\"text-align: right;\">\n      <th></th>\n      <th>Tipo</th>\n    </tr>\n  </thead>\n  <tbody>\n    <tr>\n      <th>0</th>\n      <td>Quitinete</td>\n    </tr>\n    <tr>\n      <th>1</th>\n      <td>Casa</td>\n    </tr>\n    <tr>\n      <th>2</th>\n      <td>Conjunto Comercial/Sala</td>\n    </tr>\n    <tr>\n      <th>3</th>\n      <td>Apartamento</td>\n    </tr>\n    <tr>\n      <th>7</th>\n      <td>Casa de Condomínio</td>\n    </tr>\n    <tr>\n      <th>16</th>\n      <td>Prédio Inteiro</td>\n    </tr>\n    <tr>\n      <th>17</th>\n      <td>Flat</td>\n    </tr>\n    <tr>\n      <th>29</th>\n      <td>Loja/Salão</td>\n    </tr>\n    <tr>\n      <th>80</th>\n      <td>Galpão/Depósito/Armazém</td>\n    </tr>\n    <tr>\n      <th>83</th>\n      <td>Casa Comercial</td>\n    </tr>\n    <tr>\n      <th>117</th>\n      <td>Casa de Vila</td>\n    </tr>\n    <tr>\n      <th>159</th>\n      <td>Terreno Padrão</td>\n    </tr>\n    <tr>\n      <th>207</th>\n      <td>Box/Garagem</td>\n    </tr>\n    <tr>\n      <th>347</th>\n      <td>Loft</td>\n    </tr>\n    <tr>\n      <th>589</th>\n      <td>Loja Shopping/ Ct Comercial</td>\n    </tr>\n    <tr>\n      <th>2157</th>\n      <td>Chácara</td>\n    </tr>\n    <tr>\n      <th>3354</th>\n      <td>Loteamento/Condomínio</td>\n    </tr>\n    <tr>\n      <th>4379</th>\n      <td>Sítio</td>\n    </tr>\n    <tr>\n      <th>4721</th>\n      <td>Pousada/Chalé</td>\n    </tr>\n    <tr>\n      <th>6983</th>\n      <td>Studio</td>\n    </tr>\n    <tr>\n      <th>9687</th>\n      <td>Hotel</td>\n    </tr>\n    <tr>\n      <th>23614</th>\n      <td>Indústria</td>\n    </tr>\n  </tbody>\n</table>\n</div>"
     },
     "execution_count": 9,
     "metadata": {},
     "output_type": "execute_result"
    }
   ],
   "source": [
    "tipos_de_imovel = pd.DataFrame(tipos_de_imovel)\n",
    "tipos_de_imovel"
   ],
   "metadata": {
    "collapsed": false,
    "ExecuteTime": {
     "end_time": "2024-02-01T16:08:59.139674Z",
     "start_time": "2024-02-01T16:08:59.090105Z"
    }
   },
   "id": "ad1c8496c60796a8",
   "execution_count": 9
  },
  {
   "cell_type": "code",
   "outputs": [
    {
     "data": {
      "text/plain": "Index([    0,     1,     2,     3,     7,    16,    17,    29,    80,    83,\n         117,   159,   207,   347,   589,  2157,  3354,  4379,  4721,  6983,\n        9687, 23614],\n      dtype='int64')"
     },
     "execution_count": 10,
     "metadata": {},
     "output_type": "execute_result"
    }
   ],
   "source": [
    "tipos_de_imovel.index"
   ],
   "metadata": {
    "collapsed": false,
    "ExecuteTime": {
     "end_time": "2024-02-01T16:08:59.140260Z",
     "start_time": "2024-02-01T16:08:59.092221Z"
    }
   },
   "id": "2d8563167bbbc7a8",
   "execution_count": 10
  },
  {
   "cell_type": "code",
   "outputs": [
    {
     "data": {
      "text/plain": "22"
     },
     "execution_count": 11,
     "metadata": {},
     "output_type": "execute_result"
    }
   ],
   "source": [
    "tipos_de_imovel.shape[0]"
   ],
   "metadata": {
    "collapsed": false,
    "ExecuteTime": {
     "end_time": "2024-02-01T16:08:59.141300Z",
     "start_time": "2024-02-01T16:08:59.095154Z"
    }
   },
   "id": "996197df1ac72cb8",
   "execution_count": 11
  },
  {
   "cell_type": "code",
   "outputs": [
    {
     "data": {
      "text/plain": "range(0, 22)"
     },
     "execution_count": 12,
     "metadata": {},
     "output_type": "execute_result"
    }
   ],
   "source": [
    "range(tipos_de_imovel.shape[0])"
   ],
   "metadata": {
    "collapsed": false,
    "ExecuteTime": {
     "end_time": "2024-02-01T16:08:59.142926Z",
     "start_time": "2024-02-01T16:08:59.097303Z"
    }
   },
   "id": "6916273dd21e3e9",
   "execution_count": 12
  },
  {
   "cell_type": "code",
   "outputs": [
    {
     "data": {
      "text/plain": "                           Tipo\n0                     Quitinete\n1                          Casa\n2       Conjunto Comercial/Sala\n3                   Apartamento\n4            Casa de Condomínio\n5                Prédio Inteiro\n6                          Flat\n7                    Loja/Salão\n8       Galpão/Depósito/Armazém\n9                Casa Comercial\n10                 Casa de Vila\n11               Terreno Padrão\n12                  Box/Garagem\n13                         Loft\n14  Loja Shopping/ Ct Comercial\n15                      Chácara\n16        Loteamento/Condomínio\n17                        Sítio\n18                Pousada/Chalé\n19                       Studio\n20                        Hotel\n21                    Indústria",
      "text/html": "<div>\n<style scoped>\n    .dataframe tbody tr th:only-of-type {\n        vertical-align: middle;\n    }\n\n    .dataframe tbody tr th {\n        vertical-align: top;\n    }\n\n    .dataframe thead th {\n        text-align: right;\n    }\n</style>\n<table border=\"1\" class=\"dataframe\">\n  <thead>\n    <tr style=\"text-align: right;\">\n      <th></th>\n      <th>Tipo</th>\n    </tr>\n  </thead>\n  <tbody>\n    <tr>\n      <th>0</th>\n      <td>Quitinete</td>\n    </tr>\n    <tr>\n      <th>1</th>\n      <td>Casa</td>\n    </tr>\n    <tr>\n      <th>2</th>\n      <td>Conjunto Comercial/Sala</td>\n    </tr>\n    <tr>\n      <th>3</th>\n      <td>Apartamento</td>\n    </tr>\n    <tr>\n      <th>4</th>\n      <td>Casa de Condomínio</td>\n    </tr>\n    <tr>\n      <th>5</th>\n      <td>Prédio Inteiro</td>\n    </tr>\n    <tr>\n      <th>6</th>\n      <td>Flat</td>\n    </tr>\n    <tr>\n      <th>7</th>\n      <td>Loja/Salão</td>\n    </tr>\n    <tr>\n      <th>8</th>\n      <td>Galpão/Depósito/Armazém</td>\n    </tr>\n    <tr>\n      <th>9</th>\n      <td>Casa Comercial</td>\n    </tr>\n    <tr>\n      <th>10</th>\n      <td>Casa de Vila</td>\n    </tr>\n    <tr>\n      <th>11</th>\n      <td>Terreno Padrão</td>\n    </tr>\n    <tr>\n      <th>12</th>\n      <td>Box/Garagem</td>\n    </tr>\n    <tr>\n      <th>13</th>\n      <td>Loft</td>\n    </tr>\n    <tr>\n      <th>14</th>\n      <td>Loja Shopping/ Ct Comercial</td>\n    </tr>\n    <tr>\n      <th>15</th>\n      <td>Chácara</td>\n    </tr>\n    <tr>\n      <th>16</th>\n      <td>Loteamento/Condomínio</td>\n    </tr>\n    <tr>\n      <th>17</th>\n      <td>Sítio</td>\n    </tr>\n    <tr>\n      <th>18</th>\n      <td>Pousada/Chalé</td>\n    </tr>\n    <tr>\n      <th>19</th>\n      <td>Studio</td>\n    </tr>\n    <tr>\n      <th>20</th>\n      <td>Hotel</td>\n    </tr>\n    <tr>\n      <th>21</th>\n      <td>Indústria</td>\n    </tr>\n  </tbody>\n</table>\n</div>"
     },
     "execution_count": 13,
     "metadata": {},
     "output_type": "execute_result"
    }
   ],
   "source": [
    "tipos_de_imovel.index = range(tipos_de_imovel.shape[0])\n",
    "tipos_de_imovel"
   ],
   "metadata": {
    "collapsed": false,
    "ExecuteTime": {
     "end_time": "2024-02-01T16:08:59.150704Z",
     "start_time": "2024-02-01T16:08:59.100314Z"
    }
   },
   "id": "291c29244f6863fb",
   "execution_count": 13
  },
  {
   "cell_type": "code",
   "outputs": [
    {
     "data": {
      "text/plain": "Id                         Tipo\n0                     Quitinete\n1                          Casa\n2       Conjunto Comercial/Sala\n3                   Apartamento\n4            Casa de Condomínio\n5                Prédio Inteiro\n6                          Flat\n7                    Loja/Salão\n8       Galpão/Depósito/Armazém\n9                Casa Comercial\n10                 Casa de Vila\n11               Terreno Padrão\n12                  Box/Garagem\n13                         Loft\n14  Loja Shopping/ Ct Comercial\n15                      Chácara\n16        Loteamento/Condomínio\n17                        Sítio\n18                Pousada/Chalé\n19                       Studio\n20                        Hotel\n21                    Indústria",
      "text/html": "<div>\n<style scoped>\n    .dataframe tbody tr th:only-of-type {\n        vertical-align: middle;\n    }\n\n    .dataframe tbody tr th {\n        vertical-align: top;\n    }\n\n    .dataframe thead th {\n        text-align: right;\n    }\n</style>\n<table border=\"1\" class=\"dataframe\">\n  <thead>\n    <tr style=\"text-align: right;\">\n      <th>Id</th>\n      <th>Tipo</th>\n    </tr>\n  </thead>\n  <tbody>\n    <tr>\n      <th>0</th>\n      <td>Quitinete</td>\n    </tr>\n    <tr>\n      <th>1</th>\n      <td>Casa</td>\n    </tr>\n    <tr>\n      <th>2</th>\n      <td>Conjunto Comercial/Sala</td>\n    </tr>\n    <tr>\n      <th>3</th>\n      <td>Apartamento</td>\n    </tr>\n    <tr>\n      <th>4</th>\n      <td>Casa de Condomínio</td>\n    </tr>\n    <tr>\n      <th>5</th>\n      <td>Prédio Inteiro</td>\n    </tr>\n    <tr>\n      <th>6</th>\n      <td>Flat</td>\n    </tr>\n    <tr>\n      <th>7</th>\n      <td>Loja/Salão</td>\n    </tr>\n    <tr>\n      <th>8</th>\n      <td>Galpão/Depósito/Armazém</td>\n    </tr>\n    <tr>\n      <th>9</th>\n      <td>Casa Comercial</td>\n    </tr>\n    <tr>\n      <th>10</th>\n      <td>Casa de Vila</td>\n    </tr>\n    <tr>\n      <th>11</th>\n      <td>Terreno Padrão</td>\n    </tr>\n    <tr>\n      <th>12</th>\n      <td>Box/Garagem</td>\n    </tr>\n    <tr>\n      <th>13</th>\n      <td>Loft</td>\n    </tr>\n    <tr>\n      <th>14</th>\n      <td>Loja Shopping/ Ct Comercial</td>\n    </tr>\n    <tr>\n      <th>15</th>\n      <td>Chácara</td>\n    </tr>\n    <tr>\n      <th>16</th>\n      <td>Loteamento/Condomínio</td>\n    </tr>\n    <tr>\n      <th>17</th>\n      <td>Sítio</td>\n    </tr>\n    <tr>\n      <th>18</th>\n      <td>Pousada/Chalé</td>\n    </tr>\n    <tr>\n      <th>19</th>\n      <td>Studio</td>\n    </tr>\n    <tr>\n      <th>20</th>\n      <td>Hotel</td>\n    </tr>\n    <tr>\n      <th>21</th>\n      <td>Indústria</td>\n    </tr>\n  </tbody>\n</table>\n</div>"
     },
     "execution_count": 14,
     "metadata": {},
     "output_type": "execute_result"
    }
   ],
   "source": [
    "tipos_de_imovel.columns.name = 'Id'\n",
    "tipos_de_imovel"
   ],
   "metadata": {
    "collapsed": false,
    "ExecuteTime": {
     "end_time": "2024-02-01T16:08:59.162278Z",
     "start_time": "2024-02-01T16:08:59.105723Z"
    }
   },
   "id": "9db3c0d49c43f7de",
   "execution_count": 14
  },
  {
   "cell_type": "code",
   "outputs": [
    {
     "data": {
      "text/plain": "['Quitinete',\n 'Casa',\n 'Conjunto Comercial/Sala',\n 'Apartamento',\n 'Casa de Condomínio',\n 'Prédio Inteiro',\n 'Flat',\n 'Loja/Salão',\n 'Galpão/Depósito/Armazém',\n 'Casa Comercial',\n 'Casa de Vila',\n 'Terreno Padrão',\n 'Box/Garagem',\n 'Loft',\n 'Loja Shopping/ Ct Comercial',\n 'Chácara',\n 'Loteamento/Condomínio',\n 'Sítio',\n 'Pousada/Chalé',\n 'Studio',\n 'Hotel',\n 'Indústria']"
     },
     "execution_count": 15,
     "metadata": {},
     "output_type": "execute_result"
    }
   ],
   "source": [
    "list(dados['Tipo'].drop_duplicates())"
   ],
   "metadata": {
    "collapsed": false,
    "ExecuteTime": {
     "end_time": "2024-02-01T16:08:59.162989Z",
     "start_time": "2024-02-01T16:08:59.107278Z"
    }
   },
   "id": "abbf1301169b3bc4",
   "execution_count": 15
  },
  {
   "cell_type": "code",
   "outputs": [],
   "source": [
    "residencial = ['Quitinete',\n",
    "               'Casa',\n",
    "               'Apartamento',\n",
    "               'Casa de Condomínio',\n",
    "               'Casa Comercial',\n",
    "               'Casa de Vila']"
   ],
   "metadata": {
    "collapsed": false,
    "ExecuteTime": {
     "end_time": "2024-02-01T16:08:59.163506Z",
     "start_time": "2024-02-01T16:08:59.110573Z"
    }
   },
   "id": "a52003d15e040328",
   "execution_count": 16
  },
  {
   "cell_type": "code",
   "outputs": [
    {
     "data": {
      "text/plain": "0         True\n1         True\n2        False\n3         True\n4         True\n         ...  \n32955     True\n32956     True\n32957     True\n32958     True\n32959    False\nName: Tipo, Length: 32960, dtype: bool"
     },
     "execution_count": 17,
     "metadata": {},
     "output_type": "execute_result"
    }
   ],
   "source": [
    "selecao = dados['Tipo'].isin(residencial)\n",
    "selecao"
   ],
   "metadata": {
    "collapsed": false,
    "ExecuteTime": {
     "end_time": "2024-02-01T16:08:59.183275Z",
     "start_time": "2024-02-01T16:08:59.113707Z"
    }
   },
   "id": "a6e29401401ae120",
   "execution_count": 17
  },
  {
   "cell_type": "code",
   "outputs": [
    {
     "data": {
      "text/plain": "              Tipo                Bairro  Quartos  Vagas  Suites  Area  \\\n0        Quitinete            Copacabana        1      0       0    40   \n1             Casa       Jardim Botânico        2      0       1   100   \n3      Apartamento                Centro        1      0       0    15   \n4      Apartamento          Higienópolis        1      0       0    48   \n5      Apartamento          Vista Alegre        3      1       0    70   \n...            ...                   ...      ...    ...     ...   ...   \n32953  Apartamento                 Méier        2      0       0    70   \n32955    Quitinete                Centro        0      0       0    27   \n32956  Apartamento           Jacarepaguá        3      1       2    78   \n32957  Apartamento  São Francisco Xavier        2      1       0    48   \n32958  Apartamento                Leblon        2      0       0    70   \n\n        Valor  Condominio  IPTU  \n0      1700.0       500.0  60.0  \n1      7000.0         NaN   NaN  \n3       800.0       390.0  20.0  \n4       800.0       230.0   NaN  \n5      1200.0         NaN   NaN  \n...       ...         ...   ...  \n32953   900.0       490.0  48.0  \n32955   800.0       350.0  25.0  \n32956  1800.0       800.0  40.0  \n32957  1400.0       509.0  37.0  \n32958  3000.0       760.0   NaN  \n\n[22845 rows x 9 columns]",
      "text/html": "<div>\n<style scoped>\n    .dataframe tbody tr th:only-of-type {\n        vertical-align: middle;\n    }\n\n    .dataframe tbody tr th {\n        vertical-align: top;\n    }\n\n    .dataframe thead th {\n        text-align: right;\n    }\n</style>\n<table border=\"1\" class=\"dataframe\">\n  <thead>\n    <tr style=\"text-align: right;\">\n      <th></th>\n      <th>Tipo</th>\n      <th>Bairro</th>\n      <th>Quartos</th>\n      <th>Vagas</th>\n      <th>Suites</th>\n      <th>Area</th>\n      <th>Valor</th>\n      <th>Condominio</th>\n      <th>IPTU</th>\n    </tr>\n  </thead>\n  <tbody>\n    <tr>\n      <th>0</th>\n      <td>Quitinete</td>\n      <td>Copacabana</td>\n      <td>1</td>\n      <td>0</td>\n      <td>0</td>\n      <td>40</td>\n      <td>1700.0</td>\n      <td>500.0</td>\n      <td>60.0</td>\n    </tr>\n    <tr>\n      <th>1</th>\n      <td>Casa</td>\n      <td>Jardim Botânico</td>\n      <td>2</td>\n      <td>0</td>\n      <td>1</td>\n      <td>100</td>\n      <td>7000.0</td>\n      <td>NaN</td>\n      <td>NaN</td>\n    </tr>\n    <tr>\n      <th>3</th>\n      <td>Apartamento</td>\n      <td>Centro</td>\n      <td>1</td>\n      <td>0</td>\n      <td>0</td>\n      <td>15</td>\n      <td>800.0</td>\n      <td>390.0</td>\n      <td>20.0</td>\n    </tr>\n    <tr>\n      <th>4</th>\n      <td>Apartamento</td>\n      <td>Higienópolis</td>\n      <td>1</td>\n      <td>0</td>\n      <td>0</td>\n      <td>48</td>\n      <td>800.0</td>\n      <td>230.0</td>\n      <td>NaN</td>\n    </tr>\n    <tr>\n      <th>5</th>\n      <td>Apartamento</td>\n      <td>Vista Alegre</td>\n      <td>3</td>\n      <td>1</td>\n      <td>0</td>\n      <td>70</td>\n      <td>1200.0</td>\n      <td>NaN</td>\n      <td>NaN</td>\n    </tr>\n    <tr>\n      <th>...</th>\n      <td>...</td>\n      <td>...</td>\n      <td>...</td>\n      <td>...</td>\n      <td>...</td>\n      <td>...</td>\n      <td>...</td>\n      <td>...</td>\n      <td>...</td>\n    </tr>\n    <tr>\n      <th>32953</th>\n      <td>Apartamento</td>\n      <td>Méier</td>\n      <td>2</td>\n      <td>0</td>\n      <td>0</td>\n      <td>70</td>\n      <td>900.0</td>\n      <td>490.0</td>\n      <td>48.0</td>\n    </tr>\n    <tr>\n      <th>32955</th>\n      <td>Quitinete</td>\n      <td>Centro</td>\n      <td>0</td>\n      <td>0</td>\n      <td>0</td>\n      <td>27</td>\n      <td>800.0</td>\n      <td>350.0</td>\n      <td>25.0</td>\n    </tr>\n    <tr>\n      <th>32956</th>\n      <td>Apartamento</td>\n      <td>Jacarepaguá</td>\n      <td>3</td>\n      <td>1</td>\n      <td>2</td>\n      <td>78</td>\n      <td>1800.0</td>\n      <td>800.0</td>\n      <td>40.0</td>\n    </tr>\n    <tr>\n      <th>32957</th>\n      <td>Apartamento</td>\n      <td>São Francisco Xavier</td>\n      <td>2</td>\n      <td>1</td>\n      <td>0</td>\n      <td>48</td>\n      <td>1400.0</td>\n      <td>509.0</td>\n      <td>37.0</td>\n    </tr>\n    <tr>\n      <th>32958</th>\n      <td>Apartamento</td>\n      <td>Leblon</td>\n      <td>2</td>\n      <td>0</td>\n      <td>0</td>\n      <td>70</td>\n      <td>3000.0</td>\n      <td>760.0</td>\n      <td>NaN</td>\n    </tr>\n  </tbody>\n</table>\n<p>22845 rows × 9 columns</p>\n</div>"
     },
     "execution_count": 18,
     "metadata": {},
     "output_type": "execute_result"
    }
   ],
   "source": [
    "dados_residencial = dados[selecao]\n",
    "dados_residencial"
   ],
   "metadata": {
    "collapsed": false,
    "ExecuteTime": {
     "end_time": "2024-02-01T16:08:59.228869Z",
     "start_time": "2024-02-01T16:08:59.116738Z"
    }
   },
   "id": "93b2c6e71d259cf4",
   "execution_count": 18
  },
  {
   "cell_type": "code",
   "outputs": [
    {
     "data": {
      "text/plain": "['Quitinete',\n 'Casa',\n 'Apartamento',\n 'Casa de Condomínio',\n 'Casa Comercial',\n 'Casa de Vila']"
     },
     "execution_count": 19,
     "metadata": {},
     "output_type": "execute_result"
    }
   ],
   "source": [
    "list(dados_residencial['Tipo'].drop_duplicates())"
   ],
   "metadata": {
    "collapsed": false,
    "ExecuteTime": {
     "end_time": "2024-02-01T16:08:59.229911Z",
     "start_time": "2024-02-01T16:08:59.123372Z"
    }
   },
   "id": "925cc22eb34d3e37",
   "execution_count": 19
  },
  {
   "cell_type": "code",
   "outputs": [
    {
     "data": {
      "text/plain": "22845"
     },
     "execution_count": 20,
     "metadata": {},
     "output_type": "execute_result"
    }
   ],
   "source": [
    "dados_residencial.shape[0]"
   ],
   "metadata": {
    "collapsed": false,
    "ExecuteTime": {
     "end_time": "2024-02-01T16:08:59.230496Z",
     "start_time": "2024-02-01T16:08:59.125586Z"
    }
   },
   "id": "f77e1c26c615a733",
   "execution_count": 20
  },
  {
   "cell_type": "code",
   "outputs": [
    {
     "data": {
      "text/plain": "              Tipo                Bairro  Quartos  Vagas  Suites  Area  \\\n0        Quitinete            Copacabana        1      0       0    40   \n1             Casa       Jardim Botânico        2      0       1   100   \n2      Apartamento                Centro        1      0       0    15   \n3      Apartamento          Higienópolis        1      0       0    48   \n4      Apartamento          Vista Alegre        3      1       0    70   \n...            ...                   ...      ...    ...     ...   ...   \n22840  Apartamento                 Méier        2      0       0    70   \n22841    Quitinete                Centro        0      0       0    27   \n22842  Apartamento           Jacarepaguá        3      1       2    78   \n22843  Apartamento  São Francisco Xavier        2      1       0    48   \n22844  Apartamento                Leblon        2      0       0    70   \n\n        Valor  Condominio  IPTU  \n0      1700.0       500.0  60.0  \n1      7000.0         NaN   NaN  \n2       800.0       390.0  20.0  \n3       800.0       230.0   NaN  \n4      1200.0         NaN   NaN  \n...       ...         ...   ...  \n22840   900.0       490.0  48.0  \n22841   800.0       350.0  25.0  \n22842  1800.0       800.0  40.0  \n22843  1400.0       509.0  37.0  \n22844  3000.0       760.0   NaN  \n\n[22845 rows x 9 columns]",
      "text/html": "<div>\n<style scoped>\n    .dataframe tbody tr th:only-of-type {\n        vertical-align: middle;\n    }\n\n    .dataframe tbody tr th {\n        vertical-align: top;\n    }\n\n    .dataframe thead th {\n        text-align: right;\n    }\n</style>\n<table border=\"1\" class=\"dataframe\">\n  <thead>\n    <tr style=\"text-align: right;\">\n      <th></th>\n      <th>Tipo</th>\n      <th>Bairro</th>\n      <th>Quartos</th>\n      <th>Vagas</th>\n      <th>Suites</th>\n      <th>Area</th>\n      <th>Valor</th>\n      <th>Condominio</th>\n      <th>IPTU</th>\n    </tr>\n  </thead>\n  <tbody>\n    <tr>\n      <th>0</th>\n      <td>Quitinete</td>\n      <td>Copacabana</td>\n      <td>1</td>\n      <td>0</td>\n      <td>0</td>\n      <td>40</td>\n      <td>1700.0</td>\n      <td>500.0</td>\n      <td>60.0</td>\n    </tr>\n    <tr>\n      <th>1</th>\n      <td>Casa</td>\n      <td>Jardim Botânico</td>\n      <td>2</td>\n      <td>0</td>\n      <td>1</td>\n      <td>100</td>\n      <td>7000.0</td>\n      <td>NaN</td>\n      <td>NaN</td>\n    </tr>\n    <tr>\n      <th>2</th>\n      <td>Apartamento</td>\n      <td>Centro</td>\n      <td>1</td>\n      <td>0</td>\n      <td>0</td>\n      <td>15</td>\n      <td>800.0</td>\n      <td>390.0</td>\n      <td>20.0</td>\n    </tr>\n    <tr>\n      <th>3</th>\n      <td>Apartamento</td>\n      <td>Higienópolis</td>\n      <td>1</td>\n      <td>0</td>\n      <td>0</td>\n      <td>48</td>\n      <td>800.0</td>\n      <td>230.0</td>\n      <td>NaN</td>\n    </tr>\n    <tr>\n      <th>4</th>\n      <td>Apartamento</td>\n      <td>Vista Alegre</td>\n      <td>3</td>\n      <td>1</td>\n      <td>0</td>\n      <td>70</td>\n      <td>1200.0</td>\n      <td>NaN</td>\n      <td>NaN</td>\n    </tr>\n    <tr>\n      <th>...</th>\n      <td>...</td>\n      <td>...</td>\n      <td>...</td>\n      <td>...</td>\n      <td>...</td>\n      <td>...</td>\n      <td>...</td>\n      <td>...</td>\n      <td>...</td>\n    </tr>\n    <tr>\n      <th>22840</th>\n      <td>Apartamento</td>\n      <td>Méier</td>\n      <td>2</td>\n      <td>0</td>\n      <td>0</td>\n      <td>70</td>\n      <td>900.0</td>\n      <td>490.0</td>\n      <td>48.0</td>\n    </tr>\n    <tr>\n      <th>22841</th>\n      <td>Quitinete</td>\n      <td>Centro</td>\n      <td>0</td>\n      <td>0</td>\n      <td>0</td>\n      <td>27</td>\n      <td>800.0</td>\n      <td>350.0</td>\n      <td>25.0</td>\n    </tr>\n    <tr>\n      <th>22842</th>\n      <td>Apartamento</td>\n      <td>Jacarepaguá</td>\n      <td>3</td>\n      <td>1</td>\n      <td>2</td>\n      <td>78</td>\n      <td>1800.0</td>\n      <td>800.0</td>\n      <td>40.0</td>\n    </tr>\n    <tr>\n      <th>22843</th>\n      <td>Apartamento</td>\n      <td>São Francisco Xavier</td>\n      <td>2</td>\n      <td>1</td>\n      <td>0</td>\n      <td>48</td>\n      <td>1400.0</td>\n      <td>509.0</td>\n      <td>37.0</td>\n    </tr>\n    <tr>\n      <th>22844</th>\n      <td>Apartamento</td>\n      <td>Leblon</td>\n      <td>2</td>\n      <td>0</td>\n      <td>0</td>\n      <td>70</td>\n      <td>3000.0</td>\n      <td>760.0</td>\n      <td>NaN</td>\n    </tr>\n  </tbody>\n</table>\n<p>22845 rows × 9 columns</p>\n</div>"
     },
     "execution_count": 21,
     "metadata": {},
     "output_type": "execute_result"
    }
   ],
   "source": [
    "dados_residencial.index = range(dados_residencial.shape[0])\n",
    "dados_residencial"
   ],
   "metadata": {
    "collapsed": false,
    "ExecuteTime": {
     "end_time": "2024-02-01T16:08:59.231464Z",
     "start_time": "2024-02-01T16:08:59.130846Z"
    }
   },
   "id": "fda1585497cfb565",
   "execution_count": 21
  },
  {
   "cell_type": "code",
   "outputs": [],
   "source": [
    "# dados_residencial.to_csv('dados/aluguel_residencial.csv', sep=';', index=False)"
   ],
   "metadata": {
    "collapsed": false,
    "ExecuteTime": {
     "end_time": "2024-02-01T16:08:59.231911Z",
     "start_time": "2024-02-01T16:08:59.132987Z"
    }
   },
   "id": "9eb7db840dff618",
   "execution_count": 22
  },
  {
   "cell_type": "code",
   "outputs": [],
   "source": [
    "# dados = pd.read_csv('dados/aluguel_residencial.csv')\n",
    "# dados.head()"
   ],
   "metadata": {
    "collapsed": false,
    "ExecuteTime": {
     "end_time": "2024-02-01T16:08:59.232352Z",
     "start_time": "2024-02-01T16:08:59.134687Z"
    }
   },
   "id": "9a72a8bf19c6af81",
   "execution_count": 23
  },
  {
   "cell_type": "code",
   "outputs": [
    {
     "data": {
      "text/plain": "0        False\n1        False\n2         True\n3         True\n4         True\n         ...  \n22840     True\n22841    False\n22842     True\n22843     True\n22844     True\nName: Tipo, Length: 22845, dtype: bool"
     },
     "execution_count": 24,
     "metadata": {},
     "output_type": "execute_result"
    }
   ],
   "source": [
    "selecao = dados_residencial['Tipo'] == 'Apartamento'\n",
    "selecao"
   ],
   "metadata": {
    "collapsed": false,
    "ExecuteTime": {
     "end_time": "2024-02-01T16:08:59.245656Z",
     "start_time": "2024-02-01T16:08:59.146393Z"
    }
   },
   "id": "5fcc52f640235541",
   "execution_count": 24
  },
  {
   "cell_type": "code",
   "outputs": [
    {
     "data": {
      "text/plain": "19532"
     },
     "execution_count": 28,
     "metadata": {},
     "output_type": "execute_result"
    }
   ],
   "source": [
    "n1 = dados_residencial[selecao].shape[0]\n",
    "n1"
   ],
   "metadata": {
    "collapsed": false,
    "ExecuteTime": {
     "end_time": "2024-02-01T16:10:46.141790Z",
     "start_time": "2024-02-01T16:10:46.119887Z"
    }
   },
   "id": "e7155d589dd47b26",
   "execution_count": 28
  },
  {
   "cell_type": "code",
   "outputs": [
    {
     "data": {
      "text/plain": "2212"
     },
     "execution_count": 30,
     "metadata": {},
     "output_type": "execute_result"
    }
   ],
   "source": [
    "selecao = (dados_residencial['Tipo'] == 'Casa') | (dados_residencial['Tipo'] == 'Casa de Condomínio') | (dados_residencial['Tipo'] == 'Casa de Vila')\n",
    "n2 = dados_residencial[selecao].shape[0]\n",
    "n2"
   ],
   "metadata": {
    "collapsed": false,
    "ExecuteTime": {
     "end_time": "2024-02-01T16:10:56.255800Z",
     "start_time": "2024-02-01T16:10:56.249798Z"
    }
   },
   "id": "f3f41da7c4f04b3d",
   "execution_count": 30
  },
  {
   "cell_type": "code",
   "outputs": [
    {
     "data": {
      "text/plain": "8736"
     },
     "execution_count": 31,
     "metadata": {},
     "output_type": "execute_result"
    }
   ],
   "source": [
    "selecao = (dados_residencial['Area'] >= 60) & (dados_residencial['Area'] <= 100)\n",
    "n3 = dados_residencial[selecao].shape[0]\n",
    "n3"
   ],
   "metadata": {
    "collapsed": false,
    "ExecuteTime": {
     "end_time": "2024-02-01T16:10:59.856438Z",
     "start_time": "2024-02-01T16:10:59.849663Z"
    }
   },
   "id": "f8a936e8ce8ae174",
   "execution_count": 31
  },
  {
   "cell_type": "code",
   "outputs": [
    {
     "data": {
      "text/plain": "41"
     },
     "execution_count": 32,
     "metadata": {},
     "output_type": "execute_result"
    }
   ],
   "source": [
    "selecao = (dados_residencial['Quartos'] >= 4) & (dados_residencial['Valor'] < 2000)\n",
    "n4 = dados_residencial[selecao].shape[0]\n",
    "n4"
   ],
   "metadata": {
    "collapsed": false,
    "ExecuteTime": {
     "end_time": "2024-02-01T16:11:03.515641Z",
     "start_time": "2024-02-01T16:11:03.509970Z"
    }
   },
   "id": "4b9cc0229c8bad4b",
   "execution_count": 32
  },
  {
   "cell_type": "code",
   "outputs": [
    {
     "name": "stdout",
     "output_type": "stream",
     "text": [
      "<class 'pandas.core.frame.DataFrame'>\n",
      "RangeIndex: 22845 entries, 0 to 22844\n",
      "Data columns (total 9 columns):\n",
      " #   Column      Non-Null Count  Dtype  \n",
      "---  ------      --------------  -----  \n",
      " 0   Tipo        22845 non-null  object \n",
      " 1   Bairro      22845 non-null  object \n",
      " 2   Quartos     22845 non-null  int64  \n",
      " 3   Vagas       22845 non-null  int64  \n",
      " 4   Suites      22845 non-null  int64  \n",
      " 5   Area        22845 non-null  int64  \n",
      " 6   Valor       22836 non-null  float64\n",
      " 7   Condominio  20796 non-null  float64\n",
      " 8   IPTU        15976 non-null  float64\n",
      "dtypes: float64(3), int64(4), object(2)\n",
      "memory usage: 1.6+ MB\n"
     ]
    }
   ],
   "source": [
    "dados_residencial.info()"
   ],
   "metadata": {
    "collapsed": false,
    "ExecuteTime": {
     "end_time": "2024-02-01T16:12:18.812101Z",
     "start_time": "2024-02-01T16:12:18.808063Z"
    }
   },
   "id": "d98bff2260776f19",
   "execution_count": 34
  },
  {
   "cell_type": "code",
   "outputs": [
    {
     "data": {
      "text/plain": "             Tipo           Bairro  Quartos  Vagas  Suites  Area  Valor  \\\n58    Apartamento  Barra da Tijuca        2      1       1    70    NaN   \n1515  Apartamento             Leme        2      0       0    75    NaN   \n1708         Casa     Campo Grande        3      4       3   363    NaN   \n2039  Apartamento         Botafogo        2      0       0    95    NaN   \n2061  Apartamento       Copacabana        2      0       0    72    NaN   \n4998         Casa     Campo Grande        3      2       1   100    NaN   \n8674  Apartamento             Leme        2      0       1    75    NaN   \n9061  Apartamento           Glória        3      0       1   135    NaN   \n9264  Apartamento            Gávea        3      1       1   105    NaN   \n\n      Condominio   IPTU  \n58         970.0   68.0  \n1515       878.0    NaN  \n1708         NaN    NaN  \n2039      1010.0  170.0  \n2061       850.0    NaN  \n4998         NaN    NaN  \n8674       878.0    NaN  \n9061       910.0  228.0  \n9264       880.0  221.0  ",
      "text/html": "<div>\n<style scoped>\n    .dataframe tbody tr th:only-of-type {\n        vertical-align: middle;\n    }\n\n    .dataframe tbody tr th {\n        vertical-align: top;\n    }\n\n    .dataframe thead th {\n        text-align: right;\n    }\n</style>\n<table border=\"1\" class=\"dataframe\">\n  <thead>\n    <tr style=\"text-align: right;\">\n      <th></th>\n      <th>Tipo</th>\n      <th>Bairro</th>\n      <th>Quartos</th>\n      <th>Vagas</th>\n      <th>Suites</th>\n      <th>Area</th>\n      <th>Valor</th>\n      <th>Condominio</th>\n      <th>IPTU</th>\n    </tr>\n  </thead>\n  <tbody>\n    <tr>\n      <th>58</th>\n      <td>Apartamento</td>\n      <td>Barra da Tijuca</td>\n      <td>2</td>\n      <td>1</td>\n      <td>1</td>\n      <td>70</td>\n      <td>NaN</td>\n      <td>970.0</td>\n      <td>68.0</td>\n    </tr>\n    <tr>\n      <th>1515</th>\n      <td>Apartamento</td>\n      <td>Leme</td>\n      <td>2</td>\n      <td>0</td>\n      <td>0</td>\n      <td>75</td>\n      <td>NaN</td>\n      <td>878.0</td>\n      <td>NaN</td>\n    </tr>\n    <tr>\n      <th>1708</th>\n      <td>Casa</td>\n      <td>Campo Grande</td>\n      <td>3</td>\n      <td>4</td>\n      <td>3</td>\n      <td>363</td>\n      <td>NaN</td>\n      <td>NaN</td>\n      <td>NaN</td>\n    </tr>\n    <tr>\n      <th>2039</th>\n      <td>Apartamento</td>\n      <td>Botafogo</td>\n      <td>2</td>\n      <td>0</td>\n      <td>0</td>\n      <td>95</td>\n      <td>NaN</td>\n      <td>1010.0</td>\n      <td>170.0</td>\n    </tr>\n    <tr>\n      <th>2061</th>\n      <td>Apartamento</td>\n      <td>Copacabana</td>\n      <td>2</td>\n      <td>0</td>\n      <td>0</td>\n      <td>72</td>\n      <td>NaN</td>\n      <td>850.0</td>\n      <td>NaN</td>\n    </tr>\n    <tr>\n      <th>4998</th>\n      <td>Casa</td>\n      <td>Campo Grande</td>\n      <td>3</td>\n      <td>2</td>\n      <td>1</td>\n      <td>100</td>\n      <td>NaN</td>\n      <td>NaN</td>\n      <td>NaN</td>\n    </tr>\n    <tr>\n      <th>8674</th>\n      <td>Apartamento</td>\n      <td>Leme</td>\n      <td>2</td>\n      <td>0</td>\n      <td>1</td>\n      <td>75</td>\n      <td>NaN</td>\n      <td>878.0</td>\n      <td>NaN</td>\n    </tr>\n    <tr>\n      <th>9061</th>\n      <td>Apartamento</td>\n      <td>Glória</td>\n      <td>3</td>\n      <td>0</td>\n      <td>1</td>\n      <td>135</td>\n      <td>NaN</td>\n      <td>910.0</td>\n      <td>228.0</td>\n    </tr>\n    <tr>\n      <th>9264</th>\n      <td>Apartamento</td>\n      <td>Gávea</td>\n      <td>3</td>\n      <td>1</td>\n      <td>1</td>\n      <td>105</td>\n      <td>NaN</td>\n      <td>880.0</td>\n      <td>221.0</td>\n    </tr>\n  </tbody>\n</table>\n</div>"
     },
     "execution_count": 35,
     "metadata": {},
     "output_type": "execute_result"
    }
   ],
   "source": [
    "dados_residencial[dados_residencial['Valor'].isnull()]"
   ],
   "metadata": {
    "collapsed": false,
    "ExecuteTime": {
     "end_time": "2024-02-01T16:13:28.008965Z",
     "start_time": "2024-02-01T16:13:28.001228Z"
    }
   },
   "id": "e18a196d199c6509",
   "execution_count": 35
  },
  {
   "cell_type": "code",
   "outputs": [
    {
     "name": "stdout",
     "output_type": "stream",
     "text": [
      "Foram eliminados 9 registros\n"
     ]
    },
    {
     "name": "stderr",
     "output_type": "stream",
     "text": [
      "/var/folders/v3/cd9ctqm16fl8gn9vl4dgy_7c0000gn/T/ipykernel_27197/714889413.py:2: SettingWithCopyWarning: \n",
      "A value is trying to be set on a copy of a slice from a DataFrame\n",
      "\n",
      "See the caveats in the documentation: https://pandas.pydata.org/pandas-docs/stable/user_guide/indexing.html#returning-a-view-versus-a-copy\n",
      "  dados_residencial.dropna(subset=['Valor'], inplace=True)\n"
     ]
    }
   ],
   "source": [
    "quantidade_antes = dados_residencial.shape[0]\n",
    "dados_residencial.dropna(subset=['Valor'], inplace=True)\n",
    "quantidade_depois = dados_residencial.shape[0]\n",
    "print(f'Foram eliminados {quantidade_antes - quantidade_depois} registros')"
   ],
   "metadata": {
    "collapsed": false,
    "ExecuteTime": {
     "end_time": "2024-02-01T16:17:25.201691Z",
     "start_time": "2024-02-01T16:17:25.195385Z"
    }
   },
   "id": "feba97fa39dd1d82",
   "execution_count": 39
  },
  {
   "cell_type": "code",
   "outputs": [
    {
     "data": {
      "text/plain": "Empty DataFrame\nColumns: [Tipo, Bairro, Quartos, Vagas, Suites, Area, Valor, Condominio, IPTU]\nIndex: []",
      "text/html": "<div>\n<style scoped>\n    .dataframe tbody tr th:only-of-type {\n        vertical-align: middle;\n    }\n\n    .dataframe tbody tr th {\n        vertical-align: top;\n    }\n\n    .dataframe thead th {\n        text-align: right;\n    }\n</style>\n<table border=\"1\" class=\"dataframe\">\n  <thead>\n    <tr style=\"text-align: right;\">\n      <th></th>\n      <th>Tipo</th>\n      <th>Bairro</th>\n      <th>Quartos</th>\n      <th>Vagas</th>\n      <th>Suites</th>\n      <th>Area</th>\n      <th>Valor</th>\n      <th>Condominio</th>\n      <th>IPTU</th>\n    </tr>\n  </thead>\n  <tbody>\n  </tbody>\n</table>\n</div>"
     },
     "execution_count": 40,
     "metadata": {},
     "output_type": "execute_result"
    }
   ],
   "source": [
    "dados_residencial[dados_residencial['Valor'].isnull()]"
   ],
   "metadata": {
    "collapsed": false,
    "ExecuteTime": {
     "end_time": "2024-02-01T16:18:00.953672Z",
     "start_time": "2024-02-01T16:18:00.936967Z"
    }
   },
   "id": "72b1b2045ad87a23",
   "execution_count": 40
  },
  {
   "cell_type": "code",
   "outputs": [
    {
     "data": {
      "text/plain": "2047"
     },
     "execution_count": 42,
     "metadata": {},
     "output_type": "execute_result"
    }
   ],
   "source": [
    "dados_residencial[dados_residencial['Condominio'].isnull()].shape[0]"
   ],
   "metadata": {
    "collapsed": false,
    "ExecuteTime": {
     "end_time": "2024-02-01T16:20:13.562548Z",
     "start_time": "2024-02-01T16:20:13.557252Z"
    }
   },
   "id": "96c6b5e03fe5209c",
   "execution_count": 42
  },
  {
   "cell_type": "code",
   "outputs": [
    {
     "data": {
      "text/plain": "              Tipo           Bairro  Quartos  Vagas  Suites  Area   Valor  \\\n4      Apartamento     Vista Alegre        3      1       0    70  1200.0   \n8      Apartamento           Centro        1      0       0    36  1200.0   \n84     Apartamento       Praça Seca        2      0       0    80  1000.0   \n118    Apartamento    Rocha Miranda        2      1       0    50  1100.0   \n134    Apartamento  Barra da Tijuca        1      1       1    65  2350.0   \n...            ...              ...      ...    ...     ...   ...     ...   \n22592  Apartamento       Copacabana        3      0       0   130  4600.0   \n22620  Apartamento        Guadalupe        1      0       0    40   550.0   \n22637  Apartamento       Bonsucesso        1      0       0    60  1000.0   \n22667  Apartamento         Flamengo        2      0       0    59  3500.0   \n22739  Apartamento        Cascadura        3      0       1    70  1200.0   \n\n       Condominio  IPTU  \n4             NaN   NaN  \n8             NaN   NaN  \n84            NaN   NaN  \n118           NaN   NaN  \n134           NaN   NaN  \n...           ...   ...  \n22592         NaN   NaN  \n22620         NaN   NaN  \n22637         NaN   NaN  \n22667         NaN   NaN  \n22739         NaN   NaN  \n\n[745 rows x 9 columns]",
      "text/html": "<div>\n<style scoped>\n    .dataframe tbody tr th:only-of-type {\n        vertical-align: middle;\n    }\n\n    .dataframe tbody tr th {\n        vertical-align: top;\n    }\n\n    .dataframe thead th {\n        text-align: right;\n    }\n</style>\n<table border=\"1\" class=\"dataframe\">\n  <thead>\n    <tr style=\"text-align: right;\">\n      <th></th>\n      <th>Tipo</th>\n      <th>Bairro</th>\n      <th>Quartos</th>\n      <th>Vagas</th>\n      <th>Suites</th>\n      <th>Area</th>\n      <th>Valor</th>\n      <th>Condominio</th>\n      <th>IPTU</th>\n    </tr>\n  </thead>\n  <tbody>\n    <tr>\n      <th>4</th>\n      <td>Apartamento</td>\n      <td>Vista Alegre</td>\n      <td>3</td>\n      <td>1</td>\n      <td>0</td>\n      <td>70</td>\n      <td>1200.0</td>\n      <td>NaN</td>\n      <td>NaN</td>\n    </tr>\n    <tr>\n      <th>8</th>\n      <td>Apartamento</td>\n      <td>Centro</td>\n      <td>1</td>\n      <td>0</td>\n      <td>0</td>\n      <td>36</td>\n      <td>1200.0</td>\n      <td>NaN</td>\n      <td>NaN</td>\n    </tr>\n    <tr>\n      <th>84</th>\n      <td>Apartamento</td>\n      <td>Praça Seca</td>\n      <td>2</td>\n      <td>0</td>\n      <td>0</td>\n      <td>80</td>\n      <td>1000.0</td>\n      <td>NaN</td>\n      <td>NaN</td>\n    </tr>\n    <tr>\n      <th>118</th>\n      <td>Apartamento</td>\n      <td>Rocha Miranda</td>\n      <td>2</td>\n      <td>1</td>\n      <td>0</td>\n      <td>50</td>\n      <td>1100.0</td>\n      <td>NaN</td>\n      <td>NaN</td>\n    </tr>\n    <tr>\n      <th>134</th>\n      <td>Apartamento</td>\n      <td>Barra da Tijuca</td>\n      <td>1</td>\n      <td>1</td>\n      <td>1</td>\n      <td>65</td>\n      <td>2350.0</td>\n      <td>NaN</td>\n      <td>NaN</td>\n    </tr>\n    <tr>\n      <th>...</th>\n      <td>...</td>\n      <td>...</td>\n      <td>...</td>\n      <td>...</td>\n      <td>...</td>\n      <td>...</td>\n      <td>...</td>\n      <td>...</td>\n      <td>...</td>\n    </tr>\n    <tr>\n      <th>22592</th>\n      <td>Apartamento</td>\n      <td>Copacabana</td>\n      <td>3</td>\n      <td>0</td>\n      <td>0</td>\n      <td>130</td>\n      <td>4600.0</td>\n      <td>NaN</td>\n      <td>NaN</td>\n    </tr>\n    <tr>\n      <th>22620</th>\n      <td>Apartamento</td>\n      <td>Guadalupe</td>\n      <td>1</td>\n      <td>0</td>\n      <td>0</td>\n      <td>40</td>\n      <td>550.0</td>\n      <td>NaN</td>\n      <td>NaN</td>\n    </tr>\n    <tr>\n      <th>22637</th>\n      <td>Apartamento</td>\n      <td>Bonsucesso</td>\n      <td>1</td>\n      <td>0</td>\n      <td>0</td>\n      <td>60</td>\n      <td>1000.0</td>\n      <td>NaN</td>\n      <td>NaN</td>\n    </tr>\n    <tr>\n      <th>22667</th>\n      <td>Apartamento</td>\n      <td>Flamengo</td>\n      <td>2</td>\n      <td>0</td>\n      <td>0</td>\n      <td>59</td>\n      <td>3500.0</td>\n      <td>NaN</td>\n      <td>NaN</td>\n    </tr>\n    <tr>\n      <th>22739</th>\n      <td>Apartamento</td>\n      <td>Cascadura</td>\n      <td>3</td>\n      <td>0</td>\n      <td>1</td>\n      <td>70</td>\n      <td>1200.0</td>\n      <td>NaN</td>\n      <td>NaN</td>\n    </tr>\n  </tbody>\n</table>\n<p>745 rows × 9 columns</p>\n</div>"
     },
     "execution_count": 43,
     "metadata": {},
     "output_type": "execute_result"
    }
   ],
   "source": [
    "selecao = (dados_residencial['Tipo'] == 'Apartamento') & (dados_residencial['Condominio'].isnull())\n",
    "dados_residencial[selecao]"
   ],
   "metadata": {
    "collapsed": false,
    "ExecuteTime": {
     "end_time": "2024-02-01T16:21:27.194220Z",
     "start_time": "2024-02-01T16:21:27.188356Z"
    }
   },
   "id": "8b1fa0ad9c6cbe1",
   "execution_count": 43
  },
  {
   "cell_type": "code",
   "outputs": [
    {
     "name": "stdout",
     "output_type": "stream",
     "text": [
      "Foram eliminados 745 registros\n"
     ]
    }
   ],
   "source": [
    "quantidade_antes = dados_residencial.shape[0]\n",
    "dados_residencial = dados_residencial[~selecao]\n",
    "quantidade_depois = dados_residencial.shape[0]\n",
    "print(f'Foram eliminados {quantidade_antes - quantidade_depois} registros')"
   ],
   "metadata": {
    "collapsed": false,
    "ExecuteTime": {
     "end_time": "2024-02-01T16:25:12.451346Z",
     "start_time": "2024-02-01T16:25:12.448086Z"
    }
   },
   "id": "ac2856c4a45b87fc",
   "execution_count": 45
  },
  {
   "cell_type": "code",
   "outputs": [
    {
     "data": {
      "text/plain": "1302"
     },
     "execution_count": 48,
     "metadata": {},
     "output_type": "execute_result"
    }
   ],
   "source": [
    "dados_residencial[dados_residencial['Condominio'].isnull()].shape[0]"
   ],
   "metadata": {
    "collapsed": false,
    "ExecuteTime": {
     "end_time": "2024-02-01T16:26:26.082815Z",
     "start_time": "2024-02-01T16:26:26.064308Z"
    }
   },
   "id": "9bc1c4ee3032cc83",
   "execution_count": 48
  },
  {
   "cell_type": "code",
   "outputs": [
    {
     "name": "stderr",
     "output_type": "stream",
     "text": [
      "/var/folders/v3/cd9ctqm16fl8gn9vl4dgy_7c0000gn/T/ipykernel_27197/4107863002.py:1: SettingWithCopyWarning: \n",
      "A value is trying to be set on a copy of a slice from a DataFrame\n",
      "\n",
      "See the caveats in the documentation: https://pandas.pydata.org/pandas-docs/stable/user_guide/indexing.html#returning-a-view-versus-a-copy\n",
      "  dados_residencial.fillna({'Condominio': 0, 'IPTU': 0}, inplace=True)\n"
     ]
    }
   ],
   "source": [
    "dados_residencial.fillna({'Condominio': 0, 'IPTU': 0}, inplace=True)"
   ],
   "metadata": {
    "collapsed": false,
    "ExecuteTime": {
     "end_time": "2024-02-01T16:28:55.466648Z",
     "start_time": "2024-02-01T16:28:55.453749Z"
    }
   },
   "id": "a582e1b7482e1e47",
   "execution_count": 49
  },
  {
   "cell_type": "code",
   "outputs": [
    {
     "name": "stdout",
     "output_type": "stream",
     "text": [
      "0\n",
      "0\n"
     ]
    }
   ],
   "source": [
    "print(dados_residencial[dados_residencial['Condominio'].isnull()].shape[0])\n",
    "print(dados_residencial[dados_residencial['IPTU'].isnull()].shape[0])"
   ],
   "metadata": {
    "collapsed": false,
    "ExecuteTime": {
     "end_time": "2024-02-01T16:30:30.503960Z",
     "start_time": "2024-02-01T16:30:30.495324Z"
    }
   },
   "id": "7996379a4347a15a",
   "execution_count": 51
  },
  {
   "cell_type": "code",
   "outputs": [
    {
     "name": "stdout",
     "output_type": "stream",
     "text": [
      "<class 'pandas.core.frame.DataFrame'>\n",
      "Index: 22091 entries, 0 to 22844\n",
      "Data columns (total 9 columns):\n",
      " #   Column      Non-Null Count  Dtype  \n",
      "---  ------      --------------  -----  \n",
      " 0   Tipo        22091 non-null  object \n",
      " 1   Bairro      22091 non-null  object \n",
      " 2   Quartos     22091 non-null  int64  \n",
      " 3   Vagas       22091 non-null  int64  \n",
      " 4   Suites      22091 non-null  int64  \n",
      " 5   Area        22091 non-null  int64  \n",
      " 6   Valor       22091 non-null  float64\n",
      " 7   Condominio  22091 non-null  float64\n",
      " 8   IPTU        22091 non-null  float64\n",
      "dtypes: float64(3), int64(4), object(2)\n",
      "memory usage: 1.7+ MB\n"
     ]
    }
   ],
   "source": [
    "dados_residencial.info()"
   ],
   "metadata": {
    "collapsed": false,
    "ExecuteTime": {
     "end_time": "2024-02-01T16:30:42.190899Z",
     "start_time": "2024-02-01T16:30:42.178410Z"
    }
   },
   "id": "36991439287f9f79",
   "execution_count": 52
  },
  {
   "cell_type": "code",
   "outputs": [],
   "source": [
    "# dados_residencial.tocsv('dados/aluguel_residencial.csv', sep=';', index=False)"
   ],
   "metadata": {
    "collapsed": false
   },
   "id": "99c63c9a6e65973c"
  },
  {
   "cell_type": "code",
   "outputs": [
    {
     "name": "stderr",
     "output_type": "stream",
     "text": [
      "/var/folders/v3/cd9ctqm16fl8gn9vl4dgy_7c0000gn/T/ipykernel_27197/4059507408.py:1: SettingWithCopyWarning: \n",
      "A value is trying to be set on a copy of a slice from a DataFrame.\n",
      "Try using .loc[row_indexer,col_indexer] = value instead\n",
      "\n",
      "See the caveats in the documentation: https://pandas.pydata.org/pandas-docs/stable/user_guide/indexing.html#returning-a-view-versus-a-copy\n",
      "  dados_residencial['Valor Bruto'] = dados_residencial['Valor'] + dados_residencial['Condominio'] + dados_residencial['IPTU']\n"
     ]
    },
    {
     "data": {
      "text/plain": "          Tipo           Bairro  Quartos  Vagas  Suites  Area   Valor  \\\n0    Quitinete       Copacabana        1      0       0    40  1700.0   \n1         Casa  Jardim Botânico        2      0       1   100  7000.0   \n2  Apartamento           Centro        1      0       0    15   800.0   \n3  Apartamento     Higienópolis        1      0       0    48   800.0   \n5  Apartamento         Cachambi        2      0       0    50  1300.0   \n\n   Condominio  IPTU  Valor Bruto  \n0       500.0  60.0       2260.0  \n1         0.0   0.0       7000.0  \n2       390.0  20.0       1210.0  \n3       230.0   0.0       1030.0  \n5       301.0  17.0       1618.0  ",
      "text/html": "<div>\n<style scoped>\n    .dataframe tbody tr th:only-of-type {\n        vertical-align: middle;\n    }\n\n    .dataframe tbody tr th {\n        vertical-align: top;\n    }\n\n    .dataframe thead th {\n        text-align: right;\n    }\n</style>\n<table border=\"1\" class=\"dataframe\">\n  <thead>\n    <tr style=\"text-align: right;\">\n      <th></th>\n      <th>Tipo</th>\n      <th>Bairro</th>\n      <th>Quartos</th>\n      <th>Vagas</th>\n      <th>Suites</th>\n      <th>Area</th>\n      <th>Valor</th>\n      <th>Condominio</th>\n      <th>IPTU</th>\n      <th>Valor Bruto</th>\n    </tr>\n  </thead>\n  <tbody>\n    <tr>\n      <th>0</th>\n      <td>Quitinete</td>\n      <td>Copacabana</td>\n      <td>1</td>\n      <td>0</td>\n      <td>0</td>\n      <td>40</td>\n      <td>1700.0</td>\n      <td>500.0</td>\n      <td>60.0</td>\n      <td>2260.0</td>\n    </tr>\n    <tr>\n      <th>1</th>\n      <td>Casa</td>\n      <td>Jardim Botânico</td>\n      <td>2</td>\n      <td>0</td>\n      <td>1</td>\n      <td>100</td>\n      <td>7000.0</td>\n      <td>0.0</td>\n      <td>0.0</td>\n      <td>7000.0</td>\n    </tr>\n    <tr>\n      <th>2</th>\n      <td>Apartamento</td>\n      <td>Centro</td>\n      <td>1</td>\n      <td>0</td>\n      <td>0</td>\n      <td>15</td>\n      <td>800.0</td>\n      <td>390.0</td>\n      <td>20.0</td>\n      <td>1210.0</td>\n    </tr>\n    <tr>\n      <th>3</th>\n      <td>Apartamento</td>\n      <td>Higienópolis</td>\n      <td>1</td>\n      <td>0</td>\n      <td>0</td>\n      <td>48</td>\n      <td>800.0</td>\n      <td>230.0</td>\n      <td>0.0</td>\n      <td>1030.0</td>\n    </tr>\n    <tr>\n      <th>5</th>\n      <td>Apartamento</td>\n      <td>Cachambi</td>\n      <td>2</td>\n      <td>0</td>\n      <td>0</td>\n      <td>50</td>\n      <td>1300.0</td>\n      <td>301.0</td>\n      <td>17.0</td>\n      <td>1618.0</td>\n    </tr>\n  </tbody>\n</table>\n</div>"
     },
     "execution_count": 53,
     "metadata": {},
     "output_type": "execute_result"
    }
   ],
   "source": [
    "dados_residencial['Valor Bruto'] = dados_residencial['Valor'] + dados_residencial['Condominio'] + dados_residencial['IPTU']\n",
    "dados_residencial.head()"
   ],
   "metadata": {
    "collapsed": false,
    "ExecuteTime": {
     "end_time": "2024-02-01T16:44:05.277074Z",
     "start_time": "2024-02-01T16:44:05.266500Z"
    }
   },
   "id": "dbafcdcb196cc30c",
   "execution_count": 53
  },
  {
   "cell_type": "code",
   "outputs": [
    {
     "name": "stderr",
     "output_type": "stream",
     "text": [
      "/var/folders/v3/cd9ctqm16fl8gn9vl4dgy_7c0000gn/T/ipykernel_27197/2160117619.py:1: SettingWithCopyWarning: \n",
      "A value is trying to be set on a copy of a slice from a DataFrame.\n",
      "Try using .loc[row_indexer,col_indexer] = value instead\n",
      "\n",
      "See the caveats in the documentation: https://pandas.pydata.org/pandas-docs/stable/user_guide/indexing.html#returning-a-view-versus-a-copy\n",
      "  dados_residencial['Valor por m2'] = round((dados_residencial['Valor Bruto'] / dados_residencial['Area']), 2)\n"
     ]
    },
    {
     "data": {
      "text/plain": "0     56.50\n1     70.00\n2     80.67\n3     21.46\n5     32.36\n6     29.33\n7     15.38\n9     31.66\n10    21.88\n11    65.28\nName: Valor por m2, dtype: float64"
     },
     "execution_count": 55,
     "metadata": {},
     "output_type": "execute_result"
    }
   ],
   "source": [
    "dados_residencial['Valor por m2'] = round((dados_residencial['Valor'] / dados_residencial['Area']), 2)\n",
    "dados_residencial['Valor Bruto por m2'] = (dados_residencial['Valor Bruto'] / dados_residencial['Area']).round(2) # Outra forma de arredondamento, porém o resultado é o mesmo\n",
    "dados_residencial.head(10)"
   ],
   "metadata": {
    "collapsed": false,
    "ExecuteTime": {
     "end_time": "2024-02-01T16:46:30.652441Z",
     "start_time": "2024-02-01T16:46:30.644166Z"
    }
   },
   "id": "133adff3d18452af",
   "execution_count": 55
  },
  {
   "cell_type": "code",
   "outputs": [
    {
     "name": "stderr",
     "output_type": "stream",
     "text": [
      "/var/folders/v3/cd9ctqm16fl8gn9vl4dgy_7c0000gn/T/ipykernel_27197/3595513648.py:2: SettingWithCopyWarning: \n",
      "A value is trying to be set on a copy of a slice from a DataFrame.\n",
      "Try using .loc[row_indexer,col_indexer] = value instead\n",
      "\n",
      "See the caveats in the documentation: https://pandas.pydata.org/pandas-docs/stable/user_guide/indexing.html#returning-a-view-versus-a-copy\n",
      "  dados_residencial['Tipo Agregado'] = dados_residencial['Tipo'].apply(lambda x: 'Casa' if x in tipos_de_casa else 'Apartamento')\n"
     ]
    },
    {
     "data": {
      "text/plain": "              Tipo                Bairro  Quartos  Vagas  Suites  Area  \\\n0        Quitinete            Copacabana        1      0       0    40   \n1             Casa       Jardim Botânico        2      0       1   100   \n2      Apartamento                Centro        1      0       0    15   \n3      Apartamento          Higienópolis        1      0       0    48   \n5      Apartamento              Cachambi        2      0       0    50   \n...            ...                   ...      ...    ...     ...   ...   \n22840  Apartamento                 Méier        2      0       0    70   \n22841    Quitinete                Centro        0      0       0    27   \n22842  Apartamento           Jacarepaguá        3      1       2    78   \n22843  Apartamento  São Francisco Xavier        2      1       0    48   \n22844  Apartamento                Leblon        2      0       0    70   \n\n        Valor  Condominio  IPTU  Valor Bruto  Valor por m2 Tipo Agregado  \n0      1700.0       500.0  60.0       2260.0         56.50   Apartamento  \n1      7000.0         0.0   0.0       7000.0         70.00          Casa  \n2       800.0       390.0  20.0       1210.0         80.67   Apartamento  \n3       800.0       230.0   0.0       1030.0         21.46   Apartamento  \n5      1300.0       301.0  17.0       1618.0         32.36   Apartamento  \n...       ...         ...   ...          ...           ...           ...  \n22840   900.0       490.0  48.0       1438.0         20.54   Apartamento  \n22841   800.0       350.0  25.0       1175.0         43.52   Apartamento  \n22842  1800.0       800.0  40.0       2640.0         33.85   Apartamento  \n22843  1400.0       509.0  37.0       1946.0         40.54   Apartamento  \n22844  3000.0       760.0   0.0       3760.0         53.71   Apartamento  \n\n[22091 rows x 12 columns]",
      "text/html": "<div>\n<style scoped>\n    .dataframe tbody tr th:only-of-type {\n        vertical-align: middle;\n    }\n\n    .dataframe tbody tr th {\n        vertical-align: top;\n    }\n\n    .dataframe thead th {\n        text-align: right;\n    }\n</style>\n<table border=\"1\" class=\"dataframe\">\n  <thead>\n    <tr style=\"text-align: right;\">\n      <th></th>\n      <th>Tipo</th>\n      <th>Bairro</th>\n      <th>Quartos</th>\n      <th>Vagas</th>\n      <th>Suites</th>\n      <th>Area</th>\n      <th>Valor</th>\n      <th>Condominio</th>\n      <th>IPTU</th>\n      <th>Valor Bruto</th>\n      <th>Valor por m2</th>\n      <th>Tipo Agregado</th>\n    </tr>\n  </thead>\n  <tbody>\n    <tr>\n      <th>0</th>\n      <td>Quitinete</td>\n      <td>Copacabana</td>\n      <td>1</td>\n      <td>0</td>\n      <td>0</td>\n      <td>40</td>\n      <td>1700.0</td>\n      <td>500.0</td>\n      <td>60.0</td>\n      <td>2260.0</td>\n      <td>56.50</td>\n      <td>Apartamento</td>\n    </tr>\n    <tr>\n      <th>1</th>\n      <td>Casa</td>\n      <td>Jardim Botânico</td>\n      <td>2</td>\n      <td>0</td>\n      <td>1</td>\n      <td>100</td>\n      <td>7000.0</td>\n      <td>0.0</td>\n      <td>0.0</td>\n      <td>7000.0</td>\n      <td>70.00</td>\n      <td>Casa</td>\n    </tr>\n    <tr>\n      <th>2</th>\n      <td>Apartamento</td>\n      <td>Centro</td>\n      <td>1</td>\n      <td>0</td>\n      <td>0</td>\n      <td>15</td>\n      <td>800.0</td>\n      <td>390.0</td>\n      <td>20.0</td>\n      <td>1210.0</td>\n      <td>80.67</td>\n      <td>Apartamento</td>\n    </tr>\n    <tr>\n      <th>3</th>\n      <td>Apartamento</td>\n      <td>Higienópolis</td>\n      <td>1</td>\n      <td>0</td>\n      <td>0</td>\n      <td>48</td>\n      <td>800.0</td>\n      <td>230.0</td>\n      <td>0.0</td>\n      <td>1030.0</td>\n      <td>21.46</td>\n      <td>Apartamento</td>\n    </tr>\n    <tr>\n      <th>5</th>\n      <td>Apartamento</td>\n      <td>Cachambi</td>\n      <td>2</td>\n      <td>0</td>\n      <td>0</td>\n      <td>50</td>\n      <td>1300.0</td>\n      <td>301.0</td>\n      <td>17.0</td>\n      <td>1618.0</td>\n      <td>32.36</td>\n      <td>Apartamento</td>\n    </tr>\n    <tr>\n      <th>...</th>\n      <td>...</td>\n      <td>...</td>\n      <td>...</td>\n      <td>...</td>\n      <td>...</td>\n      <td>...</td>\n      <td>...</td>\n      <td>...</td>\n      <td>...</td>\n      <td>...</td>\n      <td>...</td>\n      <td>...</td>\n    </tr>\n    <tr>\n      <th>22840</th>\n      <td>Apartamento</td>\n      <td>Méier</td>\n      <td>2</td>\n      <td>0</td>\n      <td>0</td>\n      <td>70</td>\n      <td>900.0</td>\n      <td>490.0</td>\n      <td>48.0</td>\n      <td>1438.0</td>\n      <td>20.54</td>\n      <td>Apartamento</td>\n    </tr>\n    <tr>\n      <th>22841</th>\n      <td>Quitinete</td>\n      <td>Centro</td>\n      <td>0</td>\n      <td>0</td>\n      <td>0</td>\n      <td>27</td>\n      <td>800.0</td>\n      <td>350.0</td>\n      <td>25.0</td>\n      <td>1175.0</td>\n      <td>43.52</td>\n      <td>Apartamento</td>\n    </tr>\n    <tr>\n      <th>22842</th>\n      <td>Apartamento</td>\n      <td>Jacarepaguá</td>\n      <td>3</td>\n      <td>1</td>\n      <td>2</td>\n      <td>78</td>\n      <td>1800.0</td>\n      <td>800.0</td>\n      <td>40.0</td>\n      <td>2640.0</td>\n      <td>33.85</td>\n      <td>Apartamento</td>\n    </tr>\n    <tr>\n      <th>22843</th>\n      <td>Apartamento</td>\n      <td>São Francisco Xavier</td>\n      <td>2</td>\n      <td>1</td>\n      <td>0</td>\n      <td>48</td>\n      <td>1400.0</td>\n      <td>509.0</td>\n      <td>37.0</td>\n      <td>1946.0</td>\n      <td>40.54</td>\n      <td>Apartamento</td>\n    </tr>\n    <tr>\n      <th>22844</th>\n      <td>Apartamento</td>\n      <td>Leblon</td>\n      <td>2</td>\n      <td>0</td>\n      <td>0</td>\n      <td>70</td>\n      <td>3000.0</td>\n      <td>760.0</td>\n      <td>0.0</td>\n      <td>3760.0</td>\n      <td>53.71</td>\n      <td>Apartamento</td>\n    </tr>\n  </tbody>\n</table>\n<p>22091 rows × 12 columns</p>\n</div>"
     },
     "execution_count": 56,
     "metadata": {},
     "output_type": "execute_result"
    }
   ],
   "source": [
    "tipos_de_casa = ['Casa', 'Casa de Condomínio', 'Casa de Vila']\n",
    "dados_residencial['Tipo Agregado'] = dados_residencial['Tipo'].apply(lambda x: 'Casa' if x in tipos_de_casa else 'Apartamento')\n",
    "dados_residencial"
   ],
   "metadata": {
    "collapsed": false,
    "ExecuteTime": {
     "end_time": "2024-02-01T16:50:57.055380Z",
     "start_time": "2024-02-01T16:50:57.040358Z"
    }
   },
   "id": "324c074ee1f1a226",
   "execution_count": 56
  },
  {
   "cell_type": "code",
   "outputs": [
    {
     "data": {
      "text/plain": "   Tipo Agregado  Valor Bruto  Valor por m2\n0    Apartamento       2260.0         56.50\n1           Casa       7000.0         70.00\n2    Apartamento       1210.0         80.67\n3    Apartamento       1030.0         21.46\n5    Apartamento       1618.0         32.36\n6           Casa      22000.0         29.33\n7           Casa       1000.0         15.38\n9    Apartamento       2216.0         31.66\n10   Apartamento       1969.0         21.88\n11   Apartamento       2611.0         65.28",
      "text/html": "<div>\n<style scoped>\n    .dataframe tbody tr th:only-of-type {\n        vertical-align: middle;\n    }\n\n    .dataframe tbody tr th {\n        vertical-align: top;\n    }\n\n    .dataframe thead th {\n        text-align: right;\n    }\n</style>\n<table border=\"1\" class=\"dataframe\">\n  <thead>\n    <tr style=\"text-align: right;\">\n      <th></th>\n      <th>Tipo Agregado</th>\n      <th>Valor Bruto</th>\n      <th>Valor por m2</th>\n    </tr>\n  </thead>\n  <tbody>\n    <tr>\n      <th>0</th>\n      <td>Apartamento</td>\n      <td>2260.0</td>\n      <td>56.50</td>\n    </tr>\n    <tr>\n      <th>1</th>\n      <td>Casa</td>\n      <td>7000.0</td>\n      <td>70.00</td>\n    </tr>\n    <tr>\n      <th>2</th>\n      <td>Apartamento</td>\n      <td>1210.0</td>\n      <td>80.67</td>\n    </tr>\n    <tr>\n      <th>3</th>\n      <td>Apartamento</td>\n      <td>1030.0</td>\n      <td>21.46</td>\n    </tr>\n    <tr>\n      <th>5</th>\n      <td>Apartamento</td>\n      <td>1618.0</td>\n      <td>32.36</td>\n    </tr>\n    <tr>\n      <th>6</th>\n      <td>Casa</td>\n      <td>22000.0</td>\n      <td>29.33</td>\n    </tr>\n    <tr>\n      <th>7</th>\n      <td>Casa</td>\n      <td>1000.0</td>\n      <td>15.38</td>\n    </tr>\n    <tr>\n      <th>9</th>\n      <td>Apartamento</td>\n      <td>2216.0</td>\n      <td>31.66</td>\n    </tr>\n    <tr>\n      <th>10</th>\n      <td>Apartamento</td>\n      <td>1969.0</td>\n      <td>21.88</td>\n    </tr>\n    <tr>\n      <th>11</th>\n      <td>Apartamento</td>\n      <td>2611.0</td>\n      <td>65.28</td>\n    </tr>\n  </tbody>\n</table>\n</div>"
     },
     "execution_count": 57,
     "metadata": {},
     "output_type": "execute_result"
    }
   ],
   "source": [
    "dados_aux = pd.DataFrame(dados_residencial[['Tipo Agregado', 'Valor Bruto', 'Valor por m2', 'Valor Bruto por m2']])\n",
    "dados_aux.head(10)"
   ],
   "metadata": {
    "collapsed": false,
    "ExecuteTime": {
     "end_time": "2024-02-01T16:56:03.747111Z",
     "start_time": "2024-02-01T16:56:03.733588Z"
    }
   },
   "id": "64937e1fa820be17",
   "execution_count": 57
  },
  {
   "cell_type": "code",
   "outputs": [
    {
     "data": {
      "text/plain": "  Tipo Agregado  Valor por m2\n0   Apartamento         56.50\n1          Casa         70.00\n2   Apartamento         80.67\n3   Apartamento         21.46\n5   Apartamento         32.36",
      "text/html": "<div>\n<style scoped>\n    .dataframe tbody tr th:only-of-type {\n        vertical-align: middle;\n    }\n\n    .dataframe tbody tr th {\n        vertical-align: top;\n    }\n\n    .dataframe thead th {\n        text-align: right;\n    }\n</style>\n<table border=\"1\" class=\"dataframe\">\n  <thead>\n    <tr style=\"text-align: right;\">\n      <th></th>\n      <th>Tipo Agregado</th>\n      <th>Valor por m2</th>\n    </tr>\n  </thead>\n  <tbody>\n    <tr>\n      <th>0</th>\n      <td>Apartamento</td>\n      <td>56.50</td>\n    </tr>\n    <tr>\n      <th>1</th>\n      <td>Casa</td>\n      <td>70.00</td>\n    </tr>\n    <tr>\n      <th>2</th>\n      <td>Apartamento</td>\n      <td>80.67</td>\n    </tr>\n    <tr>\n      <th>3</th>\n      <td>Apartamento</td>\n      <td>21.46</td>\n    </tr>\n    <tr>\n      <th>5</th>\n      <td>Apartamento</td>\n      <td>32.36</td>\n    </tr>\n  </tbody>\n</table>\n</div>"
     },
     "execution_count": 60,
     "metadata": {},
     "output_type": "execute_result"
    }
   ],
   "source": [
    "del dados_aux['Valor Bruto'] # Outra forma de remover\n",
    "dados_aux.head()"
   ],
   "metadata": {
    "collapsed": false,
    "ExecuteTime": {
     "end_time": "2024-02-01T16:56:43.573257Z",
     "start_time": "2024-02-01T16:56:43.565845Z"
    }
   },
   "id": "a50c2957da6646df",
   "execution_count": 60
  },
  {
   "cell_type": "code",
   "outputs": [
    {
     "data": {
      "text/plain": "  Tipo Agregado\n0   Apartamento\n1          Casa\n2   Apartamento\n3   Apartamento\n5   Apartamento",
      "text/html": "<div>\n<style scoped>\n    .dataframe tbody tr th:only-of-type {\n        vertical-align: middle;\n    }\n\n    .dataframe tbody tr th {\n        vertical-align: top;\n    }\n\n    .dataframe thead th {\n        text-align: right;\n    }\n</style>\n<table border=\"1\" class=\"dataframe\">\n  <thead>\n    <tr style=\"text-align: right;\">\n      <th></th>\n      <th>Tipo Agregado</th>\n    </tr>\n  </thead>\n  <tbody>\n    <tr>\n      <th>0</th>\n      <td>Apartamento</td>\n    </tr>\n    <tr>\n      <th>1</th>\n      <td>Casa</td>\n    </tr>\n    <tr>\n      <th>2</th>\n      <td>Apartamento</td>\n    </tr>\n    <tr>\n      <th>3</th>\n      <td>Apartamento</td>\n    </tr>\n    <tr>\n      <th>5</th>\n      <td>Apartamento</td>\n    </tr>\n  </tbody>\n</table>\n</div>"
     },
     "execution_count": 61,
     "metadata": {},
     "output_type": "execute_result"
    }
   ],
   "source": [
    "dados_aux.pop('Valor Bruto por m2') # Outra forma de remover\n",
    "dados_aux.head()"
   ],
   "metadata": {
    "collapsed": false,
    "ExecuteTime": {
     "end_time": "2024-02-01T16:57:31.042574Z",
     "start_time": "2024-02-01T16:57:31.029086Z"
    }
   },
   "id": "cad9cf5bac6335bc",
   "execution_count": 61
  },
  {
   "cell_type": "code",
   "outputs": [
    {
     "name": "stderr",
     "output_type": "stream",
     "text": [
      "/var/folders/v3/cd9ctqm16fl8gn9vl4dgy_7c0000gn/T/ipykernel_27197/4231348027.py:1: SettingWithCopyWarning: \n",
      "A value is trying to be set on a copy of a slice from a DataFrame\n",
      "\n",
      "See the caveats in the documentation: https://pandas.pydata.org/pandas-docs/stable/user_guide/indexing.html#returning-a-view-versus-a-copy\n",
      "  dados_residencial.drop(['Valor por m2', 'Valor Bruto'], axis=1, inplace=True) # Outra forma de remover\n"
     ]
    },
    {
     "data": {
      "text/plain": "          Tipo           Bairro  Quartos  Vagas  Suites  Area   Valor  \\\n0    Quitinete       Copacabana        1      0       0    40  1700.0   \n1         Casa  Jardim Botânico        2      0       1   100  7000.0   \n2  Apartamento           Centro        1      0       0    15   800.0   \n3  Apartamento     Higienópolis        1      0       0    48   800.0   \n5  Apartamento         Cachambi        2      0       0    50  1300.0   \n\n   Condominio  IPTU Tipo Agregado  \n0       500.0  60.0   Apartamento  \n1         0.0   0.0          Casa  \n2       390.0  20.0   Apartamento  \n3       230.0   0.0   Apartamento  \n5       301.0  17.0   Apartamento  ",
      "text/html": "<div>\n<style scoped>\n    .dataframe tbody tr th:only-of-type {\n        vertical-align: middle;\n    }\n\n    .dataframe tbody tr th {\n        vertical-align: top;\n    }\n\n    .dataframe thead th {\n        text-align: right;\n    }\n</style>\n<table border=\"1\" class=\"dataframe\">\n  <thead>\n    <tr style=\"text-align: right;\">\n      <th></th>\n      <th>Tipo</th>\n      <th>Bairro</th>\n      <th>Quartos</th>\n      <th>Vagas</th>\n      <th>Suites</th>\n      <th>Area</th>\n      <th>Valor</th>\n      <th>Condominio</th>\n      <th>IPTU</th>\n      <th>Tipo Agregado</th>\n    </tr>\n  </thead>\n  <tbody>\n    <tr>\n      <th>0</th>\n      <td>Quitinete</td>\n      <td>Copacabana</td>\n      <td>1</td>\n      <td>0</td>\n      <td>0</td>\n      <td>40</td>\n      <td>1700.0</td>\n      <td>500.0</td>\n      <td>60.0</td>\n      <td>Apartamento</td>\n    </tr>\n    <tr>\n      <th>1</th>\n      <td>Casa</td>\n      <td>Jardim Botânico</td>\n      <td>2</td>\n      <td>0</td>\n      <td>1</td>\n      <td>100</td>\n      <td>7000.0</td>\n      <td>0.0</td>\n      <td>0.0</td>\n      <td>Casa</td>\n    </tr>\n    <tr>\n      <th>2</th>\n      <td>Apartamento</td>\n      <td>Centro</td>\n      <td>1</td>\n      <td>0</td>\n      <td>0</td>\n      <td>15</td>\n      <td>800.0</td>\n      <td>390.0</td>\n      <td>20.0</td>\n      <td>Apartamento</td>\n    </tr>\n    <tr>\n      <th>3</th>\n      <td>Apartamento</td>\n      <td>Higienópolis</td>\n      <td>1</td>\n      <td>0</td>\n      <td>0</td>\n      <td>48</td>\n      <td>800.0</td>\n      <td>230.0</td>\n      <td>0.0</td>\n      <td>Apartamento</td>\n    </tr>\n    <tr>\n      <th>5</th>\n      <td>Apartamento</td>\n      <td>Cachambi</td>\n      <td>2</td>\n      <td>0</td>\n      <td>0</td>\n      <td>50</td>\n      <td>1300.0</td>\n      <td>301.0</td>\n      <td>17.0</td>\n      <td>Apartamento</td>\n    </tr>\n  </tbody>\n</table>\n</div>"
     },
     "execution_count": 62,
     "metadata": {},
     "output_type": "execute_result"
    }
   ],
   "source": [
    "dados_residencial.drop(['Valor Bruto por m2', 'Valor Bruto'], axis=1, inplace=True) # Outra forma de remover\n",
    "dados_residencial.head()"
   ],
   "metadata": {
    "collapsed": false,
    "ExecuteTime": {
     "end_time": "2024-02-01T16:59:08.062150Z",
     "start_time": "2024-02-01T16:59:08.046136Z"
    }
   },
   "id": "2d013abc211582f0",
   "execution_count": 62
  },
  {
   "cell_type": "code",
   "outputs": [],
   "source": [
    "# dados_residencial.to_csv('dados/aluguel_residencial.csv', sep=';', index=False)"
   ],
   "metadata": {
    "collapsed": false
   },
   "id": "aacab4268eb0fafe"
  }
 ],
 "metadata": {
  "kernelspec": {
   "display_name": "Python 3",
   "language": "python",
   "name": "python3"
  },
  "language_info": {
   "codemirror_mode": {
    "name": "ipython",
    "version": 2
   },
   "file_extension": ".py",
   "mimetype": "text/x-python",
   "name": "python",
   "nbconvert_exporter": "python",
   "pygments_lexer": "ipython2",
   "version": "2.7.6"
  }
 },
 "nbformat": 4,
 "nbformat_minor": 5
}
