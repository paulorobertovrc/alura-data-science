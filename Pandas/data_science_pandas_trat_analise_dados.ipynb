{
 "cells": [
  {
   "cell_type": "markdown",
   "source": [
    "# Curso Pandas: tratando e analisando dados\n",
    "## Formação Data Science | Alura"
   ],
   "metadata": {
    "collapsed": false
   },
   "id": "bd723a4b8b1358d0"
  },
  {
   "cell_type": "code",
   "execution_count": 1,
   "id": "initial_id",
   "metadata": {
    "collapsed": true,
    "ExecuteTime": {
     "end_time": "2024-01-31T21:01:07.704112Z",
     "start_time": "2024-01-31T21:01:07.417994Z"
    }
   },
   "outputs": [],
   "source": [
    "import pandas as pd"
   ]
  },
  {
   "cell_type": "code",
   "outputs": [
    {
     "data": {
      "text/plain": "                          Tipo                Bairro  Quartos  Vagas  Suites  \\\n0                    Quitinete            Copacabana        1      0       0   \n1                         Casa       Jardim Botânico        2      0       1   \n2      Conjunto Comercial/Sala       Barra da Tijuca        0      4       0   \n3                  Apartamento                Centro        1      0       0   \n4                  Apartamento          Higienópolis        1      0       0   \n...                        ...                   ...      ...    ...     ...   \n32955                Quitinete                Centro        0      0       0   \n32956              Apartamento           Jacarepaguá        3      1       2   \n32957              Apartamento  São Francisco Xavier        2      1       0   \n32958              Apartamento                Leblon        2      0       0   \n32959  Conjunto Comercial/Sala                Centro        0      0       0   \n\n       Area   Valor  Condominio    IPTU  \n0        40  1700.0       500.0    60.0  \n1       100  7000.0         NaN     NaN  \n2       150  5200.0      4020.0  1111.0  \n3        15   800.0       390.0    20.0  \n4        48   800.0       230.0     NaN  \n...     ...     ...         ...     ...  \n32955    27   800.0       350.0    25.0  \n32956    78  1800.0       800.0    40.0  \n32957    48  1400.0       509.0    37.0  \n32958    70  3000.0       760.0     NaN  \n32959   250  6500.0      4206.0  1109.0  \n\n[32960 rows x 9 columns]",
      "text/html": "<div>\n<style scoped>\n    .dataframe tbody tr th:only-of-type {\n        vertical-align: middle;\n    }\n\n    .dataframe tbody tr th {\n        vertical-align: top;\n    }\n\n    .dataframe thead th {\n        text-align: right;\n    }\n</style>\n<table border=\"1\" class=\"dataframe\">\n  <thead>\n    <tr style=\"text-align: right;\">\n      <th></th>\n      <th>Tipo</th>\n      <th>Bairro</th>\n      <th>Quartos</th>\n      <th>Vagas</th>\n      <th>Suites</th>\n      <th>Area</th>\n      <th>Valor</th>\n      <th>Condominio</th>\n      <th>IPTU</th>\n    </tr>\n  </thead>\n  <tbody>\n    <tr>\n      <th>0</th>\n      <td>Quitinete</td>\n      <td>Copacabana</td>\n      <td>1</td>\n      <td>0</td>\n      <td>0</td>\n      <td>40</td>\n      <td>1700.0</td>\n      <td>500.0</td>\n      <td>60.0</td>\n    </tr>\n    <tr>\n      <th>1</th>\n      <td>Casa</td>\n      <td>Jardim Botânico</td>\n      <td>2</td>\n      <td>0</td>\n      <td>1</td>\n      <td>100</td>\n      <td>7000.0</td>\n      <td>NaN</td>\n      <td>NaN</td>\n    </tr>\n    <tr>\n      <th>2</th>\n      <td>Conjunto Comercial/Sala</td>\n      <td>Barra da Tijuca</td>\n      <td>0</td>\n      <td>4</td>\n      <td>0</td>\n      <td>150</td>\n      <td>5200.0</td>\n      <td>4020.0</td>\n      <td>1111.0</td>\n    </tr>\n    <tr>\n      <th>3</th>\n      <td>Apartamento</td>\n      <td>Centro</td>\n      <td>1</td>\n      <td>0</td>\n      <td>0</td>\n      <td>15</td>\n      <td>800.0</td>\n      <td>390.0</td>\n      <td>20.0</td>\n    </tr>\n    <tr>\n      <th>4</th>\n      <td>Apartamento</td>\n      <td>Higienópolis</td>\n      <td>1</td>\n      <td>0</td>\n      <td>0</td>\n      <td>48</td>\n      <td>800.0</td>\n      <td>230.0</td>\n      <td>NaN</td>\n    </tr>\n    <tr>\n      <th>...</th>\n      <td>...</td>\n      <td>...</td>\n      <td>...</td>\n      <td>...</td>\n      <td>...</td>\n      <td>...</td>\n      <td>...</td>\n      <td>...</td>\n      <td>...</td>\n    </tr>\n    <tr>\n      <th>32955</th>\n      <td>Quitinete</td>\n      <td>Centro</td>\n      <td>0</td>\n      <td>0</td>\n      <td>0</td>\n      <td>27</td>\n      <td>800.0</td>\n      <td>350.0</td>\n      <td>25.0</td>\n    </tr>\n    <tr>\n      <th>32956</th>\n      <td>Apartamento</td>\n      <td>Jacarepaguá</td>\n      <td>3</td>\n      <td>1</td>\n      <td>2</td>\n      <td>78</td>\n      <td>1800.0</td>\n      <td>800.0</td>\n      <td>40.0</td>\n    </tr>\n    <tr>\n      <th>32957</th>\n      <td>Apartamento</td>\n      <td>São Francisco Xavier</td>\n      <td>2</td>\n      <td>1</td>\n      <td>0</td>\n      <td>48</td>\n      <td>1400.0</td>\n      <td>509.0</td>\n      <td>37.0</td>\n    </tr>\n    <tr>\n      <th>32958</th>\n      <td>Apartamento</td>\n      <td>Leblon</td>\n      <td>2</td>\n      <td>0</td>\n      <td>0</td>\n      <td>70</td>\n      <td>3000.0</td>\n      <td>760.0</td>\n      <td>NaN</td>\n    </tr>\n    <tr>\n      <th>32959</th>\n      <td>Conjunto Comercial/Sala</td>\n      <td>Centro</td>\n      <td>0</td>\n      <td>0</td>\n      <td>0</td>\n      <td>250</td>\n      <td>6500.0</td>\n      <td>4206.0</td>\n      <td>1109.0</td>\n    </tr>\n  </tbody>\n</table>\n<p>32960 rows × 9 columns</p>\n</div>"
     },
     "execution_count": 2,
     "metadata": {},
     "output_type": "execute_result"
    }
   ],
   "source": [
    "dados = pd.read_csv('dados/aluguel.csv', sep=';')\n",
    "dados"
   ],
   "metadata": {
    "collapsed": false,
    "ExecuteTime": {
     "end_time": "2024-01-31T21:01:07.722793Z",
     "start_time": "2024-01-31T21:01:07.694446Z"
    }
   },
   "id": "be9b69bc2cc71d0",
   "execution_count": 2
  },
  {
   "cell_type": "code",
   "outputs": [
    {
     "name": "stdout",
     "output_type": "stream",
     "text": [
      "<class 'pandas.core.frame.DataFrame'>\n",
      "RangeIndex: 32960 entries, 0 to 32959\n",
      "Data columns (total 9 columns):\n",
      " #   Column      Non-Null Count  Dtype  \n",
      "---  ------      --------------  -----  \n",
      " 0   Tipo        32960 non-null  object \n",
      " 1   Bairro      32960 non-null  object \n",
      " 2   Quartos     32960 non-null  int64  \n",
      " 3   Vagas       32960 non-null  int64  \n",
      " 4   Suites      32960 non-null  int64  \n",
      " 5   Area        32960 non-null  int64  \n",
      " 6   Valor       32943 non-null  float64\n",
      " 7   Condominio  28867 non-null  float64\n",
      " 8   IPTU        22723 non-null  float64\n",
      "dtypes: float64(3), int64(4), object(2)\n",
      "memory usage: 2.3+ MB\n"
     ]
    }
   ],
   "source": [
    "dados.info()"
   ],
   "metadata": {
    "collapsed": false,
    "ExecuteTime": {
     "end_time": "2024-01-31T21:01:07.729266Z",
     "start_time": "2024-01-31T21:01:07.722425Z"
    }
   },
   "id": "a2a2011a3bd5c1ad",
   "execution_count": 3
  },
  {
   "cell_type": "code",
   "outputs": [
    {
     "data": {
      "text/plain": "Variáveis  Tipos de Dados\nTipo               object\nBairro             object\nQuartos             int64\nVagas               int64\nSuites              int64\nArea                int64\nValor             float64\nCondominio        float64\nIPTU              float64",
      "text/html": "<div>\n<style scoped>\n    .dataframe tbody tr th:only-of-type {\n        vertical-align: middle;\n    }\n\n    .dataframe tbody tr th {\n        vertical-align: top;\n    }\n\n    .dataframe thead th {\n        text-align: right;\n    }\n</style>\n<table border=\"1\" class=\"dataframe\">\n  <thead>\n    <tr style=\"text-align: right;\">\n      <th>Variáveis</th>\n      <th>Tipos de Dados</th>\n    </tr>\n  </thead>\n  <tbody>\n    <tr>\n      <th>Tipo</th>\n      <td>object</td>\n    </tr>\n    <tr>\n      <th>Bairro</th>\n      <td>object</td>\n    </tr>\n    <tr>\n      <th>Quartos</th>\n      <td>int64</td>\n    </tr>\n    <tr>\n      <th>Vagas</th>\n      <td>int64</td>\n    </tr>\n    <tr>\n      <th>Suites</th>\n      <td>int64</td>\n    </tr>\n    <tr>\n      <th>Area</th>\n      <td>int64</td>\n    </tr>\n    <tr>\n      <th>Valor</th>\n      <td>float64</td>\n    </tr>\n    <tr>\n      <th>Condominio</th>\n      <td>float64</td>\n    </tr>\n    <tr>\n      <th>IPTU</th>\n      <td>float64</td>\n    </tr>\n  </tbody>\n</table>\n</div>"
     },
     "execution_count": 4,
     "metadata": {},
     "output_type": "execute_result"
    }
   ],
   "source": [
    "tipos_de_dados = pd.DataFrame(dados.dtypes, columns=['Tipos de Dados'])\n",
    "tipos_de_dados.columns.name = 'Variáveis'\n",
    "tipos_de_dados"
   ],
   "metadata": {
    "collapsed": false,
    "ExecuteTime": {
     "end_time": "2024-01-31T21:01:07.750621Z",
     "start_time": "2024-01-31T21:01:07.729454Z"
    }
   },
   "id": "6ba6c8f961768546",
   "execution_count": 4
  },
  {
   "cell_type": "code",
   "outputs": [
    {
     "data": {
      "text/plain": "0                      Quitinete\n1                           Casa\n2        Conjunto Comercial/Sala\n3                    Apartamento\n4                    Apartamento\n                  ...           \n32955                  Quitinete\n32956                Apartamento\n32957                Apartamento\n32958                Apartamento\n32959    Conjunto Comercial/Sala\nName: Tipo, Length: 32960, dtype: object"
     },
     "execution_count": 5,
     "metadata": {},
     "output_type": "execute_result"
    }
   ],
   "source": [
    "tipos_de_imovel = dados['Tipo']\n",
    "tipos_de_imovel"
   ],
   "metadata": {
    "collapsed": false,
    "ExecuteTime": {
     "end_time": "2024-01-31T21:01:07.764292Z",
     "start_time": "2024-01-31T21:01:07.732065Z"
    }
   },
   "id": "ef0e5cb9fd79eba7",
   "execution_count": 5
  },
  {
   "cell_type": "code",
   "outputs": [
    {
     "data": {
      "text/plain": "pandas.core.series.Series"
     },
     "execution_count": 6,
     "metadata": {},
     "output_type": "execute_result"
    }
   ],
   "source": [
    "type(tipos_de_imovel)"
   ],
   "metadata": {
    "collapsed": false,
    "ExecuteTime": {
     "end_time": "2024-01-31T21:01:07.765207Z",
     "start_time": "2024-01-31T21:01:07.737713Z"
    }
   },
   "id": "c0ecfef0bca6119b",
   "execution_count": 6
  },
  {
   "cell_type": "code",
   "outputs": [],
   "source": [
    "tipos_de_imovel.drop_duplicates(inplace=True)"
   ],
   "metadata": {
    "collapsed": false,
    "ExecuteTime": {
     "end_time": "2024-01-31T21:01:07.765739Z",
     "start_time": "2024-01-31T21:01:07.739649Z"
    }
   },
   "id": "38a02f9e5cf7ae84",
   "execution_count": 7
  },
  {
   "cell_type": "code",
   "outputs": [
    {
     "data": {
      "text/plain": "array(['Quitinete', 'Casa', 'Conjunto Comercial/Sala', 'Apartamento',\n       'Casa de Condomínio', 'Prédio Inteiro', 'Flat', 'Loja/Salão',\n       'Galpão/Depósito/Armazém', 'Casa Comercial', 'Casa de Vila',\n       'Terreno Padrão', 'Box/Garagem', 'Loft',\n       'Loja Shopping/ Ct Comercial', 'Chácara', 'Loteamento/Condomínio',\n       'Sítio', 'Pousada/Chalé', 'Studio', 'Hotel', 'Indústria'],\n      dtype=object)"
     },
     "execution_count": 8,
     "metadata": {},
     "output_type": "execute_result"
    }
   ],
   "source": [
    "tipos_de_imovel.unique()"
   ],
   "metadata": {
    "collapsed": false,
    "ExecuteTime": {
     "end_time": "2024-01-31T21:01:07.793147Z",
     "start_time": "2024-01-31T21:01:07.743750Z"
    }
   },
   "id": "a8ae95feb34100ce",
   "execution_count": 8
  },
  {
   "cell_type": "code",
   "outputs": [
    {
     "data": {
      "text/plain": "                              Tipo\n0                        Quitinete\n1                             Casa\n2          Conjunto Comercial/Sala\n3                      Apartamento\n7               Casa de Condomínio\n16                  Prédio Inteiro\n17                            Flat\n29                      Loja/Salão\n80         Galpão/Depósito/Armazém\n83                  Casa Comercial\n117                   Casa de Vila\n159                 Terreno Padrão\n207                    Box/Garagem\n347                           Loft\n589    Loja Shopping/ Ct Comercial\n2157                       Chácara\n3354         Loteamento/Condomínio\n4379                         Sítio\n4721                 Pousada/Chalé\n6983                        Studio\n9687                         Hotel\n23614                    Indústria",
      "text/html": "<div>\n<style scoped>\n    .dataframe tbody tr th:only-of-type {\n        vertical-align: middle;\n    }\n\n    .dataframe tbody tr th {\n        vertical-align: top;\n    }\n\n    .dataframe thead th {\n        text-align: right;\n    }\n</style>\n<table border=\"1\" class=\"dataframe\">\n  <thead>\n    <tr style=\"text-align: right;\">\n      <th></th>\n      <th>Tipo</th>\n    </tr>\n  </thead>\n  <tbody>\n    <tr>\n      <th>0</th>\n      <td>Quitinete</td>\n    </tr>\n    <tr>\n      <th>1</th>\n      <td>Casa</td>\n    </tr>\n    <tr>\n      <th>2</th>\n      <td>Conjunto Comercial/Sala</td>\n    </tr>\n    <tr>\n      <th>3</th>\n      <td>Apartamento</td>\n    </tr>\n    <tr>\n      <th>7</th>\n      <td>Casa de Condomínio</td>\n    </tr>\n    <tr>\n      <th>16</th>\n      <td>Prédio Inteiro</td>\n    </tr>\n    <tr>\n      <th>17</th>\n      <td>Flat</td>\n    </tr>\n    <tr>\n      <th>29</th>\n      <td>Loja/Salão</td>\n    </tr>\n    <tr>\n      <th>80</th>\n      <td>Galpão/Depósito/Armazém</td>\n    </tr>\n    <tr>\n      <th>83</th>\n      <td>Casa Comercial</td>\n    </tr>\n    <tr>\n      <th>117</th>\n      <td>Casa de Vila</td>\n    </tr>\n    <tr>\n      <th>159</th>\n      <td>Terreno Padrão</td>\n    </tr>\n    <tr>\n      <th>207</th>\n      <td>Box/Garagem</td>\n    </tr>\n    <tr>\n      <th>347</th>\n      <td>Loft</td>\n    </tr>\n    <tr>\n      <th>589</th>\n      <td>Loja Shopping/ Ct Comercial</td>\n    </tr>\n    <tr>\n      <th>2157</th>\n      <td>Chácara</td>\n    </tr>\n    <tr>\n      <th>3354</th>\n      <td>Loteamento/Condomínio</td>\n    </tr>\n    <tr>\n      <th>4379</th>\n      <td>Sítio</td>\n    </tr>\n    <tr>\n      <th>4721</th>\n      <td>Pousada/Chalé</td>\n    </tr>\n    <tr>\n      <th>6983</th>\n      <td>Studio</td>\n    </tr>\n    <tr>\n      <th>9687</th>\n      <td>Hotel</td>\n    </tr>\n    <tr>\n      <th>23614</th>\n      <td>Indústria</td>\n    </tr>\n  </tbody>\n</table>\n</div>"
     },
     "execution_count": 9,
     "metadata": {},
     "output_type": "execute_result"
    }
   ],
   "source": [
    "tipos_de_imovel = pd.DataFrame(tipos_de_imovel)\n",
    "tipos_de_imovel"
   ],
   "metadata": {
    "collapsed": false,
    "ExecuteTime": {
     "end_time": "2024-01-31T21:01:07.825240Z",
     "start_time": "2024-01-31T21:01:07.752882Z"
    }
   },
   "id": "ad1c8496c60796a8",
   "execution_count": 9
  },
  {
   "cell_type": "code",
   "outputs": [
    {
     "data": {
      "text/plain": "Index([    0,     1,     2,     3,     7,    16,    17,    29,    80,    83,\n         117,   159,   207,   347,   589,  2157,  3354,  4379,  4721,  6983,\n        9687, 23614],\n      dtype='int64')"
     },
     "execution_count": 10,
     "metadata": {},
     "output_type": "execute_result"
    }
   ],
   "source": [
    "tipos_de_imovel.index"
   ],
   "metadata": {
    "collapsed": false,
    "ExecuteTime": {
     "end_time": "2024-01-31T21:01:07.826179Z",
     "start_time": "2024-01-31T21:01:07.756560Z"
    }
   },
   "id": "2d8563167bbbc7a8",
   "execution_count": 10
  },
  {
   "cell_type": "code",
   "outputs": [
    {
     "data": {
      "text/plain": "22"
     },
     "execution_count": 11,
     "metadata": {},
     "output_type": "execute_result"
    }
   ],
   "source": [
    "tipos_de_imovel.shape[0]"
   ],
   "metadata": {
    "collapsed": false,
    "ExecuteTime": {
     "end_time": "2024-01-31T21:01:07.853352Z",
     "start_time": "2024-01-31T21:01:07.758854Z"
    }
   },
   "id": "996197df1ac72cb8",
   "execution_count": 11
  },
  {
   "cell_type": "code",
   "outputs": [
    {
     "data": {
      "text/plain": "range(0, 22)"
     },
     "execution_count": 12,
     "metadata": {},
     "output_type": "execute_result"
    }
   ],
   "source": [
    "range(tipos_de_imovel.shape[0])"
   ],
   "metadata": {
    "collapsed": false,
    "ExecuteTime": {
     "end_time": "2024-01-31T21:01:07.854005Z",
     "start_time": "2024-01-31T21:01:07.761238Z"
    }
   },
   "id": "6916273dd21e3e9",
   "execution_count": 12
  },
  {
   "cell_type": "code",
   "outputs": [
    {
     "data": {
      "text/plain": "                           Tipo\n0                     Quitinete\n1                          Casa\n2       Conjunto Comercial/Sala\n3                   Apartamento\n4            Casa de Condomínio\n5                Prédio Inteiro\n6                          Flat\n7                    Loja/Salão\n8       Galpão/Depósito/Armazém\n9                Casa Comercial\n10                 Casa de Vila\n11               Terreno Padrão\n12                  Box/Garagem\n13                         Loft\n14  Loja Shopping/ Ct Comercial\n15                      Chácara\n16        Loteamento/Condomínio\n17                        Sítio\n18                Pousada/Chalé\n19                       Studio\n20                        Hotel\n21                    Indústria",
      "text/html": "<div>\n<style scoped>\n    .dataframe tbody tr th:only-of-type {\n        vertical-align: middle;\n    }\n\n    .dataframe tbody tr th {\n        vertical-align: top;\n    }\n\n    .dataframe thead th {\n        text-align: right;\n    }\n</style>\n<table border=\"1\" class=\"dataframe\">\n  <thead>\n    <tr style=\"text-align: right;\">\n      <th></th>\n      <th>Tipo</th>\n    </tr>\n  </thead>\n  <tbody>\n    <tr>\n      <th>0</th>\n      <td>Quitinete</td>\n    </tr>\n    <tr>\n      <th>1</th>\n      <td>Casa</td>\n    </tr>\n    <tr>\n      <th>2</th>\n      <td>Conjunto Comercial/Sala</td>\n    </tr>\n    <tr>\n      <th>3</th>\n      <td>Apartamento</td>\n    </tr>\n    <tr>\n      <th>4</th>\n      <td>Casa de Condomínio</td>\n    </tr>\n    <tr>\n      <th>5</th>\n      <td>Prédio Inteiro</td>\n    </tr>\n    <tr>\n      <th>6</th>\n      <td>Flat</td>\n    </tr>\n    <tr>\n      <th>7</th>\n      <td>Loja/Salão</td>\n    </tr>\n    <tr>\n      <th>8</th>\n      <td>Galpão/Depósito/Armazém</td>\n    </tr>\n    <tr>\n      <th>9</th>\n      <td>Casa Comercial</td>\n    </tr>\n    <tr>\n      <th>10</th>\n      <td>Casa de Vila</td>\n    </tr>\n    <tr>\n      <th>11</th>\n      <td>Terreno Padrão</td>\n    </tr>\n    <tr>\n      <th>12</th>\n      <td>Box/Garagem</td>\n    </tr>\n    <tr>\n      <th>13</th>\n      <td>Loft</td>\n    </tr>\n    <tr>\n      <th>14</th>\n      <td>Loja Shopping/ Ct Comercial</td>\n    </tr>\n    <tr>\n      <th>15</th>\n      <td>Chácara</td>\n    </tr>\n    <tr>\n      <th>16</th>\n      <td>Loteamento/Condomínio</td>\n    </tr>\n    <tr>\n      <th>17</th>\n      <td>Sítio</td>\n    </tr>\n    <tr>\n      <th>18</th>\n      <td>Pousada/Chalé</td>\n    </tr>\n    <tr>\n      <th>19</th>\n      <td>Studio</td>\n    </tr>\n    <tr>\n      <th>20</th>\n      <td>Hotel</td>\n    </tr>\n    <tr>\n      <th>21</th>\n      <td>Indústria</td>\n    </tr>\n  </tbody>\n</table>\n</div>"
     },
     "execution_count": 13,
     "metadata": {},
     "output_type": "execute_result"
    }
   ],
   "source": [
    "tipos_de_imovel.index = range(tipos_de_imovel.shape[0])\n",
    "tipos_de_imovel"
   ],
   "metadata": {
    "collapsed": false,
    "ExecuteTime": {
     "end_time": "2024-01-31T21:01:07.856467Z",
     "start_time": "2024-01-31T21:01:07.764346Z"
    }
   },
   "id": "291c29244f6863fb",
   "execution_count": 13
  },
  {
   "cell_type": "code",
   "outputs": [
    {
     "data": {
      "text/plain": "Id                         Tipo\n0                     Quitinete\n1                          Casa\n2       Conjunto Comercial/Sala\n3                   Apartamento\n4            Casa de Condomínio\n5                Prédio Inteiro\n6                          Flat\n7                    Loja/Salão\n8       Galpão/Depósito/Armazém\n9                Casa Comercial\n10                 Casa de Vila\n11               Terreno Padrão\n12                  Box/Garagem\n13                         Loft\n14  Loja Shopping/ Ct Comercial\n15                      Chácara\n16        Loteamento/Condomínio\n17                        Sítio\n18                Pousada/Chalé\n19                       Studio\n20                        Hotel\n21                    Indústria",
      "text/html": "<div>\n<style scoped>\n    .dataframe tbody tr th:only-of-type {\n        vertical-align: middle;\n    }\n\n    .dataframe tbody tr th {\n        vertical-align: top;\n    }\n\n    .dataframe thead th {\n        text-align: right;\n    }\n</style>\n<table border=\"1\" class=\"dataframe\">\n  <thead>\n    <tr style=\"text-align: right;\">\n      <th>Id</th>\n      <th>Tipo</th>\n    </tr>\n  </thead>\n  <tbody>\n    <tr>\n      <th>0</th>\n      <td>Quitinete</td>\n    </tr>\n    <tr>\n      <th>1</th>\n      <td>Casa</td>\n    </tr>\n    <tr>\n      <th>2</th>\n      <td>Conjunto Comercial/Sala</td>\n    </tr>\n    <tr>\n      <th>3</th>\n      <td>Apartamento</td>\n    </tr>\n    <tr>\n      <th>4</th>\n      <td>Casa de Condomínio</td>\n    </tr>\n    <tr>\n      <th>5</th>\n      <td>Prédio Inteiro</td>\n    </tr>\n    <tr>\n      <th>6</th>\n      <td>Flat</td>\n    </tr>\n    <tr>\n      <th>7</th>\n      <td>Loja/Salão</td>\n    </tr>\n    <tr>\n      <th>8</th>\n      <td>Galpão/Depósito/Armazém</td>\n    </tr>\n    <tr>\n      <th>9</th>\n      <td>Casa Comercial</td>\n    </tr>\n    <tr>\n      <th>10</th>\n      <td>Casa de Vila</td>\n    </tr>\n    <tr>\n      <th>11</th>\n      <td>Terreno Padrão</td>\n    </tr>\n    <tr>\n      <th>12</th>\n      <td>Box/Garagem</td>\n    </tr>\n    <tr>\n      <th>13</th>\n      <td>Loft</td>\n    </tr>\n    <tr>\n      <th>14</th>\n      <td>Loja Shopping/ Ct Comercial</td>\n    </tr>\n    <tr>\n      <th>15</th>\n      <td>Chácara</td>\n    </tr>\n    <tr>\n      <th>16</th>\n      <td>Loteamento/Condomínio</td>\n    </tr>\n    <tr>\n      <th>17</th>\n      <td>Sítio</td>\n    </tr>\n    <tr>\n      <th>18</th>\n      <td>Pousada/Chalé</td>\n    </tr>\n    <tr>\n      <th>19</th>\n      <td>Studio</td>\n    </tr>\n    <tr>\n      <th>20</th>\n      <td>Hotel</td>\n    </tr>\n    <tr>\n      <th>21</th>\n      <td>Indústria</td>\n    </tr>\n  </tbody>\n</table>\n</div>"
     },
     "execution_count": 14,
     "metadata": {},
     "output_type": "execute_result"
    }
   ],
   "source": [
    "tipos_de_imovel.columns.name = 'Id'\n",
    "tipos_de_imovel"
   ],
   "metadata": {
    "collapsed": false,
    "ExecuteTime": {
     "end_time": "2024-01-31T21:01:07.857272Z",
     "start_time": "2024-01-31T21:01:07.767309Z"
    }
   },
   "id": "9db3c0d49c43f7de",
   "execution_count": 14
  },
  {
   "cell_type": "code",
   "outputs": [
    {
     "data": {
      "text/plain": "['Quitinete',\n 'Casa',\n 'Conjunto Comercial/Sala',\n 'Apartamento',\n 'Casa de Condomínio',\n 'Prédio Inteiro',\n 'Flat',\n 'Loja/Salão',\n 'Galpão/Depósito/Armazém',\n 'Casa Comercial',\n 'Casa de Vila',\n 'Terreno Padrão',\n 'Box/Garagem',\n 'Loft',\n 'Loja Shopping/ Ct Comercial',\n 'Chácara',\n 'Loteamento/Condomínio',\n 'Sítio',\n 'Pousada/Chalé',\n 'Studio',\n 'Hotel',\n 'Indústria']"
     },
     "execution_count": 15,
     "metadata": {},
     "output_type": "execute_result"
    }
   ],
   "source": [
    "list(dados['Tipo'].drop_duplicates())"
   ],
   "metadata": {
    "collapsed": false,
    "ExecuteTime": {
     "end_time": "2024-01-31T21:01:07.868476Z",
     "start_time": "2024-01-31T21:01:07.769946Z"
    }
   },
   "id": "abbf1301169b3bc4",
   "execution_count": 15
  },
  {
   "cell_type": "code",
   "outputs": [],
   "source": [
    "residencial = ['Quitinete',\n",
    "               'Casa',\n",
    "               'Apartamento',\n",
    "               'Casa de Condomínio',\n",
    "               'Casa Comercial',\n",
    "               'Casa de Vila']"
   ],
   "metadata": {
    "collapsed": false,
    "ExecuteTime": {
     "end_time": "2024-01-31T21:01:07.869205Z",
     "start_time": "2024-01-31T21:01:07.772792Z"
    }
   },
   "id": "a52003d15e040328",
   "execution_count": 16
  },
  {
   "cell_type": "code",
   "outputs": [
    {
     "data": {
      "text/plain": "0         True\n1         True\n2        False\n3         True\n4         True\n         ...  \n32955     True\n32956     True\n32957     True\n32958     True\n32959    False\nName: Tipo, Length: 32960, dtype: bool"
     },
     "execution_count": 17,
     "metadata": {},
     "output_type": "execute_result"
    }
   ],
   "source": [
    "selecao = dados['Tipo'].isin(residencial)\n",
    "selecao"
   ],
   "metadata": {
    "collapsed": false,
    "ExecuteTime": {
     "end_time": "2024-01-31T21:01:07.869930Z",
     "start_time": "2024-01-31T21:01:07.776340Z"
    }
   },
   "id": "a6e29401401ae120",
   "execution_count": 17
  },
  {
   "cell_type": "code",
   "outputs": [
    {
     "data": {
      "text/plain": "              Tipo                Bairro  Quartos  Vagas  Suites  Area  \\\n0        Quitinete            Copacabana        1      0       0    40   \n1             Casa       Jardim Botânico        2      0       1   100   \n3      Apartamento                Centro        1      0       0    15   \n4      Apartamento          Higienópolis        1      0       0    48   \n5      Apartamento          Vista Alegre        3      1       0    70   \n...            ...                   ...      ...    ...     ...   ...   \n32953  Apartamento                 Méier        2      0       0    70   \n32955    Quitinete                Centro        0      0       0    27   \n32956  Apartamento           Jacarepaguá        3      1       2    78   \n32957  Apartamento  São Francisco Xavier        2      1       0    48   \n32958  Apartamento                Leblon        2      0       0    70   \n\n        Valor  Condominio  IPTU  \n0      1700.0       500.0  60.0  \n1      7000.0         NaN   NaN  \n3       800.0       390.0  20.0  \n4       800.0       230.0   NaN  \n5      1200.0         NaN   NaN  \n...       ...         ...   ...  \n32953   900.0       490.0  48.0  \n32955   800.0       350.0  25.0  \n32956  1800.0       800.0  40.0  \n32957  1400.0       509.0  37.0  \n32958  3000.0       760.0   NaN  \n\n[22845 rows x 9 columns]",
      "text/html": "<div>\n<style scoped>\n    .dataframe tbody tr th:only-of-type {\n        vertical-align: middle;\n    }\n\n    .dataframe tbody tr th {\n        vertical-align: top;\n    }\n\n    .dataframe thead th {\n        text-align: right;\n    }\n</style>\n<table border=\"1\" class=\"dataframe\">\n  <thead>\n    <tr style=\"text-align: right;\">\n      <th></th>\n      <th>Tipo</th>\n      <th>Bairro</th>\n      <th>Quartos</th>\n      <th>Vagas</th>\n      <th>Suites</th>\n      <th>Area</th>\n      <th>Valor</th>\n      <th>Condominio</th>\n      <th>IPTU</th>\n    </tr>\n  </thead>\n  <tbody>\n    <tr>\n      <th>0</th>\n      <td>Quitinete</td>\n      <td>Copacabana</td>\n      <td>1</td>\n      <td>0</td>\n      <td>0</td>\n      <td>40</td>\n      <td>1700.0</td>\n      <td>500.0</td>\n      <td>60.0</td>\n    </tr>\n    <tr>\n      <th>1</th>\n      <td>Casa</td>\n      <td>Jardim Botânico</td>\n      <td>2</td>\n      <td>0</td>\n      <td>1</td>\n      <td>100</td>\n      <td>7000.0</td>\n      <td>NaN</td>\n      <td>NaN</td>\n    </tr>\n    <tr>\n      <th>3</th>\n      <td>Apartamento</td>\n      <td>Centro</td>\n      <td>1</td>\n      <td>0</td>\n      <td>0</td>\n      <td>15</td>\n      <td>800.0</td>\n      <td>390.0</td>\n      <td>20.0</td>\n    </tr>\n    <tr>\n      <th>4</th>\n      <td>Apartamento</td>\n      <td>Higienópolis</td>\n      <td>1</td>\n      <td>0</td>\n      <td>0</td>\n      <td>48</td>\n      <td>800.0</td>\n      <td>230.0</td>\n      <td>NaN</td>\n    </tr>\n    <tr>\n      <th>5</th>\n      <td>Apartamento</td>\n      <td>Vista Alegre</td>\n      <td>3</td>\n      <td>1</td>\n      <td>0</td>\n      <td>70</td>\n      <td>1200.0</td>\n      <td>NaN</td>\n      <td>NaN</td>\n    </tr>\n    <tr>\n      <th>...</th>\n      <td>...</td>\n      <td>...</td>\n      <td>...</td>\n      <td>...</td>\n      <td>...</td>\n      <td>...</td>\n      <td>...</td>\n      <td>...</td>\n      <td>...</td>\n    </tr>\n    <tr>\n      <th>32953</th>\n      <td>Apartamento</td>\n      <td>Méier</td>\n      <td>2</td>\n      <td>0</td>\n      <td>0</td>\n      <td>70</td>\n      <td>900.0</td>\n      <td>490.0</td>\n      <td>48.0</td>\n    </tr>\n    <tr>\n      <th>32955</th>\n      <td>Quitinete</td>\n      <td>Centro</td>\n      <td>0</td>\n      <td>0</td>\n      <td>0</td>\n      <td>27</td>\n      <td>800.0</td>\n      <td>350.0</td>\n      <td>25.0</td>\n    </tr>\n    <tr>\n      <th>32956</th>\n      <td>Apartamento</td>\n      <td>Jacarepaguá</td>\n      <td>3</td>\n      <td>1</td>\n      <td>2</td>\n      <td>78</td>\n      <td>1800.0</td>\n      <td>800.0</td>\n      <td>40.0</td>\n    </tr>\n    <tr>\n      <th>32957</th>\n      <td>Apartamento</td>\n      <td>São Francisco Xavier</td>\n      <td>2</td>\n      <td>1</td>\n      <td>0</td>\n      <td>48</td>\n      <td>1400.0</td>\n      <td>509.0</td>\n      <td>37.0</td>\n    </tr>\n    <tr>\n      <th>32958</th>\n      <td>Apartamento</td>\n      <td>Leblon</td>\n      <td>2</td>\n      <td>0</td>\n      <td>0</td>\n      <td>70</td>\n      <td>3000.0</td>\n      <td>760.0</td>\n      <td>NaN</td>\n    </tr>\n  </tbody>\n</table>\n<p>22845 rows × 9 columns</p>\n</div>"
     },
     "execution_count": 18,
     "metadata": {},
     "output_type": "execute_result"
    }
   ],
   "source": [
    "dados_residencial = dados[selecao]\n",
    "dados_residencial"
   ],
   "metadata": {
    "collapsed": false,
    "ExecuteTime": {
     "end_time": "2024-01-31T21:01:07.871038Z",
     "start_time": "2024-01-31T21:01:07.779466Z"
    }
   },
   "id": "93b2c6e71d259cf4",
   "execution_count": 18
  },
  {
   "cell_type": "code",
   "outputs": [
    {
     "data": {
      "text/plain": "['Quitinete',\n 'Casa',\n 'Apartamento',\n 'Casa de Condomínio',\n 'Casa Comercial',\n 'Casa de Vila']"
     },
     "execution_count": 19,
     "metadata": {},
     "output_type": "execute_result"
    }
   ],
   "source": [
    "list(dados_residencial['Tipo'].drop_duplicates())"
   ],
   "metadata": {
    "collapsed": false,
    "ExecuteTime": {
     "end_time": "2024-01-31T21:01:07.936458Z",
     "start_time": "2024-01-31T21:01:07.785613Z"
    }
   },
   "id": "925cc22eb34d3e37",
   "execution_count": 19
  },
  {
   "cell_type": "code",
   "outputs": [
    {
     "data": {
      "text/plain": "22845"
     },
     "execution_count": 20,
     "metadata": {},
     "output_type": "execute_result"
    }
   ],
   "source": [
    "dados_residencial.shape[0]"
   ],
   "metadata": {
    "collapsed": false,
    "ExecuteTime": {
     "end_time": "2024-01-31T21:01:07.937308Z",
     "start_time": "2024-01-31T21:01:07.788385Z"
    }
   },
   "id": "f77e1c26c615a733",
   "execution_count": 20
  },
  {
   "cell_type": "code",
   "outputs": [
    {
     "data": {
      "text/plain": "              Tipo                Bairro  Quartos  Vagas  Suites  Area  \\\n0        Quitinete            Copacabana        1      0       0    40   \n1             Casa       Jardim Botânico        2      0       1   100   \n2      Apartamento                Centro        1      0       0    15   \n3      Apartamento          Higienópolis        1      0       0    48   \n4      Apartamento          Vista Alegre        3      1       0    70   \n...            ...                   ...      ...    ...     ...   ...   \n22840  Apartamento                 Méier        2      0       0    70   \n22841    Quitinete                Centro        0      0       0    27   \n22842  Apartamento           Jacarepaguá        3      1       2    78   \n22843  Apartamento  São Francisco Xavier        2      1       0    48   \n22844  Apartamento                Leblon        2      0       0    70   \n\n        Valor  Condominio  IPTU  \n0      1700.0       500.0  60.0  \n1      7000.0         NaN   NaN  \n2       800.0       390.0  20.0  \n3       800.0       230.0   NaN  \n4      1200.0         NaN   NaN  \n...       ...         ...   ...  \n22840   900.0       490.0  48.0  \n22841   800.0       350.0  25.0  \n22842  1800.0       800.0  40.0  \n22843  1400.0       509.0  37.0  \n22844  3000.0       760.0   NaN  \n\n[22845 rows x 9 columns]",
      "text/html": "<div>\n<style scoped>\n    .dataframe tbody tr th:only-of-type {\n        vertical-align: middle;\n    }\n\n    .dataframe tbody tr th {\n        vertical-align: top;\n    }\n\n    .dataframe thead th {\n        text-align: right;\n    }\n</style>\n<table border=\"1\" class=\"dataframe\">\n  <thead>\n    <tr style=\"text-align: right;\">\n      <th></th>\n      <th>Tipo</th>\n      <th>Bairro</th>\n      <th>Quartos</th>\n      <th>Vagas</th>\n      <th>Suites</th>\n      <th>Area</th>\n      <th>Valor</th>\n      <th>Condominio</th>\n      <th>IPTU</th>\n    </tr>\n  </thead>\n  <tbody>\n    <tr>\n      <th>0</th>\n      <td>Quitinete</td>\n      <td>Copacabana</td>\n      <td>1</td>\n      <td>0</td>\n      <td>0</td>\n      <td>40</td>\n      <td>1700.0</td>\n      <td>500.0</td>\n      <td>60.0</td>\n    </tr>\n    <tr>\n      <th>1</th>\n      <td>Casa</td>\n      <td>Jardim Botânico</td>\n      <td>2</td>\n      <td>0</td>\n      <td>1</td>\n      <td>100</td>\n      <td>7000.0</td>\n      <td>NaN</td>\n      <td>NaN</td>\n    </tr>\n    <tr>\n      <th>2</th>\n      <td>Apartamento</td>\n      <td>Centro</td>\n      <td>1</td>\n      <td>0</td>\n      <td>0</td>\n      <td>15</td>\n      <td>800.0</td>\n      <td>390.0</td>\n      <td>20.0</td>\n    </tr>\n    <tr>\n      <th>3</th>\n      <td>Apartamento</td>\n      <td>Higienópolis</td>\n      <td>1</td>\n      <td>0</td>\n      <td>0</td>\n      <td>48</td>\n      <td>800.0</td>\n      <td>230.0</td>\n      <td>NaN</td>\n    </tr>\n    <tr>\n      <th>4</th>\n      <td>Apartamento</td>\n      <td>Vista Alegre</td>\n      <td>3</td>\n      <td>1</td>\n      <td>0</td>\n      <td>70</td>\n      <td>1200.0</td>\n      <td>NaN</td>\n      <td>NaN</td>\n    </tr>\n    <tr>\n      <th>...</th>\n      <td>...</td>\n      <td>...</td>\n      <td>...</td>\n      <td>...</td>\n      <td>...</td>\n      <td>...</td>\n      <td>...</td>\n      <td>...</td>\n      <td>...</td>\n    </tr>\n    <tr>\n      <th>22840</th>\n      <td>Apartamento</td>\n      <td>Méier</td>\n      <td>2</td>\n      <td>0</td>\n      <td>0</td>\n      <td>70</td>\n      <td>900.0</td>\n      <td>490.0</td>\n      <td>48.0</td>\n    </tr>\n    <tr>\n      <th>22841</th>\n      <td>Quitinete</td>\n      <td>Centro</td>\n      <td>0</td>\n      <td>0</td>\n      <td>0</td>\n      <td>27</td>\n      <td>800.0</td>\n      <td>350.0</td>\n      <td>25.0</td>\n    </tr>\n    <tr>\n      <th>22842</th>\n      <td>Apartamento</td>\n      <td>Jacarepaguá</td>\n      <td>3</td>\n      <td>1</td>\n      <td>2</td>\n      <td>78</td>\n      <td>1800.0</td>\n      <td>800.0</td>\n      <td>40.0</td>\n    </tr>\n    <tr>\n      <th>22843</th>\n      <td>Apartamento</td>\n      <td>São Francisco Xavier</td>\n      <td>2</td>\n      <td>1</td>\n      <td>0</td>\n      <td>48</td>\n      <td>1400.0</td>\n      <td>509.0</td>\n      <td>37.0</td>\n    </tr>\n    <tr>\n      <th>22844</th>\n      <td>Apartamento</td>\n      <td>Leblon</td>\n      <td>2</td>\n      <td>0</td>\n      <td>0</td>\n      <td>70</td>\n      <td>3000.0</td>\n      <td>760.0</td>\n      <td>NaN</td>\n    </tr>\n  </tbody>\n</table>\n<p>22845 rows × 9 columns</p>\n</div>"
     },
     "execution_count": 21,
     "metadata": {},
     "output_type": "execute_result"
    }
   ],
   "source": [
    "dados_residencial.index = range(dados_residencial.shape[0])\n",
    "dados_residencial"
   ],
   "metadata": {
    "collapsed": false,
    "ExecuteTime": {
     "end_time": "2024-01-31T21:01:07.938815Z",
     "start_time": "2024-01-31T21:01:07.793765Z"
    }
   },
   "id": "fda1585497cfb565",
   "execution_count": 21
  },
  {
   "cell_type": "code",
   "outputs": [],
   "source": [
    "# dados_residencial.to_csv('dados/aluguel_residencial.csv', sep=';', index=False)"
   ],
   "metadata": {
    "collapsed": false,
    "ExecuteTime": {
     "end_time": "2024-01-31T21:02:04.778779Z",
     "start_time": "2024-01-31T21:02:04.735382Z"
    }
   },
   "id": "9eb7db840dff618",
   "execution_count": 23
  },
  {
   "cell_type": "code",
   "outputs": [
    {
     "data": {
      "text/plain": "  Tipo;Bairro;Quartos;Vagas;Suites;Area;Valor;Condominio;IPTU\n0    Quitinete;Copacabana;1;0;0;40;1700.0;500.0;60.0         \n1            Casa;Jardim Botânico;2;0;1;100;7000.0;;         \n2       Apartamento;Centro;1;0;0;15;800.0;390.0;20.0         \n3     Apartamento;Higienópolis;1;0;0;48;800.0;230.0;         \n4         Apartamento;Vista Alegre;3;1;0;70;1200.0;;         ",
      "text/html": "<div>\n<style scoped>\n    .dataframe tbody tr th:only-of-type {\n        vertical-align: middle;\n    }\n\n    .dataframe tbody tr th {\n        vertical-align: top;\n    }\n\n    .dataframe thead th {\n        text-align: right;\n    }\n</style>\n<table border=\"1\" class=\"dataframe\">\n  <thead>\n    <tr style=\"text-align: right;\">\n      <th></th>\n      <th>Tipo;Bairro;Quartos;Vagas;Suites;Area;Valor;Condominio;IPTU</th>\n    </tr>\n  </thead>\n  <tbody>\n    <tr>\n      <th>0</th>\n      <td>Quitinete;Copacabana;1;0;0;40;1700.0;500.0;60.0</td>\n    </tr>\n    <tr>\n      <th>1</th>\n      <td>Casa;Jardim Botânico;2;0;1;100;7000.0;;</td>\n    </tr>\n    <tr>\n      <th>2</th>\n      <td>Apartamento;Centro;1;0;0;15;800.0;390.0;20.0</td>\n    </tr>\n    <tr>\n      <th>3</th>\n      <td>Apartamento;Higienópolis;1;0;0;48;800.0;230.0;</td>\n    </tr>\n    <tr>\n      <th>4</th>\n      <td>Apartamento;Vista Alegre;3;1;0;70;1200.0;;</td>\n    </tr>\n  </tbody>\n</table>\n</div>"
     },
     "execution_count": 24,
     "metadata": {},
     "output_type": "execute_result"
    }
   ],
   "source": [
    "# dados = pd.read_csv('dados/aluguel_residencial.csv')\n",
    "# dados.head()"
   ],
   "metadata": {
    "collapsed": false,
    "ExecuteTime": {
     "end_time": "2024-01-31T21:02:52.375610Z",
     "start_time": "2024-01-31T21:02:52.354911Z"
    }
   },
   "id": "9a72a8bf19c6af81",
   "execution_count": 24
  },
  {
   "cell_type": "code",
   "outputs": [
    {
     "data": {
      "text/plain": "0        False\n1        False\n2         True\n3         True\n4         True\n         ...  \n22840     True\n22841    False\n22842     True\n22843     True\n22844     True\nName: Tipo, Length: 22845, dtype: bool"
     },
     "execution_count": 26,
     "metadata": {},
     "output_type": "execute_result"
    }
   ],
   "source": [
    "selecao = dados_residencial['Tipo'] == 'Apartamento'\n",
    "selecao"
   ],
   "metadata": {
    "collapsed": false,
    "ExecuteTime": {
     "end_time": "2024-01-31T21:05:02.777076Z",
     "start_time": "2024-01-31T21:05:02.769109Z"
    }
   },
   "id": "5fcc52f640235541",
   "execution_count": 26
  },
  {
   "cell_type": "code",
   "outputs": [
    {
     "data": {
      "text/plain": "19532"
     },
     "execution_count": 28,
     "metadata": {},
     "output_type": "execute_result"
    }
   ],
   "source": [
    "n1 = dados[selecao].shape[0]\n",
    "n1"
   ],
   "metadata": {
    "collapsed": false,
    "ExecuteTime": {
     "end_time": "2024-01-31T21:05:57.248508Z",
     "start_time": "2024-01-31T21:05:57.243944Z"
    }
   },
   "id": "e7155d589dd47b26",
   "execution_count": 28
  },
  {
   "cell_type": "code",
   "outputs": [
    {
     "data": {
      "text/plain": "2212"
     },
     "execution_count": 29,
     "metadata": {},
     "output_type": "execute_result"
    }
   ],
   "source": [
    "selecao = (dados_residencial['Tipo'] == 'Casa') | (dados_residencial['Tipo'] == 'Casa de Condomínio') | (dados_residencial['Tipo'] == 'Casa de Vila')\n",
    "n2 = dados[selecao].shape[0]\n",
    "n2"
   ],
   "metadata": {
    "collapsed": false,
    "ExecuteTime": {
     "end_time": "2024-01-31T21:08:07.572089Z",
     "start_time": "2024-01-31T21:08:07.567089Z"
    }
   },
   "id": "f3f41da7c4f04b3d",
   "execution_count": 29
  },
  {
   "cell_type": "code",
   "outputs": [
    {
     "data": {
      "text/plain": "8736"
     },
     "execution_count": 30,
     "metadata": {},
     "output_type": "execute_result"
    }
   ],
   "source": [
    "selecao = (dados_residencial['Area'] >= 60) & (dados_residencial['Area'] <= 100)\n",
    "n3 = dados[selecao].shape[0]\n",
    "n3"
   ],
   "metadata": {
    "collapsed": false,
    "ExecuteTime": {
     "end_time": "2024-01-31T21:11:33.315013Z",
     "start_time": "2024-01-31T21:11:33.306858Z"
    }
   },
   "id": "f8a936e8ce8ae174",
   "execution_count": 30
  },
  {
   "cell_type": "code",
   "outputs": [
    {
     "data": {
      "text/plain": "41"
     },
     "execution_count": 31,
     "metadata": {},
     "output_type": "execute_result"
    }
   ],
   "source": [
    "selecao = (dados_residencial['Quartos'] >= 4) & (dados_residencial['Valor'] < 2000)\n",
    "n4 = dados[selecao].shape[0]\n",
    "n4"
   ],
   "metadata": {
    "collapsed": false,
    "ExecuteTime": {
     "end_time": "2024-01-31T21:13:34.262055Z",
     "start_time": "2024-01-31T21:13:34.252263Z"
    }
   },
   "id": "4b9cc0229c8bad4b",
   "execution_count": 31
  },
  {
   "cell_type": "code",
   "outputs": [],
   "source": [],
   "metadata": {
    "collapsed": false
   },
   "id": "d98bff2260776f19"
  }
 ],
 "metadata": {
  "kernelspec": {
   "display_name": "Python 3",
   "language": "python",
   "name": "python3"
  },
  "language_info": {
   "codemirror_mode": {
    "name": "ipython",
    "version": 2
   },
   "file_extension": ".py",
   "mimetype": "text/x-python",
   "name": "python",
   "nbconvert_exporter": "python",
   "pygments_lexer": "ipython2",
   "version": "2.7.6"
  }
 },
 "nbformat": 4,
 "nbformat_minor": 5
}
