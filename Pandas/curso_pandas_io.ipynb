{
 "cells": [
  {
   "cell_type": "markdown",
   "source": [
    "# CURSO PANDAS I/O\n",
    "### Trabalhando com diferentes tipos de arquivos"
   ],
   "metadata": {
    "collapsed": false
   },
   "id": "8618f1a8e7d541dc"
  },
  {
   "cell_type": "code",
   "execution_count": 2,
   "outputs": [],
   "source": [
    "import pandas as pd"
   ],
   "metadata": {
    "collapsed": false,
    "ExecuteTime": {
     "end_time": "2024-01-02T19:47:00.277970Z",
     "start_time": "2024-01-02T19:46:59.969504Z"
    }
   },
   "id": "e83824e918c92aea"
  },
  {
   "cell_type": "markdown",
   "source": [
    "## CSV"
   ],
   "metadata": {
    "collapsed": false
   },
   "id": "bbb32e1f52c0af94"
  },
  {
   "cell_type": "markdown",
   "source": [
    "### Lendo um arquivo CSV"
   ],
   "metadata": {
    "collapsed": false
   },
   "id": "7e2010f71148784a"
  },
  {
   "cell_type": "code",
   "execution_count": 3,
   "outputs": [
    {
     "data": {
      "text/plain": "      Id  Year_Birth   Education Marital_Status   Income  Kidhome  Teenhome  \\\n0   1826        1970  Graduation       Divorced  84835.0        0         0   \n1      1        1961  Graduation         Single  57091.0        0         0   \n2  10476        1958  Graduation        Married  67267.0        0         1   \n3   1386        1967  Graduation       Together  32474.0        1         1   \n4   5371        1989  Graduation         Single  21474.0        1         0   \n\n  Dt_Customer  Recency  MntWines  ...  MntFishProducts  MntSweetProducts  \\\n0   6/16/2014        0       189  ...              111               189   \n1   6/15/2014        0       464  ...                7                 0   \n2   5/13/2014        0       134  ...               15                 2   \n3   11/5/2014        0        10  ...                0                 0   \n4    8/4/2014        0         6  ...               11                 0   \n\n   MntGoldProds  NumDealsPurchases  NumWebPurchases  NumCatalogPurchases  \\\n0           218                  1                4                    4   \n1            37                  1                7                    3   \n2            30                  1                3                    2   \n3             0                  1                1                    0   \n4            34                  2                3                    1   \n\n   NumStorePurchases  NumWebVisitsMonth  Response  Complain  \n0                  6                  1         1         0  \n1                  7                  5         1         0  \n2                  5                  2         0         0  \n3                  2                  7         0         0  \n4                  2                  7         1         0  \n\n[5 rows x 22 columns]",
      "text/html": "<div>\n<style scoped>\n    .dataframe tbody tr th:only-of-type {\n        vertical-align: middle;\n    }\n\n    .dataframe tbody tr th {\n        vertical-align: top;\n    }\n\n    .dataframe thead th {\n        text-align: right;\n    }\n</style>\n<table border=\"1\" class=\"dataframe\">\n  <thead>\n    <tr style=\"text-align: right;\">\n      <th></th>\n      <th>Id</th>\n      <th>Year_Birth</th>\n      <th>Education</th>\n      <th>Marital_Status</th>\n      <th>Income</th>\n      <th>Kidhome</th>\n      <th>Teenhome</th>\n      <th>Dt_Customer</th>\n      <th>Recency</th>\n      <th>MntWines</th>\n      <th>...</th>\n      <th>MntFishProducts</th>\n      <th>MntSweetProducts</th>\n      <th>MntGoldProds</th>\n      <th>NumDealsPurchases</th>\n      <th>NumWebPurchases</th>\n      <th>NumCatalogPurchases</th>\n      <th>NumStorePurchases</th>\n      <th>NumWebVisitsMonth</th>\n      <th>Response</th>\n      <th>Complain</th>\n    </tr>\n  </thead>\n  <tbody>\n    <tr>\n      <th>0</th>\n      <td>1826</td>\n      <td>1970</td>\n      <td>Graduation</td>\n      <td>Divorced</td>\n      <td>84835.0</td>\n      <td>0</td>\n      <td>0</td>\n      <td>6/16/2014</td>\n      <td>0</td>\n      <td>189</td>\n      <td>...</td>\n      <td>111</td>\n      <td>189</td>\n      <td>218</td>\n      <td>1</td>\n      <td>4</td>\n      <td>4</td>\n      <td>6</td>\n      <td>1</td>\n      <td>1</td>\n      <td>0</td>\n    </tr>\n    <tr>\n      <th>1</th>\n      <td>1</td>\n      <td>1961</td>\n      <td>Graduation</td>\n      <td>Single</td>\n      <td>57091.0</td>\n      <td>0</td>\n      <td>0</td>\n      <td>6/15/2014</td>\n      <td>0</td>\n      <td>464</td>\n      <td>...</td>\n      <td>7</td>\n      <td>0</td>\n      <td>37</td>\n      <td>1</td>\n      <td>7</td>\n      <td>3</td>\n      <td>7</td>\n      <td>5</td>\n      <td>1</td>\n      <td>0</td>\n    </tr>\n    <tr>\n      <th>2</th>\n      <td>10476</td>\n      <td>1958</td>\n      <td>Graduation</td>\n      <td>Married</td>\n      <td>67267.0</td>\n      <td>0</td>\n      <td>1</td>\n      <td>5/13/2014</td>\n      <td>0</td>\n      <td>134</td>\n      <td>...</td>\n      <td>15</td>\n      <td>2</td>\n      <td>30</td>\n      <td>1</td>\n      <td>3</td>\n      <td>2</td>\n      <td>5</td>\n      <td>2</td>\n      <td>0</td>\n      <td>0</td>\n    </tr>\n    <tr>\n      <th>3</th>\n      <td>1386</td>\n      <td>1967</td>\n      <td>Graduation</td>\n      <td>Together</td>\n      <td>32474.0</td>\n      <td>1</td>\n      <td>1</td>\n      <td>11/5/2014</td>\n      <td>0</td>\n      <td>10</td>\n      <td>...</td>\n      <td>0</td>\n      <td>0</td>\n      <td>0</td>\n      <td>1</td>\n      <td>1</td>\n      <td>0</td>\n      <td>2</td>\n      <td>7</td>\n      <td>0</td>\n      <td>0</td>\n    </tr>\n    <tr>\n      <th>4</th>\n      <td>5371</td>\n      <td>1989</td>\n      <td>Graduation</td>\n      <td>Single</td>\n      <td>21474.0</td>\n      <td>1</td>\n      <td>0</td>\n      <td>8/4/2014</td>\n      <td>0</td>\n      <td>6</td>\n      <td>...</td>\n      <td>11</td>\n      <td>0</td>\n      <td>34</td>\n      <td>2</td>\n      <td>3</td>\n      <td>1</td>\n      <td>2</td>\n      <td>7</td>\n      <td>1</td>\n      <td>0</td>\n    </tr>\n  </tbody>\n</table>\n<p>5 rows × 22 columns</p>\n</div>"
     },
     "execution_count": 3,
     "metadata": {},
     "output_type": "execute_result"
    }
   ],
   "source": [
    "url = 'https://raw.githubusercontent.com/alura-cursos/Pandas/main/superstore_data.csv'\n",
    "dados = pd.read_csv(url)\n",
    "dados.head()"
   ],
   "metadata": {
    "collapsed": false,
    "ExecuteTime": {
     "end_time": "2024-01-02T19:47:00.800456Z",
     "start_time": "2024-01-02T19:47:00.247680Z"
    }
   },
   "id": "d8b9f6f4facdfc18"
  },
  {
   "cell_type": "markdown",
   "source": [
    "### Lendo um arquivo CSV com separador diferente"
   ],
   "metadata": {
    "collapsed": false
   },
   "id": "ed887efeccfb109d"
  },
  {
   "cell_type": "code",
   "execution_count": 4,
   "outputs": [
    {
     "data": {
      "text/plain": "      Id  Year_Birth   Education Marital_Status   Income  Kidhome  Teenhome  \\\n0   1826        1970  Graduation       Divorced  84835.0        0         0   \n1      1        1961  Graduation         Single  57091.0        0         0   \n2  10476        1958  Graduation        Married  67267.0        0         1   \n3   1386        1967  Graduation       Together  32474.0        1         1   \n4   5371        1989  Graduation         Single  21474.0        1         0   \n\n  Dt_Customer  Recency  MntWines  ...  MntFishProducts  MntSweetProducts  \\\n0   6/16/2014        0       189  ...              111               189   \n1   6/15/2014        0       464  ...                7                 0   \n2   5/13/2014        0       134  ...               15                 2   \n3   11/5/2014        0        10  ...                0                 0   \n4    8/4/2014        0         6  ...               11                 0   \n\n   MntGoldProds  NumDealsPurchases  NumWebPurchases  NumCatalogPurchases  \\\n0           218                  1                4                    4   \n1            37                  1                7                    3   \n2            30                  1                3                    2   \n3             0                  1                1                    0   \n4            34                  2                3                    1   \n\n   NumStorePurchases  NumWebVisitsMonth  Response  Complain  \n0                  6                  1         1         0  \n1                  7                  5         1         0  \n2                  5                  2         0         0  \n3                  2                  7         0         0  \n4                  2                  7         1         0  \n\n[5 rows x 22 columns]",
      "text/html": "<div>\n<style scoped>\n    .dataframe tbody tr th:only-of-type {\n        vertical-align: middle;\n    }\n\n    .dataframe tbody tr th {\n        vertical-align: top;\n    }\n\n    .dataframe thead th {\n        text-align: right;\n    }\n</style>\n<table border=\"1\" class=\"dataframe\">\n  <thead>\n    <tr style=\"text-align: right;\">\n      <th></th>\n      <th>Id</th>\n      <th>Year_Birth</th>\n      <th>Education</th>\n      <th>Marital_Status</th>\n      <th>Income</th>\n      <th>Kidhome</th>\n      <th>Teenhome</th>\n      <th>Dt_Customer</th>\n      <th>Recency</th>\n      <th>MntWines</th>\n      <th>...</th>\n      <th>MntFishProducts</th>\n      <th>MntSweetProducts</th>\n      <th>MntGoldProds</th>\n      <th>NumDealsPurchases</th>\n      <th>NumWebPurchases</th>\n      <th>NumCatalogPurchases</th>\n      <th>NumStorePurchases</th>\n      <th>NumWebVisitsMonth</th>\n      <th>Response</th>\n      <th>Complain</th>\n    </tr>\n  </thead>\n  <tbody>\n    <tr>\n      <th>0</th>\n      <td>1826</td>\n      <td>1970</td>\n      <td>Graduation</td>\n      <td>Divorced</td>\n      <td>84835.0</td>\n      <td>0</td>\n      <td>0</td>\n      <td>6/16/2014</td>\n      <td>0</td>\n      <td>189</td>\n      <td>...</td>\n      <td>111</td>\n      <td>189</td>\n      <td>218</td>\n      <td>1</td>\n      <td>4</td>\n      <td>4</td>\n      <td>6</td>\n      <td>1</td>\n      <td>1</td>\n      <td>0</td>\n    </tr>\n    <tr>\n      <th>1</th>\n      <td>1</td>\n      <td>1961</td>\n      <td>Graduation</td>\n      <td>Single</td>\n      <td>57091.0</td>\n      <td>0</td>\n      <td>0</td>\n      <td>6/15/2014</td>\n      <td>0</td>\n      <td>464</td>\n      <td>...</td>\n      <td>7</td>\n      <td>0</td>\n      <td>37</td>\n      <td>1</td>\n      <td>7</td>\n      <td>3</td>\n      <td>7</td>\n      <td>5</td>\n      <td>1</td>\n      <td>0</td>\n    </tr>\n    <tr>\n      <th>2</th>\n      <td>10476</td>\n      <td>1958</td>\n      <td>Graduation</td>\n      <td>Married</td>\n      <td>67267.0</td>\n      <td>0</td>\n      <td>1</td>\n      <td>5/13/2014</td>\n      <td>0</td>\n      <td>134</td>\n      <td>...</td>\n      <td>15</td>\n      <td>2</td>\n      <td>30</td>\n      <td>1</td>\n      <td>3</td>\n      <td>2</td>\n      <td>5</td>\n      <td>2</td>\n      <td>0</td>\n      <td>0</td>\n    </tr>\n    <tr>\n      <th>3</th>\n      <td>1386</td>\n      <td>1967</td>\n      <td>Graduation</td>\n      <td>Together</td>\n      <td>32474.0</td>\n      <td>1</td>\n      <td>1</td>\n      <td>11/5/2014</td>\n      <td>0</td>\n      <td>10</td>\n      <td>...</td>\n      <td>0</td>\n      <td>0</td>\n      <td>0</td>\n      <td>1</td>\n      <td>1</td>\n      <td>0</td>\n      <td>2</td>\n      <td>7</td>\n      <td>0</td>\n      <td>0</td>\n    </tr>\n    <tr>\n      <th>4</th>\n      <td>5371</td>\n      <td>1989</td>\n      <td>Graduation</td>\n      <td>Single</td>\n      <td>21474.0</td>\n      <td>1</td>\n      <td>0</td>\n      <td>8/4/2014</td>\n      <td>0</td>\n      <td>6</td>\n      <td>...</td>\n      <td>11</td>\n      <td>0</td>\n      <td>34</td>\n      <td>2</td>\n      <td>3</td>\n      <td>1</td>\n      <td>2</td>\n      <td>7</td>\n      <td>1</td>\n      <td>0</td>\n    </tr>\n  </tbody>\n</table>\n<p>5 rows × 22 columns</p>\n</div>"
     },
     "execution_count": 4,
     "metadata": {},
     "output_type": "execute_result"
    }
   ],
   "source": [
    "url2 = 'https://raw.githubusercontent.com/alura-cursos/Pandas/main/superstore_data_ponto_virgula.csv'\n",
    "dados2 = pd.read_csv(url2, sep=';')\n",
    "dados2.head()"
   ],
   "metadata": {
    "collapsed": false,
    "ExecuteTime": {
     "end_time": "2024-01-02T19:47:01.392032Z",
     "start_time": "2024-01-02T19:47:00.792394Z"
    }
   },
   "id": "19b08a9a798ede4c"
  },
  {
   "cell_type": "markdown",
   "source": [
    "### Manipulações em um arquivo CSV"
   ],
   "metadata": {
    "collapsed": false
   },
   "id": "1c18da339d60f60d"
  },
  {
   "cell_type": "code",
   "execution_count": 5,
   "outputs": [
    {
     "data": {
      "text/plain": "      Id  Year_Birth   Education Marital_Status  Income  Kidhome  Teenhome  \\\n0   1826        1970  Graduation       Divorced   84835        0         0   \n1      1        1961  Graduation         Single   57091        0         0   \n2  10476        1958  Graduation        Married   67267        0         1   \n3   1386        1967  Graduation       Together   32474        1         1   \n4   5371        1989  Graduation         Single   21474        1         0   \n\n  Dt_Customer  Recency  MntWines  ...  MntFishProducts  MntSweetProducts  \\\n0   6/16/2014        0       189  ...              111               189   \n1   6/15/2014        0       464  ...                7                 0   \n2   5/13/2014        0       134  ...               15                 2   \n3   11/5/2014        0        10  ...                0                 0   \n4    8/4/2014        0         6  ...               11                 0   \n\n   MntGoldProds  NumDealsPurchases  NumWebPurchases  NumCatalogPurchases  \\\n0           218                  1                4                    4   \n1            37                  1                7                    3   \n2            30                  1                3                    2   \n3             0                  1                1                    0   \n4            34                  2                3                    1   \n\n   NumStorePurchases  NumWebVisitsMonth  Response  Complain  \n0                  6                  1         1         0  \n1                  7                  5         1         0  \n2                  5                  2         0         0  \n3                  2                  7         0         0  \n4                  2                  7         1         0  \n\n[5 rows x 22 columns]",
      "text/html": "<div>\n<style scoped>\n    .dataframe tbody tr th:only-of-type {\n        vertical-align: middle;\n    }\n\n    .dataframe tbody tr th {\n        vertical-align: top;\n    }\n\n    .dataframe thead th {\n        text-align: right;\n    }\n</style>\n<table border=\"1\" class=\"dataframe\">\n  <thead>\n    <tr style=\"text-align: right;\">\n      <th></th>\n      <th>Id</th>\n      <th>Year_Birth</th>\n      <th>Education</th>\n      <th>Marital_Status</th>\n      <th>Income</th>\n      <th>Kidhome</th>\n      <th>Teenhome</th>\n      <th>Dt_Customer</th>\n      <th>Recency</th>\n      <th>MntWines</th>\n      <th>...</th>\n      <th>MntFishProducts</th>\n      <th>MntSweetProducts</th>\n      <th>MntGoldProds</th>\n      <th>NumDealsPurchases</th>\n      <th>NumWebPurchases</th>\n      <th>NumCatalogPurchases</th>\n      <th>NumStorePurchases</th>\n      <th>NumWebVisitsMonth</th>\n      <th>Response</th>\n      <th>Complain</th>\n    </tr>\n  </thead>\n  <tbody>\n    <tr>\n      <th>0</th>\n      <td>1826</td>\n      <td>1970</td>\n      <td>Graduation</td>\n      <td>Divorced</td>\n      <td>84835</td>\n      <td>0</td>\n      <td>0</td>\n      <td>6/16/2014</td>\n      <td>0</td>\n      <td>189</td>\n      <td>...</td>\n      <td>111</td>\n      <td>189</td>\n      <td>218</td>\n      <td>1</td>\n      <td>4</td>\n      <td>4</td>\n      <td>6</td>\n      <td>1</td>\n      <td>1</td>\n      <td>0</td>\n    </tr>\n    <tr>\n      <th>1</th>\n      <td>1</td>\n      <td>1961</td>\n      <td>Graduation</td>\n      <td>Single</td>\n      <td>57091</td>\n      <td>0</td>\n      <td>0</td>\n      <td>6/15/2014</td>\n      <td>0</td>\n      <td>464</td>\n      <td>...</td>\n      <td>7</td>\n      <td>0</td>\n      <td>37</td>\n      <td>1</td>\n      <td>7</td>\n      <td>3</td>\n      <td>7</td>\n      <td>5</td>\n      <td>1</td>\n      <td>0</td>\n    </tr>\n    <tr>\n      <th>2</th>\n      <td>10476</td>\n      <td>1958</td>\n      <td>Graduation</td>\n      <td>Married</td>\n      <td>67267</td>\n      <td>0</td>\n      <td>1</td>\n      <td>5/13/2014</td>\n      <td>0</td>\n      <td>134</td>\n      <td>...</td>\n      <td>15</td>\n      <td>2</td>\n      <td>30</td>\n      <td>1</td>\n      <td>3</td>\n      <td>2</td>\n      <td>5</td>\n      <td>2</td>\n      <td>0</td>\n      <td>0</td>\n    </tr>\n    <tr>\n      <th>3</th>\n      <td>1386</td>\n      <td>1967</td>\n      <td>Graduation</td>\n      <td>Together</td>\n      <td>32474</td>\n      <td>1</td>\n      <td>1</td>\n      <td>11/5/2014</td>\n      <td>0</td>\n      <td>10</td>\n      <td>...</td>\n      <td>0</td>\n      <td>0</td>\n      <td>0</td>\n      <td>1</td>\n      <td>1</td>\n      <td>0</td>\n      <td>2</td>\n      <td>7</td>\n      <td>0</td>\n      <td>0</td>\n    </tr>\n    <tr>\n      <th>4</th>\n      <td>5371</td>\n      <td>1989</td>\n      <td>Graduation</td>\n      <td>Single</td>\n      <td>21474</td>\n      <td>1</td>\n      <td>0</td>\n      <td>8/4/2014</td>\n      <td>0</td>\n      <td>6</td>\n      <td>...</td>\n      <td>11</td>\n      <td>0</td>\n      <td>34</td>\n      <td>2</td>\n      <td>3</td>\n      <td>1</td>\n      <td>2</td>\n      <td>7</td>\n      <td>1</td>\n      <td>0</td>\n    </tr>\n  </tbody>\n</table>\n<p>5 rows × 22 columns</p>\n</div>"
     },
     "execution_count": 5,
     "metadata": {},
     "output_type": "execute_result"
    }
   ],
   "source": [
    "# dados_primeiras_linhas = dados.head() # 5 primeiras linhas\n",
    "dados_primeiras_linhas = pd.read_csv(url, nrows=5) # 5 primeiras linhas\n",
    "dados_primeiras_linhas"
   ],
   "metadata": {
    "collapsed": false,
    "ExecuteTime": {
     "end_time": "2024-01-02T19:47:01.660164Z",
     "start_time": "2024-01-02T19:47:01.393323Z"
    }
   },
   "id": "17c5a89d1b3429f7"
  },
  {
   "cell_type": "code",
   "execution_count": 6,
   "outputs": [
    {
     "data": {
      "text/plain": "         Id  Year_Birth   Income\n0      1826        1970  84835.0\n1         1        1961  57091.0\n2     10476        1958  67267.0\n3      1386        1967  32474.0\n4      5371        1989  21474.0\n...     ...         ...      ...\n2235  10142        1976  66476.0\n2236   5263        1977  31056.0\n2237     22        1976  46310.0\n2238    528        1978  65819.0\n2239   4070        1969  94871.0\n\n[2240 rows x 3 columns]",
      "text/html": "<div>\n<style scoped>\n    .dataframe tbody tr th:only-of-type {\n        vertical-align: middle;\n    }\n\n    .dataframe tbody tr th {\n        vertical-align: top;\n    }\n\n    .dataframe thead th {\n        text-align: right;\n    }\n</style>\n<table border=\"1\" class=\"dataframe\">\n  <thead>\n    <tr style=\"text-align: right;\">\n      <th></th>\n      <th>Id</th>\n      <th>Year_Birth</th>\n      <th>Income</th>\n    </tr>\n  </thead>\n  <tbody>\n    <tr>\n      <th>0</th>\n      <td>1826</td>\n      <td>1970</td>\n      <td>84835.0</td>\n    </tr>\n    <tr>\n      <th>1</th>\n      <td>1</td>\n      <td>1961</td>\n      <td>57091.0</td>\n    </tr>\n    <tr>\n      <th>2</th>\n      <td>10476</td>\n      <td>1958</td>\n      <td>67267.0</td>\n    </tr>\n    <tr>\n      <th>3</th>\n      <td>1386</td>\n      <td>1967</td>\n      <td>32474.0</td>\n    </tr>\n    <tr>\n      <th>4</th>\n      <td>5371</td>\n      <td>1989</td>\n      <td>21474.0</td>\n    </tr>\n    <tr>\n      <th>...</th>\n      <td>...</td>\n      <td>...</td>\n      <td>...</td>\n    </tr>\n    <tr>\n      <th>2235</th>\n      <td>10142</td>\n      <td>1976</td>\n      <td>66476.0</td>\n    </tr>\n    <tr>\n      <th>2236</th>\n      <td>5263</td>\n      <td>1977</td>\n      <td>31056.0</td>\n    </tr>\n    <tr>\n      <th>2237</th>\n      <td>22</td>\n      <td>1976</td>\n      <td>46310.0</td>\n    </tr>\n    <tr>\n      <th>2238</th>\n      <td>528</td>\n      <td>1978</td>\n      <td>65819.0</td>\n    </tr>\n    <tr>\n      <th>2239</th>\n      <td>4070</td>\n      <td>1969</td>\n      <td>94871.0</td>\n    </tr>\n  </tbody>\n</table>\n<p>2240 rows × 3 columns</p>\n</div>"
     },
     "execution_count": 6,
     "metadata": {},
     "output_type": "execute_result"
    }
   ],
   "source": [
    "# dados_selecao = pd.read_csv(url, usecols=['Id', 'Year_Birth', 'Income'])\n",
    "dados_selecao = pd.read_csv(url, usecols=[0, 1, 4]) # selecionando colunas pelo índice\n",
    "dados_selecao"
   ],
   "metadata": {
    "collapsed": false,
    "ExecuteTime": {
     "end_time": "2024-01-02T19:47:01.858981Z",
     "start_time": "2024-01-02T19:47:01.655842Z"
    }
   },
   "id": "59bd66dc23528884"
  },
  {
   "cell_type": "code",
   "execution_count": 7,
   "outputs": [],
   "source": [
    "# dados_selecao.to_csv('dados_selecao.csv', index=False) # salvando o arquivo"
   ],
   "metadata": {
    "collapsed": false,
    "ExecuteTime": {
     "end_time": "2024-01-02T19:47:01.859521Z",
     "start_time": "2024-01-02T19:47:01.816259Z"
    }
   },
   "id": "7f5b19e5b1dc99d3"
  },
  {
   "cell_type": "code",
   "execution_count": 8,
   "outputs": [
    {
     "data": {
      "text/plain": "  Unidade da Federação     2008/Jan     2008/Fev     2008/Mar     2008/Abr  \\\n0             Rondônia   1388528.39   2931283.42   1541682.52   1525314.96   \n1                 Acre    902416.00   1497206.26   1794028.48   1730469.42   \n2             Amazonas   4735529.42   7118990.57   8196635.49   8259378.42   \n3              Roraima    657889.53    777939.31    718688.03    839994.39   \n4                 Pará  18864744.11  19553758.20  21937342.70  20842829.69   \n\n      2008/Mai     2008/Jun     2008/Jul     2008/Ago     2008/Set  ...  \\\n0   1645953.84   1406150.68   3065279.01   3231494.61   3117178.63  ...   \n1   1819443.92   1828496.00   2511754.59   2089107.14   2275708.53  ...   \n2   7831399.90   8477273.62   9368858.72   9352532.70   9363099.35  ...   \n3    862347.96    832440.66    996693.09    894271.18    910424.17  ...   \n4  23249952.88  23240687.56  24002223.56  23341218.03  25172261.32  ...   \n\n      2020/Jul     2020/Ago     2020/Set     2020/Out     2020/Nov  \\\n0  11824687.13  11733307.76  10201985.14   7955139.45   9357946.29   \n1   3915193.20   3640142.82   3391242.21   4044321.44   3276590.10   \n2  19769460.14  18059931.43  17841015.63  16408315.10  19895617.91   \n3   3015488.30   2826486.18   2928043.91   3090313.73   3621031.05   \n4  40804126.43  44385715.88  36820249.47  36965931.34  39004315.80   \n\n      2020/Dez     2021/Jan     2021/Fev     2021/Mar         Total  \n0   8880836.55   9266014.59   7730597.04  11023309.47  9.964113e+08  \n1   3696997.31   3715723.12   3538427.92   4077045.92  4.500485e+08  \n2  17765167.69  21430289.17  25917134.55  22032176.22  1.917248e+09  \n3   3454460.94   3266928.47   3519773.73   3985530.08  3.288770e+08  \n4  38015145.79  38354682.46  37688314.23  33276392.89  4.705309e+09  \n\n[5 rows x 161 columns]",
      "text/html": "<div>\n<style scoped>\n    .dataframe tbody tr th:only-of-type {\n        vertical-align: middle;\n    }\n\n    .dataframe tbody tr th {\n        vertical-align: top;\n    }\n\n    .dataframe thead th {\n        text-align: right;\n    }\n</style>\n<table border=\"1\" class=\"dataframe\">\n  <thead>\n    <tr style=\"text-align: right;\">\n      <th></th>\n      <th>Unidade da Federação</th>\n      <th>2008/Jan</th>\n      <th>2008/Fev</th>\n      <th>2008/Mar</th>\n      <th>2008/Abr</th>\n      <th>2008/Mai</th>\n      <th>2008/Jun</th>\n      <th>2008/Jul</th>\n      <th>2008/Ago</th>\n      <th>2008/Set</th>\n      <th>...</th>\n      <th>2020/Jul</th>\n      <th>2020/Ago</th>\n      <th>2020/Set</th>\n      <th>2020/Out</th>\n      <th>2020/Nov</th>\n      <th>2020/Dez</th>\n      <th>2021/Jan</th>\n      <th>2021/Fev</th>\n      <th>2021/Mar</th>\n      <th>Total</th>\n    </tr>\n  </thead>\n  <tbody>\n    <tr>\n      <th>0</th>\n      <td>Rondônia</td>\n      <td>1388528.39</td>\n      <td>2931283.42</td>\n      <td>1541682.52</td>\n      <td>1525314.96</td>\n      <td>1645953.84</td>\n      <td>1406150.68</td>\n      <td>3065279.01</td>\n      <td>3231494.61</td>\n      <td>3117178.63</td>\n      <td>...</td>\n      <td>11824687.13</td>\n      <td>11733307.76</td>\n      <td>10201985.14</td>\n      <td>7955139.45</td>\n      <td>9357946.29</td>\n      <td>8880836.55</td>\n      <td>9266014.59</td>\n      <td>7730597.04</td>\n      <td>11023309.47</td>\n      <td>9.964113e+08</td>\n    </tr>\n    <tr>\n      <th>1</th>\n      <td>Acre</td>\n      <td>902416.00</td>\n      <td>1497206.26</td>\n      <td>1794028.48</td>\n      <td>1730469.42</td>\n      <td>1819443.92</td>\n      <td>1828496.00</td>\n      <td>2511754.59</td>\n      <td>2089107.14</td>\n      <td>2275708.53</td>\n      <td>...</td>\n      <td>3915193.20</td>\n      <td>3640142.82</td>\n      <td>3391242.21</td>\n      <td>4044321.44</td>\n      <td>3276590.10</td>\n      <td>3696997.31</td>\n      <td>3715723.12</td>\n      <td>3538427.92</td>\n      <td>4077045.92</td>\n      <td>4.500485e+08</td>\n    </tr>\n    <tr>\n      <th>2</th>\n      <td>Amazonas</td>\n      <td>4735529.42</td>\n      <td>7118990.57</td>\n      <td>8196635.49</td>\n      <td>8259378.42</td>\n      <td>7831399.90</td>\n      <td>8477273.62</td>\n      <td>9368858.72</td>\n      <td>9352532.70</td>\n      <td>9363099.35</td>\n      <td>...</td>\n      <td>19769460.14</td>\n      <td>18059931.43</td>\n      <td>17841015.63</td>\n      <td>16408315.10</td>\n      <td>19895617.91</td>\n      <td>17765167.69</td>\n      <td>21430289.17</td>\n      <td>25917134.55</td>\n      <td>22032176.22</td>\n      <td>1.917248e+09</td>\n    </tr>\n    <tr>\n      <th>3</th>\n      <td>Roraima</td>\n      <td>657889.53</td>\n      <td>777939.31</td>\n      <td>718688.03</td>\n      <td>839994.39</td>\n      <td>862347.96</td>\n      <td>832440.66</td>\n      <td>996693.09</td>\n      <td>894271.18</td>\n      <td>910424.17</td>\n      <td>...</td>\n      <td>3015488.30</td>\n      <td>2826486.18</td>\n      <td>2928043.91</td>\n      <td>3090313.73</td>\n      <td>3621031.05</td>\n      <td>3454460.94</td>\n      <td>3266928.47</td>\n      <td>3519773.73</td>\n      <td>3985530.08</td>\n      <td>3.288770e+08</td>\n    </tr>\n    <tr>\n      <th>4</th>\n      <td>Pará</td>\n      <td>18864744.11</td>\n      <td>19553758.20</td>\n      <td>21937342.70</td>\n      <td>20842829.69</td>\n      <td>23249952.88</td>\n      <td>23240687.56</td>\n      <td>24002223.56</td>\n      <td>23341218.03</td>\n      <td>25172261.32</td>\n      <td>...</td>\n      <td>40804126.43</td>\n      <td>44385715.88</td>\n      <td>36820249.47</td>\n      <td>36965931.34</td>\n      <td>39004315.80</td>\n      <td>38015145.79</td>\n      <td>38354682.46</td>\n      <td>37688314.23</td>\n      <td>33276392.89</td>\n      <td>4.705309e+09</td>\n    </tr>\n  </tbody>\n</table>\n<p>5 rows × 161 columns</p>\n</div>"
     },
     "execution_count": 8,
     "metadata": {},
     "output_type": "execute_result"
    }
   ],
   "source": [
    "url_dados_sus = 'https://raw.githubusercontent.com/alura-cursos/Pandas/main/dados_sus.csv'\n",
    "dados_sus = pd.read_csv(url_dados_sus, encoding='ISO-8859-1', sep=';', skiprows=3, skipfooter=12, thousands='.', decimal=',', engine='python')\n",
    "dados_sus.head()"
   ],
   "metadata": {
    "collapsed": false,
    "ExecuteTime": {
     "end_time": "2024-01-02T19:47:02.143136Z",
     "start_time": "2024-01-02T19:47:01.822967Z"
    }
   },
   "id": "b512488e8672b40a"
  },
  {
   "cell_type": "markdown",
   "source": [
    "## XLXS\n",
    "\n",
    "### Lendo um arquivo XLSX"
   ],
   "metadata": {
    "collapsed": false
   },
   "id": "e5d2bda8b30354a0"
  },
  {
   "cell_type": "code",
   "execution_count": 9,
   "outputs": [
    {
     "data": {
      "text/plain": "          País ISO 3166-1 alpha-3   Ano  Total  Carvão  Oléo  Gás  Cimento  \\\n0  Afeganistão                AFG  1750    0.0     NaN   NaN  NaN      NaN   \n1  Afeganistão                AFG  1751    0.0     NaN   NaN  NaN      NaN   \n2  Afeganistão                AFG  1752    0.0     NaN   NaN  NaN      NaN   \n3  Afeganistão                AFG  1753    0.0     NaN   NaN  NaN      NaN   \n4  Afeganistão                AFG  1754    0.0     NaN   NaN  NaN      NaN   \n\n   Queima  Outro  Per Capita  \n0     NaN    NaN         NaN  \n1     NaN    NaN         NaN  \n2     NaN    NaN         NaN  \n3     NaN    NaN         NaN  \n4     NaN    NaN         NaN  ",
      "text/html": "<div>\n<style scoped>\n    .dataframe tbody tr th:only-of-type {\n        vertical-align: middle;\n    }\n\n    .dataframe tbody tr th {\n        vertical-align: top;\n    }\n\n    .dataframe thead th {\n        text-align: right;\n    }\n</style>\n<table border=\"1\" class=\"dataframe\">\n  <thead>\n    <tr style=\"text-align: right;\">\n      <th></th>\n      <th>País</th>\n      <th>ISO 3166-1 alpha-3</th>\n      <th>Ano</th>\n      <th>Total</th>\n      <th>Carvão</th>\n      <th>Oléo</th>\n      <th>Gás</th>\n      <th>Cimento</th>\n      <th>Queima</th>\n      <th>Outro</th>\n      <th>Per Capita</th>\n    </tr>\n  </thead>\n  <tbody>\n    <tr>\n      <th>0</th>\n      <td>Afeganistão</td>\n      <td>AFG</td>\n      <td>1750</td>\n      <td>0.0</td>\n      <td>NaN</td>\n      <td>NaN</td>\n      <td>NaN</td>\n      <td>NaN</td>\n      <td>NaN</td>\n      <td>NaN</td>\n      <td>NaN</td>\n    </tr>\n    <tr>\n      <th>1</th>\n      <td>Afeganistão</td>\n      <td>AFG</td>\n      <td>1751</td>\n      <td>0.0</td>\n      <td>NaN</td>\n      <td>NaN</td>\n      <td>NaN</td>\n      <td>NaN</td>\n      <td>NaN</td>\n      <td>NaN</td>\n      <td>NaN</td>\n    </tr>\n    <tr>\n      <th>2</th>\n      <td>Afeganistão</td>\n      <td>AFG</td>\n      <td>1752</td>\n      <td>0.0</td>\n      <td>NaN</td>\n      <td>NaN</td>\n      <td>NaN</td>\n      <td>NaN</td>\n      <td>NaN</td>\n      <td>NaN</td>\n      <td>NaN</td>\n    </tr>\n    <tr>\n      <th>3</th>\n      <td>Afeganistão</td>\n      <td>AFG</td>\n      <td>1753</td>\n      <td>0.0</td>\n      <td>NaN</td>\n      <td>NaN</td>\n      <td>NaN</td>\n      <td>NaN</td>\n      <td>NaN</td>\n      <td>NaN</td>\n      <td>NaN</td>\n    </tr>\n    <tr>\n      <th>4</th>\n      <td>Afeganistão</td>\n      <td>AFG</td>\n      <td>1754</td>\n      <td>0.0</td>\n      <td>NaN</td>\n      <td>NaN</td>\n      <td>NaN</td>\n      <td>NaN</td>\n      <td>NaN</td>\n      <td>NaN</td>\n      <td>NaN</td>\n    </tr>\n  </tbody>\n</table>\n</div>"
     },
     "execution_count": 9,
     "metadata": {},
     "output_type": "execute_result"
    }
   ],
   "source": [
    "url_xlsx = 'https://github.com/alura-cursos/Pandas/blob/main/emissoes_CO2.xlsx?raw=true'\n",
    "dados_xlsx = pd.read_excel(url_xlsx)\n",
    "# file = 'dados/emissoes_CO2.xlsx'\n",
    "# dados_xlsx = pd.read_excel(file)\n",
    "dados_xlsx.head()"
   ],
   "metadata": {
    "collapsed": false,
    "ExecuteTime": {
     "end_time": "2024-01-02T19:47:10.813081Z",
     "start_time": "2024-01-02T19:47:02.139628Z"
    }
   },
   "id": "38dfa6fe7a225367"
  },
  {
   "cell_type": "markdown",
   "source": [
    "### Manipulações em um arquivo XLSX"
   ],
   "metadata": {
    "collapsed": false
   },
   "id": "e34e5faf2494e834"
  },
  {
   "cell_type": "code",
   "execution_count": 10,
   "outputs": [
    {
     "data": {
      "text/plain": "array(['Afeganistão', 'Albânia', 'Argélia', 'Andorra', 'Angola',\n       'Anguila', 'Antártica', 'Antígua e Barbuda', 'Argentina',\n       'Armênia', 'Aruba', 'Austrália', 'Áustria', 'Azerbaijão',\n       'Bahamas', 'Bahrein', 'Bangladesh', 'Barbados', 'Bielorrússia',\n       'Bélgica', 'Belize', 'Benin', 'Bermudas', 'Butão',\n       'Bonaire, Saint Eustatius e Saba', 'Bósnia e Herzegovina',\n       'Botswana', 'Brasil', 'Ilhas Virgens Britânicas',\n       'Brunei Darussalam', 'Bulgária', 'Burkina Faso', 'Burundi',\n       'Camboja', 'Canadá', 'Cabo Verde', 'República da África Central',\n       'Chade', 'Chile', 'China', 'Ilha do Natal', 'Colômbia', 'Comores',\n       'Congo', 'Ilhas Cook', 'Costa Rica', 'Costa do Marfim', 'Croácia',\n       'Cuba', 'Curaçau', 'Chipp', 'Republica Checa', 'Coréia do Norte',\n       'República Democrática do Congo', 'Dinamarca', 'Dilandi',\n       'Dominica', 'República Dominicana', 'Equador', 'Egito',\n       'El Salvador', 'Guiné Equatorial', 'Eritreia', 'Estônia',\n       'Etiópia', 'Ilhas Faroé', 'Estados Federados da Micronésia',\n       'Micronésia (estados federados de)', 'Fiji', 'Finlândia',\n       'Zona do Canal do Panamá', 'França', 'África equatorial francesa',\n       'Guiana Francesa', 'Polinésia Francesa',\n       'África Ocidental francesa', 'Gabão', 'Gâmbia', 'Geórgia',\n       'Alemanha', 'Bonito', 'Grécia', 'Groenlândia', 'Granada',\n       'Guadalupe', 'Guatemala', 'Guiné', 'Guiné-bissau', 'Guiana',\n       'Haiti', 'Honduras', 'Hong Kong', 'Hungria', 'Islândia', 'Índia',\n       'Indonésia', 'Iraque', 'Irlanda', 'Irã', 'Israel', 'Itália',\n       'Jamaica', 'Japão', 'Jordânia', 'Cazaquistão', 'Quênia',\n       'Kiribati', 'Kosovo', 'Kuwait', 'Incêndios de óleo do Kuwait',\n       'Quirguistão', 'Laos', 'Letônia', 'Líbano', 'Ilhas Leeward',\n       'Lesoto', 'Libéria', 'Líbia', 'Liechtenstein', 'Lituânia',\n       'Luxemburgo', 'Macau', 'Macedônia do Norte', 'Madagáscar',\n       'Malauí', 'Malásia', 'Maldivas', 'Mali', 'Malta', 'Ilhas Marshall',\n       'Martinica', 'Mauritânia', 'Maurício', 'Mayotte', 'México',\n       'Mongólia', 'Montenegro', 'Montserrate', 'Marrocos', 'Moçambique',\n       'Mianmar', 'Namíbia', 'Nauru', 'Nepal', 'Holanda',\n       'Nova Caledônia', 'Nova Zelândia', 'Nicarágua', 'Níger', 'Nigéria',\n       'Niue', 'Noruega', 'Território palestino ocupado', 'Omã',\n       'Ilhas do Pacífico (Palau)', 'Paquistão', 'Palau', 'Panamá',\n       'Papua Nova Guiné', 'Paraguai', 'Peru', 'Filipinas', 'Bolívia',\n       'Polônia', 'Portugal', 'Porto Rico', 'Catar', 'Camarões',\n       'Coreia do Sul', 'Moldávia', 'Sudão do Sul', 'Sudão', 'Reunião',\n       'Romênia', 'Rússia', 'Ruanda', 'Ilhas Ryukyu', 'Santa Helena',\n       'Santa Lúcia', 'Sinta Marthes (parte holandesa)', 'Samoa',\n       'São Tomé e Príncipe', 'Arábia Saudita', 'Senegal', 'Sérvia',\n       'Seicheles', 'Serra Leoa', 'Cingapura', 'Eslováquia', 'Eslovênia',\n       'Ilhas Salomão', 'Somália', 'África do Sul', 'Espanha',\n       'Sri Lanka', 'São Cristóvão e Neves', 'St. Kitts-Nevis-Aguilla',\n       'São Pierre e Miquelon', 'São Vicente e Granadinas', 'Suriname',\n       'Suazilândia', 'Suécia', 'Suíça', 'Síria', 'Taiwan', 'Tajiquistão',\n       'Tailândia', 'Timor-Leste', 'Togo', 'Tonga', 'Trindade eTobago',\n       'Tunísia', 'Turquemenistão', 'Ilhas Turcas e Caicos', 'Tuvalu',\n       'Uganda', 'Ucrânia', 'Emirados Árabes Unidos', 'Reino Unido',\n       'Tanzânia', 'Estados Unidos', 'Uruguai', 'Uzbequistão', 'Vanuatu',\n       'Venezuela', 'Vietnã', 'Wallis e Futuna', 'Iémen', 'Zâmbia',\n       'Zimbábue', 'Transporte internacional', 'Global'], dtype=object)"
     },
     "execution_count": 10,
     "metadata": {},
     "output_type": "execute_result"
    }
   ],
   "source": [
    "dados_xlsx['País'].unique()"
   ],
   "metadata": {
    "collapsed": false,
    "ExecuteTime": {
     "end_time": "2024-01-02T19:47:10.820073Z",
     "start_time": "2024-01-02T19:47:10.814955Z"
    }
   },
   "id": "f256eae0c89b3679"
  },
  {
   "cell_type": "code",
   "execution_count": 11,
   "outputs": [
    {
     "data": {
      "text/plain": "['emissoes_C02', 'emissoes_percapita', 'fontes']"
     },
     "execution_count": 11,
     "metadata": {},
     "output_type": "execute_result"
    }
   ],
   "source": [
    "pd.ExcelFile(url_xlsx).sheet_names"
   ],
   "metadata": {
    "collapsed": false,
    "ExecuteTime": {
     "end_time": "2024-01-02T19:47:16.239940Z",
     "start_time": "2024-01-02T19:47:10.818870Z"
    }
   },
   "id": "6d773f20fa7be725"
  },
  {
   "cell_type": "code",
   "execution_count": 12,
   "outputs": [
    {
     "data": {
      "text/plain": "          País ISO 3166-1 alpha-3   Ano  Total  Carvão  Óleo  Gás  Cimento  \\\n0  Afeganistão                AFG  1750    NaN     NaN   NaN  NaN      NaN   \n1  Afeganistão                AFG  1751    NaN     NaN   NaN  NaN      NaN   \n2  Afeganistão                AFG  1752    NaN     NaN   NaN  NaN      NaN   \n3  Afeganistão                AFG  1753    NaN     NaN   NaN  NaN      NaN   \n4  Afeganistão                AFG  1754    NaN     NaN   NaN  NaN      NaN   \n\n   Queima  Outro  \n0     NaN    NaN  \n1     NaN    NaN  \n2     NaN    NaN  \n3     NaN    NaN  \n4     NaN    NaN  ",
      "text/html": "<div>\n<style scoped>\n    .dataframe tbody tr th:only-of-type {\n        vertical-align: middle;\n    }\n\n    .dataframe tbody tr th {\n        vertical-align: top;\n    }\n\n    .dataframe thead th {\n        text-align: right;\n    }\n</style>\n<table border=\"1\" class=\"dataframe\">\n  <thead>\n    <tr style=\"text-align: right;\">\n      <th></th>\n      <th>País</th>\n      <th>ISO 3166-1 alpha-3</th>\n      <th>Ano</th>\n      <th>Total</th>\n      <th>Carvão</th>\n      <th>Óleo</th>\n      <th>Gás</th>\n      <th>Cimento</th>\n      <th>Queima</th>\n      <th>Outro</th>\n    </tr>\n  </thead>\n  <tbody>\n    <tr>\n      <th>0</th>\n      <td>Afeganistão</td>\n      <td>AFG</td>\n      <td>1750</td>\n      <td>NaN</td>\n      <td>NaN</td>\n      <td>NaN</td>\n      <td>NaN</td>\n      <td>NaN</td>\n      <td>NaN</td>\n      <td>NaN</td>\n    </tr>\n    <tr>\n      <th>1</th>\n      <td>Afeganistão</td>\n      <td>AFG</td>\n      <td>1751</td>\n      <td>NaN</td>\n      <td>NaN</td>\n      <td>NaN</td>\n      <td>NaN</td>\n      <td>NaN</td>\n      <td>NaN</td>\n      <td>NaN</td>\n    </tr>\n    <tr>\n      <th>2</th>\n      <td>Afeganistão</td>\n      <td>AFG</td>\n      <td>1752</td>\n      <td>NaN</td>\n      <td>NaN</td>\n      <td>NaN</td>\n      <td>NaN</td>\n      <td>NaN</td>\n      <td>NaN</td>\n      <td>NaN</td>\n    </tr>\n    <tr>\n      <th>3</th>\n      <td>Afeganistão</td>\n      <td>AFG</td>\n      <td>1753</td>\n      <td>NaN</td>\n      <td>NaN</td>\n      <td>NaN</td>\n      <td>NaN</td>\n      <td>NaN</td>\n      <td>NaN</td>\n      <td>NaN</td>\n    </tr>\n    <tr>\n      <th>4</th>\n      <td>Afeganistão</td>\n      <td>AFG</td>\n      <td>1754</td>\n      <td>NaN</td>\n      <td>NaN</td>\n      <td>NaN</td>\n      <td>NaN</td>\n      <td>NaN</td>\n      <td>NaN</td>\n      <td>NaN</td>\n    </tr>\n  </tbody>\n</table>\n</div>"
     },
     "execution_count": 12,
     "metadata": {},
     "output_type": "execute_result"
    }
   ],
   "source": [
    "percapita = pd.read_excel(url_xlsx, sheet_name='emissoes_percapita')\n",
    "percapita.head()"
   ],
   "metadata": {
    "collapsed": false,
    "ExecuteTime": {
     "end_time": "2024-01-02T19:47:24.410372Z",
     "start_time": "2024-01-02T19:47:16.231190Z"
    }
   },
   "id": "af68cbafbad9b081"
  },
  {
   "cell_type": "code",
   "execution_count": 13,
   "outputs": [
    {
     "data": {
      "text/plain": "         País ISO 3166-1 alpha-3   Ano                                 Total  \\\n63099  Global                WLD  2017  CDIAC 2022, BP, and Sum of countries   \n63100  Global                WLD  2018  CDIAC 2022, BP, and Sum of countries   \n63101  Global                WLD  2019  CDIAC 2022, BP, and Sum of countries   \n63102  Global                WLD  2020  CDIAC 2022, BP, and Sum of countries   \n63103  Global                WLD  2021  CDIAC 2022, BP, and Sum of countries   \n\n                  Carvão               Oléo                Gás        Cimento  \\\n63099  CDIAC 2022 and BP  CDIAC 2022 and BP  CDIAC 2022 and BP  Andrew cement   \n63100  CDIAC 2022 and BP  CDIAC 2022 and BP  CDIAC 2022 and BP  Andrew cement   \n63101  CDIAC 2022 and BP  CDIAC 2022 and BP  CDIAC 2022 and BP  Andrew cement   \n63102  CDIAC 2022 and BP  CDIAC 2022 and BP  CDIAC 2022 and BP  Andrew cement   \n63103  CDIAC 2022 and BP  CDIAC 2022 and BP  CDIAC 2022 and BP  Andrew cement   \n\n                   Queima   Outro  \\\n63099  CDIAC 2022 and GCP  [NONE]   \n63100  CDIAC 2022 and GCP  [NONE]   \n63101  CDIAC 2022 and GCP  [NONE]   \n63102  CDIAC 2022 and GCP  [NONE]   \n63103  CDIAC 2022 and GCP  [NONE]   \n\n                                              Per Capita  \n63099  CDIAC 2022, BP, Sum of countries, and UN popul...  \n63100  CDIAC 2022, BP, Sum of countries, and UN popul...  \n63101  CDIAC 2022, BP, Sum of countries, and UN popul...  \n63102  CDIAC 2022, BP, Sum of countries, and UN popul...  \n63103  CDIAC 2022, BP, Sum of countries, and UN popul...  ",
      "text/html": "<div>\n<style scoped>\n    .dataframe tbody tr th:only-of-type {\n        vertical-align: middle;\n    }\n\n    .dataframe tbody tr th {\n        vertical-align: top;\n    }\n\n    .dataframe thead th {\n        text-align: right;\n    }\n</style>\n<table border=\"1\" class=\"dataframe\">\n  <thead>\n    <tr style=\"text-align: right;\">\n      <th></th>\n      <th>País</th>\n      <th>ISO 3166-1 alpha-3</th>\n      <th>Ano</th>\n      <th>Total</th>\n      <th>Carvão</th>\n      <th>Oléo</th>\n      <th>Gás</th>\n      <th>Cimento</th>\n      <th>Queima</th>\n      <th>Outro</th>\n      <th>Per Capita</th>\n    </tr>\n  </thead>\n  <tbody>\n    <tr>\n      <th>63099</th>\n      <td>Global</td>\n      <td>WLD</td>\n      <td>2017</td>\n      <td>CDIAC 2022, BP, and Sum of countries</td>\n      <td>CDIAC 2022 and BP</td>\n      <td>CDIAC 2022 and BP</td>\n      <td>CDIAC 2022 and BP</td>\n      <td>Andrew cement</td>\n      <td>CDIAC 2022 and GCP</td>\n      <td>[NONE]</td>\n      <td>CDIAC 2022, BP, Sum of countries, and UN popul...</td>\n    </tr>\n    <tr>\n      <th>63100</th>\n      <td>Global</td>\n      <td>WLD</td>\n      <td>2018</td>\n      <td>CDIAC 2022, BP, and Sum of countries</td>\n      <td>CDIAC 2022 and BP</td>\n      <td>CDIAC 2022 and BP</td>\n      <td>CDIAC 2022 and BP</td>\n      <td>Andrew cement</td>\n      <td>CDIAC 2022 and GCP</td>\n      <td>[NONE]</td>\n      <td>CDIAC 2022, BP, Sum of countries, and UN popul...</td>\n    </tr>\n    <tr>\n      <th>63101</th>\n      <td>Global</td>\n      <td>WLD</td>\n      <td>2019</td>\n      <td>CDIAC 2022, BP, and Sum of countries</td>\n      <td>CDIAC 2022 and BP</td>\n      <td>CDIAC 2022 and BP</td>\n      <td>CDIAC 2022 and BP</td>\n      <td>Andrew cement</td>\n      <td>CDIAC 2022 and GCP</td>\n      <td>[NONE]</td>\n      <td>CDIAC 2022, BP, Sum of countries, and UN popul...</td>\n    </tr>\n    <tr>\n      <th>63102</th>\n      <td>Global</td>\n      <td>WLD</td>\n      <td>2020</td>\n      <td>CDIAC 2022, BP, and Sum of countries</td>\n      <td>CDIAC 2022 and BP</td>\n      <td>CDIAC 2022 and BP</td>\n      <td>CDIAC 2022 and BP</td>\n      <td>Andrew cement</td>\n      <td>CDIAC 2022 and GCP</td>\n      <td>[NONE]</td>\n      <td>CDIAC 2022, BP, Sum of countries, and UN popul...</td>\n    </tr>\n    <tr>\n      <th>63103</th>\n      <td>Global</td>\n      <td>WLD</td>\n      <td>2021</td>\n      <td>CDIAC 2022, BP, and Sum of countries</td>\n      <td>CDIAC 2022 and BP</td>\n      <td>CDIAC 2022 and BP</td>\n      <td>CDIAC 2022 and BP</td>\n      <td>Andrew cement</td>\n      <td>CDIAC 2022 and GCP</td>\n      <td>[NONE]</td>\n      <td>CDIAC 2022, BP, Sum of countries, and UN popul...</td>\n    </tr>\n  </tbody>\n</table>\n</div>"
     },
     "execution_count": 13,
     "metadata": {},
     "output_type": "execute_result"
    }
   ],
   "source": [
    "fontes = pd.read_excel(url_xlsx, sheet_name='fontes')\n",
    "fontes.tail()"
   ],
   "metadata": {
    "collapsed": false,
    "ExecuteTime": {
     "end_time": "2024-01-02T19:48:25.109638Z",
     "start_time": "2024-01-02T19:48:17.445073Z"
    }
   },
   "id": "ef91bbf020acbc8"
  },
  {
   "cell_type": "code",
   "execution_count": 17,
   "outputs": [
    {
     "data": {
      "text/plain": "  ISO 3166-1 alpha-3   Ano\n0                AFG  1750\n1                AFG  1751\n2                AFG  1752\n3                AFG  1753\n4                AFG  1754\n5                AFG  1755\n6                AFG  1756\n7                AFG  1757\n8                AFG  1758\n9                AFG  1759",
      "text/html": "<div>\n<style scoped>\n    .dataframe tbody tr th:only-of-type {\n        vertical-align: middle;\n    }\n\n    .dataframe tbody tr th {\n        vertical-align: top;\n    }\n\n    .dataframe thead th {\n        text-align: right;\n    }\n</style>\n<table border=\"1\" class=\"dataframe\">\n  <thead>\n    <tr style=\"text-align: right;\">\n      <th></th>\n      <th>ISO 3166-1 alpha-3</th>\n      <th>Ano</th>\n    </tr>\n  </thead>\n  <tbody>\n    <tr>\n      <th>0</th>\n      <td>AFG</td>\n      <td>1750</td>\n    </tr>\n    <tr>\n      <th>1</th>\n      <td>AFG</td>\n      <td>1751</td>\n    </tr>\n    <tr>\n      <th>2</th>\n      <td>AFG</td>\n      <td>1752</td>\n    </tr>\n    <tr>\n      <th>3</th>\n      <td>AFG</td>\n      <td>1753</td>\n    </tr>\n    <tr>\n      <th>4</th>\n      <td>AFG</td>\n      <td>1754</td>\n    </tr>\n    <tr>\n      <th>5</th>\n      <td>AFG</td>\n      <td>1755</td>\n    </tr>\n    <tr>\n      <th>6</th>\n      <td>AFG</td>\n      <td>1756</td>\n    </tr>\n    <tr>\n      <th>7</th>\n      <td>AFG</td>\n      <td>1757</td>\n    </tr>\n    <tr>\n      <th>8</th>\n      <td>AFG</td>\n      <td>1758</td>\n    </tr>\n    <tr>\n      <th>9</th>\n      <td>AFG</td>\n      <td>1759</td>\n    </tr>\n  </tbody>\n</table>\n</div>"
     },
     "execution_count": 17,
     "metadata": {},
     "output_type": "execute_result"
    }
   ],
   "source": [
    "intervalo = pd.read_excel(url_xlsx, sheet_name='emissoes_C02', usecols='B:C', nrows=10)\n",
    "intervalo"
   ],
   "metadata": {
    "collapsed": false,
    "ExecuteTime": {
     "end_time": "2024-01-02T19:53:55.466152Z",
     "start_time": "2024-01-02T19:53:49.552564Z"
    }
   },
   "id": "6fbed41adbd39865"
  },
  {
   "cell_type": "code",
   "execution_count": null,
   "outputs": [],
   "source": [
    "# percapita.to_excel('dados/percapita.xlsx', index=False)"
   ],
   "metadata": {
    "collapsed": false
   },
   "id": "6d44d8a6ea383e84"
  },
  {
   "cell_type": "markdown",
   "source": [
    "### Leitura de planilha do Google Sheets"
   ],
   "metadata": {
    "collapsed": false
   },
   "id": "c45ab841425a660d"
  },
  {
   "cell_type": "code",
   "execution_count": 20,
   "outputs": [
    {
     "data": {
      "text/plain": "  Country Name country_code                     Region  \\\n0        Aruba          ABW  Latin America & Caribbean   \n1  Afghanistan          AFG                 South Asia   \n2       Angola          AGO         Sub-Saharan Africa   \n3      Albania          ALB      Europe & Central Asia   \n4      Andorra          AND      Europe & Central Asia   \n\n                           Indicator Name           1990         1991  \\\n0  CO2 emissions (metric tons per capita)            NaN          NaN   \n1  CO2 emissions (metric tons per capita)    191.745.115  167.681.579   \n2  CO2 emissions (metric tons per capita)    553.661.955  544.538.649   \n3  CO2 emissions (metric tons per capita)  1.819.541.634  124.281.022   \n4  CO2 emissions (metric tons per capita)  7.521.831.658  723.537.924   \n\n          1992           1993           1994           1995  ...  \\\n0          NaN            NaN            NaN            NaN  ...   \n1   95.957.742      8.472.111     75.545.827     68.467.956  ...   \n2  543.557.223     70.898.423    836.804.405    912.141.485  ...   \n3  683.699.826    638.307.036    645.355.189    605.436.253  ...   \n4   69.630.787  6.724.177.518  6.541.578.914  6.733.479.486  ...   \n\n            2011           2012           2013           2014           2015  \\\n0            NaN            NaN            NaN            NaN            NaN   \n1     29.650.624    259.295.334     18.562.366    146.235.617    172.896.741   \n2    985.522.312    950.695.879  1.036.293.852  1.099.779.111    113.504.405   \n3    166.942.319    150.324.046  1.533.630.039  1.668.337.371    160.377.515   \n4  5.850.886.105  5.944.654.173  5.942.800.412  5.807.127.723  6.026.181.822   \n\n            2016           2017           2018           2019         2019.1  \n0            NaN            NaN            NaN            NaN            NaN  \n1    149.789.334    131.694.556      1.632.953    159.824.372    159.824.372  \n2  1.031.811.348     81.330.073    777.674.934    792.137.069    792.137.069  \n3  1.557.664.358  1.788.786.074  1.782.738.948    169.224.832    169.224.832  \n4  6.080.600.282  6.104.133.912  6.362.975.399  6.481.217.432  6.481.217.432  \n\n[5 rows x 35 columns]",
      "text/html": "<div>\n<style scoped>\n    .dataframe tbody tr th:only-of-type {\n        vertical-align: middle;\n    }\n\n    .dataframe tbody tr th {\n        vertical-align: top;\n    }\n\n    .dataframe thead th {\n        text-align: right;\n    }\n</style>\n<table border=\"1\" class=\"dataframe\">\n  <thead>\n    <tr style=\"text-align: right;\">\n      <th></th>\n      <th>Country Name</th>\n      <th>country_code</th>\n      <th>Region</th>\n      <th>Indicator Name</th>\n      <th>1990</th>\n      <th>1991</th>\n      <th>1992</th>\n      <th>1993</th>\n      <th>1994</th>\n      <th>1995</th>\n      <th>...</th>\n      <th>2011</th>\n      <th>2012</th>\n      <th>2013</th>\n      <th>2014</th>\n      <th>2015</th>\n      <th>2016</th>\n      <th>2017</th>\n      <th>2018</th>\n      <th>2019</th>\n      <th>2019.1</th>\n    </tr>\n  </thead>\n  <tbody>\n    <tr>\n      <th>0</th>\n      <td>Aruba</td>\n      <td>ABW</td>\n      <td>Latin America &amp; Caribbean</td>\n      <td>CO2 emissions (metric tons per capita)</td>\n      <td>NaN</td>\n      <td>NaN</td>\n      <td>NaN</td>\n      <td>NaN</td>\n      <td>NaN</td>\n      <td>NaN</td>\n      <td>...</td>\n      <td>NaN</td>\n      <td>NaN</td>\n      <td>NaN</td>\n      <td>NaN</td>\n      <td>NaN</td>\n      <td>NaN</td>\n      <td>NaN</td>\n      <td>NaN</td>\n      <td>NaN</td>\n      <td>NaN</td>\n    </tr>\n    <tr>\n      <th>1</th>\n      <td>Afghanistan</td>\n      <td>AFG</td>\n      <td>South Asia</td>\n      <td>CO2 emissions (metric tons per capita)</td>\n      <td>191.745.115</td>\n      <td>167.681.579</td>\n      <td>95.957.742</td>\n      <td>8.472.111</td>\n      <td>75.545.827</td>\n      <td>68.467.956</td>\n      <td>...</td>\n      <td>29.650.624</td>\n      <td>259.295.334</td>\n      <td>18.562.366</td>\n      <td>146.235.617</td>\n      <td>172.896.741</td>\n      <td>149.789.334</td>\n      <td>131.694.556</td>\n      <td>1.632.953</td>\n      <td>159.824.372</td>\n      <td>159.824.372</td>\n    </tr>\n    <tr>\n      <th>2</th>\n      <td>Angola</td>\n      <td>AGO</td>\n      <td>Sub-Saharan Africa</td>\n      <td>CO2 emissions (metric tons per capita)</td>\n      <td>553.661.955</td>\n      <td>544.538.649</td>\n      <td>543.557.223</td>\n      <td>70.898.423</td>\n      <td>836.804.405</td>\n      <td>912.141.485</td>\n      <td>...</td>\n      <td>985.522.312</td>\n      <td>950.695.879</td>\n      <td>1.036.293.852</td>\n      <td>1.099.779.111</td>\n      <td>113.504.405</td>\n      <td>1.031.811.348</td>\n      <td>81.330.073</td>\n      <td>777.674.934</td>\n      <td>792.137.069</td>\n      <td>792.137.069</td>\n    </tr>\n    <tr>\n      <th>3</th>\n      <td>Albania</td>\n      <td>ALB</td>\n      <td>Europe &amp; Central Asia</td>\n      <td>CO2 emissions (metric tons per capita)</td>\n      <td>1.819.541.634</td>\n      <td>124.281.022</td>\n      <td>683.699.826</td>\n      <td>638.307.036</td>\n      <td>645.355.189</td>\n      <td>605.436.253</td>\n      <td>...</td>\n      <td>166.942.319</td>\n      <td>150.324.046</td>\n      <td>1.533.630.039</td>\n      <td>1.668.337.371</td>\n      <td>160.377.515</td>\n      <td>1.557.664.358</td>\n      <td>1.788.786.074</td>\n      <td>1.782.738.948</td>\n      <td>169.224.832</td>\n      <td>169.224.832</td>\n    </tr>\n    <tr>\n      <th>4</th>\n      <td>Andorra</td>\n      <td>AND</td>\n      <td>Europe &amp; Central Asia</td>\n      <td>CO2 emissions (metric tons per capita)</td>\n      <td>7.521.831.658</td>\n      <td>723.537.924</td>\n      <td>69.630.787</td>\n      <td>6.724.177.518</td>\n      <td>6.541.578.914</td>\n      <td>6.733.479.486</td>\n      <td>...</td>\n      <td>5.850.886.105</td>\n      <td>5.944.654.173</td>\n      <td>5.942.800.412</td>\n      <td>5.807.127.723</td>\n      <td>6.026.181.822</td>\n      <td>6.080.600.282</td>\n      <td>6.104.133.912</td>\n      <td>6.362.975.399</td>\n      <td>6.481.217.432</td>\n      <td>6.481.217.432</td>\n    </tr>\n  </tbody>\n</table>\n<p>5 rows × 35 columns</p>\n</div>"
     },
     "execution_count": 20,
     "metadata": {},
     "output_type": "execute_result"
    }
   ],
   "source": [
    "sheet_id = '1pvBoLyX8kP0TjtUbadVMGdTl4yzm6bHMThhPiqCVtpw'\n",
    "url_google_sheets = f'https://docs.google.com/spreadsheets/d/{sheet_id}/gviz/tq?tqx=out:csv&sheet'\n",
    "dados_google_sheets = pd.read_csv(url_google_sheets)\n",
    "dados_google_sheets.head()"
   ],
   "metadata": {
    "collapsed": false,
    "ExecuteTime": {
     "end_time": "2024-01-02T20:19:38.149030Z",
     "start_time": "2024-01-02T20:19:37.162737Z"
    }
   },
   "id": "9bc8e301a7861917"
  },
  {
   "cell_type": "code",
   "execution_count": null,
   "outputs": [],
   "source": [
    "# sheet_name = '' # nome da planilha\n",
    "# url_google_sheets = f'https://docs.google.com/spreadsheets/d/{sheet_id}/gviz/tq?tqx=out:csv&sheet={sheet_name}'\n",
    "# dados_google_sheets = pd.read_csv(url_google_sheets)\n",
    "# dados_google_sheets.head()"
   ],
   "metadata": {
    "collapsed": false
   },
   "id": "b7fa8394b2dcc27c"
  },
  {
   "cell_type": "code",
   "execution_count": null,
   "outputs": [],
   "source": [
    "# dados_google_sheets.to_csv('dados/dados_google_sheets.csv', index=False)"
   ],
   "metadata": {
    "collapsed": false
   },
   "id": "2469439a4cf7d515"
  }
 ],
 "metadata": {
  "kernelspec": {
   "display_name": "Python 3",
   "language": "python",
   "name": "python3"
  },
  "language_info": {
   "codemirror_mode": {
    "name": "ipython",
    "version": 2
   },
   "file_extension": ".py",
   "mimetype": "text/x-python",
   "name": "python",
   "nbconvert_exporter": "python",
   "pygments_lexer": "ipython2",
   "version": "2.7.6"
  }
 },
 "nbformat": 4,
 "nbformat_minor": 5
}
