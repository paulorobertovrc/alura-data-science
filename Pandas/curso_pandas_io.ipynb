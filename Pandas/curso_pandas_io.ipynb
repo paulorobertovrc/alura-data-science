{
 "cells": [
  {
   "cell_type": "markdown",
   "source": [
    "# CURSO PANDAS I/O\n",
    "### Trabalhando com diferentes tipos de arquivos"
   ],
   "metadata": {
    "collapsed": false
   },
   "id": "8618f1a8e7d541dc"
  },
  {
   "cell_type": "code",
   "execution_count": 1,
   "outputs": [],
   "source": [
    "import pandas as pd"
   ],
   "metadata": {
    "collapsed": false,
    "ExecuteTime": {
     "end_time": "2023-12-30T17:12:58.490127Z",
     "start_time": "2023-12-30T17:12:58.227859Z"
    }
   },
   "id": "e83824e918c92aea"
  },
  {
   "cell_type": "markdown",
   "source": [
    "## CSV"
   ],
   "metadata": {
    "collapsed": false
   },
   "id": "bbb32e1f52c0af94"
  },
  {
   "cell_type": "markdown",
   "source": [
    "### Lendo um arquivo CSV"
   ],
   "metadata": {
    "collapsed": false
   },
   "id": "7e2010f71148784a"
  },
  {
   "cell_type": "code",
   "execution_count": 2,
   "outputs": [
    {
     "data": {
      "text/plain": "      Id  Year_Birth   Education Marital_Status   Income  Kidhome  Teenhome  \\\n0   1826        1970  Graduation       Divorced  84835.0        0         0   \n1      1        1961  Graduation         Single  57091.0        0         0   \n2  10476        1958  Graduation        Married  67267.0        0         1   \n3   1386        1967  Graduation       Together  32474.0        1         1   \n4   5371        1989  Graduation         Single  21474.0        1         0   \n\n  Dt_Customer  Recency  MntWines  ...  MntFishProducts  MntSweetProducts  \\\n0   6/16/2014        0       189  ...              111               189   \n1   6/15/2014        0       464  ...                7                 0   \n2   5/13/2014        0       134  ...               15                 2   \n3   11/5/2014        0        10  ...                0                 0   \n4    8/4/2014        0         6  ...               11                 0   \n\n   MntGoldProds  NumDealsPurchases  NumWebPurchases  NumCatalogPurchases  \\\n0           218                  1                4                    4   \n1            37                  1                7                    3   \n2            30                  1                3                    2   \n3             0                  1                1                    0   \n4            34                  2                3                    1   \n\n   NumStorePurchases  NumWebVisitsMonth  Response  Complain  \n0                  6                  1         1         0  \n1                  7                  5         1         0  \n2                  5                  2         0         0  \n3                  2                  7         0         0  \n4                  2                  7         1         0  \n\n[5 rows x 22 columns]",
      "text/html": "<div>\n<style scoped>\n    .dataframe tbody tr th:only-of-type {\n        vertical-align: middle;\n    }\n\n    .dataframe tbody tr th {\n        vertical-align: top;\n    }\n\n    .dataframe thead th {\n        text-align: right;\n    }\n</style>\n<table border=\"1\" class=\"dataframe\">\n  <thead>\n    <tr style=\"text-align: right;\">\n      <th></th>\n      <th>Id</th>\n      <th>Year_Birth</th>\n      <th>Education</th>\n      <th>Marital_Status</th>\n      <th>Income</th>\n      <th>Kidhome</th>\n      <th>Teenhome</th>\n      <th>Dt_Customer</th>\n      <th>Recency</th>\n      <th>MntWines</th>\n      <th>...</th>\n      <th>MntFishProducts</th>\n      <th>MntSweetProducts</th>\n      <th>MntGoldProds</th>\n      <th>NumDealsPurchases</th>\n      <th>NumWebPurchases</th>\n      <th>NumCatalogPurchases</th>\n      <th>NumStorePurchases</th>\n      <th>NumWebVisitsMonth</th>\n      <th>Response</th>\n      <th>Complain</th>\n    </tr>\n  </thead>\n  <tbody>\n    <tr>\n      <th>0</th>\n      <td>1826</td>\n      <td>1970</td>\n      <td>Graduation</td>\n      <td>Divorced</td>\n      <td>84835.0</td>\n      <td>0</td>\n      <td>0</td>\n      <td>6/16/2014</td>\n      <td>0</td>\n      <td>189</td>\n      <td>...</td>\n      <td>111</td>\n      <td>189</td>\n      <td>218</td>\n      <td>1</td>\n      <td>4</td>\n      <td>4</td>\n      <td>6</td>\n      <td>1</td>\n      <td>1</td>\n      <td>0</td>\n    </tr>\n    <tr>\n      <th>1</th>\n      <td>1</td>\n      <td>1961</td>\n      <td>Graduation</td>\n      <td>Single</td>\n      <td>57091.0</td>\n      <td>0</td>\n      <td>0</td>\n      <td>6/15/2014</td>\n      <td>0</td>\n      <td>464</td>\n      <td>...</td>\n      <td>7</td>\n      <td>0</td>\n      <td>37</td>\n      <td>1</td>\n      <td>7</td>\n      <td>3</td>\n      <td>7</td>\n      <td>5</td>\n      <td>1</td>\n      <td>0</td>\n    </tr>\n    <tr>\n      <th>2</th>\n      <td>10476</td>\n      <td>1958</td>\n      <td>Graduation</td>\n      <td>Married</td>\n      <td>67267.0</td>\n      <td>0</td>\n      <td>1</td>\n      <td>5/13/2014</td>\n      <td>0</td>\n      <td>134</td>\n      <td>...</td>\n      <td>15</td>\n      <td>2</td>\n      <td>30</td>\n      <td>1</td>\n      <td>3</td>\n      <td>2</td>\n      <td>5</td>\n      <td>2</td>\n      <td>0</td>\n      <td>0</td>\n    </tr>\n    <tr>\n      <th>3</th>\n      <td>1386</td>\n      <td>1967</td>\n      <td>Graduation</td>\n      <td>Together</td>\n      <td>32474.0</td>\n      <td>1</td>\n      <td>1</td>\n      <td>11/5/2014</td>\n      <td>0</td>\n      <td>10</td>\n      <td>...</td>\n      <td>0</td>\n      <td>0</td>\n      <td>0</td>\n      <td>1</td>\n      <td>1</td>\n      <td>0</td>\n      <td>2</td>\n      <td>7</td>\n      <td>0</td>\n      <td>0</td>\n    </tr>\n    <tr>\n      <th>4</th>\n      <td>5371</td>\n      <td>1989</td>\n      <td>Graduation</td>\n      <td>Single</td>\n      <td>21474.0</td>\n      <td>1</td>\n      <td>0</td>\n      <td>8/4/2014</td>\n      <td>0</td>\n      <td>6</td>\n      <td>...</td>\n      <td>11</td>\n      <td>0</td>\n      <td>34</td>\n      <td>2</td>\n      <td>3</td>\n      <td>1</td>\n      <td>2</td>\n      <td>7</td>\n      <td>1</td>\n      <td>0</td>\n    </tr>\n  </tbody>\n</table>\n<p>5 rows × 22 columns</p>\n</div>"
     },
     "execution_count": 2,
     "metadata": {},
     "output_type": "execute_result"
    }
   ],
   "source": [
    "url = 'https://raw.githubusercontent.com/alura-cursos/Pandas/main/superstore_data.csv'\n",
    "dados = pd.read_csv(url)\n",
    "dados.head()"
   ],
   "metadata": {
    "collapsed": false,
    "ExecuteTime": {
     "end_time": "2023-12-30T17:14:17.601306Z",
     "start_time": "2023-12-30T17:14:17.148647Z"
    }
   },
   "id": "d8b9f6f4facdfc18"
  },
  {
   "cell_type": "markdown",
   "source": [
    "### Lendo um arquivo CSV com separador diferente"
   ],
   "metadata": {
    "collapsed": false
   },
   "id": "ed887efeccfb109d"
  },
  {
   "cell_type": "code",
   "execution_count": 3,
   "outputs": [
    {
     "data": {
      "text/plain": "      Id  Year_Birth   Education Marital_Status   Income  Kidhome  Teenhome  \\\n0   1826        1970  Graduation       Divorced  84835.0        0         0   \n1      1        1961  Graduation         Single  57091.0        0         0   \n2  10476        1958  Graduation        Married  67267.0        0         1   \n3   1386        1967  Graduation       Together  32474.0        1         1   \n4   5371        1989  Graduation         Single  21474.0        1         0   \n\n  Dt_Customer  Recency  MntWines  ...  MntFishProducts  MntSweetProducts  \\\n0   6/16/2014        0       189  ...              111               189   \n1   6/15/2014        0       464  ...                7                 0   \n2   5/13/2014        0       134  ...               15                 2   \n3   11/5/2014        0        10  ...                0                 0   \n4    8/4/2014        0         6  ...               11                 0   \n\n   MntGoldProds  NumDealsPurchases  NumWebPurchases  NumCatalogPurchases  \\\n0           218                  1                4                    4   \n1            37                  1                7                    3   \n2            30                  1                3                    2   \n3             0                  1                1                    0   \n4            34                  2                3                    1   \n\n   NumStorePurchases  NumWebVisitsMonth  Response  Complain  \n0                  6                  1         1         0  \n1                  7                  5         1         0  \n2                  5                  2         0         0  \n3                  2                  7         0         0  \n4                  2                  7         1         0  \n\n[5 rows x 22 columns]",
      "text/html": "<div>\n<style scoped>\n    .dataframe tbody tr th:only-of-type {\n        vertical-align: middle;\n    }\n\n    .dataframe tbody tr th {\n        vertical-align: top;\n    }\n\n    .dataframe thead th {\n        text-align: right;\n    }\n</style>\n<table border=\"1\" class=\"dataframe\">\n  <thead>\n    <tr style=\"text-align: right;\">\n      <th></th>\n      <th>Id</th>\n      <th>Year_Birth</th>\n      <th>Education</th>\n      <th>Marital_Status</th>\n      <th>Income</th>\n      <th>Kidhome</th>\n      <th>Teenhome</th>\n      <th>Dt_Customer</th>\n      <th>Recency</th>\n      <th>MntWines</th>\n      <th>...</th>\n      <th>MntFishProducts</th>\n      <th>MntSweetProducts</th>\n      <th>MntGoldProds</th>\n      <th>NumDealsPurchases</th>\n      <th>NumWebPurchases</th>\n      <th>NumCatalogPurchases</th>\n      <th>NumStorePurchases</th>\n      <th>NumWebVisitsMonth</th>\n      <th>Response</th>\n      <th>Complain</th>\n    </tr>\n  </thead>\n  <tbody>\n    <tr>\n      <th>0</th>\n      <td>1826</td>\n      <td>1970</td>\n      <td>Graduation</td>\n      <td>Divorced</td>\n      <td>84835.0</td>\n      <td>0</td>\n      <td>0</td>\n      <td>6/16/2014</td>\n      <td>0</td>\n      <td>189</td>\n      <td>...</td>\n      <td>111</td>\n      <td>189</td>\n      <td>218</td>\n      <td>1</td>\n      <td>4</td>\n      <td>4</td>\n      <td>6</td>\n      <td>1</td>\n      <td>1</td>\n      <td>0</td>\n    </tr>\n    <tr>\n      <th>1</th>\n      <td>1</td>\n      <td>1961</td>\n      <td>Graduation</td>\n      <td>Single</td>\n      <td>57091.0</td>\n      <td>0</td>\n      <td>0</td>\n      <td>6/15/2014</td>\n      <td>0</td>\n      <td>464</td>\n      <td>...</td>\n      <td>7</td>\n      <td>0</td>\n      <td>37</td>\n      <td>1</td>\n      <td>7</td>\n      <td>3</td>\n      <td>7</td>\n      <td>5</td>\n      <td>1</td>\n      <td>0</td>\n    </tr>\n    <tr>\n      <th>2</th>\n      <td>10476</td>\n      <td>1958</td>\n      <td>Graduation</td>\n      <td>Married</td>\n      <td>67267.0</td>\n      <td>0</td>\n      <td>1</td>\n      <td>5/13/2014</td>\n      <td>0</td>\n      <td>134</td>\n      <td>...</td>\n      <td>15</td>\n      <td>2</td>\n      <td>30</td>\n      <td>1</td>\n      <td>3</td>\n      <td>2</td>\n      <td>5</td>\n      <td>2</td>\n      <td>0</td>\n      <td>0</td>\n    </tr>\n    <tr>\n      <th>3</th>\n      <td>1386</td>\n      <td>1967</td>\n      <td>Graduation</td>\n      <td>Together</td>\n      <td>32474.0</td>\n      <td>1</td>\n      <td>1</td>\n      <td>11/5/2014</td>\n      <td>0</td>\n      <td>10</td>\n      <td>...</td>\n      <td>0</td>\n      <td>0</td>\n      <td>0</td>\n      <td>1</td>\n      <td>1</td>\n      <td>0</td>\n      <td>2</td>\n      <td>7</td>\n      <td>0</td>\n      <td>0</td>\n    </tr>\n    <tr>\n      <th>4</th>\n      <td>5371</td>\n      <td>1989</td>\n      <td>Graduation</td>\n      <td>Single</td>\n      <td>21474.0</td>\n      <td>1</td>\n      <td>0</td>\n      <td>8/4/2014</td>\n      <td>0</td>\n      <td>6</td>\n      <td>...</td>\n      <td>11</td>\n      <td>0</td>\n      <td>34</td>\n      <td>2</td>\n      <td>3</td>\n      <td>1</td>\n      <td>2</td>\n      <td>7</td>\n      <td>1</td>\n      <td>0</td>\n    </tr>\n  </tbody>\n</table>\n<p>5 rows × 22 columns</p>\n</div>"
     },
     "execution_count": 3,
     "metadata": {},
     "output_type": "execute_result"
    }
   ],
   "source": [
    "url2 = 'https://raw.githubusercontent.com/alura-cursos/Pandas/main/superstore_data_ponto_virgula.csv'\n",
    "dados2 = pd.read_csv(url2, sep=';')\n",
    "dados2.head()"
   ],
   "metadata": {
    "collapsed": false,
    "ExecuteTime": {
     "end_time": "2023-12-30T17:20:14.868699Z",
     "start_time": "2023-12-30T17:20:14.578621Z"
    }
   },
   "id": "19b08a9a798ede4c"
  },
  {
   "cell_type": "markdown",
   "source": [
    "### Manipulações em um arquivo CSV"
   ],
   "metadata": {
    "collapsed": false
   },
   "id": "1c18da339d60f60d"
  },
  {
   "cell_type": "code",
   "execution_count": 7,
   "outputs": [
    {
     "data": {
      "text/plain": "      Id  Year_Birth   Education Marital_Status  Income  Kidhome  Teenhome  \\\n0   1826        1970  Graduation       Divorced   84835        0         0   \n1      1        1961  Graduation         Single   57091        0         0   \n2  10476        1958  Graduation        Married   67267        0         1   \n3   1386        1967  Graduation       Together   32474        1         1   \n4   5371        1989  Graduation         Single   21474        1         0   \n\n  Dt_Customer  Recency  MntWines  ...  MntFishProducts  MntSweetProducts  \\\n0   6/16/2014        0       189  ...              111               189   \n1   6/15/2014        0       464  ...                7                 0   \n2   5/13/2014        0       134  ...               15                 2   \n3   11/5/2014        0        10  ...                0                 0   \n4    8/4/2014        0         6  ...               11                 0   \n\n   MntGoldProds  NumDealsPurchases  NumWebPurchases  NumCatalogPurchases  \\\n0           218                  1                4                    4   \n1            37                  1                7                    3   \n2            30                  1                3                    2   \n3             0                  1                1                    0   \n4            34                  2                3                    1   \n\n   NumStorePurchases  NumWebVisitsMonth  Response  Complain  \n0                  6                  1         1         0  \n1                  7                  5         1         0  \n2                  5                  2         0         0  \n3                  2                  7         0         0  \n4                  2                  7         1         0  \n\n[5 rows x 22 columns]",
      "text/html": "<div>\n<style scoped>\n    .dataframe tbody tr th:only-of-type {\n        vertical-align: middle;\n    }\n\n    .dataframe tbody tr th {\n        vertical-align: top;\n    }\n\n    .dataframe thead th {\n        text-align: right;\n    }\n</style>\n<table border=\"1\" class=\"dataframe\">\n  <thead>\n    <tr style=\"text-align: right;\">\n      <th></th>\n      <th>Id</th>\n      <th>Year_Birth</th>\n      <th>Education</th>\n      <th>Marital_Status</th>\n      <th>Income</th>\n      <th>Kidhome</th>\n      <th>Teenhome</th>\n      <th>Dt_Customer</th>\n      <th>Recency</th>\n      <th>MntWines</th>\n      <th>...</th>\n      <th>MntFishProducts</th>\n      <th>MntSweetProducts</th>\n      <th>MntGoldProds</th>\n      <th>NumDealsPurchases</th>\n      <th>NumWebPurchases</th>\n      <th>NumCatalogPurchases</th>\n      <th>NumStorePurchases</th>\n      <th>NumWebVisitsMonth</th>\n      <th>Response</th>\n      <th>Complain</th>\n    </tr>\n  </thead>\n  <tbody>\n    <tr>\n      <th>0</th>\n      <td>1826</td>\n      <td>1970</td>\n      <td>Graduation</td>\n      <td>Divorced</td>\n      <td>84835</td>\n      <td>0</td>\n      <td>0</td>\n      <td>6/16/2014</td>\n      <td>0</td>\n      <td>189</td>\n      <td>...</td>\n      <td>111</td>\n      <td>189</td>\n      <td>218</td>\n      <td>1</td>\n      <td>4</td>\n      <td>4</td>\n      <td>6</td>\n      <td>1</td>\n      <td>1</td>\n      <td>0</td>\n    </tr>\n    <tr>\n      <th>1</th>\n      <td>1</td>\n      <td>1961</td>\n      <td>Graduation</td>\n      <td>Single</td>\n      <td>57091</td>\n      <td>0</td>\n      <td>0</td>\n      <td>6/15/2014</td>\n      <td>0</td>\n      <td>464</td>\n      <td>...</td>\n      <td>7</td>\n      <td>0</td>\n      <td>37</td>\n      <td>1</td>\n      <td>7</td>\n      <td>3</td>\n      <td>7</td>\n      <td>5</td>\n      <td>1</td>\n      <td>0</td>\n    </tr>\n    <tr>\n      <th>2</th>\n      <td>10476</td>\n      <td>1958</td>\n      <td>Graduation</td>\n      <td>Married</td>\n      <td>67267</td>\n      <td>0</td>\n      <td>1</td>\n      <td>5/13/2014</td>\n      <td>0</td>\n      <td>134</td>\n      <td>...</td>\n      <td>15</td>\n      <td>2</td>\n      <td>30</td>\n      <td>1</td>\n      <td>3</td>\n      <td>2</td>\n      <td>5</td>\n      <td>2</td>\n      <td>0</td>\n      <td>0</td>\n    </tr>\n    <tr>\n      <th>3</th>\n      <td>1386</td>\n      <td>1967</td>\n      <td>Graduation</td>\n      <td>Together</td>\n      <td>32474</td>\n      <td>1</td>\n      <td>1</td>\n      <td>11/5/2014</td>\n      <td>0</td>\n      <td>10</td>\n      <td>...</td>\n      <td>0</td>\n      <td>0</td>\n      <td>0</td>\n      <td>1</td>\n      <td>1</td>\n      <td>0</td>\n      <td>2</td>\n      <td>7</td>\n      <td>0</td>\n      <td>0</td>\n    </tr>\n    <tr>\n      <th>4</th>\n      <td>5371</td>\n      <td>1989</td>\n      <td>Graduation</td>\n      <td>Single</td>\n      <td>21474</td>\n      <td>1</td>\n      <td>0</td>\n      <td>8/4/2014</td>\n      <td>0</td>\n      <td>6</td>\n      <td>...</td>\n      <td>11</td>\n      <td>0</td>\n      <td>34</td>\n      <td>2</td>\n      <td>3</td>\n      <td>1</td>\n      <td>2</td>\n      <td>7</td>\n      <td>1</td>\n      <td>0</td>\n    </tr>\n  </tbody>\n</table>\n<p>5 rows × 22 columns</p>\n</div>"
     },
     "execution_count": 7,
     "metadata": {},
     "output_type": "execute_result"
    }
   ],
   "source": [
    "# dados_primeiras_linhas = dados.head() # 5 primeiras linhas\n",
    "dados_primeiras_linhas = pd.read_csv(url, nrows=5) # 5 primeiras linhas\n",
    "dados_primeiras_linhas"
   ],
   "metadata": {
    "collapsed": false,
    "ExecuteTime": {
     "end_time": "2023-12-30T17:23:37.995085Z",
     "start_time": "2023-12-30T17:23:37.862777Z"
    }
   },
   "id": "17c5a89d1b3429f7"
  },
  {
   "cell_type": "code",
   "execution_count": 10,
   "outputs": [
    {
     "data": {
      "text/plain": "         Id  Year_Birth   Income\n0      1826        1970  84835.0\n1         1        1961  57091.0\n2     10476        1958  67267.0\n3      1386        1967  32474.0\n4      5371        1989  21474.0\n...     ...         ...      ...\n2235  10142        1976  66476.0\n2236   5263        1977  31056.0\n2237     22        1976  46310.0\n2238    528        1978  65819.0\n2239   4070        1969  94871.0\n\n[2240 rows x 3 columns]",
      "text/html": "<div>\n<style scoped>\n    .dataframe tbody tr th:only-of-type {\n        vertical-align: middle;\n    }\n\n    .dataframe tbody tr th {\n        vertical-align: top;\n    }\n\n    .dataframe thead th {\n        text-align: right;\n    }\n</style>\n<table border=\"1\" class=\"dataframe\">\n  <thead>\n    <tr style=\"text-align: right;\">\n      <th></th>\n      <th>Id</th>\n      <th>Year_Birth</th>\n      <th>Income</th>\n    </tr>\n  </thead>\n  <tbody>\n    <tr>\n      <th>0</th>\n      <td>1826</td>\n      <td>1970</td>\n      <td>84835.0</td>\n    </tr>\n    <tr>\n      <th>1</th>\n      <td>1</td>\n      <td>1961</td>\n      <td>57091.0</td>\n    </tr>\n    <tr>\n      <th>2</th>\n      <td>10476</td>\n      <td>1958</td>\n      <td>67267.0</td>\n    </tr>\n    <tr>\n      <th>3</th>\n      <td>1386</td>\n      <td>1967</td>\n      <td>32474.0</td>\n    </tr>\n    <tr>\n      <th>4</th>\n      <td>5371</td>\n      <td>1989</td>\n      <td>21474.0</td>\n    </tr>\n    <tr>\n      <th>...</th>\n      <td>...</td>\n      <td>...</td>\n      <td>...</td>\n    </tr>\n    <tr>\n      <th>2235</th>\n      <td>10142</td>\n      <td>1976</td>\n      <td>66476.0</td>\n    </tr>\n    <tr>\n      <th>2236</th>\n      <td>5263</td>\n      <td>1977</td>\n      <td>31056.0</td>\n    </tr>\n    <tr>\n      <th>2237</th>\n      <td>22</td>\n      <td>1976</td>\n      <td>46310.0</td>\n    </tr>\n    <tr>\n      <th>2238</th>\n      <td>528</td>\n      <td>1978</td>\n      <td>65819.0</td>\n    </tr>\n    <tr>\n      <th>2239</th>\n      <td>4070</td>\n      <td>1969</td>\n      <td>94871.0</td>\n    </tr>\n  </tbody>\n</table>\n<p>2240 rows × 3 columns</p>\n</div>"
     },
     "execution_count": 10,
     "metadata": {},
     "output_type": "execute_result"
    }
   ],
   "source": [
    "# dados_selecao = pd.read_csv(url, usecols=['Id', 'Year_Birth', 'Income'])\n",
    "dados_selecao = pd.read_csv(url, usecols=[0, 1, 4]) # selecionando colunas pelo índice\n",
    "dados_selecao"
   ],
   "metadata": {
    "collapsed": false,
    "ExecuteTime": {
     "end_time": "2023-12-30T17:25:51.656934Z",
     "start_time": "2023-12-30T17:25:51.516739Z"
    }
   },
   "id": "59bd66dc23528884"
  },
  {
   "cell_type": "code",
   "execution_count": null,
   "outputs": [],
   "source": [
    "# dados_selecao.to_csv('dados_selecao.csv', index=False) # salvando o arquivo"
   ],
   "metadata": {
    "collapsed": false
   },
   "id": "7f5b19e5b1dc99d3"
  },
  {
   "cell_type": "code",
   "execution_count": 12,
   "outputs": [
    {
     "data": {
      "text/plain": "  Unidade da Federação     2008/Jan     2008/Fev     2008/Mar     2008/Abr  \\\n0             Rondônia   1388528.39   2931283.42   1541682.52   1525314.96   \n1                 Acre    902416.00   1497206.26   1794028.48   1730469.42   \n2             Amazonas   4735529.42   7118990.57   8196635.49   8259378.42   \n3              Roraima    657889.53    777939.31    718688.03    839994.39   \n4                 Pará  18864744.11  19553758.20  21937342.70  20842829.69   \n\n      2008/Mai     2008/Jun     2008/Jul     2008/Ago     2008/Set  ...  \\\n0   1645953.84   1406150.68   3065279.01   3231494.61   3117178.63  ...   \n1   1819443.92   1828496.00   2511754.59   2089107.14   2275708.53  ...   \n2   7831399.90   8477273.62   9368858.72   9352532.70   9363099.35  ...   \n3    862347.96    832440.66    996693.09    894271.18    910424.17  ...   \n4  23249952.88  23240687.56  24002223.56  23341218.03  25172261.32  ...   \n\n      2020/Jul     2020/Ago     2020/Set     2020/Out     2020/Nov  \\\n0  11824687.13  11733307.76  10201985.14   7955139.45   9357946.29   \n1   3915193.20   3640142.82   3391242.21   4044321.44   3276590.10   \n2  19769460.14  18059931.43  17841015.63  16408315.10  19895617.91   \n3   3015488.30   2826486.18   2928043.91   3090313.73   3621031.05   \n4  40804126.43  44385715.88  36820249.47  36965931.34  39004315.80   \n\n      2020/Dez     2021/Jan     2021/Fev     2021/Mar         Total  \n0   8880836.55   9266014.59   7730597.04  11023309.47  9.964113e+08  \n1   3696997.31   3715723.12   3538427.92   4077045.92  4.500485e+08  \n2  17765167.69  21430289.17  25917134.55  22032176.22  1.917248e+09  \n3   3454460.94   3266928.47   3519773.73   3985530.08  3.288770e+08  \n4  38015145.79  38354682.46  37688314.23  33276392.89  4.705309e+09  \n\n[5 rows x 161 columns]",
      "text/html": "<div>\n<style scoped>\n    .dataframe tbody tr th:only-of-type {\n        vertical-align: middle;\n    }\n\n    .dataframe tbody tr th {\n        vertical-align: top;\n    }\n\n    .dataframe thead th {\n        text-align: right;\n    }\n</style>\n<table border=\"1\" class=\"dataframe\">\n  <thead>\n    <tr style=\"text-align: right;\">\n      <th></th>\n      <th>Unidade da Federação</th>\n      <th>2008/Jan</th>\n      <th>2008/Fev</th>\n      <th>2008/Mar</th>\n      <th>2008/Abr</th>\n      <th>2008/Mai</th>\n      <th>2008/Jun</th>\n      <th>2008/Jul</th>\n      <th>2008/Ago</th>\n      <th>2008/Set</th>\n      <th>...</th>\n      <th>2020/Jul</th>\n      <th>2020/Ago</th>\n      <th>2020/Set</th>\n      <th>2020/Out</th>\n      <th>2020/Nov</th>\n      <th>2020/Dez</th>\n      <th>2021/Jan</th>\n      <th>2021/Fev</th>\n      <th>2021/Mar</th>\n      <th>Total</th>\n    </tr>\n  </thead>\n  <tbody>\n    <tr>\n      <th>0</th>\n      <td>Rondônia</td>\n      <td>1388528.39</td>\n      <td>2931283.42</td>\n      <td>1541682.52</td>\n      <td>1525314.96</td>\n      <td>1645953.84</td>\n      <td>1406150.68</td>\n      <td>3065279.01</td>\n      <td>3231494.61</td>\n      <td>3117178.63</td>\n      <td>...</td>\n      <td>11824687.13</td>\n      <td>11733307.76</td>\n      <td>10201985.14</td>\n      <td>7955139.45</td>\n      <td>9357946.29</td>\n      <td>8880836.55</td>\n      <td>9266014.59</td>\n      <td>7730597.04</td>\n      <td>11023309.47</td>\n      <td>9.964113e+08</td>\n    </tr>\n    <tr>\n      <th>1</th>\n      <td>Acre</td>\n      <td>902416.00</td>\n      <td>1497206.26</td>\n      <td>1794028.48</td>\n      <td>1730469.42</td>\n      <td>1819443.92</td>\n      <td>1828496.00</td>\n      <td>2511754.59</td>\n      <td>2089107.14</td>\n      <td>2275708.53</td>\n      <td>...</td>\n      <td>3915193.20</td>\n      <td>3640142.82</td>\n      <td>3391242.21</td>\n      <td>4044321.44</td>\n      <td>3276590.10</td>\n      <td>3696997.31</td>\n      <td>3715723.12</td>\n      <td>3538427.92</td>\n      <td>4077045.92</td>\n      <td>4.500485e+08</td>\n    </tr>\n    <tr>\n      <th>2</th>\n      <td>Amazonas</td>\n      <td>4735529.42</td>\n      <td>7118990.57</td>\n      <td>8196635.49</td>\n      <td>8259378.42</td>\n      <td>7831399.90</td>\n      <td>8477273.62</td>\n      <td>9368858.72</td>\n      <td>9352532.70</td>\n      <td>9363099.35</td>\n      <td>...</td>\n      <td>19769460.14</td>\n      <td>18059931.43</td>\n      <td>17841015.63</td>\n      <td>16408315.10</td>\n      <td>19895617.91</td>\n      <td>17765167.69</td>\n      <td>21430289.17</td>\n      <td>25917134.55</td>\n      <td>22032176.22</td>\n      <td>1.917248e+09</td>\n    </tr>\n    <tr>\n      <th>3</th>\n      <td>Roraima</td>\n      <td>657889.53</td>\n      <td>777939.31</td>\n      <td>718688.03</td>\n      <td>839994.39</td>\n      <td>862347.96</td>\n      <td>832440.66</td>\n      <td>996693.09</td>\n      <td>894271.18</td>\n      <td>910424.17</td>\n      <td>...</td>\n      <td>3015488.30</td>\n      <td>2826486.18</td>\n      <td>2928043.91</td>\n      <td>3090313.73</td>\n      <td>3621031.05</td>\n      <td>3454460.94</td>\n      <td>3266928.47</td>\n      <td>3519773.73</td>\n      <td>3985530.08</td>\n      <td>3.288770e+08</td>\n    </tr>\n    <tr>\n      <th>4</th>\n      <td>Pará</td>\n      <td>18864744.11</td>\n      <td>19553758.20</td>\n      <td>21937342.70</td>\n      <td>20842829.69</td>\n      <td>23249952.88</td>\n      <td>23240687.56</td>\n      <td>24002223.56</td>\n      <td>23341218.03</td>\n      <td>25172261.32</td>\n      <td>...</td>\n      <td>40804126.43</td>\n      <td>44385715.88</td>\n      <td>36820249.47</td>\n      <td>36965931.34</td>\n      <td>39004315.80</td>\n      <td>38015145.79</td>\n      <td>38354682.46</td>\n      <td>37688314.23</td>\n      <td>33276392.89</td>\n      <td>4.705309e+09</td>\n    </tr>\n  </tbody>\n</table>\n<p>5 rows × 161 columns</p>\n</div>"
     },
     "execution_count": 12,
     "metadata": {},
     "output_type": "execute_result"
    }
   ],
   "source": [
    "url_dados_sus = 'https://raw.githubusercontent.com/alura-cursos/Pandas/main/dados_sus.csv'\n",
    "dados_sus = pd.read_csv(url_dados_sus, encoding='ISO-8859-1', sep=';', skiprows=3, skipfooter=12, thousands='.', decimal=',', engine='python')\n",
    "dados_sus.head()"
   ],
   "metadata": {
    "collapsed": false,
    "ExecuteTime": {
     "end_time": "2023-12-30T17:36:56.185895Z",
     "start_time": "2023-12-30T17:36:56.062660Z"
    }
   },
   "id": "b512488e8672b40a"
  },
  {
   "cell_type": "code",
   "execution_count": null,
   "outputs": [],
   "source": [],
   "metadata": {
    "collapsed": false
   },
   "id": "38dfa6fe7a225367"
  }
 ],
 "metadata": {
  "kernelspec": {
   "display_name": "Python 3",
   "language": "python",
   "name": "python3"
  },
  "language_info": {
   "codemirror_mode": {
    "name": "ipython",
    "version": 2
   },
   "file_extension": ".py",
   "mimetype": "text/x-python",
   "name": "python",
   "nbconvert_exporter": "python",
   "pygments_lexer": "ipython2",
   "version": "2.7.6"
  }
 },
 "nbformat": 4,
 "nbformat_minor": 5
}
