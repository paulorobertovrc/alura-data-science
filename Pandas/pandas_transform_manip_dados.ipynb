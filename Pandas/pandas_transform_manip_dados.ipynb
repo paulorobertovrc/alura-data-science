{
 "cells": [
  {
   "cell_type": "markdown",
   "source": [
    "# CURSO PANDAS: TRANSFORMAÇÃO E MANIPULAÇÃO DE DADOS\n",
    "## Precificação inteligente de imóveis\n",
    "### Preparação de dados"
   ],
   "metadata": {
    "collapsed": false
   },
   "id": "e91feba9d7d3dfd7"
  },
  {
   "cell_type": "code",
   "outputs": [],
   "source": [
    "import pandas as pd"
   ],
   "metadata": {
    "collapsed": false,
    "ExecuteTime": {
     "end_time": "2024-01-13T19:08:38.747459Z",
     "start_time": "2024-01-13T19:08:38.361401Z"
    }
   },
   "id": "ec05206e3eb77ba8",
   "execution_count": 1
  },
  {
   "cell_type": "code",
   "outputs": [
    {
     "data": {
      "text/plain": "                                         info_moveis\n0  {'avaliacao_geral': '10.0', 'experiencia_local...\n1  {'avaliacao_geral': '10.0', 'experiencia_local...\n2  {'avaliacao_geral': '10.0', 'experiencia_local...\n3  {'avaliacao_geral': '10.0', 'experiencia_local...\n4  {'avaliacao_geral': '10.0', 'experiencia_local...",
      "text/html": "<div>\n<style scoped>\n    .dataframe tbody tr th:only-of-type {\n        vertical-align: middle;\n    }\n\n    .dataframe tbody tr th {\n        vertical-align: top;\n    }\n\n    .dataframe thead th {\n        text-align: right;\n    }\n</style>\n<table border=\"1\" class=\"dataframe\">\n  <thead>\n    <tr style=\"text-align: right;\">\n      <th></th>\n      <th>info_moveis</th>\n    </tr>\n  </thead>\n  <tbody>\n    <tr>\n      <th>0</th>\n      <td>{'avaliacao_geral': '10.0', 'experiencia_local...</td>\n    </tr>\n    <tr>\n      <th>1</th>\n      <td>{'avaliacao_geral': '10.0', 'experiencia_local...</td>\n    </tr>\n    <tr>\n      <th>2</th>\n      <td>{'avaliacao_geral': '10.0', 'experiencia_local...</td>\n    </tr>\n    <tr>\n      <th>3</th>\n      <td>{'avaliacao_geral': '10.0', 'experiencia_local...</td>\n    </tr>\n    <tr>\n      <th>4</th>\n      <td>{'avaliacao_geral': '10.0', 'experiencia_local...</td>\n    </tr>\n  </tbody>\n</table>\n</div>"
     },
     "execution_count": 2,
     "metadata": {},
     "output_type": "execute_result"
    }
   ],
   "source": [
    "url_dados_hospedagem = 'https://caelum-online-public.s3.amazonaws.com/2928-transformacao-manipulacao-dados/dados_hospedagem.json'\n",
    "dados_hospedagem = pd.read_json(url_dados_hospedagem)\n",
    "dados_hospedagem.head()"
   ],
   "metadata": {
    "collapsed": false,
    "ExecuteTime": {
     "end_time": "2024-01-13T19:08:50.064360Z",
     "start_time": "2024-01-13T19:08:38.739216Z"
    }
   },
   "id": "7146643029981ac2",
   "execution_count": 2
  },
  {
   "cell_type": "code",
   "outputs": [
    {
     "data": {
      "text/plain": "    id        data  vaga_disponivel preco\n0  857  2016-01-04            False  None\n1  857  2016-01-05            False  None\n2  857  2016-01-06            False  None\n3  857  2016-01-07            False  None\n4  857  2016-01-08            False  None",
      "text/html": "<div>\n<style scoped>\n    .dataframe tbody tr th:only-of-type {\n        vertical-align: middle;\n    }\n\n    .dataframe tbody tr th {\n        vertical-align: top;\n    }\n\n    .dataframe thead th {\n        text-align: right;\n    }\n</style>\n<table border=\"1\" class=\"dataframe\">\n  <thead>\n    <tr style=\"text-align: right;\">\n      <th></th>\n      <th>id</th>\n      <th>data</th>\n      <th>vaga_disponivel</th>\n      <th>preco</th>\n    </tr>\n  </thead>\n  <tbody>\n    <tr>\n      <th>0</th>\n      <td>857</td>\n      <td>2016-01-04</td>\n      <td>False</td>\n      <td>None</td>\n    </tr>\n    <tr>\n      <th>1</th>\n      <td>857</td>\n      <td>2016-01-05</td>\n      <td>False</td>\n      <td>None</td>\n    </tr>\n    <tr>\n      <th>2</th>\n      <td>857</td>\n      <td>2016-01-06</td>\n      <td>False</td>\n      <td>None</td>\n    </tr>\n    <tr>\n      <th>3</th>\n      <td>857</td>\n      <td>2016-01-07</td>\n      <td>False</td>\n      <td>None</td>\n    </tr>\n    <tr>\n      <th>4</th>\n      <td>857</td>\n      <td>2016-01-08</td>\n      <td>False</td>\n      <td>None</td>\n    </tr>\n  </tbody>\n</table>\n</div>"
     },
     "execution_count": 3,
     "metadata": {},
     "output_type": "execute_result"
    }
   ],
   "source": [
    "url_imoveis_disponiveis = 'https://caelum-online-public.s3.amazonaws.com/2928-transformacao-manipulacao-dados/moveis_disponiveis.json'\n",
    "dados_imoveis_disponiveis = pd.read_json(url_imoveis_disponiveis)\n",
    "dados_imoveis_disponiveis.head()"
   ],
   "metadata": {
    "collapsed": false,
    "ExecuteTime": {
     "end_time": "2024-01-13T19:09:13.119054Z",
     "start_time": "2024-01-13T19:08:50.064579Z"
    }
   },
   "id": "bc93eda4f37f10d",
   "execution_count": 3
  },
  {
   "cell_type": "markdown",
   "source": [
    "### Desaninhando os dados"
   ],
   "metadata": {
    "collapsed": false
   },
   "id": "7d6febbb5d81b0d5"
  },
  {
   "cell_type": "code",
   "outputs": [
    {
     "data": {
      "text/plain": "  avaliacao_geral experiencia_local max_hospedes  \\\n0            10.0                --            1   \n1            10.0                --           10   \n2            10.0                --           11   \n3            10.0                --           12   \n4            10.0                --           14   \n\n                                     descricao_local  \\\n0  [This clean and comfortable one bedroom sits r...   \n1  [Welcome to the heart of the 'Ballard Brewery ...   \n2  [New modern house built in 2013.  Spectacular ...   \n3  [Our NW style home is 3200+ sq ft with 3 level...   \n4  [Perfect for groups. 2 bedrooms, full bathroom...   \n\n                                descricao_vizinhanca  \\\n0  [Lower Queen Anne is near the Seattle Center (...   \n1  [--, Capital Hill is the heart of Seattle, bor...   \n2  [Upper Queen Anne is a charming neighborhood f...   \n3  [The Views from our top floor!  Wallingford ha...   \n4  [Safeway grocery store within walking distance...   \n\n                                quantidade_banheiros  \\\n0  [1, 1, 1, 1, 1, 1, 1, 1, 1, 1, 1, 1, 1, 1, 1, ...   \n1                  [2, 3, 2, 3, 3, 3, 2, 1, 2, 2, 2]   \n2                                                [4]   \n3                           [3, 3, 3, 3, 3, 3, 3, 3]   \n4                                             [2, 3]   \n\n                                  quantidade_quartos  \\\n0  [1, 1, 1, 1, 1, 1, 1, 1, 1, 1, 1, 1, 1, 1, 1, ...   \n1                  [3, 4, 2, 3, 3, 3, 3, 3, 3, 4, 3]   \n2                                                [5]   \n3                           [6, 6, 5, 5, 5, 5, 4, 4]   \n4                                             [2, 6]   \n\n                                    quantidade_camas  \\\n0  [1, 1, 1, 1, 1, 1, 1, 1, 1, 1, 1, 1, 1, 1, 1, ...   \n1                  [5, 6, 8, 3, 3, 5, 4, 5, 6, 7, 4]   \n2                                                [7]   \n3                           [6, 6, 7, 8, 7, 7, 6, 6]   \n4                                             [3, 9]   \n\n                                         modelo_cama  \\\n0  [Real Bed, Futon, Futon, Pull-out Sofa, Real B...   \n1  [Real Bed, Real Bed, Real Bed, Real Bed, Real ...   \n2                                         [Real Bed]   \n3  [Real Bed, Real Bed, Real Bed, Real Bed, Real ...   \n4                               [Real Bed, Real Bed]   \n\n                                         comodidades  \\\n0  [{Internet,\"Wireless Internet\",Kitchen,\"Free P...   \n1  [{TV,Internet,\"Wireless Internet\",Kitchen,\"Fre...   \n2  [{TV,\"Cable TV\",Internet,\"Wireless Internet\",\"...   \n3  [{Internet,\"Wireless Internet\",Kitchen,\"Free P...   \n4  [{TV,Internet,\"Wireless Internet\",Kitchen,\"Fre...   \n\n                                       taxa_deposito  \\\n0  [$0, $0, $0, $0, $0, $350.00, $350.00, $350.00...   \n1  [$500.00, $300.00, $0, $300.00, $300.00, $360....   \n2                                        [$1,000.00]   \n3  [$500.00, $500.00, $500.00, $500.00, $500.00, ...   \n4                               [$300.00, $2,000.00]   \n\n                                        taxa_limpeza  \\\n0  [$0, $0, $0, $20.00, $15.00, $28.00, $35.00, $...   \n1  [$125.00, $100.00, $85.00, $110.00, $110.00, $...   \n2                                          [$300.00]   \n3  [$225.00, $300.00, $250.00, $250.00, $250.00, ...   \n4                                  [$40.00, $150.00]   \n\n                                               preco  \n0  [$110.00, $45.00, $55.00, $52.00, $85.00, $50....  \n1  [$350.00, $300.00, $425.00, $300.00, $285.00, ...  \n2                                          [$975.00]  \n3  [$490.00, $550.00, $350.00, $350.00, $350.00, ...  \n4                                 [$200.00, $545.00]  ",
      "text/html": "<div>\n<style scoped>\n    .dataframe tbody tr th:only-of-type {\n        vertical-align: middle;\n    }\n\n    .dataframe tbody tr th {\n        vertical-align: top;\n    }\n\n    .dataframe thead th {\n        text-align: right;\n    }\n</style>\n<table border=\"1\" class=\"dataframe\">\n  <thead>\n    <tr style=\"text-align: right;\">\n      <th></th>\n      <th>avaliacao_geral</th>\n      <th>experiencia_local</th>\n      <th>max_hospedes</th>\n      <th>descricao_local</th>\n      <th>descricao_vizinhanca</th>\n      <th>quantidade_banheiros</th>\n      <th>quantidade_quartos</th>\n      <th>quantidade_camas</th>\n      <th>modelo_cama</th>\n      <th>comodidades</th>\n      <th>taxa_deposito</th>\n      <th>taxa_limpeza</th>\n      <th>preco</th>\n    </tr>\n  </thead>\n  <tbody>\n    <tr>\n      <th>0</th>\n      <td>10.0</td>\n      <td>--</td>\n      <td>1</td>\n      <td>[This clean and comfortable one bedroom sits r...</td>\n      <td>[Lower Queen Anne is near the Seattle Center (...</td>\n      <td>[1, 1, 1, 1, 1, 1, 1, 1, 1, 1, 1, 1, 1, 1, 1, ...</td>\n      <td>[1, 1, 1, 1, 1, 1, 1, 1, 1, 1, 1, 1, 1, 1, 1, ...</td>\n      <td>[1, 1, 1, 1, 1, 1, 1, 1, 1, 1, 1, 1, 1, 1, 1, ...</td>\n      <td>[Real Bed, Futon, Futon, Pull-out Sofa, Real B...</td>\n      <td>[{Internet,\"Wireless Internet\",Kitchen,\"Free P...</td>\n      <td>[$0, $0, $0, $0, $0, $350.00, $350.00, $350.00...</td>\n      <td>[$0, $0, $0, $20.00, $15.00, $28.00, $35.00, $...</td>\n      <td>[$110.00, $45.00, $55.00, $52.00, $85.00, $50....</td>\n    </tr>\n    <tr>\n      <th>1</th>\n      <td>10.0</td>\n      <td>--</td>\n      <td>10</td>\n      <td>[Welcome to the heart of the 'Ballard Brewery ...</td>\n      <td>[--, Capital Hill is the heart of Seattle, bor...</td>\n      <td>[2, 3, 2, 3, 3, 3, 2, 1, 2, 2, 2]</td>\n      <td>[3, 4, 2, 3, 3, 3, 3, 3, 3, 4, 3]</td>\n      <td>[5, 6, 8, 3, 3, 5, 4, 5, 6, 7, 4]</td>\n      <td>[Real Bed, Real Bed, Real Bed, Real Bed, Real ...</td>\n      <td>[{TV,Internet,\"Wireless Internet\",Kitchen,\"Fre...</td>\n      <td>[$500.00, $300.00, $0, $300.00, $300.00, $360....</td>\n      <td>[$125.00, $100.00, $85.00, $110.00, $110.00, $...</td>\n      <td>[$350.00, $300.00, $425.00, $300.00, $285.00, ...</td>\n    </tr>\n    <tr>\n      <th>2</th>\n      <td>10.0</td>\n      <td>--</td>\n      <td>11</td>\n      <td>[New modern house built in 2013.  Spectacular ...</td>\n      <td>[Upper Queen Anne is a charming neighborhood f...</td>\n      <td>[4]</td>\n      <td>[5]</td>\n      <td>[7]</td>\n      <td>[Real Bed]</td>\n      <td>[{TV,\"Cable TV\",Internet,\"Wireless Internet\",\"...</td>\n      <td>[$1,000.00]</td>\n      <td>[$300.00]</td>\n      <td>[$975.00]</td>\n    </tr>\n    <tr>\n      <th>3</th>\n      <td>10.0</td>\n      <td>--</td>\n      <td>12</td>\n      <td>[Our NW style home is 3200+ sq ft with 3 level...</td>\n      <td>[The Views from our top floor!  Wallingford ha...</td>\n      <td>[3, 3, 3, 3, 3, 3, 3, 3]</td>\n      <td>[6, 6, 5, 5, 5, 5, 4, 4]</td>\n      <td>[6, 6, 7, 8, 7, 7, 6, 6]</td>\n      <td>[Real Bed, Real Bed, Real Bed, Real Bed, Real ...</td>\n      <td>[{Internet,\"Wireless Internet\",Kitchen,\"Free P...</td>\n      <td>[$500.00, $500.00, $500.00, $500.00, $500.00, ...</td>\n      <td>[$225.00, $300.00, $250.00, $250.00, $250.00, ...</td>\n      <td>[$490.00, $550.00, $350.00, $350.00, $350.00, ...</td>\n    </tr>\n    <tr>\n      <th>4</th>\n      <td>10.0</td>\n      <td>--</td>\n      <td>14</td>\n      <td>[Perfect for groups. 2 bedrooms, full bathroom...</td>\n      <td>[Safeway grocery store within walking distance...</td>\n      <td>[2, 3]</td>\n      <td>[2, 6]</td>\n      <td>[3, 9]</td>\n      <td>[Real Bed, Real Bed]</td>\n      <td>[{TV,Internet,\"Wireless Internet\",Kitchen,\"Fre...</td>\n      <td>[$300.00, $2,000.00]</td>\n      <td>[$40.00, $150.00]</td>\n      <td>[$200.00, $545.00]</td>\n    </tr>\n  </tbody>\n</table>\n</div>"
     },
     "execution_count": 4,
     "metadata": {},
     "output_type": "execute_result"
    }
   ],
   "source": [
    "dados_hospedagem = pd.json_normalize(dados_hospedagem['info_moveis'])\n",
    "dados_hospedagem.head()"
   ],
   "metadata": {
    "collapsed": false,
    "ExecuteTime": {
     "end_time": "2024-01-13T19:09:13.141436Z",
     "start_time": "2024-01-13T19:09:13.127519Z"
    }
   },
   "id": "759af86b37b62477",
   "execution_count": 4
  },
  {
   "cell_type": "code",
   "outputs": [],
   "source": [
    "url_dados_vendas_clientes = 'https://caelum-online-public.s3.amazonaws.com/2928-transformacao-manipulacao-dados/dados_vendas_clientes.json'\n",
    "url_dados_locacao_imoveis = 'https://caelum-online-public.s3.amazonaws.com/2928-transformacao-manipulacao-dados/dados_locacao_imoveis.json'\n",
    "dados_vendas_clientes = pd.read_json(url_dados_vendas_clientes)\n",
    "dados_locacao_imoveis = pd.read_json(url_dados_locacao_imoveis)"
   ],
   "metadata": {
    "collapsed": false,
    "ExecuteTime": {
     "end_time": "2024-01-13T19:49:12.592197Z",
     "start_time": "2024-01-13T19:49:11.224292Z"
    }
   },
   "id": "dfea6b748051527b",
   "execution_count": 40
  },
  {
   "cell_type": "code",
   "outputs": [
    {
     "data": {
      "text/plain": "                                        dados_vendas\n0  {'Data de venda': '06/06/2022', 'Cliente': ['@...\n1  {'Data de venda': '07/06/2022', 'Cliente': ['I...\n2  {'Data de venda': '08/06/2022', 'Cliente': ['I...\n3  {'Data de venda': '09/06/2022', 'Cliente': ['J...\n4  {'Data de venda': '10/06/2022', 'Cliente': ['M...",
      "text/html": "<div>\n<style scoped>\n    .dataframe tbody tr th:only-of-type {\n        vertical-align: middle;\n    }\n\n    .dataframe tbody tr th {\n        vertical-align: top;\n    }\n\n    .dataframe thead th {\n        text-align: right;\n    }\n</style>\n<table border=\"1\" class=\"dataframe\">\n  <thead>\n    <tr style=\"text-align: right;\">\n      <th></th>\n      <th>dados_vendas</th>\n    </tr>\n  </thead>\n  <tbody>\n    <tr>\n      <th>0</th>\n      <td>{'Data de venda': '06/06/2022', 'Cliente': ['@...</td>\n    </tr>\n    <tr>\n      <th>1</th>\n      <td>{'Data de venda': '07/06/2022', 'Cliente': ['I...</td>\n    </tr>\n    <tr>\n      <th>2</th>\n      <td>{'Data de venda': '08/06/2022', 'Cliente': ['I...</td>\n    </tr>\n    <tr>\n      <th>3</th>\n      <td>{'Data de venda': '09/06/2022', 'Cliente': ['J...</td>\n    </tr>\n    <tr>\n      <th>4</th>\n      <td>{'Data de venda': '10/06/2022', 'Cliente': ['M...</td>\n    </tr>\n  </tbody>\n</table>\n</div>"
     },
     "execution_count": 6,
     "metadata": {},
     "output_type": "execute_result"
    }
   ],
   "source": [
    "dados_vendas_clientes"
   ],
   "metadata": {
    "collapsed": false,
    "ExecuteTime": {
     "end_time": "2024-01-13T19:09:14.607874Z",
     "start_time": "2024-01-13T19:09:14.578426Z"
    }
   },
   "id": "87163b939c512b35",
   "execution_count": 6
  },
  {
   "cell_type": "code",
   "outputs": [
    {
     "data": {
      "text/plain": "  Data de venda                                            Cliente  \\\n0    06/06/2022  [@ANA _LUCIA 321, DieGO ARMANDIU 210, DieGO AR...   \n1    07/06/2022  [Isabely JOanes 738, Isabely JOanes 738, Isabe...   \n2    08/06/2022  [Isabely JOanes 738, JOãO Gabriel 671, Julya m...   \n3    09/06/2022  [Julya meireles 914, MaRIA Julia 444, MaRIA Ju...   \n4    10/06/2022  [MaRIA Julia 444, PEDRO PASCO 812, Paulo castr...   \n\n                                Valor da compra  \n0    [R$ 836,5, R$ 573,33, R$ 392,8, R$ 512,34]  \n1  [R$ 825,31, R$ 168,07, R$ 339,18, R$ 314,69]  \n2  [R$ 682,05, R$ 386,34, R$ 622,65, R$ 630,79]  \n3   [R$ 390,3, R$ 759,16, R$ 334,47, R$ 678,78]  \n4  [R$ 314,24, R$ 311,15, R$ 899,16, R$ 885,24]  ",
      "text/html": "<div>\n<style scoped>\n    .dataframe tbody tr th:only-of-type {\n        vertical-align: middle;\n    }\n\n    .dataframe tbody tr th {\n        vertical-align: top;\n    }\n\n    .dataframe thead th {\n        text-align: right;\n    }\n</style>\n<table border=\"1\" class=\"dataframe\">\n  <thead>\n    <tr style=\"text-align: right;\">\n      <th></th>\n      <th>Data de venda</th>\n      <th>Cliente</th>\n      <th>Valor da compra</th>\n    </tr>\n  </thead>\n  <tbody>\n    <tr>\n      <th>0</th>\n      <td>06/06/2022</td>\n      <td>[@ANA _LUCIA 321, DieGO ARMANDIU 210, DieGO AR...</td>\n      <td>[R$ 836,5, R$ 573,33, R$ 392,8, R$ 512,34]</td>\n    </tr>\n    <tr>\n      <th>1</th>\n      <td>07/06/2022</td>\n      <td>[Isabely JOanes 738, Isabely JOanes 738, Isabe...</td>\n      <td>[R$ 825,31, R$ 168,07, R$ 339,18, R$ 314,69]</td>\n    </tr>\n    <tr>\n      <th>2</th>\n      <td>08/06/2022</td>\n      <td>[Isabely JOanes 738, JOãO Gabriel 671, Julya m...</td>\n      <td>[R$ 682,05, R$ 386,34, R$ 622,65, R$ 630,79]</td>\n    </tr>\n    <tr>\n      <th>3</th>\n      <td>09/06/2022</td>\n      <td>[Julya meireles 914, MaRIA Julia 444, MaRIA Ju...</td>\n      <td>[R$ 390,3, R$ 759,16, R$ 334,47, R$ 678,78]</td>\n    </tr>\n    <tr>\n      <th>4</th>\n      <td>10/06/2022</td>\n      <td>[MaRIA Julia 444, PEDRO PASCO 812, Paulo castr...</td>\n      <td>[R$ 314,24, R$ 311,15, R$ 899,16, R$ 885,24]</td>\n    </tr>\n  </tbody>\n</table>\n</div>"
     },
     "execution_count": 7,
     "metadata": {},
     "output_type": "execute_result"
    }
   ],
   "source": [
    "dados_vendas_clientes = pd.json_normalize(dados_vendas_clientes['dados_vendas'])\n",
    "dados_vendas_clientes"
   ],
   "metadata": {
    "collapsed": false,
    "ExecuteTime": {
     "end_time": "2024-01-13T19:09:14.619840Z",
     "start_time": "2024-01-13T19:09:14.604183Z"
    }
   },
   "id": "91ba4979d07fc9ea",
   "execution_count": 7
  },
  {
   "cell_type": "code",
   "outputs": [
    {
     "data": {
      "text/plain": "                                       dados_locacao\n0  {'apartamento': 'A101 (blocoAP)', 'datas_combi...\n1  {'apartamento': 'A102 (blocoAP)', 'datas_combi...\n2  {'apartamento': 'B201 (blocoAP)', 'datas_combi...\n3  {'apartamento': 'B202 (blocoAP)', 'datas_combi...\n4  {'apartamento': 'C301 (blocoAP)', 'datas_combi...",
      "text/html": "<div>\n<style scoped>\n    .dataframe tbody tr th:only-of-type {\n        vertical-align: middle;\n    }\n\n    .dataframe tbody tr th {\n        vertical-align: top;\n    }\n\n    .dataframe thead th {\n        text-align: right;\n    }\n</style>\n<table border=\"1\" class=\"dataframe\">\n  <thead>\n    <tr style=\"text-align: right;\">\n      <th></th>\n      <th>dados_locacao</th>\n    </tr>\n  </thead>\n  <tbody>\n    <tr>\n      <th>0</th>\n      <td>{'apartamento': 'A101 (blocoAP)', 'datas_combi...</td>\n    </tr>\n    <tr>\n      <th>1</th>\n      <td>{'apartamento': 'A102 (blocoAP)', 'datas_combi...</td>\n    </tr>\n    <tr>\n      <th>2</th>\n      <td>{'apartamento': 'B201 (blocoAP)', 'datas_combi...</td>\n    </tr>\n    <tr>\n      <th>3</th>\n      <td>{'apartamento': 'B202 (blocoAP)', 'datas_combi...</td>\n    </tr>\n    <tr>\n      <th>4</th>\n      <td>{'apartamento': 'C301 (blocoAP)', 'datas_combi...</td>\n    </tr>\n  </tbody>\n</table>\n</div>"
     },
     "execution_count": 8,
     "metadata": {},
     "output_type": "execute_result"
    }
   ],
   "source": [
    "dados_locacao_imoveis.head()"
   ],
   "metadata": {
    "collapsed": false,
    "ExecuteTime": {
     "end_time": "2024-01-13T19:09:14.620946Z",
     "start_time": "2024-01-13T19:09:14.613485Z"
    }
   },
   "id": "9783a89afc7c5993",
   "execution_count": 8
  },
  {
   "cell_type": "code",
   "outputs": [
    {
     "data": {
      "text/plain": "      apartamento datas_combinadas_pagamento        datas_de_pagamento  \\\n0  A101 (blocoAP)   [01/06/2022, 01/07/2022]  [05/06/2022, 03/07/2022]   \n1  A102 (blocoAP)   [02/06/2022, 02/07/2022]  [02/06/2022, 06/07/2022]   \n2  B201 (blocoAP)   [03/06/2022, 03/07/2022]  [07/06/2022, 03/07/2022]   \n3  B202 (blocoAP)   [04/06/2022, 04/07/2022]  [07/06/2022, 05/07/2022]   \n4  C301 (blocoAP)   [05/06/2022, 05/07/2022]  [10/06/2022, 09/07/2022]   \n\n                      valor_aluguel  \n0  [$ 1000,0 reais, $ 2500,0 reais]  \n1  [$ 1100,0 reais, $ 2600,0 reais]  \n2  [$ 1200,0 reais, $ 2700,0 reais]  \n3  [$ 1300,0 reais, $ 2800,0 reais]  \n4  [$ 1400,0 reais, $ 2900,0 reais]  ",
      "text/html": "<div>\n<style scoped>\n    .dataframe tbody tr th:only-of-type {\n        vertical-align: middle;\n    }\n\n    .dataframe tbody tr th {\n        vertical-align: top;\n    }\n\n    .dataframe thead th {\n        text-align: right;\n    }\n</style>\n<table border=\"1\" class=\"dataframe\">\n  <thead>\n    <tr style=\"text-align: right;\">\n      <th></th>\n      <th>apartamento</th>\n      <th>datas_combinadas_pagamento</th>\n      <th>datas_de_pagamento</th>\n      <th>valor_aluguel</th>\n    </tr>\n  </thead>\n  <tbody>\n    <tr>\n      <th>0</th>\n      <td>A101 (blocoAP)</td>\n      <td>[01/06/2022, 01/07/2022]</td>\n      <td>[05/06/2022, 03/07/2022]</td>\n      <td>[$ 1000,0 reais, $ 2500,0 reais]</td>\n    </tr>\n    <tr>\n      <th>1</th>\n      <td>A102 (blocoAP)</td>\n      <td>[02/06/2022, 02/07/2022]</td>\n      <td>[02/06/2022, 06/07/2022]</td>\n      <td>[$ 1100,0 reais, $ 2600,0 reais]</td>\n    </tr>\n    <tr>\n      <th>2</th>\n      <td>B201 (blocoAP)</td>\n      <td>[03/06/2022, 03/07/2022]</td>\n      <td>[07/06/2022, 03/07/2022]</td>\n      <td>[$ 1200,0 reais, $ 2700,0 reais]</td>\n    </tr>\n    <tr>\n      <th>3</th>\n      <td>B202 (blocoAP)</td>\n      <td>[04/06/2022, 04/07/2022]</td>\n      <td>[07/06/2022, 05/07/2022]</td>\n      <td>[$ 1300,0 reais, $ 2800,0 reais]</td>\n    </tr>\n    <tr>\n      <th>4</th>\n      <td>C301 (blocoAP)</td>\n      <td>[05/06/2022, 05/07/2022]</td>\n      <td>[10/06/2022, 09/07/2022]</td>\n      <td>[$ 1400,0 reais, $ 2900,0 reais]</td>\n    </tr>\n  </tbody>\n</table>\n</div>"
     },
     "execution_count": 41,
     "metadata": {},
     "output_type": "execute_result"
    }
   ],
   "source": [
    "dados_locacao_imoveis = pd.json_normalize(dados_locacao_imoveis['dados_locacao'])\n",
    "dados_locacao_imoveis.head()"
   ],
   "metadata": {
    "collapsed": false,
    "ExecuteTime": {
     "end_time": "2024-01-13T19:49:17.860532Z",
     "start_time": "2024-01-13T19:49:17.856032Z"
    }
   },
   "id": "121decfbf96840d5",
   "execution_count": 41
  },
  {
   "cell_type": "markdown",
   "source": [
    "### Desagrupando os dados"
   ],
   "metadata": {
    "collapsed": false
   },
   "id": "d3a40f8dc8568d99"
  },
  {
   "cell_type": "code",
   "outputs": [
    {
     "data": {
      "text/plain": "['avaliacao_geral',\n 'experiencia_local',\n 'max_hospedes',\n 'descricao_local',\n 'descricao_vizinhanca',\n 'quantidade_banheiros',\n 'quantidade_quartos',\n 'quantidade_camas',\n 'modelo_cama',\n 'comodidades',\n 'taxa_deposito',\n 'taxa_limpeza',\n 'preco']"
     },
     "execution_count": 10,
     "metadata": {},
     "output_type": "execute_result"
    }
   ],
   "source": [
    "colunas = list (dados_hospedagem.columns)\n",
    "colunas"
   ],
   "metadata": {
    "collapsed": false,
    "ExecuteTime": {
     "end_time": "2024-01-13T19:10:52.030977Z",
     "start_time": "2024-01-13T19:10:52.023614Z"
    }
   },
   "id": "c150b4dbe360698",
   "execution_count": 10
  },
  {
   "cell_type": "code",
   "outputs": [
    {
     "data": {
      "text/plain": "  avaliacao_geral experiencia_local max_hospedes  \\\n0            10.0                --            1   \n0            10.0                --            1   \n0            10.0                --            1   \n0            10.0                --            1   \n0            10.0                --            1   \n\n                                     descricao_local  \\\n0  This clean and comfortable one bedroom sits ri...   \n0  Our century old Upper Queen Anne house is loca...   \n0  Cozy room in two-bedroom apartment along the l...   \n0  Very lovely and cozy room for one. Convenientl...   \n0  The “Studio at Mibbett Hollow' is in a Beautif...   \n\n                                descricao_vizinhanca quantidade_banheiros  \\\n0  Lower Queen Anne is near the Seattle Center (s...                    1   \n0  Upper Queen Anne is a really pleasant, unique ...                    1   \n0  The convenience of being in Seattle but on the...                    1   \n0  Ballard is lovely, vibrant and one of the most...                    1   \n0                                                 --                    1   \n\n  quantidade_quartos quantidade_camas    modelo_cama  \\\n0                  1                1       Real Bed   \n0                  1                1          Futon   \n0                  1                1          Futon   \n0                  1                1  Pull-out Sofa   \n0                  1                1       Real Bed   \n\n                                         comodidades taxa_deposito  \\\n0  {Internet,\"Wireless Internet\",Kitchen,\"Free Pa...            $0   \n0  {TV,Internet,\"Wireless Internet\",Kitchen,\"Free...            $0   \n0  {TV,Internet,\"Wireless Internet\",Kitchen,\"Free...            $0   \n0  {Internet,\"Wireless Internet\",Kitchen,\"Free Pa...            $0   \n0  {\"Wireless Internet\",Kitchen,\"Free Parking on ...            $0   \n\n  taxa_limpeza    preco  \n0           $0  $110.00  \n0           $0   $45.00  \n0           $0   $55.00  \n0       $20.00   $52.00  \n0       $15.00   $85.00  ",
      "text/html": "<div>\n<style scoped>\n    .dataframe tbody tr th:only-of-type {\n        vertical-align: middle;\n    }\n\n    .dataframe tbody tr th {\n        vertical-align: top;\n    }\n\n    .dataframe thead th {\n        text-align: right;\n    }\n</style>\n<table border=\"1\" class=\"dataframe\">\n  <thead>\n    <tr style=\"text-align: right;\">\n      <th></th>\n      <th>avaliacao_geral</th>\n      <th>experiencia_local</th>\n      <th>max_hospedes</th>\n      <th>descricao_local</th>\n      <th>descricao_vizinhanca</th>\n      <th>quantidade_banheiros</th>\n      <th>quantidade_quartos</th>\n      <th>quantidade_camas</th>\n      <th>modelo_cama</th>\n      <th>comodidades</th>\n      <th>taxa_deposito</th>\n      <th>taxa_limpeza</th>\n      <th>preco</th>\n    </tr>\n  </thead>\n  <tbody>\n    <tr>\n      <th>0</th>\n      <td>10.0</td>\n      <td>--</td>\n      <td>1</td>\n      <td>This clean and comfortable one bedroom sits ri...</td>\n      <td>Lower Queen Anne is near the Seattle Center (s...</td>\n      <td>1</td>\n      <td>1</td>\n      <td>1</td>\n      <td>Real Bed</td>\n      <td>{Internet,\"Wireless Internet\",Kitchen,\"Free Pa...</td>\n      <td>$0</td>\n      <td>$0</td>\n      <td>$110.00</td>\n    </tr>\n    <tr>\n      <th>0</th>\n      <td>10.0</td>\n      <td>--</td>\n      <td>1</td>\n      <td>Our century old Upper Queen Anne house is loca...</td>\n      <td>Upper Queen Anne is a really pleasant, unique ...</td>\n      <td>1</td>\n      <td>1</td>\n      <td>1</td>\n      <td>Futon</td>\n      <td>{TV,Internet,\"Wireless Internet\",Kitchen,\"Free...</td>\n      <td>$0</td>\n      <td>$0</td>\n      <td>$45.00</td>\n    </tr>\n    <tr>\n      <th>0</th>\n      <td>10.0</td>\n      <td>--</td>\n      <td>1</td>\n      <td>Cozy room in two-bedroom apartment along the l...</td>\n      <td>The convenience of being in Seattle but on the...</td>\n      <td>1</td>\n      <td>1</td>\n      <td>1</td>\n      <td>Futon</td>\n      <td>{TV,Internet,\"Wireless Internet\",Kitchen,\"Free...</td>\n      <td>$0</td>\n      <td>$0</td>\n      <td>$55.00</td>\n    </tr>\n    <tr>\n      <th>0</th>\n      <td>10.0</td>\n      <td>--</td>\n      <td>1</td>\n      <td>Very lovely and cozy room for one. Convenientl...</td>\n      <td>Ballard is lovely, vibrant and one of the most...</td>\n      <td>1</td>\n      <td>1</td>\n      <td>1</td>\n      <td>Pull-out Sofa</td>\n      <td>{Internet,\"Wireless Internet\",Kitchen,\"Free Pa...</td>\n      <td>$0</td>\n      <td>$20.00</td>\n      <td>$52.00</td>\n    </tr>\n    <tr>\n      <th>0</th>\n      <td>10.0</td>\n      <td>--</td>\n      <td>1</td>\n      <td>The “Studio at Mibbett Hollow' is in a Beautif...</td>\n      <td>--</td>\n      <td>1</td>\n      <td>1</td>\n      <td>1</td>\n      <td>Real Bed</td>\n      <td>{\"Wireless Internet\",Kitchen,\"Free Parking on ...</td>\n      <td>$0</td>\n      <td>$15.00</td>\n      <td>$85.00</td>\n    </tr>\n  </tbody>\n</table>\n</div>"
     },
     "execution_count": 12,
     "metadata": {},
     "output_type": "execute_result"
    }
   ],
   "source": [
    "dados_hospedagem = dados_hospedagem.explode(colunas[3:])\n",
    "dados_hospedagem.head()"
   ],
   "metadata": {
    "collapsed": false,
    "ExecuteTime": {
     "end_time": "2024-01-13T19:12:09.728510Z",
     "start_time": "2024-01-13T19:12:09.709937Z"
    }
   },
   "id": "9a08a7105eb0a4c4",
   "execution_count": 12
  },
  {
   "cell_type": "code",
   "outputs": [
    {
     "data": {
      "text/plain": "  avaliacao_geral experiencia_local max_hospedes  \\\n0            10.0                --            1   \n1            10.0                --            1   \n2            10.0                --            1   \n3            10.0                --            1   \n4            10.0                --            1   \n\n                                     descricao_local  \\\n0  This clean and comfortable one bedroom sits ri...   \n1  Our century old Upper Queen Anne house is loca...   \n2  Cozy room in two-bedroom apartment along the l...   \n3  Very lovely and cozy room for one. Convenientl...   \n4  The “Studio at Mibbett Hollow' is in a Beautif...   \n\n                                descricao_vizinhanca quantidade_banheiros  \\\n0  Lower Queen Anne is near the Seattle Center (s...                    1   \n1  Upper Queen Anne is a really pleasant, unique ...                    1   \n2  The convenience of being in Seattle but on the...                    1   \n3  Ballard is lovely, vibrant and one of the most...                    1   \n4                                                 --                    1   \n\n  quantidade_quartos quantidade_camas    modelo_cama  \\\n0                  1                1       Real Bed   \n1                  1                1          Futon   \n2                  1                1          Futon   \n3                  1                1  Pull-out Sofa   \n4                  1                1       Real Bed   \n\n                                         comodidades taxa_deposito  \\\n0  {Internet,\"Wireless Internet\",Kitchen,\"Free Pa...            $0   \n1  {TV,Internet,\"Wireless Internet\",Kitchen,\"Free...            $0   \n2  {TV,Internet,\"Wireless Internet\",Kitchen,\"Free...            $0   \n3  {Internet,\"Wireless Internet\",Kitchen,\"Free Pa...            $0   \n4  {\"Wireless Internet\",Kitchen,\"Free Parking on ...            $0   \n\n  taxa_limpeza    preco  \n0           $0  $110.00  \n1           $0   $45.00  \n2           $0   $55.00  \n3       $20.00   $52.00  \n4       $15.00   $85.00  ",
      "text/html": "<div>\n<style scoped>\n    .dataframe tbody tr th:only-of-type {\n        vertical-align: middle;\n    }\n\n    .dataframe tbody tr th {\n        vertical-align: top;\n    }\n\n    .dataframe thead th {\n        text-align: right;\n    }\n</style>\n<table border=\"1\" class=\"dataframe\">\n  <thead>\n    <tr style=\"text-align: right;\">\n      <th></th>\n      <th>avaliacao_geral</th>\n      <th>experiencia_local</th>\n      <th>max_hospedes</th>\n      <th>descricao_local</th>\n      <th>descricao_vizinhanca</th>\n      <th>quantidade_banheiros</th>\n      <th>quantidade_quartos</th>\n      <th>quantidade_camas</th>\n      <th>modelo_cama</th>\n      <th>comodidades</th>\n      <th>taxa_deposito</th>\n      <th>taxa_limpeza</th>\n      <th>preco</th>\n    </tr>\n  </thead>\n  <tbody>\n    <tr>\n      <th>0</th>\n      <td>10.0</td>\n      <td>--</td>\n      <td>1</td>\n      <td>This clean and comfortable one bedroom sits ri...</td>\n      <td>Lower Queen Anne is near the Seattle Center (s...</td>\n      <td>1</td>\n      <td>1</td>\n      <td>1</td>\n      <td>Real Bed</td>\n      <td>{Internet,\"Wireless Internet\",Kitchen,\"Free Pa...</td>\n      <td>$0</td>\n      <td>$0</td>\n      <td>$110.00</td>\n    </tr>\n    <tr>\n      <th>1</th>\n      <td>10.0</td>\n      <td>--</td>\n      <td>1</td>\n      <td>Our century old Upper Queen Anne house is loca...</td>\n      <td>Upper Queen Anne is a really pleasant, unique ...</td>\n      <td>1</td>\n      <td>1</td>\n      <td>1</td>\n      <td>Futon</td>\n      <td>{TV,Internet,\"Wireless Internet\",Kitchen,\"Free...</td>\n      <td>$0</td>\n      <td>$0</td>\n      <td>$45.00</td>\n    </tr>\n    <tr>\n      <th>2</th>\n      <td>10.0</td>\n      <td>--</td>\n      <td>1</td>\n      <td>Cozy room in two-bedroom apartment along the l...</td>\n      <td>The convenience of being in Seattle but on the...</td>\n      <td>1</td>\n      <td>1</td>\n      <td>1</td>\n      <td>Futon</td>\n      <td>{TV,Internet,\"Wireless Internet\",Kitchen,\"Free...</td>\n      <td>$0</td>\n      <td>$0</td>\n      <td>$55.00</td>\n    </tr>\n    <tr>\n      <th>3</th>\n      <td>10.0</td>\n      <td>--</td>\n      <td>1</td>\n      <td>Very lovely and cozy room for one. Convenientl...</td>\n      <td>Ballard is lovely, vibrant and one of the most...</td>\n      <td>1</td>\n      <td>1</td>\n      <td>1</td>\n      <td>Pull-out Sofa</td>\n      <td>{Internet,\"Wireless Internet\",Kitchen,\"Free Pa...</td>\n      <td>$0</td>\n      <td>$20.00</td>\n      <td>$52.00</td>\n    </tr>\n    <tr>\n      <th>4</th>\n      <td>10.0</td>\n      <td>--</td>\n      <td>1</td>\n      <td>The “Studio at Mibbett Hollow' is in a Beautif...</td>\n      <td>--</td>\n      <td>1</td>\n      <td>1</td>\n      <td>1</td>\n      <td>Real Bed</td>\n      <td>{\"Wireless Internet\",Kitchen,\"Free Parking on ...</td>\n      <td>$0</td>\n      <td>$15.00</td>\n      <td>$85.00</td>\n    </tr>\n  </tbody>\n</table>\n</div>"
     },
     "execution_count": 13,
     "metadata": {},
     "output_type": "execute_result"
    }
   ],
   "source": [
    "dados_hospedagem.reset_index(drop=True, inplace=True) # drop=True para não criar uma coluna com o index antigo\n",
    "dados_hospedagem.head()"
   ],
   "metadata": {
    "collapsed": false,
    "ExecuteTime": {
     "end_time": "2024-01-13T19:13:01.370605Z",
     "start_time": "2024-01-13T19:13:01.365049Z"
    }
   },
   "id": "aa55a7f337f42bd1",
   "execution_count": 13
  },
  {
   "cell_type": "code",
   "outputs": [
    {
     "name": "stdout",
     "output_type": "stream",
     "text": [
      "<class 'pandas.core.frame.DataFrame'>\n",
      "RangeIndex: 3818 entries, 0 to 3817\n",
      "Data columns (total 13 columns):\n",
      " #   Column                Non-Null Count  Dtype \n",
      "---  ------                --------------  ----- \n",
      " 0   avaliacao_geral       3818 non-null   object\n",
      " 1   experiencia_local     3818 non-null   object\n",
      " 2   max_hospedes          3818 non-null   object\n",
      " 3   descricao_local       3818 non-null   object\n",
      " 4   descricao_vizinhanca  3818 non-null   object\n",
      " 5   quantidade_banheiros  3818 non-null   object\n",
      " 6   quantidade_quartos    3818 non-null   object\n",
      " 7   quantidade_camas      3818 non-null   object\n",
      " 8   modelo_cama           3818 non-null   object\n",
      " 9   comodidades           3818 non-null   object\n",
      " 10  taxa_deposito         3818 non-null   object\n",
      " 11  taxa_limpeza          3818 non-null   object\n",
      " 12  preco                 3818 non-null   object\n",
      "dtypes: object(13)\n",
      "memory usage: 387.9+ KB\n"
     ]
    }
   ],
   "source": [
    "dados_hospedagem.info()"
   ],
   "metadata": {
    "collapsed": false,
    "ExecuteTime": {
     "end_time": "2024-01-13T19:13:51.055013Z",
     "start_time": "2024-01-13T19:13:51.050831Z"
    }
   },
   "id": "573861661fe5e898",
   "execution_count": 14
  },
  {
   "cell_type": "markdown",
   "source": [
    "##### Os dados podem ser do tipo Object pelos seguintes motivos:\n",
    "###### - Vários tipos de dados diferentes\n",
    "###### - Tipo não espeificado ou não identificado\n",
    "###### - Strings"
   ],
   "metadata": {
    "collapsed": false
   },
   "id": "57faeb98f370d5"
  },
  {
   "cell_type": "code",
   "outputs": [],
   "source": [
    "import numpy as np"
   ],
   "metadata": {
    "collapsed": false,
    "ExecuteTime": {
     "end_time": "2024-01-13T19:16:01.624018Z",
     "start_time": "2024-01-13T19:16:01.614401Z"
    }
   },
   "id": "e4656d1c8781a7a7",
   "execution_count": 15
  },
  {
   "cell_type": "code",
   "outputs": [
    {
     "name": "stdout",
     "output_type": "stream",
     "text": [
      "<class 'pandas.core.series.Series'>\n",
      "RangeIndex: 3818 entries, 0 to 3817\n",
      "Series name: max_hospedes\n",
      "Non-Null Count  Dtype\n",
      "--------------  -----\n",
      "3818 non-null   int64\n",
      "dtypes: int64(1)\n",
      "memory usage: 30.0 KB\n"
     ]
    }
   ],
   "source": [
    "dados_hospedagem['max_hospedes'] = dados_hospedagem['max_hospedes'].astype(np.int64) # O int64 é um tipo de dado do numpy\n",
    "dados_hospedagem['max_hospedes'].info()"
   ],
   "metadata": {
    "collapsed": false,
    "ExecuteTime": {
     "end_time": "2024-01-13T19:18:51.979835Z",
     "start_time": "2024-01-13T19:18:51.974323Z"
    }
   },
   "id": "383ba930c3e752c3",
   "execution_count": 16
  },
  {
   "cell_type": "code",
   "outputs": [
    {
     "name": "stdout",
     "output_type": "stream",
     "text": [
      "<class 'pandas.core.frame.DataFrame'>\n",
      "RangeIndex: 3818 entries, 0 to 3817\n",
      "Data columns (total 13 columns):\n",
      " #   Column                Non-Null Count  Dtype \n",
      "---  ------                --------------  ----- \n",
      " 0   avaliacao_geral       3818 non-null   object\n",
      " 1   experiencia_local     3818 non-null   object\n",
      " 2   max_hospedes          3818 non-null   int64 \n",
      " 3   descricao_local       3818 non-null   object\n",
      " 4   descricao_vizinhanca  3818 non-null   object\n",
      " 5   quantidade_banheiros  3818 non-null   int64 \n",
      " 6   quantidade_quartos    3818 non-null   int64 \n",
      " 7   quantidade_camas      3818 non-null   int64 \n",
      " 8   modelo_cama           3818 non-null   object\n",
      " 9   comodidades           3818 non-null   object\n",
      " 10  taxa_deposito         3818 non-null   object\n",
      " 11  taxa_limpeza          3818 non-null   object\n",
      " 12  preco                 3818 non-null   object\n",
      "dtypes: int64(4), object(9)\n",
      "memory usage: 387.9+ KB\n"
     ]
    }
   ],
   "source": [
    "colunas_numericas = ['quantidade_banheiros', 'quantidade_quartos', 'quantidade_camas']\n",
    "dados_hospedagem[colunas_numericas] = dados_hospedagem[colunas_numericas].astype(np.int64)\n",
    "dados_hospedagem.info()"
   ],
   "metadata": {
    "collapsed": false,
    "ExecuteTime": {
     "end_time": "2024-01-13T19:20:05.904361Z",
     "start_time": "2024-01-13T19:20:05.897775Z"
    }
   },
   "id": "1b978bad4cc3ac0d",
   "execution_count": 17
  },
  {
   "cell_type": "code",
   "outputs": [
    {
     "name": "stdout",
     "output_type": "stream",
     "text": [
      "<class 'pandas.core.frame.DataFrame'>\n",
      "RangeIndex: 3818 entries, 0 to 3817\n",
      "Data columns (total 13 columns):\n",
      " #   Column                Non-Null Count  Dtype  \n",
      "---  ------                --------------  -----  \n",
      " 0   avaliacao_geral       3162 non-null   float64\n",
      " 1   experiencia_local     3818 non-null   object \n",
      " 2   max_hospedes          3818 non-null   int64  \n",
      " 3   descricao_local       3818 non-null   object \n",
      " 4   descricao_vizinhanca  3818 non-null   object \n",
      " 5   quantidade_banheiros  3818 non-null   int64  \n",
      " 6   quantidade_quartos    3818 non-null   int64  \n",
      " 7   quantidade_camas      3818 non-null   int64  \n",
      " 8   modelo_cama           3818 non-null   object \n",
      " 9   comodidades           3818 non-null   object \n",
      " 10  taxa_deposito         3818 non-null   object \n",
      " 11  taxa_limpeza          3818 non-null   object \n",
      " 12  preco                 3818 non-null   object \n",
      "dtypes: float64(1), int64(4), object(8)\n",
      "memory usage: 387.9+ KB\n"
     ]
    }
   ],
   "source": [
    "dados_hospedagem['avaliacao_geral'] = dados_hospedagem['avaliacao_geral'].astype(np.float64)\n",
    "dados_hospedagem.info()"
   ],
   "metadata": {
    "collapsed": false,
    "ExecuteTime": {
     "end_time": "2024-01-13T19:20:36.643430Z",
     "start_time": "2024-01-13T19:20:36.625214Z"
    }
   },
   "id": "d199a0fd67f2245",
   "execution_count": 18
  },
  {
   "cell_type": "code",
   "outputs": [],
   "source": [
    "dados_hospedagem['preco'] = dados_hospedagem['preco'].str.replace('$', '').str.replace(',', '').astype(np.float64)"
   ],
   "metadata": {
    "collapsed": false,
    "ExecuteTime": {
     "end_time": "2024-01-13T19:28:51.333936Z",
     "start_time": "2024-01-13T19:28:51.323389Z"
    }
   },
   "id": "16f6be9afbc827b2",
   "execution_count": 19
  },
  {
   "cell_type": "code",
   "outputs": [
    {
     "name": "stdout",
     "output_type": "stream",
     "text": [
      "<class 'pandas.core.frame.DataFrame'>\n",
      "RangeIndex: 3818 entries, 0 to 3817\n",
      "Data columns (total 13 columns):\n",
      " #   Column                Non-Null Count  Dtype  \n",
      "---  ------                --------------  -----  \n",
      " 0   avaliacao_geral       3162 non-null   float64\n",
      " 1   experiencia_local     3818 non-null   object \n",
      " 2   max_hospedes          3818 non-null   int64  \n",
      " 3   descricao_local       3818 non-null   object \n",
      " 4   descricao_vizinhanca  3818 non-null   object \n",
      " 5   quantidade_banheiros  3818 non-null   int64  \n",
      " 6   quantidade_quartos    3818 non-null   int64  \n",
      " 7   quantidade_camas      3818 non-null   int64  \n",
      " 8   modelo_cama           3818 non-null   object \n",
      " 9   comodidades           3818 non-null   object \n",
      " 10  taxa_deposito         3818 non-null   object \n",
      " 11  taxa_limpeza          3818 non-null   object \n",
      " 12  preco                 3818 non-null   float64\n",
      "dtypes: float64(2), int64(4), object(7)\n",
      "memory usage: 387.9+ KB\n"
     ]
    }
   ],
   "source": [
    "dados_hospedagem.info()"
   ],
   "metadata": {
    "collapsed": false,
    "ExecuteTime": {
     "end_time": "2024-01-13T19:28:54.873405Z",
     "start_time": "2024-01-13T19:28:54.867135Z"
    }
   },
   "id": "dcb2a5dc3e7e50f3",
   "execution_count": 20
  },
  {
   "cell_type": "code",
   "outputs": [
    {
     "data": {
      "text/plain": "0       110.0\n1        45.0\n2        55.0\n3        52.0\n4        85.0\n        ...  \n3813    299.0\n3814    199.0\n3815    400.0\n3816    250.0\n3817    350.0\nName: preco, Length: 3818, dtype: float64"
     },
     "execution_count": 22,
     "metadata": {},
     "output_type": "execute_result"
    }
   ],
   "source": [
    "dados_hospedagem['preco']"
   ],
   "metadata": {
    "collapsed": false,
    "ExecuteTime": {
     "end_time": "2024-01-13T19:29:17.654445Z",
     "start_time": "2024-01-13T19:29:17.648207Z"
    }
   },
   "id": "2de639c7c336a8a4",
   "execution_count": 22
  },
  {
   "cell_type": "markdown",
   "source": [
    "##### Transformação de múltiplas colunas"
   ],
   "metadata": {
    "collapsed": false
   },
   "id": "967dc73308b17441"
  },
  {
   "cell_type": "code",
   "outputs": [
    {
     "name": "stdout",
     "output_type": "stream",
     "text": [
      "<class 'pandas.core.frame.DataFrame'>\n",
      "RangeIndex: 3818 entries, 0 to 3817\n",
      "Data columns (total 13 columns):\n",
      " #   Column                Non-Null Count  Dtype  \n",
      "---  ------                --------------  -----  \n",
      " 0   avaliacao_geral       3162 non-null   float64\n",
      " 1   experiencia_local     3818 non-null   object \n",
      " 2   max_hospedes          3818 non-null   int64  \n",
      " 3   descricao_local       3818 non-null   object \n",
      " 4   descricao_vizinhanca  3818 non-null   object \n",
      " 5   quantidade_banheiros  3818 non-null   int64  \n",
      " 6   quantidade_quartos    3818 non-null   int64  \n",
      " 7   quantidade_camas      3818 non-null   int64  \n",
      " 8   modelo_cama           3818 non-null   object \n",
      " 9   comodidades           3818 non-null   object \n",
      " 10  taxa_deposito         3818 non-null   float64\n",
      " 11  taxa_limpeza          3818 non-null   float64\n",
      " 12  preco                 3818 non-null   float64\n",
      "dtypes: float64(4), int64(4), object(5)\n",
      "memory usage: 387.9+ KB\n"
     ]
    },
    {
     "name": "stderr",
     "output_type": "stream",
     "text": [
      "/var/folders/v3/cd9ctqm16fl8gn9vl4dgy_7c0000gn/T/ipykernel_23303/4023511619.py:1: FutureWarning: DataFrame.applymap has been deprecated. Use DataFrame.map instead.\n",
      "  dados_hospedagem[['taxa_deposito', 'taxa_limpeza']] = dados_hospedagem[['taxa_deposito', 'taxa_limpeza']].applymap(lambda x: x.replace('$', '').replace(',', '')).astype(np.float64) # applymap aplica uma função a cada elemento do dataframe # lambda é uma função anônima\n"
     ]
    }
   ],
   "source": [
    "dados_hospedagem[['taxa_deposito', 'taxa_limpeza']] = dados_hospedagem[['taxa_deposito', 'taxa_limpeza']].applymap(lambda x: x.replace('$', '').replace(',', '')).astype(np.float64) # applymap aplica uma função a cada elemento do dataframe # lambda é uma função anônima\n",
    "dados_hospedagem.info()"
   ],
   "metadata": {
    "collapsed": false,
    "ExecuteTime": {
     "end_time": "2024-01-13T19:35:13.257449Z",
     "start_time": "2024-01-13T19:35:13.254236Z"
    }
   },
   "id": "205aebe07fb10833",
   "execution_count": 23
  },
  {
   "cell_type": "code",
   "outputs": [
    {
     "data": {
      "text/plain": "   taxa_deposito  taxa_limpeza\n0            0.0           0.0\n1            0.0           0.0\n2            0.0           0.0\n3            0.0          20.0\n4            0.0          15.0",
      "text/html": "<div>\n<style scoped>\n    .dataframe tbody tr th:only-of-type {\n        vertical-align: middle;\n    }\n\n    .dataframe tbody tr th {\n        vertical-align: top;\n    }\n\n    .dataframe thead th {\n        text-align: right;\n    }\n</style>\n<table border=\"1\" class=\"dataframe\">\n  <thead>\n    <tr style=\"text-align: right;\">\n      <th></th>\n      <th>taxa_deposito</th>\n      <th>taxa_limpeza</th>\n    </tr>\n  </thead>\n  <tbody>\n    <tr>\n      <th>0</th>\n      <td>0.0</td>\n      <td>0.0</td>\n    </tr>\n    <tr>\n      <th>1</th>\n      <td>0.0</td>\n      <td>0.0</td>\n    </tr>\n    <tr>\n      <th>2</th>\n      <td>0.0</td>\n      <td>0.0</td>\n    </tr>\n    <tr>\n      <th>3</th>\n      <td>0.0</td>\n      <td>20.0</td>\n    </tr>\n    <tr>\n      <th>4</th>\n      <td>0.0</td>\n      <td>15.0</td>\n    </tr>\n  </tbody>\n</table>\n</div>"
     },
     "execution_count": 25,
     "metadata": {},
     "output_type": "execute_result"
    }
   ],
   "source": [
    "dados_hospedagem[['taxa_deposito', 'taxa_limpeza']].head()"
   ],
   "metadata": {
    "collapsed": false,
    "ExecuteTime": {
     "end_time": "2024-01-13T19:39:31.281171Z",
     "start_time": "2024-01-13T19:39:31.275520Z"
    }
   },
   "id": "480ceb81e4cffdc9",
   "execution_count": 25
  },
  {
   "cell_type": "code",
   "outputs": [
    {
     "data": {
      "text/plain": "['Data de venda', 'Cliente', 'Valor da compra']"
     },
     "execution_count": 26,
     "metadata": {},
     "output_type": "execute_result"
    }
   ],
   "source": [
    "colunas_vendas = list(dados_vendas_clientes.columns)\n",
    "colunas_vendas"
   ],
   "metadata": {
    "collapsed": false,
    "ExecuteTime": {
     "end_time": "2024-01-13T19:42:29.039959Z",
     "start_time": "2024-01-13T19:42:29.032949Z"
    }
   },
   "id": "8d9b5e334cb38ccc",
   "execution_count": 26
  },
  {
   "cell_type": "code",
   "outputs": [
    {
     "data": {
      "text/plain": "  Data de venda             Cliente Valor da compra\n0    06/06/2022     @ANA _LUCIA 321        R$ 836,5\n1    06/06/2022  DieGO ARMANDIU 210       R$ 573,33\n2    06/06/2022  DieGO ARMANDIU 210        R$ 392,8\n3    06/06/2022  DieGO ARMANDIU 210       R$ 512,34\n4    07/06/2022  Isabely JOanes 738       R$ 825,31",
      "text/html": "<div>\n<style scoped>\n    .dataframe tbody tr th:only-of-type {\n        vertical-align: middle;\n    }\n\n    .dataframe tbody tr th {\n        vertical-align: top;\n    }\n\n    .dataframe thead th {\n        text-align: right;\n    }\n</style>\n<table border=\"1\" class=\"dataframe\">\n  <thead>\n    <tr style=\"text-align: right;\">\n      <th></th>\n      <th>Data de venda</th>\n      <th>Cliente</th>\n      <th>Valor da compra</th>\n    </tr>\n  </thead>\n  <tbody>\n    <tr>\n      <th>0</th>\n      <td>06/06/2022</td>\n      <td>@ANA _LUCIA 321</td>\n      <td>R$ 836,5</td>\n    </tr>\n    <tr>\n      <th>1</th>\n      <td>06/06/2022</td>\n      <td>DieGO ARMANDIU 210</td>\n      <td>R$ 573,33</td>\n    </tr>\n    <tr>\n      <th>2</th>\n      <td>06/06/2022</td>\n      <td>DieGO ARMANDIU 210</td>\n      <td>R$ 392,8</td>\n    </tr>\n    <tr>\n      <th>3</th>\n      <td>06/06/2022</td>\n      <td>DieGO ARMANDIU 210</td>\n      <td>R$ 512,34</td>\n    </tr>\n    <tr>\n      <th>4</th>\n      <td>07/06/2022</td>\n      <td>Isabely JOanes 738</td>\n      <td>R$ 825,31</td>\n    </tr>\n  </tbody>\n</table>\n</div>"
     },
     "execution_count": 28,
     "metadata": {},
     "output_type": "execute_result"
    }
   ],
   "source": [
    "dados_vendas_clientes = dados_vendas_clientes.explode(colunas_vendas[1:])\n",
    "dados_vendas_clientes.reset_index(drop=True, inplace=True)\n",
    "dados_vendas_clientes.head()"
   ],
   "metadata": {
    "collapsed": false,
    "ExecuteTime": {
     "end_time": "2024-01-13T19:43:55.529347Z",
     "start_time": "2024-01-13T19:43:55.524253Z"
    }
   },
   "id": "2bc978d035689408",
   "execution_count": 28
  },
  {
   "cell_type": "code",
   "outputs": [
    {
     "name": "stdout",
     "output_type": "stream",
     "text": [
      "<class 'pandas.core.frame.DataFrame'>\n",
      "RangeIndex: 20 entries, 0 to 19\n",
      "Data columns (total 3 columns):\n",
      " #   Column           Non-Null Count  Dtype \n",
      "---  ------           --------------  ----- \n",
      " 0   Data de venda    20 non-null     object\n",
      " 1   Cliente          20 non-null     object\n",
      " 2   Valor da compra  20 non-null     object\n",
      "dtypes: object(3)\n",
      "memory usage: 612.0+ bytes\n"
     ]
    }
   ],
   "source": [
    "dados_vendas_clientes.info()"
   ],
   "metadata": {
    "collapsed": false,
    "ExecuteTime": {
     "end_time": "2024-01-13T19:44:05.038811Z",
     "start_time": "2024-01-13T19:44:05.033589Z"
    }
   },
   "id": "4bd1d3aa97898ec7",
   "execution_count": 29
  },
  {
   "cell_type": "code",
   "outputs": [
    {
     "name": "stdout",
     "output_type": "stream",
     "text": [
      "<class 'pandas.core.frame.DataFrame'>\n",
      "RangeIndex: 20 entries, 0 to 19\n",
      "Data columns (total 3 columns):\n",
      " #   Column           Non-Null Count  Dtype  \n",
      "---  ------           --------------  -----  \n",
      " 0   Data de venda    20 non-null     object \n",
      " 1   Cliente          20 non-null     object \n",
      " 2   Valor da compra  20 non-null     float64\n",
      "dtypes: float64(1), object(2)\n",
      "memory usage: 612.0+ bytes\n"
     ]
    }
   ],
   "source": [
    "dados_vendas_clientes['Valor da compra'] = dados_vendas_clientes['Valor da compra'].str.replace('R$', '').str.replace(',', '').astype(np.float64)\n",
    "dados_vendas_clientes.info()"
   ],
   "metadata": {
    "collapsed": false,
    "ExecuteTime": {
     "end_time": "2024-01-13T19:45:12.743644Z",
     "start_time": "2024-01-13T19:45:12.737718Z"
    }
   },
   "id": "717f6e68ac439155",
   "execution_count": 30
  },
  {
   "cell_type": "code",
   "outputs": [
    {
     "data": {
      "text/plain": "['apartamento',\n 'datas_combinadas_pagamento',\n 'datas_de_pagamento',\n 'valor_aluguel']"
     },
     "execution_count": 42,
     "metadata": {},
     "output_type": "execute_result"
    }
   ],
   "source": [
    "colunas_locacao = list(dados_locacao_imoveis.columns)\n",
    "colunas_locacao"
   ],
   "metadata": {
    "collapsed": false,
    "ExecuteTime": {
     "end_time": "2024-01-13T19:49:28.504314Z",
     "start_time": "2024-01-13T19:49:28.496083Z"
    }
   },
   "id": "9c2a3f90ec503738",
   "execution_count": 42
  },
  {
   "cell_type": "code",
   "outputs": [
    {
     "data": {
      "text/plain": "      apartamento datas_combinadas_pagamento datas_de_pagamento  \\\n0  A101 (blocoAP)                 01/06/2022         05/06/2022   \n1  A101 (blocoAP)                 01/07/2022         03/07/2022   \n2  A102 (blocoAP)                 02/06/2022         02/06/2022   \n3  A102 (blocoAP)                 02/07/2022         06/07/2022   \n4  B201 (blocoAP)                 03/06/2022         07/06/2022   \n\n    valor_aluguel  \n0  $ 1000,0 reais  \n1  $ 2500,0 reais  \n2  $ 1100,0 reais  \n3  $ 2600,0 reais  \n4  $ 1200,0 reais  ",
      "text/html": "<div>\n<style scoped>\n    .dataframe tbody tr th:only-of-type {\n        vertical-align: middle;\n    }\n\n    .dataframe tbody tr th {\n        vertical-align: top;\n    }\n\n    .dataframe thead th {\n        text-align: right;\n    }\n</style>\n<table border=\"1\" class=\"dataframe\">\n  <thead>\n    <tr style=\"text-align: right;\">\n      <th></th>\n      <th>apartamento</th>\n      <th>datas_combinadas_pagamento</th>\n      <th>datas_de_pagamento</th>\n      <th>valor_aluguel</th>\n    </tr>\n  </thead>\n  <tbody>\n    <tr>\n      <th>0</th>\n      <td>A101 (blocoAP)</td>\n      <td>01/06/2022</td>\n      <td>05/06/2022</td>\n      <td>$ 1000,0 reais</td>\n    </tr>\n    <tr>\n      <th>1</th>\n      <td>A101 (blocoAP)</td>\n      <td>01/07/2022</td>\n      <td>03/07/2022</td>\n      <td>$ 2500,0 reais</td>\n    </tr>\n    <tr>\n      <th>2</th>\n      <td>A102 (blocoAP)</td>\n      <td>02/06/2022</td>\n      <td>02/06/2022</td>\n      <td>$ 1100,0 reais</td>\n    </tr>\n    <tr>\n      <th>3</th>\n      <td>A102 (blocoAP)</td>\n      <td>02/07/2022</td>\n      <td>06/07/2022</td>\n      <td>$ 2600,0 reais</td>\n    </tr>\n    <tr>\n      <th>4</th>\n      <td>B201 (blocoAP)</td>\n      <td>03/06/2022</td>\n      <td>07/06/2022</td>\n      <td>$ 1200,0 reais</td>\n    </tr>\n  </tbody>\n</table>\n</div>"
     },
     "execution_count": 43,
     "metadata": {},
     "output_type": "execute_result"
    }
   ],
   "source": [
    "dados_locacao_imoveis = dados_locacao_imoveis.explode(colunas_locacao[1:])\n",
    "dados_locacao_imoveis.reset_index(drop=True, inplace=True)\n",
    "dados_locacao_imoveis.head()"
   ],
   "metadata": {
    "collapsed": false,
    "ExecuteTime": {
     "end_time": "2024-01-13T19:49:30.087790Z",
     "start_time": "2024-01-13T19:49:30.082337Z"
    }
   },
   "id": "36b8bb41bb8f8aff",
   "execution_count": 43
  },
  {
   "cell_type": "code",
   "outputs": [
    {
     "name": "stdout",
     "output_type": "stream",
     "text": [
      "<class 'pandas.core.frame.DataFrame'>\n",
      "RangeIndex: 30 entries, 0 to 29\n",
      "Data columns (total 4 columns):\n",
      " #   Column                      Non-Null Count  Dtype \n",
      "---  ------                      --------------  ----- \n",
      " 0   apartamento                 30 non-null     object\n",
      " 1   datas_combinadas_pagamento  30 non-null     object\n",
      " 2   datas_de_pagamento          30 non-null     object\n",
      " 3   valor_aluguel               30 non-null     object\n",
      "dtypes: object(4)\n",
      "memory usage: 1.1+ KB\n"
     ]
    }
   ],
   "source": [
    "dados_locacao_imoveis.info()"
   ],
   "metadata": {
    "collapsed": false,
    "ExecuteTime": {
     "end_time": "2024-01-13T19:49:34.329853Z",
     "start_time": "2024-01-13T19:49:34.323082Z"
    }
   },
   "id": "bdcfd46a1d23f8a6",
   "execution_count": 44
  },
  {
   "cell_type": "code",
   "outputs": [
    {
     "data": {
      "text/plain": "      apartamento datas_combinadas_pagamento datas_de_pagamento  valor_aluguel\n0  A101 (blocoAP)                 01/06/2022         05/06/2022        10000.0\n1  A101 (blocoAP)                 01/07/2022         03/07/2022        25000.0\n2  A102 (blocoAP)                 02/06/2022         02/06/2022        11000.0\n3  A102 (blocoAP)                 02/07/2022         06/07/2022        26000.0\n4  B201 (blocoAP)                 03/06/2022         07/06/2022        12000.0",
      "text/html": "<div>\n<style scoped>\n    .dataframe tbody tr th:only-of-type {\n        vertical-align: middle;\n    }\n\n    .dataframe tbody tr th {\n        vertical-align: top;\n    }\n\n    .dataframe thead th {\n        text-align: right;\n    }\n</style>\n<table border=\"1\" class=\"dataframe\">\n  <thead>\n    <tr style=\"text-align: right;\">\n      <th></th>\n      <th>apartamento</th>\n      <th>datas_combinadas_pagamento</th>\n      <th>datas_de_pagamento</th>\n      <th>valor_aluguel</th>\n    </tr>\n  </thead>\n  <tbody>\n    <tr>\n      <th>0</th>\n      <td>A101 (blocoAP)</td>\n      <td>01/06/2022</td>\n      <td>05/06/2022</td>\n      <td>10000.0</td>\n    </tr>\n    <tr>\n      <th>1</th>\n      <td>A101 (blocoAP)</td>\n      <td>01/07/2022</td>\n      <td>03/07/2022</td>\n      <td>25000.0</td>\n    </tr>\n    <tr>\n      <th>2</th>\n      <td>A102 (blocoAP)</td>\n      <td>02/06/2022</td>\n      <td>02/06/2022</td>\n      <td>11000.0</td>\n    </tr>\n    <tr>\n      <th>3</th>\n      <td>A102 (blocoAP)</td>\n      <td>02/07/2022</td>\n      <td>06/07/2022</td>\n      <td>26000.0</td>\n    </tr>\n    <tr>\n      <th>4</th>\n      <td>B201 (blocoAP)</td>\n      <td>03/06/2022</td>\n      <td>07/06/2022</td>\n      <td>12000.0</td>\n    </tr>\n  </tbody>\n</table>\n</div>"
     },
     "execution_count": 45,
     "metadata": {},
     "output_type": "execute_result"
    }
   ],
   "source": [
    "dados_locacao_imoveis['valor_aluguel'] = dados_locacao_imoveis['valor_aluguel'].str.replace('$', '').str.replace(',', '').str.replace(' reais', '').astype(np.float64)\n",
    "dados_locacao_imoveis.head()"
   ],
   "metadata": {
    "collapsed": false,
    "ExecuteTime": {
     "end_time": "2024-01-13T19:49:48.914851Z",
     "start_time": "2024-01-13T19:49:48.907519Z"
    }
   },
   "id": "da9f343201c25f60",
   "execution_count": 45
  },
  {
   "cell_type": "code",
   "outputs": [
    {
     "name": "stdout",
     "output_type": "stream",
     "text": [
      "<class 'pandas.core.frame.DataFrame'>\n",
      "RangeIndex: 30 entries, 0 to 29\n",
      "Data columns (total 4 columns):\n",
      " #   Column                      Non-Null Count  Dtype  \n",
      "---  ------                      --------------  -----  \n",
      " 0   apartamento                 30 non-null     object \n",
      " 1   datas_combinadas_pagamento  30 non-null     object \n",
      " 2   datas_de_pagamento          30 non-null     object \n",
      " 3   valor_aluguel               30 non-null     float64\n",
      "dtypes: float64(1), object(3)\n",
      "memory usage: 1.1+ KB\n"
     ]
    }
   ],
   "source": [
    "dados_locacao_imoveis.info()"
   ],
   "metadata": {
    "collapsed": false,
    "ExecuteTime": {
     "end_time": "2024-01-13T19:49:57.770441Z",
     "start_time": "2024-01-13T19:49:57.762674Z"
    }
   },
   "id": "5651974c5fad9909",
   "execution_count": 46
  },
  {
   "cell_type": "code",
   "outputs": [],
   "source": [],
   "metadata": {
    "collapsed": false
   },
   "id": "84439fa308322dab"
  }
 ],
 "metadata": {
  "kernelspec": {
   "display_name": "Python 3",
   "language": "python",
   "name": "python3"
  },
  "language_info": {
   "codemirror_mode": {
    "name": "ipython",
    "version": 2
   },
   "file_extension": ".py",
   "mimetype": "text/x-python",
   "name": "python",
   "nbconvert_exporter": "python",
   "pygments_lexer": "ipython2",
   "version": "2.7.6"
  }
 },
 "nbformat": 4,
 "nbformat_minor": 5
}
