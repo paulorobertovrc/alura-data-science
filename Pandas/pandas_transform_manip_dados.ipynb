{
 "cells": [
  {
   "cell_type": "markdown",
   "source": [
    "# CURSO PANDAS: TRANSFORMAÇÃO E MANIPULAÇÃO DE DADOS\n",
    "## Precificação inteligente de imóveis\n",
    "### Preparação de dados"
   ],
   "metadata": {
    "collapsed": false
   },
   "id": "e91feba9d7d3dfd7"
  },
  {
   "cell_type": "code",
   "outputs": [],
   "source": [
    "import pandas as pd"
   ],
   "metadata": {
    "collapsed": false,
    "ExecuteTime": {
     "end_time": "2024-01-12T19:43:36.618201Z",
     "start_time": "2024-01-12T19:43:36.153071Z"
    }
   },
   "id": "ec05206e3eb77ba8",
   "execution_count": 1
  },
  {
   "cell_type": "code",
   "outputs": [
    {
     "data": {
      "text/plain": "                                         info_moveis\n0  {'avaliacao_geral': '10.0', 'experiencia_local...\n1  {'avaliacao_geral': '10.0', 'experiencia_local...\n2  {'avaliacao_geral': '10.0', 'experiencia_local...\n3  {'avaliacao_geral': '10.0', 'experiencia_local...\n4  {'avaliacao_geral': '10.0', 'experiencia_local...",
      "text/html": "<div>\n<style scoped>\n    .dataframe tbody tr th:only-of-type {\n        vertical-align: middle;\n    }\n\n    .dataframe tbody tr th {\n        vertical-align: top;\n    }\n\n    .dataframe thead th {\n        text-align: right;\n    }\n</style>\n<table border=\"1\" class=\"dataframe\">\n  <thead>\n    <tr style=\"text-align: right;\">\n      <th></th>\n      <th>info_moveis</th>\n    </tr>\n  </thead>\n  <tbody>\n    <tr>\n      <th>0</th>\n      <td>{'avaliacao_geral': '10.0', 'experiencia_local...</td>\n    </tr>\n    <tr>\n      <th>1</th>\n      <td>{'avaliacao_geral': '10.0', 'experiencia_local...</td>\n    </tr>\n    <tr>\n      <th>2</th>\n      <td>{'avaliacao_geral': '10.0', 'experiencia_local...</td>\n    </tr>\n    <tr>\n      <th>3</th>\n      <td>{'avaliacao_geral': '10.0', 'experiencia_local...</td>\n    </tr>\n    <tr>\n      <th>4</th>\n      <td>{'avaliacao_geral': '10.0', 'experiencia_local...</td>\n    </tr>\n  </tbody>\n</table>\n</div>"
     },
     "execution_count": 2,
     "metadata": {},
     "output_type": "execute_result"
    }
   ],
   "source": [
    "url_dados_hospedagem = 'https://caelum-online-public.s3.amazonaws.com/2928-transformacao-manipulacao-dados/dados_hospedagem.json'\n",
    "dados_hospedagem = pd.read_json(url_dados_hospedagem)\n",
    "dados_hospedagem.head()"
   ],
   "metadata": {
    "collapsed": false,
    "ExecuteTime": {
     "end_time": "2024-01-12T19:45:42.259606Z",
     "start_time": "2024-01-12T19:45:34.268652Z"
    }
   },
   "id": "7146643029981ac2",
   "execution_count": 2
  },
  {
   "cell_type": "code",
   "outputs": [
    {
     "data": {
      "text/plain": "    id        data  vaga_disponivel preco\n0  857  2016-01-04            False  None\n1  857  2016-01-05            False  None\n2  857  2016-01-06            False  None\n3  857  2016-01-07            False  None\n4  857  2016-01-08            False  None",
      "text/html": "<div>\n<style scoped>\n    .dataframe tbody tr th:only-of-type {\n        vertical-align: middle;\n    }\n\n    .dataframe tbody tr th {\n        vertical-align: top;\n    }\n\n    .dataframe thead th {\n        text-align: right;\n    }\n</style>\n<table border=\"1\" class=\"dataframe\">\n  <thead>\n    <tr style=\"text-align: right;\">\n      <th></th>\n      <th>id</th>\n      <th>data</th>\n      <th>vaga_disponivel</th>\n      <th>preco</th>\n    </tr>\n  </thead>\n  <tbody>\n    <tr>\n      <th>0</th>\n      <td>857</td>\n      <td>2016-01-04</td>\n      <td>False</td>\n      <td>None</td>\n    </tr>\n    <tr>\n      <th>1</th>\n      <td>857</td>\n      <td>2016-01-05</td>\n      <td>False</td>\n      <td>None</td>\n    </tr>\n    <tr>\n      <th>2</th>\n      <td>857</td>\n      <td>2016-01-06</td>\n      <td>False</td>\n      <td>None</td>\n    </tr>\n    <tr>\n      <th>3</th>\n      <td>857</td>\n      <td>2016-01-07</td>\n      <td>False</td>\n      <td>None</td>\n    </tr>\n    <tr>\n      <th>4</th>\n      <td>857</td>\n      <td>2016-01-08</td>\n      <td>False</td>\n      <td>None</td>\n    </tr>\n  </tbody>\n</table>\n</div>"
     },
     "execution_count": 3,
     "metadata": {},
     "output_type": "execute_result"
    }
   ],
   "source": [
    "url_imoveis_disponiveis = 'https://caelum-online-public.s3.amazonaws.com/2928-transformacao-manipulacao-dados/moveis_disponiveis.json'\n",
    "dados_imoveis_disponiveis = pd.read_json(url_imoveis_disponiveis)\n",
    "dados_imoveis_disponiveis.head()"
   ],
   "metadata": {
    "collapsed": false,
    "ExecuteTime": {
     "end_time": "2024-01-12T19:46:09.398098Z",
     "start_time": "2024-01-12T19:45:57.070559Z"
    }
   },
   "id": "bc93eda4f37f10d",
   "execution_count": 3
  },
  {
   "cell_type": "markdown",
   "source": [
    "### Desaninhando os dados"
   ],
   "metadata": {
    "collapsed": false
   },
   "id": "7d6febbb5d81b0d5"
  },
  {
   "cell_type": "code",
   "outputs": [
    {
     "data": {
      "text/plain": "  avaliacao_geral experiencia_local max_hospedes  \\\n0            10.0                --            1   \n1            10.0                --           10   \n2            10.0                --           11   \n3            10.0                --           12   \n4            10.0                --           14   \n\n                                     descricao_local  \\\n0  [This clean and comfortable one bedroom sits r...   \n1  [Welcome to the heart of the 'Ballard Brewery ...   \n2  [New modern house built in 2013.  Spectacular ...   \n3  [Our NW style home is 3200+ sq ft with 3 level...   \n4  [Perfect for groups. 2 bedrooms, full bathroom...   \n\n                                descricao_vizinhanca  \\\n0  [Lower Queen Anne is near the Seattle Center (...   \n1  [--, Capital Hill is the heart of Seattle, bor...   \n2  [Upper Queen Anne is a charming neighborhood f...   \n3  [The Views from our top floor!  Wallingford ha...   \n4  [Safeway grocery store within walking distance...   \n\n                                quantidade_banheiros  \\\n0  [1, 1, 1, 1, 1, 1, 1, 1, 1, 1, 1, 1, 1, 1, 1, ...   \n1                  [2, 3, 2, 3, 3, 3, 2, 1, 2, 2, 2]   \n2                                                [4]   \n3                           [3, 3, 3, 3, 3, 3, 3, 3]   \n4                                             [2, 3]   \n\n                                  quantidade_quartos  \\\n0  [1, 1, 1, 1, 1, 1, 1, 1, 1, 1, 1, 1, 1, 1, 1, ...   \n1                  [3, 4, 2, 3, 3, 3, 3, 3, 3, 4, 3]   \n2                                                [5]   \n3                           [6, 6, 5, 5, 5, 5, 4, 4]   \n4                                             [2, 6]   \n\n                                    quantidade_camas  \\\n0  [1, 1, 1, 1, 1, 1, 1, 1, 1, 1, 1, 1, 1, 1, 1, ...   \n1                  [5, 6, 8, 3, 3, 5, 4, 5, 6, 7, 4]   \n2                                                [7]   \n3                           [6, 6, 7, 8, 7, 7, 6, 6]   \n4                                             [3, 9]   \n\n                                         modelo_cama  \\\n0  [Real Bed, Futon, Futon, Pull-out Sofa, Real B...   \n1  [Real Bed, Real Bed, Real Bed, Real Bed, Real ...   \n2                                         [Real Bed]   \n3  [Real Bed, Real Bed, Real Bed, Real Bed, Real ...   \n4                               [Real Bed, Real Bed]   \n\n                                         comodidades  \\\n0  [{Internet,\"Wireless Internet\",Kitchen,\"Free P...   \n1  [{TV,Internet,\"Wireless Internet\",Kitchen,\"Fre...   \n2  [{TV,\"Cable TV\",Internet,\"Wireless Internet\",\"...   \n3  [{Internet,\"Wireless Internet\",Kitchen,\"Free P...   \n4  [{TV,Internet,\"Wireless Internet\",Kitchen,\"Fre...   \n\n                                       taxa_deposito  \\\n0  [$0, $0, $0, $0, $0, $350.00, $350.00, $350.00...   \n1  [$500.00, $300.00, $0, $300.00, $300.00, $360....   \n2                                        [$1,000.00]   \n3  [$500.00, $500.00, $500.00, $500.00, $500.00, ...   \n4                               [$300.00, $2,000.00]   \n\n                                        taxa_limpeza  \\\n0  [$0, $0, $0, $20.00, $15.00, $28.00, $35.00, $...   \n1  [$125.00, $100.00, $85.00, $110.00, $110.00, $...   \n2                                          [$300.00]   \n3  [$225.00, $300.00, $250.00, $250.00, $250.00, ...   \n4                                  [$40.00, $150.00]   \n\n                                               preco  \n0  [$110.00, $45.00, $55.00, $52.00, $85.00, $50....  \n1  [$350.00, $300.00, $425.00, $300.00, $285.00, ...  \n2                                          [$975.00]  \n3  [$490.00, $550.00, $350.00, $350.00, $350.00, ...  \n4                                 [$200.00, $545.00]  ",
      "text/html": "<div>\n<style scoped>\n    .dataframe tbody tr th:only-of-type {\n        vertical-align: middle;\n    }\n\n    .dataframe tbody tr th {\n        vertical-align: top;\n    }\n\n    .dataframe thead th {\n        text-align: right;\n    }\n</style>\n<table border=\"1\" class=\"dataframe\">\n  <thead>\n    <tr style=\"text-align: right;\">\n      <th></th>\n      <th>avaliacao_geral</th>\n      <th>experiencia_local</th>\n      <th>max_hospedes</th>\n      <th>descricao_local</th>\n      <th>descricao_vizinhanca</th>\n      <th>quantidade_banheiros</th>\n      <th>quantidade_quartos</th>\n      <th>quantidade_camas</th>\n      <th>modelo_cama</th>\n      <th>comodidades</th>\n      <th>taxa_deposito</th>\n      <th>taxa_limpeza</th>\n      <th>preco</th>\n    </tr>\n  </thead>\n  <tbody>\n    <tr>\n      <th>0</th>\n      <td>10.0</td>\n      <td>--</td>\n      <td>1</td>\n      <td>[This clean and comfortable one bedroom sits r...</td>\n      <td>[Lower Queen Anne is near the Seattle Center (...</td>\n      <td>[1, 1, 1, 1, 1, 1, 1, 1, 1, 1, 1, 1, 1, 1, 1, ...</td>\n      <td>[1, 1, 1, 1, 1, 1, 1, 1, 1, 1, 1, 1, 1, 1, 1, ...</td>\n      <td>[1, 1, 1, 1, 1, 1, 1, 1, 1, 1, 1, 1, 1, 1, 1, ...</td>\n      <td>[Real Bed, Futon, Futon, Pull-out Sofa, Real B...</td>\n      <td>[{Internet,\"Wireless Internet\",Kitchen,\"Free P...</td>\n      <td>[$0, $0, $0, $0, $0, $350.00, $350.00, $350.00...</td>\n      <td>[$0, $0, $0, $20.00, $15.00, $28.00, $35.00, $...</td>\n      <td>[$110.00, $45.00, $55.00, $52.00, $85.00, $50....</td>\n    </tr>\n    <tr>\n      <th>1</th>\n      <td>10.0</td>\n      <td>--</td>\n      <td>10</td>\n      <td>[Welcome to the heart of the 'Ballard Brewery ...</td>\n      <td>[--, Capital Hill is the heart of Seattle, bor...</td>\n      <td>[2, 3, 2, 3, 3, 3, 2, 1, 2, 2, 2]</td>\n      <td>[3, 4, 2, 3, 3, 3, 3, 3, 3, 4, 3]</td>\n      <td>[5, 6, 8, 3, 3, 5, 4, 5, 6, 7, 4]</td>\n      <td>[Real Bed, Real Bed, Real Bed, Real Bed, Real ...</td>\n      <td>[{TV,Internet,\"Wireless Internet\",Kitchen,\"Fre...</td>\n      <td>[$500.00, $300.00, $0, $300.00, $300.00, $360....</td>\n      <td>[$125.00, $100.00, $85.00, $110.00, $110.00, $...</td>\n      <td>[$350.00, $300.00, $425.00, $300.00, $285.00, ...</td>\n    </tr>\n    <tr>\n      <th>2</th>\n      <td>10.0</td>\n      <td>--</td>\n      <td>11</td>\n      <td>[New modern house built in 2013.  Spectacular ...</td>\n      <td>[Upper Queen Anne is a charming neighborhood f...</td>\n      <td>[4]</td>\n      <td>[5]</td>\n      <td>[7]</td>\n      <td>[Real Bed]</td>\n      <td>[{TV,\"Cable TV\",Internet,\"Wireless Internet\",\"...</td>\n      <td>[$1,000.00]</td>\n      <td>[$300.00]</td>\n      <td>[$975.00]</td>\n    </tr>\n    <tr>\n      <th>3</th>\n      <td>10.0</td>\n      <td>--</td>\n      <td>12</td>\n      <td>[Our NW style home is 3200+ sq ft with 3 level...</td>\n      <td>[The Views from our top floor!  Wallingford ha...</td>\n      <td>[3, 3, 3, 3, 3, 3, 3, 3]</td>\n      <td>[6, 6, 5, 5, 5, 5, 4, 4]</td>\n      <td>[6, 6, 7, 8, 7, 7, 6, 6]</td>\n      <td>[Real Bed, Real Bed, Real Bed, Real Bed, Real ...</td>\n      <td>[{Internet,\"Wireless Internet\",Kitchen,\"Free P...</td>\n      <td>[$500.00, $500.00, $500.00, $500.00, $500.00, ...</td>\n      <td>[$225.00, $300.00, $250.00, $250.00, $250.00, ...</td>\n      <td>[$490.00, $550.00, $350.00, $350.00, $350.00, ...</td>\n    </tr>\n    <tr>\n      <th>4</th>\n      <td>10.0</td>\n      <td>--</td>\n      <td>14</td>\n      <td>[Perfect for groups. 2 bedrooms, full bathroom...</td>\n      <td>[Safeway grocery store within walking distance...</td>\n      <td>[2, 3]</td>\n      <td>[2, 6]</td>\n      <td>[3, 9]</td>\n      <td>[Real Bed, Real Bed]</td>\n      <td>[{TV,Internet,\"Wireless Internet\",Kitchen,\"Fre...</td>\n      <td>[$300.00, $2,000.00]</td>\n      <td>[$40.00, $150.00]</td>\n      <td>[$200.00, $545.00]</td>\n    </tr>\n  </tbody>\n</table>\n</div>"
     },
     "execution_count": 4,
     "metadata": {},
     "output_type": "execute_result"
    }
   ],
   "source": [
    "dados_hospedagem = pd.json_normalize(dados_hospedagem['info_moveis'])\n",
    "dados_hospedagem.head()"
   ],
   "metadata": {
    "collapsed": false,
    "ExecuteTime": {
     "end_time": "2024-01-12T19:55:15.759458Z",
     "start_time": "2024-01-12T19:55:15.749374Z"
    }
   },
   "id": "759af86b37b62477",
   "execution_count": 4
  },
  {
   "cell_type": "code",
   "outputs": [],
   "source": [
    "url_dados_vendas_clientes = 'https://caelum-online-public.s3.amazonaws.com/2928-transformacao-manipulacao-dados/dados_vendas_clientes.json'\n",
    "url_dados_locacal_imoveis = 'https://caelum-online-public.s3.amazonaws.com/2928-transformacao-manipulacao-dados/dados_locacao_imoveis.json'\n",
    "dados_vendas_clientes = pd.read_json(url_dados_vendas_clientes)\n",
    "dados_locacao_imoveis = pd.read_json(url_dados_locacal_imoveis)"
   ],
   "metadata": {
    "collapsed": false,
    "ExecuteTime": {
     "end_time": "2024-01-12T19:58:07.258454Z",
     "start_time": "2024-01-12T19:58:05.729482Z"
    }
   },
   "id": "dfea6b748051527b",
   "execution_count": 5
  },
  {
   "cell_type": "code",
   "outputs": [
    {
     "data": {
      "text/plain": "                                        dados_vendas\n0  {'Data de venda': '06/06/2022', 'Cliente': ['@...\n1  {'Data de venda': '07/06/2022', 'Cliente': ['I...\n2  {'Data de venda': '08/06/2022', 'Cliente': ['I...\n3  {'Data de venda': '09/06/2022', 'Cliente': ['J...\n4  {'Data de venda': '10/06/2022', 'Cliente': ['M...",
      "text/html": "<div>\n<style scoped>\n    .dataframe tbody tr th:only-of-type {\n        vertical-align: middle;\n    }\n\n    .dataframe tbody tr th {\n        vertical-align: top;\n    }\n\n    .dataframe thead th {\n        text-align: right;\n    }\n</style>\n<table border=\"1\" class=\"dataframe\">\n  <thead>\n    <tr style=\"text-align: right;\">\n      <th></th>\n      <th>dados_vendas</th>\n    </tr>\n  </thead>\n  <tbody>\n    <tr>\n      <th>0</th>\n      <td>{'Data de venda': '06/06/2022', 'Cliente': ['@...</td>\n    </tr>\n    <tr>\n      <th>1</th>\n      <td>{'Data de venda': '07/06/2022', 'Cliente': ['I...</td>\n    </tr>\n    <tr>\n      <th>2</th>\n      <td>{'Data de venda': '08/06/2022', 'Cliente': ['I...</td>\n    </tr>\n    <tr>\n      <th>3</th>\n      <td>{'Data de venda': '09/06/2022', 'Cliente': ['J...</td>\n    </tr>\n    <tr>\n      <th>4</th>\n      <td>{'Data de venda': '10/06/2022', 'Cliente': ['M...</td>\n    </tr>\n  </tbody>\n</table>\n</div>"
     },
     "execution_count": 7,
     "metadata": {},
     "output_type": "execute_result"
    }
   ],
   "source": [
    "dados_vendas_clientes"
   ],
   "metadata": {
    "collapsed": false,
    "ExecuteTime": {
     "end_time": "2024-01-12T19:59:03.482195Z",
     "start_time": "2024-01-12T19:59:03.476682Z"
    }
   },
   "id": "87163b939c512b35",
   "execution_count": 7
  },
  {
   "cell_type": "code",
   "outputs": [
    {
     "data": {
      "text/plain": "  Data de venda                                            Cliente  \\\n0    06/06/2022  [@ANA _LUCIA 321, DieGO ARMANDIU 210, DieGO AR...   \n1    07/06/2022  [Isabely JOanes 738, Isabely JOanes 738, Isabe...   \n2    08/06/2022  [Isabely JOanes 738, JOãO Gabriel 671, Julya m...   \n3    09/06/2022  [Julya meireles 914, MaRIA Julia 444, MaRIA Ju...   \n4    10/06/2022  [MaRIA Julia 444, PEDRO PASCO 812, Paulo castr...   \n\n                                Valor da compra  \n0    [R$ 836,5, R$ 573,33, R$ 392,8, R$ 512,34]  \n1  [R$ 825,31, R$ 168,07, R$ 339,18, R$ 314,69]  \n2  [R$ 682,05, R$ 386,34, R$ 622,65, R$ 630,79]  \n3   [R$ 390,3, R$ 759,16, R$ 334,47, R$ 678,78]  \n4  [R$ 314,24, R$ 311,15, R$ 899,16, R$ 885,24]  ",
      "text/html": "<div>\n<style scoped>\n    .dataframe tbody tr th:only-of-type {\n        vertical-align: middle;\n    }\n\n    .dataframe tbody tr th {\n        vertical-align: top;\n    }\n\n    .dataframe thead th {\n        text-align: right;\n    }\n</style>\n<table border=\"1\" class=\"dataframe\">\n  <thead>\n    <tr style=\"text-align: right;\">\n      <th></th>\n      <th>Data de venda</th>\n      <th>Cliente</th>\n      <th>Valor da compra</th>\n    </tr>\n  </thead>\n  <tbody>\n    <tr>\n      <th>0</th>\n      <td>06/06/2022</td>\n      <td>[@ANA _LUCIA 321, DieGO ARMANDIU 210, DieGO AR...</td>\n      <td>[R$ 836,5, R$ 573,33, R$ 392,8, R$ 512,34]</td>\n    </tr>\n    <tr>\n      <th>1</th>\n      <td>07/06/2022</td>\n      <td>[Isabely JOanes 738, Isabely JOanes 738, Isabe...</td>\n      <td>[R$ 825,31, R$ 168,07, R$ 339,18, R$ 314,69]</td>\n    </tr>\n    <tr>\n      <th>2</th>\n      <td>08/06/2022</td>\n      <td>[Isabely JOanes 738, JOãO Gabriel 671, Julya m...</td>\n      <td>[R$ 682,05, R$ 386,34, R$ 622,65, R$ 630,79]</td>\n    </tr>\n    <tr>\n      <th>3</th>\n      <td>09/06/2022</td>\n      <td>[Julya meireles 914, MaRIA Julia 444, MaRIA Ju...</td>\n      <td>[R$ 390,3, R$ 759,16, R$ 334,47, R$ 678,78]</td>\n    </tr>\n    <tr>\n      <th>4</th>\n      <td>10/06/2022</td>\n      <td>[MaRIA Julia 444, PEDRO PASCO 812, Paulo castr...</td>\n      <td>[R$ 314,24, R$ 311,15, R$ 899,16, R$ 885,24]</td>\n    </tr>\n  </tbody>\n</table>\n</div>"
     },
     "execution_count": 8,
     "metadata": {},
     "output_type": "execute_result"
    }
   ],
   "source": [
    "dados_vendas_clientes = pd.json_normalize(dados_vendas_clientes['dados_vendas'])\n",
    "dados_vendas_clientes"
   ],
   "metadata": {
    "collapsed": false,
    "ExecuteTime": {
     "end_time": "2024-01-12T19:59:30.988322Z",
     "start_time": "2024-01-12T19:59:30.982176Z"
    }
   },
   "id": "91ba4979d07fc9ea",
   "execution_count": 8
  },
  {
   "cell_type": "code",
   "outputs": [
    {
     "data": {
      "text/plain": "                                       dados_locacao\n0  {'apartamento': 'A101 (blocoAP)', 'datas_combi...\n1  {'apartamento': 'A102 (blocoAP)', 'datas_combi...\n2  {'apartamento': 'B201 (blocoAP)', 'datas_combi...\n3  {'apartamento': 'B202 (blocoAP)', 'datas_combi...\n4  {'apartamento': 'C301 (blocoAP)', 'datas_combi...",
      "text/html": "<div>\n<style scoped>\n    .dataframe tbody tr th:only-of-type {\n        vertical-align: middle;\n    }\n\n    .dataframe tbody tr th {\n        vertical-align: top;\n    }\n\n    .dataframe thead th {\n        text-align: right;\n    }\n</style>\n<table border=\"1\" class=\"dataframe\">\n  <thead>\n    <tr style=\"text-align: right;\">\n      <th></th>\n      <th>dados_locacao</th>\n    </tr>\n  </thead>\n  <tbody>\n    <tr>\n      <th>0</th>\n      <td>{'apartamento': 'A101 (blocoAP)', 'datas_combi...</td>\n    </tr>\n    <tr>\n      <th>1</th>\n      <td>{'apartamento': 'A102 (blocoAP)', 'datas_combi...</td>\n    </tr>\n    <tr>\n      <th>2</th>\n      <td>{'apartamento': 'B201 (blocoAP)', 'datas_combi...</td>\n    </tr>\n    <tr>\n      <th>3</th>\n      <td>{'apartamento': 'B202 (blocoAP)', 'datas_combi...</td>\n    </tr>\n    <tr>\n      <th>4</th>\n      <td>{'apartamento': 'C301 (blocoAP)', 'datas_combi...</td>\n    </tr>\n  </tbody>\n</table>\n</div>"
     },
     "execution_count": 9,
     "metadata": {},
     "output_type": "execute_result"
    }
   ],
   "source": [
    "dados_locacao_imoveis.head()"
   ],
   "metadata": {
    "collapsed": false,
    "ExecuteTime": {
     "end_time": "2024-01-12T19:59:43.689589Z",
     "start_time": "2024-01-12T19:59:43.684740Z"
    }
   },
   "id": "9783a89afc7c5993",
   "execution_count": 9
  },
  {
   "cell_type": "code",
   "outputs": [
    {
     "data": {
      "text/plain": "      apartamento datas_combinadas_pagamento        datas_de_pagamento  \\\n0  A101 (blocoAP)   [01/06/2022, 01/07/2022]  [05/06/2022, 03/07/2022]   \n1  A102 (blocoAP)   [02/06/2022, 02/07/2022]  [02/06/2022, 06/07/2022]   \n2  B201 (blocoAP)   [03/06/2022, 03/07/2022]  [07/06/2022, 03/07/2022]   \n3  B202 (blocoAP)   [04/06/2022, 04/07/2022]  [07/06/2022, 05/07/2022]   \n4  C301 (blocoAP)   [05/06/2022, 05/07/2022]  [10/06/2022, 09/07/2022]   \n\n                      valor_aluguel  \n0  [$ 1000,0 reais, $ 2500,0 reais]  \n1  [$ 1100,0 reais, $ 2600,0 reais]  \n2  [$ 1200,0 reais, $ 2700,0 reais]  \n3  [$ 1300,0 reais, $ 2800,0 reais]  \n4  [$ 1400,0 reais, $ 2900,0 reais]  ",
      "text/html": "<div>\n<style scoped>\n    .dataframe tbody tr th:only-of-type {\n        vertical-align: middle;\n    }\n\n    .dataframe tbody tr th {\n        vertical-align: top;\n    }\n\n    .dataframe thead th {\n        text-align: right;\n    }\n</style>\n<table border=\"1\" class=\"dataframe\">\n  <thead>\n    <tr style=\"text-align: right;\">\n      <th></th>\n      <th>apartamento</th>\n      <th>datas_combinadas_pagamento</th>\n      <th>datas_de_pagamento</th>\n      <th>valor_aluguel</th>\n    </tr>\n  </thead>\n  <tbody>\n    <tr>\n      <th>0</th>\n      <td>A101 (blocoAP)</td>\n      <td>[01/06/2022, 01/07/2022]</td>\n      <td>[05/06/2022, 03/07/2022]</td>\n      <td>[$ 1000,0 reais, $ 2500,0 reais]</td>\n    </tr>\n    <tr>\n      <th>1</th>\n      <td>A102 (blocoAP)</td>\n      <td>[02/06/2022, 02/07/2022]</td>\n      <td>[02/06/2022, 06/07/2022]</td>\n      <td>[$ 1100,0 reais, $ 2600,0 reais]</td>\n    </tr>\n    <tr>\n      <th>2</th>\n      <td>B201 (blocoAP)</td>\n      <td>[03/06/2022, 03/07/2022]</td>\n      <td>[07/06/2022, 03/07/2022]</td>\n      <td>[$ 1200,0 reais, $ 2700,0 reais]</td>\n    </tr>\n    <tr>\n      <th>3</th>\n      <td>B202 (blocoAP)</td>\n      <td>[04/06/2022, 04/07/2022]</td>\n      <td>[07/06/2022, 05/07/2022]</td>\n      <td>[$ 1300,0 reais, $ 2800,0 reais]</td>\n    </tr>\n    <tr>\n      <th>4</th>\n      <td>C301 (blocoAP)</td>\n      <td>[05/06/2022, 05/07/2022]</td>\n      <td>[10/06/2022, 09/07/2022]</td>\n      <td>[$ 1400,0 reais, $ 2900,0 reais]</td>\n    </tr>\n  </tbody>\n</table>\n</div>"
     },
     "execution_count": 10,
     "metadata": {},
     "output_type": "execute_result"
    }
   ],
   "source": [
    "dados_locacao_imoveis = pd.json_normalize(dados_locacao_imoveis['dados_locacao'])\n",
    "dados_locacao_imoveis.head()"
   ],
   "metadata": {
    "collapsed": false,
    "ExecuteTime": {
     "end_time": "2024-01-12T19:59:51.150940Z",
     "start_time": "2024-01-12T19:59:51.143309Z"
    }
   },
   "id": "121decfbf96840d5",
   "execution_count": 10
  },
  {
   "cell_type": "code",
   "outputs": [],
   "source": [],
   "metadata": {
    "collapsed": false
   },
   "id": "c150b4dbe360698"
  }
 ],
 "metadata": {
  "kernelspec": {
   "display_name": "Python 3",
   "language": "python",
   "name": "python3"
  },
  "language_info": {
   "codemirror_mode": {
    "name": "ipython",
    "version": 2
   },
   "file_extension": ".py",
   "mimetype": "text/x-python",
   "name": "python",
   "nbconvert_exporter": "python",
   "pygments_lexer": "ipython2",
   "version": "2.7.6"
  }
 },
 "nbformat": 4,
 "nbformat_minor": 5
}
