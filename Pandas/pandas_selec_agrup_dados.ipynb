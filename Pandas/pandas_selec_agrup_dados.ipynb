{
 "cells": [
  {
   "cell_type": "markdown",
   "source": [
    "# CURSO PANDAS: SELECIONANDO E AGRUPANDO DADOS\n",
    "## Análise exploratória dos dados de emissões de gases de efeito estufa no Brasil entre os anos de 1970 e 2021, conforme dados extraídos do SEEG (Sistema de Estimativas de Emissões e Remoções de Gases de Efeito Estufa)."
   ],
   "metadata": {
    "collapsed": false
   },
   "id": "40dbc880a78d9969"
  },
  {
   "cell_type": "code",
   "execution_count": 37,
   "outputs": [],
   "source": [
    "import pandas as pd"
   ],
   "metadata": {
    "collapsed": false,
    "ExecuteTime": {
     "end_time": "2024-01-07T14:55:22.031569Z",
     "start_time": "2024-01-07T14:55:22.019124Z"
    }
   },
   "id": "42848c15440b996"
  },
  {
   "cell_type": "markdown",
   "source": [
    "### Obtendo os dados"
   ],
   "metadata": {
    "collapsed": false
   },
   "id": "a7b72a62b047e199"
  },
  {
   "cell_type": "code",
   "execution_count": 38,
   "outputs": [
    {
     "name": "stderr",
     "output_type": "stream",
     "text": [
      "/Users/prvrc/anaconda3/envs/untitled/lib/python3.11/site-packages/openpyxl/worksheet/_reader.py:332: UserWarning: Unknown extension is not supported and will be removed\n",
      "  warn(msg)\n"
     ]
    }
   ],
   "source": [
    "dados_gases_por_estado = pd.read_excel('dados/1-SEEG10_GERAL-BR_UF_2022.10.27-FINAL-SITE.xlsx', sheet_name='GEE Estados')"
   ],
   "metadata": {
    "collapsed": false,
    "ExecuteTime": {
     "end_time": "2024-01-07T14:55:46.672922Z",
     "start_time": "2024-01-07T14:55:22.034181Z"
    }
   },
   "id": "6d1d5bd3bd511396"
  },
  {
   "cell_type": "code",
   "execution_count": 39,
   "outputs": [
    {
     "data": {
      "text/plain": "         Nível 1 - Setor            Nível 2                    Nível 3  \\\n0  Processos Industriais  Indústria Química            Produção de ABS   \n1  Processos Industriais  Indústria Química  Produção de Ácido Adípico   \n2  Processos Industriais  Indústria Química  Produção de Ácido Adípico   \n3  Processos Industriais  Indústria Química  Produção de Ácido Adípico   \n4  Processos Industriais  Indústria Química  Produção de Ácido Adípico   \n\n  Nível 4 Nível 5 Nível 6 Emissão / Remoção / Bunker               Gás Estado  \\\n0     NaN     NaN     NaN                    Emissão         COVNM (t)     SP   \n1     NaN     NaN     NaN                    Emissão           N2O (t)     SP   \n2     NaN     NaN     NaN                    Emissão            CO (t)     SP   \n3     NaN     NaN     NaN                    Emissão           NOx (t)     SP   \n4     NaN     NaN     NaN                    Emissão  CO2e (t) GWP-AR2     SP   \n\n  Atividade Econômica  ...       2012       2013       2014       2015  \\\n0           OUTRA_IND  ...    897.600    897.600    897.600    897.600   \n1           OUTRA_IND  ...    130.000    130.000    130.000    130.000   \n2           OUTRA_IND  ...   1380.576   1380.576   1380.576   1380.576   \n3           OUTRA_IND  ...    431.430    431.430    431.430    431.430   \n4           OUTRA_IND  ...  40300.000  40300.000  40300.000  40300.000   \n\n        2016       2017       2018       2019       2020       2021  \n0    897.600    897.600    897.600    897.600    897.600    897.600  \n1    130.000    130.000    130.000    130.000    130.000    130.000  \n2   1380.576   1380.576   1380.576   1380.576   1380.576   1380.576  \n3    431.430    431.430    431.430    431.430    431.430    431.430  \n4  40300.000  40300.000  40300.000  40300.000  40300.000  40300.000  \n\n[5 rows x 63 columns]",
      "text/html": "<div>\n<style scoped>\n    .dataframe tbody tr th:only-of-type {\n        vertical-align: middle;\n    }\n\n    .dataframe tbody tr th {\n        vertical-align: top;\n    }\n\n    .dataframe thead th {\n        text-align: right;\n    }\n</style>\n<table border=\"1\" class=\"dataframe\">\n  <thead>\n    <tr style=\"text-align: right;\">\n      <th></th>\n      <th>Nível 1 - Setor</th>\n      <th>Nível 2</th>\n      <th>Nível 3</th>\n      <th>Nível 4</th>\n      <th>Nível 5</th>\n      <th>Nível 6</th>\n      <th>Emissão / Remoção / Bunker</th>\n      <th>Gás</th>\n      <th>Estado</th>\n      <th>Atividade Econômica</th>\n      <th>...</th>\n      <th>2012</th>\n      <th>2013</th>\n      <th>2014</th>\n      <th>2015</th>\n      <th>2016</th>\n      <th>2017</th>\n      <th>2018</th>\n      <th>2019</th>\n      <th>2020</th>\n      <th>2021</th>\n    </tr>\n  </thead>\n  <tbody>\n    <tr>\n      <th>0</th>\n      <td>Processos Industriais</td>\n      <td>Indústria Química</td>\n      <td>Produção de ABS</td>\n      <td>NaN</td>\n      <td>NaN</td>\n      <td>NaN</td>\n      <td>Emissão</td>\n      <td>COVNM (t)</td>\n      <td>SP</td>\n      <td>OUTRA_IND</td>\n      <td>...</td>\n      <td>897.600</td>\n      <td>897.600</td>\n      <td>897.600</td>\n      <td>897.600</td>\n      <td>897.600</td>\n      <td>897.600</td>\n      <td>897.600</td>\n      <td>897.600</td>\n      <td>897.600</td>\n      <td>897.600</td>\n    </tr>\n    <tr>\n      <th>1</th>\n      <td>Processos Industriais</td>\n      <td>Indústria Química</td>\n      <td>Produção de Ácido Adípico</td>\n      <td>NaN</td>\n      <td>NaN</td>\n      <td>NaN</td>\n      <td>Emissão</td>\n      <td>N2O (t)</td>\n      <td>SP</td>\n      <td>OUTRA_IND</td>\n      <td>...</td>\n      <td>130.000</td>\n      <td>130.000</td>\n      <td>130.000</td>\n      <td>130.000</td>\n      <td>130.000</td>\n      <td>130.000</td>\n      <td>130.000</td>\n      <td>130.000</td>\n      <td>130.000</td>\n      <td>130.000</td>\n    </tr>\n    <tr>\n      <th>2</th>\n      <td>Processos Industriais</td>\n      <td>Indústria Química</td>\n      <td>Produção de Ácido Adípico</td>\n      <td>NaN</td>\n      <td>NaN</td>\n      <td>NaN</td>\n      <td>Emissão</td>\n      <td>CO (t)</td>\n      <td>SP</td>\n      <td>OUTRA_IND</td>\n      <td>...</td>\n      <td>1380.576</td>\n      <td>1380.576</td>\n      <td>1380.576</td>\n      <td>1380.576</td>\n      <td>1380.576</td>\n      <td>1380.576</td>\n      <td>1380.576</td>\n      <td>1380.576</td>\n      <td>1380.576</td>\n      <td>1380.576</td>\n    </tr>\n    <tr>\n      <th>3</th>\n      <td>Processos Industriais</td>\n      <td>Indústria Química</td>\n      <td>Produção de Ácido Adípico</td>\n      <td>NaN</td>\n      <td>NaN</td>\n      <td>NaN</td>\n      <td>Emissão</td>\n      <td>NOx (t)</td>\n      <td>SP</td>\n      <td>OUTRA_IND</td>\n      <td>...</td>\n      <td>431.430</td>\n      <td>431.430</td>\n      <td>431.430</td>\n      <td>431.430</td>\n      <td>431.430</td>\n      <td>431.430</td>\n      <td>431.430</td>\n      <td>431.430</td>\n      <td>431.430</td>\n      <td>431.430</td>\n    </tr>\n    <tr>\n      <th>4</th>\n      <td>Processos Industriais</td>\n      <td>Indústria Química</td>\n      <td>Produção de Ácido Adípico</td>\n      <td>NaN</td>\n      <td>NaN</td>\n      <td>NaN</td>\n      <td>Emissão</td>\n      <td>CO2e (t) GWP-AR2</td>\n      <td>SP</td>\n      <td>OUTRA_IND</td>\n      <td>...</td>\n      <td>40300.000</td>\n      <td>40300.000</td>\n      <td>40300.000</td>\n      <td>40300.000</td>\n      <td>40300.000</td>\n      <td>40300.000</td>\n      <td>40300.000</td>\n      <td>40300.000</td>\n      <td>40300.000</td>\n      <td>40300.000</td>\n    </tr>\n  </tbody>\n</table>\n<p>5 rows × 63 columns</p>\n</div>"
     },
     "execution_count": 39,
     "metadata": {},
     "output_type": "execute_result"
    }
   ],
   "source": [
    "dados_gases_por_estado.head()"
   ],
   "metadata": {
    "collapsed": false,
    "ExecuteTime": {
     "end_time": "2024-01-07T14:55:46.681113Z",
     "start_time": "2024-01-07T14:55:46.677615Z"
    }
   },
   "id": "84809249676726d2"
  },
  {
   "cell_type": "code",
   "execution_count": 40,
   "outputs": [
    {
     "name": "stdout",
     "output_type": "stream",
     "text": [
      "<class 'pandas.core.frame.DataFrame'>\n",
      "RangeIndex: 103312 entries, 0 to 103311\n",
      "Data columns (total 63 columns):\n",
      " #   Column                      Non-Null Count   Dtype  \n",
      "---  ------                      --------------   -----  \n",
      " 0   Nível 1 - Setor             103312 non-null  object \n",
      " 1   Nível 2                     103312 non-null  object \n",
      " 2   Nível 3                     103253 non-null  object \n",
      " 3   Nível 4                     90920 non-null   object \n",
      " 4   Nível 5                     100788 non-null  object \n",
      " 5   Nível 6                     97691 non-null   object \n",
      " 6   Emissão / Remoção / Bunker  103312 non-null  object \n",
      " 7   Gás                         103312 non-null  object \n",
      " 8   Estado                      97374 non-null   object \n",
      " 9   Atividade Econômica         102076 non-null  object \n",
      " 10  Produto                     37413 non-null   object \n",
      " 11  1970                        103312 non-null  float64\n",
      " 12  1971                        103312 non-null  float64\n",
      " 13  1972                        103312 non-null  float64\n",
      " 14  1973                        103312 non-null  float64\n",
      " 15  1974                        103312 non-null  float64\n",
      " 16  1975                        103312 non-null  float64\n",
      " 17  1976                        103312 non-null  float64\n",
      " 18  1977                        103312 non-null  float64\n",
      " 19  1978                        103312 non-null  float64\n",
      " 20  1979                        103312 non-null  float64\n",
      " 21  1980                        103312 non-null  float64\n",
      " 22  1981                        103312 non-null  float64\n",
      " 23  1982                        103312 non-null  float64\n",
      " 24  1983                        103312 non-null  float64\n",
      " 25  1984                        103312 non-null  float64\n",
      " 26  1985                        103312 non-null  float64\n",
      " 27  1986                        103312 non-null  float64\n",
      " 28  1987                        103312 non-null  float64\n",
      " 29  1988                        103312 non-null  float64\n",
      " 30  1989                        103312 non-null  float64\n",
      " 31  1990                        103312 non-null  float64\n",
      " 32  1991                        103312 non-null  float64\n",
      " 33  1992                        103312 non-null  float64\n",
      " 34  1993                        103312 non-null  float64\n",
      " 35  1994                        103312 non-null  float64\n",
      " 36  1995                        103312 non-null  float64\n",
      " 37  1996                        103312 non-null  float64\n",
      " 38  1997                        103312 non-null  float64\n",
      " 39  1998                        103312 non-null  float64\n",
      " 40  1999                        103312 non-null  float64\n",
      " 41  2000                        103312 non-null  float64\n",
      " 42  2001                        103312 non-null  float64\n",
      " 43  2002                        103312 non-null  float64\n",
      " 44  2003                        103312 non-null  float64\n",
      " 45  2004                        103312 non-null  float64\n",
      " 46  2005                        103312 non-null  float64\n",
      " 47  2006                        103312 non-null  float64\n",
      " 48  2007                        103312 non-null  float64\n",
      " 49  2008                        103312 non-null  float64\n",
      " 50  2009                        103312 non-null  float64\n",
      " 51  2010                        103312 non-null  float64\n",
      " 52  2011                        103312 non-null  float64\n",
      " 53  2012                        103312 non-null  float64\n",
      " 54  2013                        103312 non-null  float64\n",
      " 55  2014                        103312 non-null  float64\n",
      " 56  2015                        103312 non-null  float64\n",
      " 57  2016                        103312 non-null  float64\n",
      " 58  2017                        103312 non-null  float64\n",
      " 59  2018                        103312 non-null  float64\n",
      " 60  2019                        103312 non-null  float64\n",
      " 61  2020                        103312 non-null  float64\n",
      " 62  2021                        103312 non-null  float64\n",
      "dtypes: float64(52), object(11)\n",
      "memory usage: 49.7+ MB\n"
     ]
    }
   ],
   "source": [
    "dados_gases_por_estado.info() # Retorna a quantidade de linhas e colunas, bem como a informação de quantidade de dados nulos e o tipo de dado de cada coluna"
   ],
   "metadata": {
    "collapsed": false,
    "ExecuteTime": {
     "end_time": "2024-01-07T14:55:46.759652Z",
     "start_time": "2024-01-07T14:55:46.696745Z"
    }
   },
   "id": "fb9cb1a939a025f8"
  },
  {
   "cell_type": "markdown",
   "source": [
    "### Ajustando a base de dados\n",
    "##### Estamos interessados somente na emissão de gases gerados pelos estados que estejam no inventário nacional, portanto, vamos identificar os tipos de dados únicos da coluna Emissão / Remoção / Bunker\n",
    "###### Remoções são dados referentes à retirada dos gases da atmosfera. Bunker é o nome dado aos gases emitidos por embarcações e aviões. NCI refere-se a dados não contemplados no inventário nacional."
   ],
   "metadata": {
    "collapsed": false
   },
   "id": "deeb91b45bb5effc"
  },
  {
   "cell_type": "code",
   "execution_count": 41,
   "outputs": [
    {
     "data": {
      "text/plain": "array(['Emissão', 'Emissão NCI', 'Remoção NCI', 'Bunker', 'Remoção'],\n      dtype=object)"
     },
     "execution_count": 41,
     "metadata": {},
     "output_type": "execute_result"
    }
   ],
   "source": [
    "dados_gases_por_estado['Emissão / Remoção / Bunker'].unique()"
   ],
   "metadata": {
    "collapsed": false,
    "ExecuteTime": {
     "end_time": "2024-01-07T14:55:46.760025Z",
     "start_time": "2024-01-07T14:55:46.755832Z"
    }
   },
   "id": "1a1e5854ce94dffd"
  },
  {
   "cell_type": "code",
   "execution_count": 42,
   "outputs": [
    {
     "data": {
      "text/plain": "0         False\n1         False\n2         False\n3         False\n4         False\n          ...  \n103307    False\n103308    False\n103309    False\n103310    False\n103311    False\nName: Emissão / Remoção / Bunker, Length: 103312, dtype: bool"
     },
     "execution_count": 42,
     "metadata": {},
     "output_type": "execute_result"
    }
   ],
   "source": [
    "(dados_gases_por_estado['Emissão / Remoção / Bunker'] == 'Remoção NCI') | (dados_gases_por_estado['Emissão / Remoção / Bunker'] == 'Remoção')"
   ],
   "metadata": {
    "collapsed": false,
    "ExecuteTime": {
     "end_time": "2024-01-07T14:55:46.769672Z",
     "start_time": "2024-01-07T14:55:46.766893Z"
    }
   },
   "id": "fbcd764e9b8ec734"
  },
  {
   "cell_type": "code",
   "execution_count": 43,
   "outputs": [
    {
     "data": {
      "text/plain": "                           Nível 1 - Setor                           Nível 2  \\\n23520                         Agropecuária                   Solos Manejados   \n23521                         Agropecuária                   Solos Manejados   \n23522                         Agropecuária                   Solos Manejados   \n23523                         Agropecuária                   Solos Manejados   \n23524                         Agropecuária                   Solos Manejados   \n...                                    ...                               ...   \n102751  Mudança de Uso da Terra e Floresta  Remoção por Vegetação Secundária   \n102752  Mudança de Uso da Terra e Floresta  Remoção por Vegetação Secundária   \n102753  Mudança de Uso da Terra e Floresta  Remoção por Vegetação Secundária   \n102754  Mudança de Uso da Terra e Floresta  Remoção por Vegetação Secundária   \n102755  Mudança de Uso da Terra e Floresta  Remoção por Vegetação Secundária   \n\n         Nível 3                                   Nível 4  \\\n23520    Diretas  Variação dos Estoques de Carbono no Solo   \n23521    Diretas  Variação dos Estoques de Carbono no Solo   \n23522    Diretas  Variação dos Estoques de Carbono no Solo   \n23523    Diretas  Variação dos Estoques de Carbono no Solo   \n23524    Diretas  Variação dos Estoques de Carbono no Solo   \n...          ...                                       ...   \n102751  Pantanal                         em Área Protegida   \n102752  Pantanal                         em Área Protegida   \n102753  Pantanal                         em Área Protegida   \n102754  Pantanal                         em Área Protegida   \n102755  Pantanal                         em Área Protegida   \n\n                         Nível 5  \\\n23520                    Vegetal   \n23521                    Vegetal   \n23522                    Vegetal   \n23523                    Vegetal   \n23524                    Vegetal   \n...                          ...   \n102751  Vegetação nativa estável   \n102752  Vegetação nativa estável   \n102753  Vegetação nativa estável   \n102754  Vegetação nativa estável   \n102755  Vegetação nativa estável   \n\n                                                  Nível 6  \\\n23520                               Pastagem Bem Manejada   \n23521                               Pastagem Bem Manejada   \n23522                               Pastagem Bem Manejada   \n23523                               Pastagem Bem Manejada   \n23524                               Pastagem Bem Manejada   \n...                                                   ...   \n102751  Vegetação não florestal secundária -- Vegetaçã...   \n102752  Vegetação não florestal secundária -- Vegetaçã...   \n102753  Vegetação não florestal secundária -- Vegetaçã...   \n102754  Vegetação não florestal secundária -- Vegetaçã...   \n102755  Vegetação não florestal secundária -- Vegetaçã...   \n\n       Emissão / Remoção / Bunker               Gás Estado  \\\n23520                 Remoção NCI           CO2 (t)     RO   \n23521                 Remoção NCI           CO2 (t)     AC   \n23522                 Remoção NCI           CO2 (t)     AM   \n23523                 Remoção NCI           CO2 (t)     RR   \n23524                 Remoção NCI           CO2 (t)     PA   \n...                           ...               ...    ...   \n102751                    Remoção  CO2e (t) GWP-AR4     MS   \n102752                    Remoção  CO2e (t) GWP-AR5     MT   \n102753                    Remoção  CO2e (t) GWP-AR5     MS   \n102754                    Remoção  CO2e (t) GWP-AR6     MT   \n102755                    Remoção  CO2e (t) GWP-AR6     MS   \n\n       Atividade Econômica  ...          2012          2013          2014  \\\n23520                  PEC  ... -1.434540e+07 -1.499358e+07 -1.543196e+07   \n23521                  PEC  ... -5.382949e+06 -5.524659e+06 -5.632429e+06   \n23522                  PEC  ... -3.450455e+06 -3.540294e+06 -3.545724e+06   \n23523                  PEC  ... -1.260166e+06 -1.261895e+06 -1.371664e+06   \n23524                  PEC  ... -3.429279e+07 -3.317185e+07 -3.281628e+07   \n...                    ...  ...           ...           ...           ...   \n102751             AGROPEC  ... -7.513000e+04 -7.911900e+04 -8.695900e+04   \n102752             AGROPEC  ... -9.523000e+03 -9.667000e+03 -1.000300e+04   \n102753             AGROPEC  ... -7.513000e+04 -7.911900e+04 -8.695900e+04   \n102754             AGROPEC  ... -9.523000e+03 -9.667000e+03 -1.000300e+04   \n102755             AGROPEC  ... -7.513000e+04 -7.911900e+04 -8.695900e+04   \n\n                2015          2016          2017          2018          2019  \\\n23520  -1.567070e+07 -1.630063e+07 -1.702215e+07 -1.740074e+07 -1.771914e+07   \n23521  -5.765030e+06 -5.867354e+06 -5.942076e+06 -6.022000e+06 -6.002147e+06   \n23522  -3.924546e+06 -4.626541e+06 -4.874199e+06 -4.849173e+06 -4.959540e+06   \n23523  -1.501452e+06 -1.507705e+06 -1.509919e+06 -1.609826e+06 -1.616980e+06   \n23524  -3.350720e+07 -3.557183e+07 -3.755308e+07 -4.134614e+07 -4.229403e+07   \n...              ...           ...           ...           ...           ...   \n102751 -9.201400e+04 -9.149400e+04 -9.630200e+04 -9.202000e+04 -9.762300e+04   \n102752 -1.024200e+04 -1.027200e+04 -1.019100e+04 -1.046900e+04 -1.090400e+04   \n102753 -9.201400e+04 -9.149400e+04 -9.630200e+04 -9.202000e+04 -9.762300e+04   \n102754 -1.024200e+04 -1.027200e+04 -1.019100e+04 -1.046900e+04 -1.090400e+04   \n102755 -9.201400e+04 -9.149400e+04 -9.630200e+04 -9.202000e+04 -9.762300e+04   \n\n                2020          2021  \n23520  -1.767632e+07 -1.838895e+07  \n23521  -6.035591e+06 -6.459079e+06  \n23522  -5.106806e+06 -5.809814e+06  \n23523  -1.518397e+06 -1.926000e+06  \n23524  -4.275448e+07 -4.443440e+07  \n...              ...           ...  \n102751 -1.015020e+05 -1.008910e+05  \n102752 -1.104100e+04 -1.109500e+04  \n102753 -1.015020e+05 -1.008910e+05  \n102754 -1.104100e+04 -1.109500e+04  \n102755 -1.015020e+05 -1.008910e+05  \n\n[7970 rows x 63 columns]",
      "text/html": "<div>\n<style scoped>\n    .dataframe tbody tr th:only-of-type {\n        vertical-align: middle;\n    }\n\n    .dataframe tbody tr th {\n        vertical-align: top;\n    }\n\n    .dataframe thead th {\n        text-align: right;\n    }\n</style>\n<table border=\"1\" class=\"dataframe\">\n  <thead>\n    <tr style=\"text-align: right;\">\n      <th></th>\n      <th>Nível 1 - Setor</th>\n      <th>Nível 2</th>\n      <th>Nível 3</th>\n      <th>Nível 4</th>\n      <th>Nível 5</th>\n      <th>Nível 6</th>\n      <th>Emissão / Remoção / Bunker</th>\n      <th>Gás</th>\n      <th>Estado</th>\n      <th>Atividade Econômica</th>\n      <th>...</th>\n      <th>2012</th>\n      <th>2013</th>\n      <th>2014</th>\n      <th>2015</th>\n      <th>2016</th>\n      <th>2017</th>\n      <th>2018</th>\n      <th>2019</th>\n      <th>2020</th>\n      <th>2021</th>\n    </tr>\n  </thead>\n  <tbody>\n    <tr>\n      <th>23520</th>\n      <td>Agropecuária</td>\n      <td>Solos Manejados</td>\n      <td>Diretas</td>\n      <td>Variação dos Estoques de Carbono no Solo</td>\n      <td>Vegetal</td>\n      <td>Pastagem Bem Manejada</td>\n      <td>Remoção NCI</td>\n      <td>CO2 (t)</td>\n      <td>RO</td>\n      <td>PEC</td>\n      <td>...</td>\n      <td>-1.434540e+07</td>\n      <td>-1.499358e+07</td>\n      <td>-1.543196e+07</td>\n      <td>-1.567070e+07</td>\n      <td>-1.630063e+07</td>\n      <td>-1.702215e+07</td>\n      <td>-1.740074e+07</td>\n      <td>-1.771914e+07</td>\n      <td>-1.767632e+07</td>\n      <td>-1.838895e+07</td>\n    </tr>\n    <tr>\n      <th>23521</th>\n      <td>Agropecuária</td>\n      <td>Solos Manejados</td>\n      <td>Diretas</td>\n      <td>Variação dos Estoques de Carbono no Solo</td>\n      <td>Vegetal</td>\n      <td>Pastagem Bem Manejada</td>\n      <td>Remoção NCI</td>\n      <td>CO2 (t)</td>\n      <td>AC</td>\n      <td>PEC</td>\n      <td>...</td>\n      <td>-5.382949e+06</td>\n      <td>-5.524659e+06</td>\n      <td>-5.632429e+06</td>\n      <td>-5.765030e+06</td>\n      <td>-5.867354e+06</td>\n      <td>-5.942076e+06</td>\n      <td>-6.022000e+06</td>\n      <td>-6.002147e+06</td>\n      <td>-6.035591e+06</td>\n      <td>-6.459079e+06</td>\n    </tr>\n    <tr>\n      <th>23522</th>\n      <td>Agropecuária</td>\n      <td>Solos Manejados</td>\n      <td>Diretas</td>\n      <td>Variação dos Estoques de Carbono no Solo</td>\n      <td>Vegetal</td>\n      <td>Pastagem Bem Manejada</td>\n      <td>Remoção NCI</td>\n      <td>CO2 (t)</td>\n      <td>AM</td>\n      <td>PEC</td>\n      <td>...</td>\n      <td>-3.450455e+06</td>\n      <td>-3.540294e+06</td>\n      <td>-3.545724e+06</td>\n      <td>-3.924546e+06</td>\n      <td>-4.626541e+06</td>\n      <td>-4.874199e+06</td>\n      <td>-4.849173e+06</td>\n      <td>-4.959540e+06</td>\n      <td>-5.106806e+06</td>\n      <td>-5.809814e+06</td>\n    </tr>\n    <tr>\n      <th>23523</th>\n      <td>Agropecuária</td>\n      <td>Solos Manejados</td>\n      <td>Diretas</td>\n      <td>Variação dos Estoques de Carbono no Solo</td>\n      <td>Vegetal</td>\n      <td>Pastagem Bem Manejada</td>\n      <td>Remoção NCI</td>\n      <td>CO2 (t)</td>\n      <td>RR</td>\n      <td>PEC</td>\n      <td>...</td>\n      <td>-1.260166e+06</td>\n      <td>-1.261895e+06</td>\n      <td>-1.371664e+06</td>\n      <td>-1.501452e+06</td>\n      <td>-1.507705e+06</td>\n      <td>-1.509919e+06</td>\n      <td>-1.609826e+06</td>\n      <td>-1.616980e+06</td>\n      <td>-1.518397e+06</td>\n      <td>-1.926000e+06</td>\n    </tr>\n    <tr>\n      <th>23524</th>\n      <td>Agropecuária</td>\n      <td>Solos Manejados</td>\n      <td>Diretas</td>\n      <td>Variação dos Estoques de Carbono no Solo</td>\n      <td>Vegetal</td>\n      <td>Pastagem Bem Manejada</td>\n      <td>Remoção NCI</td>\n      <td>CO2 (t)</td>\n      <td>PA</td>\n      <td>PEC</td>\n      <td>...</td>\n      <td>-3.429279e+07</td>\n      <td>-3.317185e+07</td>\n      <td>-3.281628e+07</td>\n      <td>-3.350720e+07</td>\n      <td>-3.557183e+07</td>\n      <td>-3.755308e+07</td>\n      <td>-4.134614e+07</td>\n      <td>-4.229403e+07</td>\n      <td>-4.275448e+07</td>\n      <td>-4.443440e+07</td>\n    </tr>\n    <tr>\n      <th>...</th>\n      <td>...</td>\n      <td>...</td>\n      <td>...</td>\n      <td>...</td>\n      <td>...</td>\n      <td>...</td>\n      <td>...</td>\n      <td>...</td>\n      <td>...</td>\n      <td>...</td>\n      <td>...</td>\n      <td>...</td>\n      <td>...</td>\n      <td>...</td>\n      <td>...</td>\n      <td>...</td>\n      <td>...</td>\n      <td>...</td>\n      <td>...</td>\n      <td>...</td>\n      <td>...</td>\n    </tr>\n    <tr>\n      <th>102751</th>\n      <td>Mudança de Uso da Terra e Floresta</td>\n      <td>Remoção por Vegetação Secundária</td>\n      <td>Pantanal</td>\n      <td>em Área Protegida</td>\n      <td>Vegetação nativa estável</td>\n      <td>Vegetação não florestal secundária -- Vegetaçã...</td>\n      <td>Remoção</td>\n      <td>CO2e (t) GWP-AR4</td>\n      <td>MS</td>\n      <td>AGROPEC</td>\n      <td>...</td>\n      <td>-7.513000e+04</td>\n      <td>-7.911900e+04</td>\n      <td>-8.695900e+04</td>\n      <td>-9.201400e+04</td>\n      <td>-9.149400e+04</td>\n      <td>-9.630200e+04</td>\n      <td>-9.202000e+04</td>\n      <td>-9.762300e+04</td>\n      <td>-1.015020e+05</td>\n      <td>-1.008910e+05</td>\n    </tr>\n    <tr>\n      <th>102752</th>\n      <td>Mudança de Uso da Terra e Floresta</td>\n      <td>Remoção por Vegetação Secundária</td>\n      <td>Pantanal</td>\n      <td>em Área Protegida</td>\n      <td>Vegetação nativa estável</td>\n      <td>Vegetação não florestal secundária -- Vegetaçã...</td>\n      <td>Remoção</td>\n      <td>CO2e (t) GWP-AR5</td>\n      <td>MT</td>\n      <td>AGROPEC</td>\n      <td>...</td>\n      <td>-9.523000e+03</td>\n      <td>-9.667000e+03</td>\n      <td>-1.000300e+04</td>\n      <td>-1.024200e+04</td>\n      <td>-1.027200e+04</td>\n      <td>-1.019100e+04</td>\n      <td>-1.046900e+04</td>\n      <td>-1.090400e+04</td>\n      <td>-1.104100e+04</td>\n      <td>-1.109500e+04</td>\n    </tr>\n    <tr>\n      <th>102753</th>\n      <td>Mudança de Uso da Terra e Floresta</td>\n      <td>Remoção por Vegetação Secundária</td>\n      <td>Pantanal</td>\n      <td>em Área Protegida</td>\n      <td>Vegetação nativa estável</td>\n      <td>Vegetação não florestal secundária -- Vegetaçã...</td>\n      <td>Remoção</td>\n      <td>CO2e (t) GWP-AR5</td>\n      <td>MS</td>\n      <td>AGROPEC</td>\n      <td>...</td>\n      <td>-7.513000e+04</td>\n      <td>-7.911900e+04</td>\n      <td>-8.695900e+04</td>\n      <td>-9.201400e+04</td>\n      <td>-9.149400e+04</td>\n      <td>-9.630200e+04</td>\n      <td>-9.202000e+04</td>\n      <td>-9.762300e+04</td>\n      <td>-1.015020e+05</td>\n      <td>-1.008910e+05</td>\n    </tr>\n    <tr>\n      <th>102754</th>\n      <td>Mudança de Uso da Terra e Floresta</td>\n      <td>Remoção por Vegetação Secundária</td>\n      <td>Pantanal</td>\n      <td>em Área Protegida</td>\n      <td>Vegetação nativa estável</td>\n      <td>Vegetação não florestal secundária -- Vegetaçã...</td>\n      <td>Remoção</td>\n      <td>CO2e (t) GWP-AR6</td>\n      <td>MT</td>\n      <td>AGROPEC</td>\n      <td>...</td>\n      <td>-9.523000e+03</td>\n      <td>-9.667000e+03</td>\n      <td>-1.000300e+04</td>\n      <td>-1.024200e+04</td>\n      <td>-1.027200e+04</td>\n      <td>-1.019100e+04</td>\n      <td>-1.046900e+04</td>\n      <td>-1.090400e+04</td>\n      <td>-1.104100e+04</td>\n      <td>-1.109500e+04</td>\n    </tr>\n    <tr>\n      <th>102755</th>\n      <td>Mudança de Uso da Terra e Floresta</td>\n      <td>Remoção por Vegetação Secundária</td>\n      <td>Pantanal</td>\n      <td>em Área Protegida</td>\n      <td>Vegetação nativa estável</td>\n      <td>Vegetação não florestal secundária -- Vegetaçã...</td>\n      <td>Remoção</td>\n      <td>CO2e (t) GWP-AR6</td>\n      <td>MS</td>\n      <td>AGROPEC</td>\n      <td>...</td>\n      <td>-7.513000e+04</td>\n      <td>-7.911900e+04</td>\n      <td>-8.695900e+04</td>\n      <td>-9.201400e+04</td>\n      <td>-9.149400e+04</td>\n      <td>-9.630200e+04</td>\n      <td>-9.202000e+04</td>\n      <td>-9.762300e+04</td>\n      <td>-1.015020e+05</td>\n      <td>-1.008910e+05</td>\n    </tr>\n  </tbody>\n</table>\n<p>7970 rows × 63 columns</p>\n</div>"
     },
     "execution_count": 43,
     "metadata": {},
     "output_type": "execute_result"
    }
   ],
   "source": [
    "remocoes_por_estado = dados_gases_por_estado[dados_gases_por_estado['Emissão / Remoção / Bunker'].isin(['Remoção NCI', 'Remoção'])] # Retorna somente os dados que possuem os valores 'Remoção NCI' e 'Remoção' na coluna 'Emissão / Remoção / Bunker'\n",
    "remocoes_por_estado"
   ],
   "metadata": {
    "collapsed": false,
    "ExecuteTime": {
     "end_time": "2024-01-07T14:55:46.792956Z",
     "start_time": "2024-01-07T14:55:46.771094Z"
    }
   },
   "id": "7166ae3321f9de11"
  },
  {
   "cell_type": "code",
   "execution_count": 46,
   "outputs": [
    {
     "data": {
      "text/plain": "        1970  1971  1972  1973  1974  1975  1976  1977  1978  1979  ...  \\\n23520    0.0   0.0   0.0   0.0   0.0   0.0   0.0   0.0   0.0   0.0  ...   \n23521    0.0   0.0   0.0   0.0   0.0   0.0   0.0   0.0   0.0   0.0  ...   \n23522    0.0   0.0   0.0   0.0   0.0   0.0   0.0   0.0   0.0   0.0  ...   \n23523    0.0   0.0   0.0   0.0   0.0   0.0   0.0   0.0   0.0   0.0  ...   \n23524    0.0   0.0   0.0   0.0   0.0   0.0   0.0   0.0   0.0   0.0  ...   \n...      ...   ...   ...   ...   ...   ...   ...   ...   ...   ...  ...   \n102751   0.0   0.0   0.0   0.0   0.0   0.0   0.0   0.0   0.0   0.0  ...   \n102752   0.0   0.0   0.0   0.0   0.0   0.0   0.0   0.0   0.0   0.0  ...   \n102753   0.0   0.0   0.0   0.0   0.0   0.0   0.0   0.0   0.0   0.0  ...   \n102754   0.0   0.0   0.0   0.0   0.0   0.0   0.0   0.0   0.0   0.0  ...   \n102755   0.0   0.0   0.0   0.0   0.0   0.0   0.0   0.0   0.0   0.0  ...   \n\n                2012          2013          2014          2015          2016  \\\n23520  -1.434540e+07 -1.499358e+07 -1.543196e+07 -1.567070e+07 -1.630063e+07   \n23521  -5.382949e+06 -5.524659e+06 -5.632429e+06 -5.765030e+06 -5.867354e+06   \n23522  -3.450455e+06 -3.540294e+06 -3.545724e+06 -3.924546e+06 -4.626541e+06   \n23523  -1.260166e+06 -1.261895e+06 -1.371664e+06 -1.501452e+06 -1.507705e+06   \n23524  -3.429279e+07 -3.317185e+07 -3.281628e+07 -3.350720e+07 -3.557183e+07   \n...              ...           ...           ...           ...           ...   \n102751 -7.513000e+04 -7.911900e+04 -8.695900e+04 -9.201400e+04 -9.149400e+04   \n102752 -9.523000e+03 -9.667000e+03 -1.000300e+04 -1.024200e+04 -1.027200e+04   \n102753 -7.513000e+04 -7.911900e+04 -8.695900e+04 -9.201400e+04 -9.149400e+04   \n102754 -9.523000e+03 -9.667000e+03 -1.000300e+04 -1.024200e+04 -1.027200e+04   \n102755 -7.513000e+04 -7.911900e+04 -8.695900e+04 -9.201400e+04 -9.149400e+04   \n\n                2017          2018          2019          2020          2021  \n23520  -1.702215e+07 -1.740074e+07 -1.771914e+07 -1.767632e+07 -1.838895e+07  \n23521  -5.942076e+06 -6.022000e+06 -6.002147e+06 -6.035591e+06 -6.459079e+06  \n23522  -4.874199e+06 -4.849173e+06 -4.959540e+06 -5.106806e+06 -5.809814e+06  \n23523  -1.509919e+06 -1.609826e+06 -1.616980e+06 -1.518397e+06 -1.926000e+06  \n23524  -3.755308e+07 -4.134614e+07 -4.229403e+07 -4.275448e+07 -4.443440e+07  \n...              ...           ...           ...           ...           ...  \n102751 -9.630200e+04 -9.202000e+04 -9.762300e+04 -1.015020e+05 -1.008910e+05  \n102752 -1.019100e+04 -1.046900e+04 -1.090400e+04 -1.104100e+04 -1.109500e+04  \n102753 -9.630200e+04 -9.202000e+04 -9.762300e+04 -1.015020e+05 -1.008910e+05  \n102754 -1.019100e+04 -1.046900e+04 -1.090400e+04 -1.104100e+04 -1.109500e+04  \n102755 -9.630200e+04 -9.202000e+04 -9.762300e+04 -1.015020e+05 -1.008910e+05  \n\n[7970 rows x 52 columns]",
      "text/html": "<div>\n<style scoped>\n    .dataframe tbody tr th:only-of-type {\n        vertical-align: middle;\n    }\n\n    .dataframe tbody tr th {\n        vertical-align: top;\n    }\n\n    .dataframe thead th {\n        text-align: right;\n    }\n</style>\n<table border=\"1\" class=\"dataframe\">\n  <thead>\n    <tr style=\"text-align: right;\">\n      <th></th>\n      <th>1970</th>\n      <th>1971</th>\n      <th>1972</th>\n      <th>1973</th>\n      <th>1974</th>\n      <th>1975</th>\n      <th>1976</th>\n      <th>1977</th>\n      <th>1978</th>\n      <th>1979</th>\n      <th>...</th>\n      <th>2012</th>\n      <th>2013</th>\n      <th>2014</th>\n      <th>2015</th>\n      <th>2016</th>\n      <th>2017</th>\n      <th>2018</th>\n      <th>2019</th>\n      <th>2020</th>\n      <th>2021</th>\n    </tr>\n  </thead>\n  <tbody>\n    <tr>\n      <th>23520</th>\n      <td>0.0</td>\n      <td>0.0</td>\n      <td>0.0</td>\n      <td>0.0</td>\n      <td>0.0</td>\n      <td>0.0</td>\n      <td>0.0</td>\n      <td>0.0</td>\n      <td>0.0</td>\n      <td>0.0</td>\n      <td>...</td>\n      <td>-1.434540e+07</td>\n      <td>-1.499358e+07</td>\n      <td>-1.543196e+07</td>\n      <td>-1.567070e+07</td>\n      <td>-1.630063e+07</td>\n      <td>-1.702215e+07</td>\n      <td>-1.740074e+07</td>\n      <td>-1.771914e+07</td>\n      <td>-1.767632e+07</td>\n      <td>-1.838895e+07</td>\n    </tr>\n    <tr>\n      <th>23521</th>\n      <td>0.0</td>\n      <td>0.0</td>\n      <td>0.0</td>\n      <td>0.0</td>\n      <td>0.0</td>\n      <td>0.0</td>\n      <td>0.0</td>\n      <td>0.0</td>\n      <td>0.0</td>\n      <td>0.0</td>\n      <td>...</td>\n      <td>-5.382949e+06</td>\n      <td>-5.524659e+06</td>\n      <td>-5.632429e+06</td>\n      <td>-5.765030e+06</td>\n      <td>-5.867354e+06</td>\n      <td>-5.942076e+06</td>\n      <td>-6.022000e+06</td>\n      <td>-6.002147e+06</td>\n      <td>-6.035591e+06</td>\n      <td>-6.459079e+06</td>\n    </tr>\n    <tr>\n      <th>23522</th>\n      <td>0.0</td>\n      <td>0.0</td>\n      <td>0.0</td>\n      <td>0.0</td>\n      <td>0.0</td>\n      <td>0.0</td>\n      <td>0.0</td>\n      <td>0.0</td>\n      <td>0.0</td>\n      <td>0.0</td>\n      <td>...</td>\n      <td>-3.450455e+06</td>\n      <td>-3.540294e+06</td>\n      <td>-3.545724e+06</td>\n      <td>-3.924546e+06</td>\n      <td>-4.626541e+06</td>\n      <td>-4.874199e+06</td>\n      <td>-4.849173e+06</td>\n      <td>-4.959540e+06</td>\n      <td>-5.106806e+06</td>\n      <td>-5.809814e+06</td>\n    </tr>\n    <tr>\n      <th>23523</th>\n      <td>0.0</td>\n      <td>0.0</td>\n      <td>0.0</td>\n      <td>0.0</td>\n      <td>0.0</td>\n      <td>0.0</td>\n      <td>0.0</td>\n      <td>0.0</td>\n      <td>0.0</td>\n      <td>0.0</td>\n      <td>...</td>\n      <td>-1.260166e+06</td>\n      <td>-1.261895e+06</td>\n      <td>-1.371664e+06</td>\n      <td>-1.501452e+06</td>\n      <td>-1.507705e+06</td>\n      <td>-1.509919e+06</td>\n      <td>-1.609826e+06</td>\n      <td>-1.616980e+06</td>\n      <td>-1.518397e+06</td>\n      <td>-1.926000e+06</td>\n    </tr>\n    <tr>\n      <th>23524</th>\n      <td>0.0</td>\n      <td>0.0</td>\n      <td>0.0</td>\n      <td>0.0</td>\n      <td>0.0</td>\n      <td>0.0</td>\n      <td>0.0</td>\n      <td>0.0</td>\n      <td>0.0</td>\n      <td>0.0</td>\n      <td>...</td>\n      <td>-3.429279e+07</td>\n      <td>-3.317185e+07</td>\n      <td>-3.281628e+07</td>\n      <td>-3.350720e+07</td>\n      <td>-3.557183e+07</td>\n      <td>-3.755308e+07</td>\n      <td>-4.134614e+07</td>\n      <td>-4.229403e+07</td>\n      <td>-4.275448e+07</td>\n      <td>-4.443440e+07</td>\n    </tr>\n    <tr>\n      <th>...</th>\n      <td>...</td>\n      <td>...</td>\n      <td>...</td>\n      <td>...</td>\n      <td>...</td>\n      <td>...</td>\n      <td>...</td>\n      <td>...</td>\n      <td>...</td>\n      <td>...</td>\n      <td>...</td>\n      <td>...</td>\n      <td>...</td>\n      <td>...</td>\n      <td>...</td>\n      <td>...</td>\n      <td>...</td>\n      <td>...</td>\n      <td>...</td>\n      <td>...</td>\n      <td>...</td>\n    </tr>\n    <tr>\n      <th>102751</th>\n      <td>0.0</td>\n      <td>0.0</td>\n      <td>0.0</td>\n      <td>0.0</td>\n      <td>0.0</td>\n      <td>0.0</td>\n      <td>0.0</td>\n      <td>0.0</td>\n      <td>0.0</td>\n      <td>0.0</td>\n      <td>...</td>\n      <td>-7.513000e+04</td>\n      <td>-7.911900e+04</td>\n      <td>-8.695900e+04</td>\n      <td>-9.201400e+04</td>\n      <td>-9.149400e+04</td>\n      <td>-9.630200e+04</td>\n      <td>-9.202000e+04</td>\n      <td>-9.762300e+04</td>\n      <td>-1.015020e+05</td>\n      <td>-1.008910e+05</td>\n    </tr>\n    <tr>\n      <th>102752</th>\n      <td>0.0</td>\n      <td>0.0</td>\n      <td>0.0</td>\n      <td>0.0</td>\n      <td>0.0</td>\n      <td>0.0</td>\n      <td>0.0</td>\n      <td>0.0</td>\n      <td>0.0</td>\n      <td>0.0</td>\n      <td>...</td>\n      <td>-9.523000e+03</td>\n      <td>-9.667000e+03</td>\n      <td>-1.000300e+04</td>\n      <td>-1.024200e+04</td>\n      <td>-1.027200e+04</td>\n      <td>-1.019100e+04</td>\n      <td>-1.046900e+04</td>\n      <td>-1.090400e+04</td>\n      <td>-1.104100e+04</td>\n      <td>-1.109500e+04</td>\n    </tr>\n    <tr>\n      <th>102753</th>\n      <td>0.0</td>\n      <td>0.0</td>\n      <td>0.0</td>\n      <td>0.0</td>\n      <td>0.0</td>\n      <td>0.0</td>\n      <td>0.0</td>\n      <td>0.0</td>\n      <td>0.0</td>\n      <td>0.0</td>\n      <td>...</td>\n      <td>-7.513000e+04</td>\n      <td>-7.911900e+04</td>\n      <td>-8.695900e+04</td>\n      <td>-9.201400e+04</td>\n      <td>-9.149400e+04</td>\n      <td>-9.630200e+04</td>\n      <td>-9.202000e+04</td>\n      <td>-9.762300e+04</td>\n      <td>-1.015020e+05</td>\n      <td>-1.008910e+05</td>\n    </tr>\n    <tr>\n      <th>102754</th>\n      <td>0.0</td>\n      <td>0.0</td>\n      <td>0.0</td>\n      <td>0.0</td>\n      <td>0.0</td>\n      <td>0.0</td>\n      <td>0.0</td>\n      <td>0.0</td>\n      <td>0.0</td>\n      <td>0.0</td>\n      <td>...</td>\n      <td>-9.523000e+03</td>\n      <td>-9.667000e+03</td>\n      <td>-1.000300e+04</td>\n      <td>-1.024200e+04</td>\n      <td>-1.027200e+04</td>\n      <td>-1.019100e+04</td>\n      <td>-1.046900e+04</td>\n      <td>-1.090400e+04</td>\n      <td>-1.104100e+04</td>\n      <td>-1.109500e+04</td>\n    </tr>\n    <tr>\n      <th>102755</th>\n      <td>0.0</td>\n      <td>0.0</td>\n      <td>0.0</td>\n      <td>0.0</td>\n      <td>0.0</td>\n      <td>0.0</td>\n      <td>0.0</td>\n      <td>0.0</td>\n      <td>0.0</td>\n      <td>0.0</td>\n      <td>...</td>\n      <td>-7.513000e+04</td>\n      <td>-7.911900e+04</td>\n      <td>-8.695900e+04</td>\n      <td>-9.201400e+04</td>\n      <td>-9.149400e+04</td>\n      <td>-9.630200e+04</td>\n      <td>-9.202000e+04</td>\n      <td>-9.762300e+04</td>\n      <td>-1.015020e+05</td>\n      <td>-1.008910e+05</td>\n    </tr>\n  </tbody>\n</table>\n<p>7970 rows × 52 columns</p>\n</div>"
     },
     "execution_count": 46,
     "metadata": {},
     "output_type": "execute_result"
    }
   ],
   "source": [
    "# dados_gases_por_estado.loc[dados_gases_por_estado['Emissão / Remoção / Bunker'].isin(['Remoção NCI', 'Remoção']), 1970:2021] # A função loc retorna os dados conforme o índice da linha e o nome da coluna\n",
    "dados_remocoes_por_estado_por_ano = remocoes_por_estado.loc[:, 1970:2021] # Retorna somente as colunas que possuem os anos de 1970 a 2021\n",
    "dados_remocoes_por_estado_por_ano"
   ],
   "metadata": {
    "collapsed": false,
    "ExecuteTime": {
     "end_time": "2024-01-07T14:56:15.008409Z",
     "start_time": "2024-01-07T14:56:14.979920Z"
    }
   },
   "id": "ef2c6580a3c6319f"
  },
  {
   "cell_type": "code",
   "execution_count": 47,
   "outputs": [
    {
     "data": {
      "text/plain": "1970    0.0\n1971    0.0\n1972    0.0\n1973    0.0\n1974    0.0\n1975    0.0\n1976    0.0\n1977    0.0\n1978    0.0\n1979    0.0\n1980    0.0\n1981    0.0\n1982    0.0\n1983    0.0\n1984    0.0\n1985    0.0\n1986    0.0\n1987    0.0\n1988    0.0\n1989    0.0\n1990    0.0\n1991    0.0\n1992    0.0\n1993    0.0\n1994    0.0\n1995    0.0\n1996    0.0\n1997    0.0\n1998    0.0\n1999    0.0\n2000    0.0\n2001    0.0\n2002    0.0\n2003    0.0\n2004    0.0\n2005    0.0\n2006    0.0\n2007    0.0\n2008    0.0\n2009    0.0\n2010    0.0\n2011    0.0\n2012    0.0\n2013    0.0\n2014    0.0\n2015    0.0\n2016    0.0\n2017    0.0\n2018    0.0\n2019    0.0\n2020    0.0\n2021    0.0\ndtype: float64"
     },
     "execution_count": 47,
     "metadata": {},
     "output_type": "execute_result"
    }
   ],
   "source": [
    "dados_remocoes_por_estado_por_ano.max() # Retorna o valor máximo de cada coluna. O valor máximo de cada coluna é o valor máximo de emissão de gases de efeito estufa de cada estado. Logo, se o valor máximo da coluna é zero, significa que o estado não emitiu gases de efeito estufa naquele ano. Do mesmo modo, admitem-se valores negativos nesta coluna, indicando que o estado retirou gases da atmosfera. "
   ],
   "metadata": {
    "collapsed": false,
    "ExecuteTime": {
     "end_time": "2024-01-07T14:56:16.075964Z",
     "start_time": "2024-01-07T14:56:16.068114Z"
    }
   },
   "id": "2ac7fb7d3f45fb22"
  },
  {
   "cell_type": "code",
   "execution_count": 48,
   "outputs": [
    {
     "data": {
      "text/plain": "array([nan], dtype=object)"
     },
     "execution_count": 48,
     "metadata": {},
     "output_type": "execute_result"
    }
   ],
   "source": [
    "dados_gases_por_estado.loc[dados_gases_por_estado['Emissão / Remoção / Bunker'] == 'Bunker', 'Estado'].unique() # Retorna os estados que possuem dados de emissão de gases por embarcações e aviões"
   ],
   "metadata": {
    "collapsed": false,
    "ExecuteTime": {
     "end_time": "2024-01-07T14:57:56.118165Z",
     "start_time": "2024-01-07T14:57:56.114023Z"
    }
   },
   "id": "ff0bd4df0341830f"
  },
  {
   "cell_type": "code",
   "execution_count": 50,
   "outputs": [
    {
     "data": {
      "text/plain": "                           Nível 1 - Setor              Nível 2  \\\n0                    Processos Industriais    Indústria Química   \n1                    Processos Industriais    Indústria Química   \n2                    Processos Industriais    Indústria Química   \n3                    Processos Industriais    Indústria Química   \n4                    Processos Industriais    Indústria Química   \n...                                    ...                  ...   \n103241  Mudança de Uso da Terra e Floresta  Resíduos Florestais   \n103242  Mudança de Uso da Terra e Floresta  Resíduos Florestais   \n103243  Mudança de Uso da Terra e Floresta  Resíduos Florestais   \n103244  Mudança de Uso da Terra e Floresta  Resíduos Florestais   \n103245  Mudança de Uso da Terra e Floresta  Resíduos Florestais   \n\n                          Nível 3 Nível 4       Nível 5 Nível 6  \\\n0                 Produção de ABS     NaN           NaN     NaN   \n1       Produção de Ácido Adípico     NaN           NaN     NaN   \n2       Produção de Ácido Adípico     NaN           NaN     NaN   \n3       Produção de Ácido Adípico     NaN           NaN     NaN   \n4       Produção de Ácido Adípico     NaN           NaN     NaN   \n...                           ...     ...           ...     ...   \n103241                   Pantanal     NaN  Desmatamento     NaN   \n103242                   Pantanal     NaN  Desmatamento     NaN   \n103243                   Pantanal     NaN  Desmatamento     NaN   \n103244                   Pantanal     NaN  Desmatamento     NaN   \n103245                   Pantanal     NaN  Desmatamento     NaN   \n\n       Emissão / Remoção / Bunker               Gás Estado  \\\n0                         Emissão         COVNM (t)     SP   \n1                         Emissão           N2O (t)     SP   \n2                         Emissão            CO (t)     SP   \n3                         Emissão           NOx (t)     SP   \n4                         Emissão  CO2e (t) GWP-AR2     SP   \n...                           ...               ...    ...   \n103241                    Emissão  CO2e (t) GWP-AR5     MS   \n103242                    Emissão  CO2e (t) GWP-AR6     MT   \n103243                    Emissão  CO2e (t) GWP-AR6     MS   \n103244                    Emissão           N2O (t)     MT   \n103245                    Emissão           N2O (t)     MS   \n\n       Atividade Econômica  ...           2012           2013           2014  \\\n0                OUTRA_IND  ...     897.600000     897.600000     897.600000   \n1                OUTRA_IND  ...     130.000000     130.000000     130.000000   \n2                OUTRA_IND  ...    1380.576000    1380.576000    1380.576000   \n3                OUTRA_IND  ...     431.430000     431.430000     431.430000   \n4                OUTRA_IND  ...   40300.000000   40300.000000   40300.000000   \n...                    ...  ...            ...            ...            ...   \n103241             AGROPEC  ...  436935.000000  500067.000000  440030.000000   \n103242             AGROPEC  ...  126806.000000  127558.000000  193758.000000   \n103243             AGROPEC  ...  439524.000000  502908.000000  442493.000000   \n103244             AGROPEC  ...     108.441090     109.811199     166.680103   \n103245             AGROPEC  ...     463.968255     517.078826     450.849218   \n\n                 2015           2016           2017           2018  \\\n0          897.600000     897.600000     897.600000     897.600000   \n1          130.000000     130.000000     130.000000     130.000000   \n2         1380.576000    1380.576000    1380.576000    1380.576000   \n3          431.430000     431.430000     431.430000     431.430000   \n4        40300.000000   40300.000000   40300.000000   40300.000000   \n...               ...            ...            ...            ...   \n103241  365272.000000  438422.000000  391113.000000  411738.000000   \n103242  164585.000000  234509.000000  190412.000000  162919.000000   \n103243  367116.000000  440798.000000  393101.000000  413749.000000   \n103244     141.442361     201.556097     162.932751     137.219684   \n103245     352.160440     440.753215     378.038216     388.896998   \n\n              2019        2020         2021  \n0          897.600     897.600      897.600  \n1          130.000     130.000      130.000  \n2         1380.576    1380.576     1380.576  \n3          431.430     431.430      431.430  \n4        40300.000   40300.000    40300.000  \n...            ...         ...          ...  \n103241  437039.000  871393.000  1004191.000  \n103242  186091.000  368149.000   443120.000  \n103243  439526.000  876637.000  1009968.000  \n103244     158.000     314.000      479.000  \n103245     452.000     935.000     1047.000  \n\n[94748 rows x 63 columns]",
      "text/html": "<div>\n<style scoped>\n    .dataframe tbody tr th:only-of-type {\n        vertical-align: middle;\n    }\n\n    .dataframe tbody tr th {\n        vertical-align: top;\n    }\n\n    .dataframe thead th {\n        text-align: right;\n    }\n</style>\n<table border=\"1\" class=\"dataframe\">\n  <thead>\n    <tr style=\"text-align: right;\">\n      <th></th>\n      <th>Nível 1 - Setor</th>\n      <th>Nível 2</th>\n      <th>Nível 3</th>\n      <th>Nível 4</th>\n      <th>Nível 5</th>\n      <th>Nível 6</th>\n      <th>Emissão / Remoção / Bunker</th>\n      <th>Gás</th>\n      <th>Estado</th>\n      <th>Atividade Econômica</th>\n      <th>...</th>\n      <th>2012</th>\n      <th>2013</th>\n      <th>2014</th>\n      <th>2015</th>\n      <th>2016</th>\n      <th>2017</th>\n      <th>2018</th>\n      <th>2019</th>\n      <th>2020</th>\n      <th>2021</th>\n    </tr>\n  </thead>\n  <tbody>\n    <tr>\n      <th>0</th>\n      <td>Processos Industriais</td>\n      <td>Indústria Química</td>\n      <td>Produção de ABS</td>\n      <td>NaN</td>\n      <td>NaN</td>\n      <td>NaN</td>\n      <td>Emissão</td>\n      <td>COVNM (t)</td>\n      <td>SP</td>\n      <td>OUTRA_IND</td>\n      <td>...</td>\n      <td>897.600000</td>\n      <td>897.600000</td>\n      <td>897.600000</td>\n      <td>897.600000</td>\n      <td>897.600000</td>\n      <td>897.600000</td>\n      <td>897.600000</td>\n      <td>897.600</td>\n      <td>897.600</td>\n      <td>897.600</td>\n    </tr>\n    <tr>\n      <th>1</th>\n      <td>Processos Industriais</td>\n      <td>Indústria Química</td>\n      <td>Produção de Ácido Adípico</td>\n      <td>NaN</td>\n      <td>NaN</td>\n      <td>NaN</td>\n      <td>Emissão</td>\n      <td>N2O (t)</td>\n      <td>SP</td>\n      <td>OUTRA_IND</td>\n      <td>...</td>\n      <td>130.000000</td>\n      <td>130.000000</td>\n      <td>130.000000</td>\n      <td>130.000000</td>\n      <td>130.000000</td>\n      <td>130.000000</td>\n      <td>130.000000</td>\n      <td>130.000</td>\n      <td>130.000</td>\n      <td>130.000</td>\n    </tr>\n    <tr>\n      <th>2</th>\n      <td>Processos Industriais</td>\n      <td>Indústria Química</td>\n      <td>Produção de Ácido Adípico</td>\n      <td>NaN</td>\n      <td>NaN</td>\n      <td>NaN</td>\n      <td>Emissão</td>\n      <td>CO (t)</td>\n      <td>SP</td>\n      <td>OUTRA_IND</td>\n      <td>...</td>\n      <td>1380.576000</td>\n      <td>1380.576000</td>\n      <td>1380.576000</td>\n      <td>1380.576000</td>\n      <td>1380.576000</td>\n      <td>1380.576000</td>\n      <td>1380.576000</td>\n      <td>1380.576</td>\n      <td>1380.576</td>\n      <td>1380.576</td>\n    </tr>\n    <tr>\n      <th>3</th>\n      <td>Processos Industriais</td>\n      <td>Indústria Química</td>\n      <td>Produção de Ácido Adípico</td>\n      <td>NaN</td>\n      <td>NaN</td>\n      <td>NaN</td>\n      <td>Emissão</td>\n      <td>NOx (t)</td>\n      <td>SP</td>\n      <td>OUTRA_IND</td>\n      <td>...</td>\n      <td>431.430000</td>\n      <td>431.430000</td>\n      <td>431.430000</td>\n      <td>431.430000</td>\n      <td>431.430000</td>\n      <td>431.430000</td>\n      <td>431.430000</td>\n      <td>431.430</td>\n      <td>431.430</td>\n      <td>431.430</td>\n    </tr>\n    <tr>\n      <th>4</th>\n      <td>Processos Industriais</td>\n      <td>Indústria Química</td>\n      <td>Produção de Ácido Adípico</td>\n      <td>NaN</td>\n      <td>NaN</td>\n      <td>NaN</td>\n      <td>Emissão</td>\n      <td>CO2e (t) GWP-AR2</td>\n      <td>SP</td>\n      <td>OUTRA_IND</td>\n      <td>...</td>\n      <td>40300.000000</td>\n      <td>40300.000000</td>\n      <td>40300.000000</td>\n      <td>40300.000000</td>\n      <td>40300.000000</td>\n      <td>40300.000000</td>\n      <td>40300.000000</td>\n      <td>40300.000</td>\n      <td>40300.000</td>\n      <td>40300.000</td>\n    </tr>\n    <tr>\n      <th>...</th>\n      <td>...</td>\n      <td>...</td>\n      <td>...</td>\n      <td>...</td>\n      <td>...</td>\n      <td>...</td>\n      <td>...</td>\n      <td>...</td>\n      <td>...</td>\n      <td>...</td>\n      <td>...</td>\n      <td>...</td>\n      <td>...</td>\n      <td>...</td>\n      <td>...</td>\n      <td>...</td>\n      <td>...</td>\n      <td>...</td>\n      <td>...</td>\n      <td>...</td>\n      <td>...</td>\n    </tr>\n    <tr>\n      <th>103241</th>\n      <td>Mudança de Uso da Terra e Floresta</td>\n      <td>Resíduos Florestais</td>\n      <td>Pantanal</td>\n      <td>NaN</td>\n      <td>Desmatamento</td>\n      <td>NaN</td>\n      <td>Emissão</td>\n      <td>CO2e (t) GWP-AR5</td>\n      <td>MS</td>\n      <td>AGROPEC</td>\n      <td>...</td>\n      <td>436935.000000</td>\n      <td>500067.000000</td>\n      <td>440030.000000</td>\n      <td>365272.000000</td>\n      <td>438422.000000</td>\n      <td>391113.000000</td>\n      <td>411738.000000</td>\n      <td>437039.000</td>\n      <td>871393.000</td>\n      <td>1004191.000</td>\n    </tr>\n    <tr>\n      <th>103242</th>\n      <td>Mudança de Uso da Terra e Floresta</td>\n      <td>Resíduos Florestais</td>\n      <td>Pantanal</td>\n      <td>NaN</td>\n      <td>Desmatamento</td>\n      <td>NaN</td>\n      <td>Emissão</td>\n      <td>CO2e (t) GWP-AR6</td>\n      <td>MT</td>\n      <td>AGROPEC</td>\n      <td>...</td>\n      <td>126806.000000</td>\n      <td>127558.000000</td>\n      <td>193758.000000</td>\n      <td>164585.000000</td>\n      <td>234509.000000</td>\n      <td>190412.000000</td>\n      <td>162919.000000</td>\n      <td>186091.000</td>\n      <td>368149.000</td>\n      <td>443120.000</td>\n    </tr>\n    <tr>\n      <th>103243</th>\n      <td>Mudança de Uso da Terra e Floresta</td>\n      <td>Resíduos Florestais</td>\n      <td>Pantanal</td>\n      <td>NaN</td>\n      <td>Desmatamento</td>\n      <td>NaN</td>\n      <td>Emissão</td>\n      <td>CO2e (t) GWP-AR6</td>\n      <td>MS</td>\n      <td>AGROPEC</td>\n      <td>...</td>\n      <td>439524.000000</td>\n      <td>502908.000000</td>\n      <td>442493.000000</td>\n      <td>367116.000000</td>\n      <td>440798.000000</td>\n      <td>393101.000000</td>\n      <td>413749.000000</td>\n      <td>439526.000</td>\n      <td>876637.000</td>\n      <td>1009968.000</td>\n    </tr>\n    <tr>\n      <th>103244</th>\n      <td>Mudança de Uso da Terra e Floresta</td>\n      <td>Resíduos Florestais</td>\n      <td>Pantanal</td>\n      <td>NaN</td>\n      <td>Desmatamento</td>\n      <td>NaN</td>\n      <td>Emissão</td>\n      <td>N2O (t)</td>\n      <td>MT</td>\n      <td>AGROPEC</td>\n      <td>...</td>\n      <td>108.441090</td>\n      <td>109.811199</td>\n      <td>166.680103</td>\n      <td>141.442361</td>\n      <td>201.556097</td>\n      <td>162.932751</td>\n      <td>137.219684</td>\n      <td>158.000</td>\n      <td>314.000</td>\n      <td>479.000</td>\n    </tr>\n    <tr>\n      <th>103245</th>\n      <td>Mudança de Uso da Terra e Floresta</td>\n      <td>Resíduos Florestais</td>\n      <td>Pantanal</td>\n      <td>NaN</td>\n      <td>Desmatamento</td>\n      <td>NaN</td>\n      <td>Emissão</td>\n      <td>N2O (t)</td>\n      <td>MS</td>\n      <td>AGROPEC</td>\n      <td>...</td>\n      <td>463.968255</td>\n      <td>517.078826</td>\n      <td>450.849218</td>\n      <td>352.160440</td>\n      <td>440.753215</td>\n      <td>378.038216</td>\n      <td>388.896998</td>\n      <td>452.000</td>\n      <td>935.000</td>\n      <td>1047.000</td>\n    </tr>\n  </tbody>\n</table>\n<p>94748 rows × 63 columns</p>\n</div>"
     },
     "execution_count": 50,
     "metadata": {},
     "output_type": "execute_result"
    }
   ],
   "source": [
    "dados_gases_por_estado = dados_gases_por_estado[dados_gases_por_estado['Emissão / Remoção / Bunker'] == 'Emissão']\n",
    "dados_gases_por_estado"
   ],
   "metadata": {
    "collapsed": false,
    "ExecuteTime": {
     "end_time": "2024-01-07T15:00:07.328877Z",
     "start_time": "2024-01-07T15:00:07.272049Z"
    }
   },
   "id": "f07c53e1746f9528"
  },
  {
   "cell_type": "code",
   "execution_count": 51,
   "outputs": [
    {
     "data": {
      "text/plain": "                           Nível 1 - Setor              Nível 2  \\\n0                    Processos Industriais    Indústria Química   \n1                    Processos Industriais    Indústria Química   \n2                    Processos Industriais    Indústria Química   \n3                    Processos Industriais    Indústria Química   \n4                    Processos Industriais    Indústria Química   \n...                                    ...                  ...   \n103241  Mudança de Uso da Terra e Floresta  Resíduos Florestais   \n103242  Mudança de Uso da Terra e Floresta  Resíduos Florestais   \n103243  Mudança de Uso da Terra e Floresta  Resíduos Florestais   \n103244  Mudança de Uso da Terra e Floresta  Resíduos Florestais   \n103245  Mudança de Uso da Terra e Floresta  Resíduos Florestais   \n\n                          Nível 3 Nível 4       Nível 5 Nível 6  \\\n0                 Produção de ABS     NaN           NaN     NaN   \n1       Produção de Ácido Adípico     NaN           NaN     NaN   \n2       Produção de Ácido Adípico     NaN           NaN     NaN   \n3       Produção de Ácido Adípico     NaN           NaN     NaN   \n4       Produção de Ácido Adípico     NaN           NaN     NaN   \n...                           ...     ...           ...     ...   \n103241                   Pantanal     NaN  Desmatamento     NaN   \n103242                   Pantanal     NaN  Desmatamento     NaN   \n103243                   Pantanal     NaN  Desmatamento     NaN   \n103244                   Pantanal     NaN  Desmatamento     NaN   \n103245                   Pantanal     NaN  Desmatamento     NaN   \n\n                     Gás Estado Atividade Econômica Produto  ...  \\\n0              COVNM (t)     SP           OUTRA_IND     NaN  ...   \n1                N2O (t)     SP           OUTRA_IND     NaN  ...   \n2                 CO (t)     SP           OUTRA_IND     NaN  ...   \n3                NOx (t)     SP           OUTRA_IND     NaN  ...   \n4       CO2e (t) GWP-AR2     SP           OUTRA_IND     NaN  ...   \n...                  ...    ...                 ...     ...  ...   \n103241  CO2e (t) GWP-AR5     MS             AGROPEC     NaN  ...   \n103242  CO2e (t) GWP-AR6     MT             AGROPEC     NaN  ...   \n103243  CO2e (t) GWP-AR6     MS             AGROPEC     NaN  ...   \n103244           N2O (t)     MT             AGROPEC     NaN  ...   \n103245           N2O (t)     MS             AGROPEC     NaN  ...   \n\n                 2012           2013           2014           2015  \\\n0          897.600000     897.600000     897.600000     897.600000   \n1          130.000000     130.000000     130.000000     130.000000   \n2         1380.576000    1380.576000    1380.576000    1380.576000   \n3          431.430000     431.430000     431.430000     431.430000   \n4        40300.000000   40300.000000   40300.000000   40300.000000   \n...               ...            ...            ...            ...   \n103241  436935.000000  500067.000000  440030.000000  365272.000000   \n103242  126806.000000  127558.000000  193758.000000  164585.000000   \n103243  439524.000000  502908.000000  442493.000000  367116.000000   \n103244     108.441090     109.811199     166.680103     141.442361   \n103245     463.968255     517.078826     450.849218     352.160440   \n\n                 2016           2017           2018        2019        2020  \\\n0          897.600000     897.600000     897.600000     897.600     897.600   \n1          130.000000     130.000000     130.000000     130.000     130.000   \n2         1380.576000    1380.576000    1380.576000    1380.576    1380.576   \n3          431.430000     431.430000     431.430000     431.430     431.430   \n4        40300.000000   40300.000000   40300.000000   40300.000   40300.000   \n...               ...            ...            ...         ...         ...   \n103241  438422.000000  391113.000000  411738.000000  437039.000  871393.000   \n103242  234509.000000  190412.000000  162919.000000  186091.000  368149.000   \n103243  440798.000000  393101.000000  413749.000000  439526.000  876637.000   \n103244     201.556097     162.932751     137.219684     158.000     314.000   \n103245     440.753215     378.038216     388.896998     452.000     935.000   \n\n               2021  \n0           897.600  \n1           130.000  \n2          1380.576  \n3           431.430  \n4         40300.000  \n...             ...  \n103241  1004191.000  \n103242   443120.000  \n103243  1009968.000  \n103244      479.000  \n103245     1047.000  \n\n[94748 rows x 62 columns]",
      "text/html": "<div>\n<style scoped>\n    .dataframe tbody tr th:only-of-type {\n        vertical-align: middle;\n    }\n\n    .dataframe tbody tr th {\n        vertical-align: top;\n    }\n\n    .dataframe thead th {\n        text-align: right;\n    }\n</style>\n<table border=\"1\" class=\"dataframe\">\n  <thead>\n    <tr style=\"text-align: right;\">\n      <th></th>\n      <th>Nível 1 - Setor</th>\n      <th>Nível 2</th>\n      <th>Nível 3</th>\n      <th>Nível 4</th>\n      <th>Nível 5</th>\n      <th>Nível 6</th>\n      <th>Gás</th>\n      <th>Estado</th>\n      <th>Atividade Econômica</th>\n      <th>Produto</th>\n      <th>...</th>\n      <th>2012</th>\n      <th>2013</th>\n      <th>2014</th>\n      <th>2015</th>\n      <th>2016</th>\n      <th>2017</th>\n      <th>2018</th>\n      <th>2019</th>\n      <th>2020</th>\n      <th>2021</th>\n    </tr>\n  </thead>\n  <tbody>\n    <tr>\n      <th>0</th>\n      <td>Processos Industriais</td>\n      <td>Indústria Química</td>\n      <td>Produção de ABS</td>\n      <td>NaN</td>\n      <td>NaN</td>\n      <td>NaN</td>\n      <td>COVNM (t)</td>\n      <td>SP</td>\n      <td>OUTRA_IND</td>\n      <td>NaN</td>\n      <td>...</td>\n      <td>897.600000</td>\n      <td>897.600000</td>\n      <td>897.600000</td>\n      <td>897.600000</td>\n      <td>897.600000</td>\n      <td>897.600000</td>\n      <td>897.600000</td>\n      <td>897.600</td>\n      <td>897.600</td>\n      <td>897.600</td>\n    </tr>\n    <tr>\n      <th>1</th>\n      <td>Processos Industriais</td>\n      <td>Indústria Química</td>\n      <td>Produção de Ácido Adípico</td>\n      <td>NaN</td>\n      <td>NaN</td>\n      <td>NaN</td>\n      <td>N2O (t)</td>\n      <td>SP</td>\n      <td>OUTRA_IND</td>\n      <td>NaN</td>\n      <td>...</td>\n      <td>130.000000</td>\n      <td>130.000000</td>\n      <td>130.000000</td>\n      <td>130.000000</td>\n      <td>130.000000</td>\n      <td>130.000000</td>\n      <td>130.000000</td>\n      <td>130.000</td>\n      <td>130.000</td>\n      <td>130.000</td>\n    </tr>\n    <tr>\n      <th>2</th>\n      <td>Processos Industriais</td>\n      <td>Indústria Química</td>\n      <td>Produção de Ácido Adípico</td>\n      <td>NaN</td>\n      <td>NaN</td>\n      <td>NaN</td>\n      <td>CO (t)</td>\n      <td>SP</td>\n      <td>OUTRA_IND</td>\n      <td>NaN</td>\n      <td>...</td>\n      <td>1380.576000</td>\n      <td>1380.576000</td>\n      <td>1380.576000</td>\n      <td>1380.576000</td>\n      <td>1380.576000</td>\n      <td>1380.576000</td>\n      <td>1380.576000</td>\n      <td>1380.576</td>\n      <td>1380.576</td>\n      <td>1380.576</td>\n    </tr>\n    <tr>\n      <th>3</th>\n      <td>Processos Industriais</td>\n      <td>Indústria Química</td>\n      <td>Produção de Ácido Adípico</td>\n      <td>NaN</td>\n      <td>NaN</td>\n      <td>NaN</td>\n      <td>NOx (t)</td>\n      <td>SP</td>\n      <td>OUTRA_IND</td>\n      <td>NaN</td>\n      <td>...</td>\n      <td>431.430000</td>\n      <td>431.430000</td>\n      <td>431.430000</td>\n      <td>431.430000</td>\n      <td>431.430000</td>\n      <td>431.430000</td>\n      <td>431.430000</td>\n      <td>431.430</td>\n      <td>431.430</td>\n      <td>431.430</td>\n    </tr>\n    <tr>\n      <th>4</th>\n      <td>Processos Industriais</td>\n      <td>Indústria Química</td>\n      <td>Produção de Ácido Adípico</td>\n      <td>NaN</td>\n      <td>NaN</td>\n      <td>NaN</td>\n      <td>CO2e (t) GWP-AR2</td>\n      <td>SP</td>\n      <td>OUTRA_IND</td>\n      <td>NaN</td>\n      <td>...</td>\n      <td>40300.000000</td>\n      <td>40300.000000</td>\n      <td>40300.000000</td>\n      <td>40300.000000</td>\n      <td>40300.000000</td>\n      <td>40300.000000</td>\n      <td>40300.000000</td>\n      <td>40300.000</td>\n      <td>40300.000</td>\n      <td>40300.000</td>\n    </tr>\n    <tr>\n      <th>...</th>\n      <td>...</td>\n      <td>...</td>\n      <td>...</td>\n      <td>...</td>\n      <td>...</td>\n      <td>...</td>\n      <td>...</td>\n      <td>...</td>\n      <td>...</td>\n      <td>...</td>\n      <td>...</td>\n      <td>...</td>\n      <td>...</td>\n      <td>...</td>\n      <td>...</td>\n      <td>...</td>\n      <td>...</td>\n      <td>...</td>\n      <td>...</td>\n      <td>...</td>\n      <td>...</td>\n    </tr>\n    <tr>\n      <th>103241</th>\n      <td>Mudança de Uso da Terra e Floresta</td>\n      <td>Resíduos Florestais</td>\n      <td>Pantanal</td>\n      <td>NaN</td>\n      <td>Desmatamento</td>\n      <td>NaN</td>\n      <td>CO2e (t) GWP-AR5</td>\n      <td>MS</td>\n      <td>AGROPEC</td>\n      <td>NaN</td>\n      <td>...</td>\n      <td>436935.000000</td>\n      <td>500067.000000</td>\n      <td>440030.000000</td>\n      <td>365272.000000</td>\n      <td>438422.000000</td>\n      <td>391113.000000</td>\n      <td>411738.000000</td>\n      <td>437039.000</td>\n      <td>871393.000</td>\n      <td>1004191.000</td>\n    </tr>\n    <tr>\n      <th>103242</th>\n      <td>Mudança de Uso da Terra e Floresta</td>\n      <td>Resíduos Florestais</td>\n      <td>Pantanal</td>\n      <td>NaN</td>\n      <td>Desmatamento</td>\n      <td>NaN</td>\n      <td>CO2e (t) GWP-AR6</td>\n      <td>MT</td>\n      <td>AGROPEC</td>\n      <td>NaN</td>\n      <td>...</td>\n      <td>126806.000000</td>\n      <td>127558.000000</td>\n      <td>193758.000000</td>\n      <td>164585.000000</td>\n      <td>234509.000000</td>\n      <td>190412.000000</td>\n      <td>162919.000000</td>\n      <td>186091.000</td>\n      <td>368149.000</td>\n      <td>443120.000</td>\n    </tr>\n    <tr>\n      <th>103243</th>\n      <td>Mudança de Uso da Terra e Floresta</td>\n      <td>Resíduos Florestais</td>\n      <td>Pantanal</td>\n      <td>NaN</td>\n      <td>Desmatamento</td>\n      <td>NaN</td>\n      <td>CO2e (t) GWP-AR6</td>\n      <td>MS</td>\n      <td>AGROPEC</td>\n      <td>NaN</td>\n      <td>...</td>\n      <td>439524.000000</td>\n      <td>502908.000000</td>\n      <td>442493.000000</td>\n      <td>367116.000000</td>\n      <td>440798.000000</td>\n      <td>393101.000000</td>\n      <td>413749.000000</td>\n      <td>439526.000</td>\n      <td>876637.000</td>\n      <td>1009968.000</td>\n    </tr>\n    <tr>\n      <th>103244</th>\n      <td>Mudança de Uso da Terra e Floresta</td>\n      <td>Resíduos Florestais</td>\n      <td>Pantanal</td>\n      <td>NaN</td>\n      <td>Desmatamento</td>\n      <td>NaN</td>\n      <td>N2O (t)</td>\n      <td>MT</td>\n      <td>AGROPEC</td>\n      <td>NaN</td>\n      <td>...</td>\n      <td>108.441090</td>\n      <td>109.811199</td>\n      <td>166.680103</td>\n      <td>141.442361</td>\n      <td>201.556097</td>\n      <td>162.932751</td>\n      <td>137.219684</td>\n      <td>158.000</td>\n      <td>314.000</td>\n      <td>479.000</td>\n    </tr>\n    <tr>\n      <th>103245</th>\n      <td>Mudança de Uso da Terra e Floresta</td>\n      <td>Resíduos Florestais</td>\n      <td>Pantanal</td>\n      <td>NaN</td>\n      <td>Desmatamento</td>\n      <td>NaN</td>\n      <td>N2O (t)</td>\n      <td>MS</td>\n      <td>AGROPEC</td>\n      <td>NaN</td>\n      <td>...</td>\n      <td>463.968255</td>\n      <td>517.078826</td>\n      <td>450.849218</td>\n      <td>352.160440</td>\n      <td>440.753215</td>\n      <td>378.038216</td>\n      <td>388.896998</td>\n      <td>452.000</td>\n      <td>935.000</td>\n      <td>1047.000</td>\n    </tr>\n  </tbody>\n</table>\n<p>94748 rows × 62 columns</p>\n</div>"
     },
     "execution_count": 51,
     "metadata": {},
     "output_type": "execute_result"
    }
   ],
   "source": [
    "dados_gases_por_estado = dados_gases_por_estado.drop(columns=['Emissão / Remoção / Bunker']) # Remove a coluna 'Emissão / Remoção / Bunker', porque todos os dados desta coluna são iguais a 'Emissão'\n",
    "dados_gases_por_estado"
   ],
   "metadata": {
    "collapsed": false,
    "ExecuteTime": {
     "end_time": "2024-01-07T15:01:47.588691Z",
     "start_time": "2024-01-07T15:01:47.534642Z"
    }
   },
   "id": "69e2f9fb9435c66c"
  },
  {
   "cell_type": "code",
   "execution_count": null,
   "outputs": [],
   "source": [],
   "metadata": {
    "collapsed": false
   },
   "id": "ce6aed217f237d5a"
  }
 ],
 "metadata": {
  "kernelspec": {
   "display_name": "Python 3",
   "language": "python",
   "name": "python3"
  },
  "language_info": {
   "codemirror_mode": {
    "name": "ipython",
    "version": 2
   },
   "file_extension": ".py",
   "mimetype": "text/x-python",
   "name": "python",
   "nbconvert_exporter": "python",
   "pygments_lexer": "ipython2",
   "version": "2.7.6"
  }
 },
 "nbformat": 4,
 "nbformat_minor": 5
}
