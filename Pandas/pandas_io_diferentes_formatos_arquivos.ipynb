{
 "cells": [
  {
   "cell_type": "markdown",
   "source": [
    "# CURSO PANDAS I/O\n",
    "### Trabalhando com diferentes tipos de arquivos"
   ],
   "metadata": {
    "collapsed": false
   },
   "id": "8618f1a8e7d541dc"
  },
  {
   "cell_type": "code",
   "execution_count": 55,
   "outputs": [],
   "source": [
    "import pandas as pd"
   ],
   "metadata": {
    "collapsed": false,
    "ExecuteTime": {
     "end_time": "2024-01-05T14:07:05.733250Z",
     "start_time": "2024-01-05T14:07:05.573769Z"
    }
   },
   "id": "e83824e918c92aea"
  },
  {
   "cell_type": "markdown",
   "source": [
    "## CSV"
   ],
   "metadata": {
    "collapsed": false
   },
   "id": "bbb32e1f52c0af94"
  },
  {
   "cell_type": "markdown",
   "source": [
    "### Lendo um arquivo CSV"
   ],
   "metadata": {
    "collapsed": false
   },
   "id": "7e2010f71148784a"
  },
  {
   "cell_type": "code",
   "execution_count": 56,
   "outputs": [
    {
     "data": {
      "text/plain": "      Id  Year_Birth   Education Marital_Status   Income  Kidhome  Teenhome  \\\n0   1826        1970  Graduation       Divorced  84835.0        0         0   \n1      1        1961  Graduation         Single  57091.0        0         0   \n2  10476        1958  Graduation        Married  67267.0        0         1   \n3   1386        1967  Graduation       Together  32474.0        1         1   \n4   5371        1989  Graduation         Single  21474.0        1         0   \n\n  Dt_Customer  Recency  MntWines  ...  MntFishProducts  MntSweetProducts  \\\n0   6/16/2014        0       189  ...              111               189   \n1   6/15/2014        0       464  ...                7                 0   \n2   5/13/2014        0       134  ...               15                 2   \n3   11/5/2014        0        10  ...                0                 0   \n4    8/4/2014        0         6  ...               11                 0   \n\n   MntGoldProds  NumDealsPurchases  NumWebPurchases  NumCatalogPurchases  \\\n0           218                  1                4                    4   \n1            37                  1                7                    3   \n2            30                  1                3                    2   \n3             0                  1                1                    0   \n4            34                  2                3                    1   \n\n   NumStorePurchases  NumWebVisitsMonth  Response  Complain  \n0                  6                  1         1         0  \n1                  7                  5         1         0  \n2                  5                  2         0         0  \n3                  2                  7         0         0  \n4                  2                  7         1         0  \n\n[5 rows x 22 columns]",
      "text/html": "<div>\n<style scoped>\n    .dataframe tbody tr th:only-of-type {\n        vertical-align: middle;\n    }\n\n    .dataframe tbody tr th {\n        vertical-align: top;\n    }\n\n    .dataframe thead th {\n        text-align: right;\n    }\n</style>\n<table border=\"1\" class=\"dataframe\">\n  <thead>\n    <tr style=\"text-align: right;\">\n      <th></th>\n      <th>Id</th>\n      <th>Year_Birth</th>\n      <th>Education</th>\n      <th>Marital_Status</th>\n      <th>Income</th>\n      <th>Kidhome</th>\n      <th>Teenhome</th>\n      <th>Dt_Customer</th>\n      <th>Recency</th>\n      <th>MntWines</th>\n      <th>...</th>\n      <th>MntFishProducts</th>\n      <th>MntSweetProducts</th>\n      <th>MntGoldProds</th>\n      <th>NumDealsPurchases</th>\n      <th>NumWebPurchases</th>\n      <th>NumCatalogPurchases</th>\n      <th>NumStorePurchases</th>\n      <th>NumWebVisitsMonth</th>\n      <th>Response</th>\n      <th>Complain</th>\n    </tr>\n  </thead>\n  <tbody>\n    <tr>\n      <th>0</th>\n      <td>1826</td>\n      <td>1970</td>\n      <td>Graduation</td>\n      <td>Divorced</td>\n      <td>84835.0</td>\n      <td>0</td>\n      <td>0</td>\n      <td>6/16/2014</td>\n      <td>0</td>\n      <td>189</td>\n      <td>...</td>\n      <td>111</td>\n      <td>189</td>\n      <td>218</td>\n      <td>1</td>\n      <td>4</td>\n      <td>4</td>\n      <td>6</td>\n      <td>1</td>\n      <td>1</td>\n      <td>0</td>\n    </tr>\n    <tr>\n      <th>1</th>\n      <td>1</td>\n      <td>1961</td>\n      <td>Graduation</td>\n      <td>Single</td>\n      <td>57091.0</td>\n      <td>0</td>\n      <td>0</td>\n      <td>6/15/2014</td>\n      <td>0</td>\n      <td>464</td>\n      <td>...</td>\n      <td>7</td>\n      <td>0</td>\n      <td>37</td>\n      <td>1</td>\n      <td>7</td>\n      <td>3</td>\n      <td>7</td>\n      <td>5</td>\n      <td>1</td>\n      <td>0</td>\n    </tr>\n    <tr>\n      <th>2</th>\n      <td>10476</td>\n      <td>1958</td>\n      <td>Graduation</td>\n      <td>Married</td>\n      <td>67267.0</td>\n      <td>0</td>\n      <td>1</td>\n      <td>5/13/2014</td>\n      <td>0</td>\n      <td>134</td>\n      <td>...</td>\n      <td>15</td>\n      <td>2</td>\n      <td>30</td>\n      <td>1</td>\n      <td>3</td>\n      <td>2</td>\n      <td>5</td>\n      <td>2</td>\n      <td>0</td>\n      <td>0</td>\n    </tr>\n    <tr>\n      <th>3</th>\n      <td>1386</td>\n      <td>1967</td>\n      <td>Graduation</td>\n      <td>Together</td>\n      <td>32474.0</td>\n      <td>1</td>\n      <td>1</td>\n      <td>11/5/2014</td>\n      <td>0</td>\n      <td>10</td>\n      <td>...</td>\n      <td>0</td>\n      <td>0</td>\n      <td>0</td>\n      <td>1</td>\n      <td>1</td>\n      <td>0</td>\n      <td>2</td>\n      <td>7</td>\n      <td>0</td>\n      <td>0</td>\n    </tr>\n    <tr>\n      <th>4</th>\n      <td>5371</td>\n      <td>1989</td>\n      <td>Graduation</td>\n      <td>Single</td>\n      <td>21474.0</td>\n      <td>1</td>\n      <td>0</td>\n      <td>8/4/2014</td>\n      <td>0</td>\n      <td>6</td>\n      <td>...</td>\n      <td>11</td>\n      <td>0</td>\n      <td>34</td>\n      <td>2</td>\n      <td>3</td>\n      <td>1</td>\n      <td>2</td>\n      <td>7</td>\n      <td>1</td>\n      <td>0</td>\n    </tr>\n  </tbody>\n</table>\n<p>5 rows × 22 columns</p>\n</div>"
     },
     "execution_count": 56,
     "metadata": {},
     "output_type": "execute_result"
    }
   ],
   "source": [
    "url = 'https://raw.githubusercontent.com/alura-cursos/Pandas/main/superstore_data.csv'\n",
    "dados = pd.read_csv(url)\n",
    "dados.head()"
   ],
   "metadata": {
    "collapsed": false,
    "ExecuteTime": {
     "end_time": "2024-01-05T14:07:06.056651Z",
     "start_time": "2024-01-05T14:07:05.735450Z"
    }
   },
   "id": "d8b9f6f4facdfc18"
  },
  {
   "cell_type": "markdown",
   "source": [
    "### Lendo um arquivo CSV com separador diferente"
   ],
   "metadata": {
    "collapsed": false
   },
   "id": "ed887efeccfb109d"
  },
  {
   "cell_type": "code",
   "execution_count": 57,
   "outputs": [
    {
     "data": {
      "text/plain": "      Id  Year_Birth   Education Marital_Status   Income  Kidhome  Teenhome  \\\n0   1826        1970  Graduation       Divorced  84835.0        0         0   \n1      1        1961  Graduation         Single  57091.0        0         0   \n2  10476        1958  Graduation        Married  67267.0        0         1   \n3   1386        1967  Graduation       Together  32474.0        1         1   \n4   5371        1989  Graduation         Single  21474.0        1         0   \n\n  Dt_Customer  Recency  MntWines  ...  MntFishProducts  MntSweetProducts  \\\n0   6/16/2014        0       189  ...              111               189   \n1   6/15/2014        0       464  ...                7                 0   \n2   5/13/2014        0       134  ...               15                 2   \n3   11/5/2014        0        10  ...                0                 0   \n4    8/4/2014        0         6  ...               11                 0   \n\n   MntGoldProds  NumDealsPurchases  NumWebPurchases  NumCatalogPurchases  \\\n0           218                  1                4                    4   \n1            37                  1                7                    3   \n2            30                  1                3                    2   \n3             0                  1                1                    0   \n4            34                  2                3                    1   \n\n   NumStorePurchases  NumWebVisitsMonth  Response  Complain  \n0                  6                  1         1         0  \n1                  7                  5         1         0  \n2                  5                  2         0         0  \n3                  2                  7         0         0  \n4                  2                  7         1         0  \n\n[5 rows x 22 columns]",
      "text/html": "<div>\n<style scoped>\n    .dataframe tbody tr th:only-of-type {\n        vertical-align: middle;\n    }\n\n    .dataframe tbody tr th {\n        vertical-align: top;\n    }\n\n    .dataframe thead th {\n        text-align: right;\n    }\n</style>\n<table border=\"1\" class=\"dataframe\">\n  <thead>\n    <tr style=\"text-align: right;\">\n      <th></th>\n      <th>Id</th>\n      <th>Year_Birth</th>\n      <th>Education</th>\n      <th>Marital_Status</th>\n      <th>Income</th>\n      <th>Kidhome</th>\n      <th>Teenhome</th>\n      <th>Dt_Customer</th>\n      <th>Recency</th>\n      <th>MntWines</th>\n      <th>...</th>\n      <th>MntFishProducts</th>\n      <th>MntSweetProducts</th>\n      <th>MntGoldProds</th>\n      <th>NumDealsPurchases</th>\n      <th>NumWebPurchases</th>\n      <th>NumCatalogPurchases</th>\n      <th>NumStorePurchases</th>\n      <th>NumWebVisitsMonth</th>\n      <th>Response</th>\n      <th>Complain</th>\n    </tr>\n  </thead>\n  <tbody>\n    <tr>\n      <th>0</th>\n      <td>1826</td>\n      <td>1970</td>\n      <td>Graduation</td>\n      <td>Divorced</td>\n      <td>84835.0</td>\n      <td>0</td>\n      <td>0</td>\n      <td>6/16/2014</td>\n      <td>0</td>\n      <td>189</td>\n      <td>...</td>\n      <td>111</td>\n      <td>189</td>\n      <td>218</td>\n      <td>1</td>\n      <td>4</td>\n      <td>4</td>\n      <td>6</td>\n      <td>1</td>\n      <td>1</td>\n      <td>0</td>\n    </tr>\n    <tr>\n      <th>1</th>\n      <td>1</td>\n      <td>1961</td>\n      <td>Graduation</td>\n      <td>Single</td>\n      <td>57091.0</td>\n      <td>0</td>\n      <td>0</td>\n      <td>6/15/2014</td>\n      <td>0</td>\n      <td>464</td>\n      <td>...</td>\n      <td>7</td>\n      <td>0</td>\n      <td>37</td>\n      <td>1</td>\n      <td>7</td>\n      <td>3</td>\n      <td>7</td>\n      <td>5</td>\n      <td>1</td>\n      <td>0</td>\n    </tr>\n    <tr>\n      <th>2</th>\n      <td>10476</td>\n      <td>1958</td>\n      <td>Graduation</td>\n      <td>Married</td>\n      <td>67267.0</td>\n      <td>0</td>\n      <td>1</td>\n      <td>5/13/2014</td>\n      <td>0</td>\n      <td>134</td>\n      <td>...</td>\n      <td>15</td>\n      <td>2</td>\n      <td>30</td>\n      <td>1</td>\n      <td>3</td>\n      <td>2</td>\n      <td>5</td>\n      <td>2</td>\n      <td>0</td>\n      <td>0</td>\n    </tr>\n    <tr>\n      <th>3</th>\n      <td>1386</td>\n      <td>1967</td>\n      <td>Graduation</td>\n      <td>Together</td>\n      <td>32474.0</td>\n      <td>1</td>\n      <td>1</td>\n      <td>11/5/2014</td>\n      <td>0</td>\n      <td>10</td>\n      <td>...</td>\n      <td>0</td>\n      <td>0</td>\n      <td>0</td>\n      <td>1</td>\n      <td>1</td>\n      <td>0</td>\n      <td>2</td>\n      <td>7</td>\n      <td>0</td>\n      <td>0</td>\n    </tr>\n    <tr>\n      <th>4</th>\n      <td>5371</td>\n      <td>1989</td>\n      <td>Graduation</td>\n      <td>Single</td>\n      <td>21474.0</td>\n      <td>1</td>\n      <td>0</td>\n      <td>8/4/2014</td>\n      <td>0</td>\n      <td>6</td>\n      <td>...</td>\n      <td>11</td>\n      <td>0</td>\n      <td>34</td>\n      <td>2</td>\n      <td>3</td>\n      <td>1</td>\n      <td>2</td>\n      <td>7</td>\n      <td>1</td>\n      <td>0</td>\n    </tr>\n  </tbody>\n</table>\n<p>5 rows × 22 columns</p>\n</div>"
     },
     "execution_count": 57,
     "metadata": {},
     "output_type": "execute_result"
    }
   ],
   "source": [
    "url2 = 'https://raw.githubusercontent.com/alura-cursos/Pandas/main/superstore_data_ponto_virgula.csv'\n",
    "dados2 = pd.read_csv(url2, sep=';')\n",
    "dados2.head()"
   ],
   "metadata": {
    "collapsed": false,
    "ExecuteTime": {
     "end_time": "2024-01-05T14:07:06.399543Z",
     "start_time": "2024-01-05T14:07:06.046844Z"
    }
   },
   "id": "19b08a9a798ede4c"
  },
  {
   "cell_type": "markdown",
   "source": [
    "### Manipulações em um arquivo CSV"
   ],
   "metadata": {
    "collapsed": false
   },
   "id": "1c18da339d60f60d"
  },
  {
   "cell_type": "code",
   "execution_count": 58,
   "outputs": [
    {
     "data": {
      "text/plain": "      Id  Year_Birth   Education Marital_Status  Income  Kidhome  Teenhome  \\\n0   1826        1970  Graduation       Divorced   84835        0         0   \n1      1        1961  Graduation         Single   57091        0         0   \n2  10476        1958  Graduation        Married   67267        0         1   \n3   1386        1967  Graduation       Together   32474        1         1   \n4   5371        1989  Graduation         Single   21474        1         0   \n\n  Dt_Customer  Recency  MntWines  ...  MntFishProducts  MntSweetProducts  \\\n0   6/16/2014        0       189  ...              111               189   \n1   6/15/2014        0       464  ...                7                 0   \n2   5/13/2014        0       134  ...               15                 2   \n3   11/5/2014        0        10  ...                0                 0   \n4    8/4/2014        0         6  ...               11                 0   \n\n   MntGoldProds  NumDealsPurchases  NumWebPurchases  NumCatalogPurchases  \\\n0           218                  1                4                    4   \n1            37                  1                7                    3   \n2            30                  1                3                    2   \n3             0                  1                1                    0   \n4            34                  2                3                    1   \n\n   NumStorePurchases  NumWebVisitsMonth  Response  Complain  \n0                  6                  1         1         0  \n1                  7                  5         1         0  \n2                  5                  2         0         0  \n3                  2                  7         0         0  \n4                  2                  7         1         0  \n\n[5 rows x 22 columns]",
      "text/html": "<div>\n<style scoped>\n    .dataframe tbody tr th:only-of-type {\n        vertical-align: middle;\n    }\n\n    .dataframe tbody tr th {\n        vertical-align: top;\n    }\n\n    .dataframe thead th {\n        text-align: right;\n    }\n</style>\n<table border=\"1\" class=\"dataframe\">\n  <thead>\n    <tr style=\"text-align: right;\">\n      <th></th>\n      <th>Id</th>\n      <th>Year_Birth</th>\n      <th>Education</th>\n      <th>Marital_Status</th>\n      <th>Income</th>\n      <th>Kidhome</th>\n      <th>Teenhome</th>\n      <th>Dt_Customer</th>\n      <th>Recency</th>\n      <th>MntWines</th>\n      <th>...</th>\n      <th>MntFishProducts</th>\n      <th>MntSweetProducts</th>\n      <th>MntGoldProds</th>\n      <th>NumDealsPurchases</th>\n      <th>NumWebPurchases</th>\n      <th>NumCatalogPurchases</th>\n      <th>NumStorePurchases</th>\n      <th>NumWebVisitsMonth</th>\n      <th>Response</th>\n      <th>Complain</th>\n    </tr>\n  </thead>\n  <tbody>\n    <tr>\n      <th>0</th>\n      <td>1826</td>\n      <td>1970</td>\n      <td>Graduation</td>\n      <td>Divorced</td>\n      <td>84835</td>\n      <td>0</td>\n      <td>0</td>\n      <td>6/16/2014</td>\n      <td>0</td>\n      <td>189</td>\n      <td>...</td>\n      <td>111</td>\n      <td>189</td>\n      <td>218</td>\n      <td>1</td>\n      <td>4</td>\n      <td>4</td>\n      <td>6</td>\n      <td>1</td>\n      <td>1</td>\n      <td>0</td>\n    </tr>\n    <tr>\n      <th>1</th>\n      <td>1</td>\n      <td>1961</td>\n      <td>Graduation</td>\n      <td>Single</td>\n      <td>57091</td>\n      <td>0</td>\n      <td>0</td>\n      <td>6/15/2014</td>\n      <td>0</td>\n      <td>464</td>\n      <td>...</td>\n      <td>7</td>\n      <td>0</td>\n      <td>37</td>\n      <td>1</td>\n      <td>7</td>\n      <td>3</td>\n      <td>7</td>\n      <td>5</td>\n      <td>1</td>\n      <td>0</td>\n    </tr>\n    <tr>\n      <th>2</th>\n      <td>10476</td>\n      <td>1958</td>\n      <td>Graduation</td>\n      <td>Married</td>\n      <td>67267</td>\n      <td>0</td>\n      <td>1</td>\n      <td>5/13/2014</td>\n      <td>0</td>\n      <td>134</td>\n      <td>...</td>\n      <td>15</td>\n      <td>2</td>\n      <td>30</td>\n      <td>1</td>\n      <td>3</td>\n      <td>2</td>\n      <td>5</td>\n      <td>2</td>\n      <td>0</td>\n      <td>0</td>\n    </tr>\n    <tr>\n      <th>3</th>\n      <td>1386</td>\n      <td>1967</td>\n      <td>Graduation</td>\n      <td>Together</td>\n      <td>32474</td>\n      <td>1</td>\n      <td>1</td>\n      <td>11/5/2014</td>\n      <td>0</td>\n      <td>10</td>\n      <td>...</td>\n      <td>0</td>\n      <td>0</td>\n      <td>0</td>\n      <td>1</td>\n      <td>1</td>\n      <td>0</td>\n      <td>2</td>\n      <td>7</td>\n      <td>0</td>\n      <td>0</td>\n    </tr>\n    <tr>\n      <th>4</th>\n      <td>5371</td>\n      <td>1989</td>\n      <td>Graduation</td>\n      <td>Single</td>\n      <td>21474</td>\n      <td>1</td>\n      <td>0</td>\n      <td>8/4/2014</td>\n      <td>0</td>\n      <td>6</td>\n      <td>...</td>\n      <td>11</td>\n      <td>0</td>\n      <td>34</td>\n      <td>2</td>\n      <td>3</td>\n      <td>1</td>\n      <td>2</td>\n      <td>7</td>\n      <td>1</td>\n      <td>0</td>\n    </tr>\n  </tbody>\n</table>\n<p>5 rows × 22 columns</p>\n</div>"
     },
     "execution_count": 58,
     "metadata": {},
     "output_type": "execute_result"
    }
   ],
   "source": [
    "# dados_primeiras_linhas = dados.head() # 5 primeiras linhas\n",
    "dados_primeiras_linhas = pd.read_csv(url, nrows=5) # 5 primeiras linhas\n",
    "dados_primeiras_linhas"
   ],
   "metadata": {
    "collapsed": false,
    "ExecuteTime": {
     "end_time": "2024-01-05T14:07:06.553636Z",
     "start_time": "2024-01-05T14:07:06.399537Z"
    }
   },
   "id": "17c5a89d1b3429f7"
  },
  {
   "cell_type": "code",
   "execution_count": 59,
   "outputs": [
    {
     "data": {
      "text/plain": "         Id  Year_Birth   Income\n0      1826        1970  84835.0\n1         1        1961  57091.0\n2     10476        1958  67267.0\n3      1386        1967  32474.0\n4      5371        1989  21474.0\n...     ...         ...      ...\n2235  10142        1976  66476.0\n2236   5263        1977  31056.0\n2237     22        1976  46310.0\n2238    528        1978  65819.0\n2239   4070        1969  94871.0\n\n[2240 rows x 3 columns]",
      "text/html": "<div>\n<style scoped>\n    .dataframe tbody tr th:only-of-type {\n        vertical-align: middle;\n    }\n\n    .dataframe tbody tr th {\n        vertical-align: top;\n    }\n\n    .dataframe thead th {\n        text-align: right;\n    }\n</style>\n<table border=\"1\" class=\"dataframe\">\n  <thead>\n    <tr style=\"text-align: right;\">\n      <th></th>\n      <th>Id</th>\n      <th>Year_Birth</th>\n      <th>Income</th>\n    </tr>\n  </thead>\n  <tbody>\n    <tr>\n      <th>0</th>\n      <td>1826</td>\n      <td>1970</td>\n      <td>84835.0</td>\n    </tr>\n    <tr>\n      <th>1</th>\n      <td>1</td>\n      <td>1961</td>\n      <td>57091.0</td>\n    </tr>\n    <tr>\n      <th>2</th>\n      <td>10476</td>\n      <td>1958</td>\n      <td>67267.0</td>\n    </tr>\n    <tr>\n      <th>3</th>\n      <td>1386</td>\n      <td>1967</td>\n      <td>32474.0</td>\n    </tr>\n    <tr>\n      <th>4</th>\n      <td>5371</td>\n      <td>1989</td>\n      <td>21474.0</td>\n    </tr>\n    <tr>\n      <th>...</th>\n      <td>...</td>\n      <td>...</td>\n      <td>...</td>\n    </tr>\n    <tr>\n      <th>2235</th>\n      <td>10142</td>\n      <td>1976</td>\n      <td>66476.0</td>\n    </tr>\n    <tr>\n      <th>2236</th>\n      <td>5263</td>\n      <td>1977</td>\n      <td>31056.0</td>\n    </tr>\n    <tr>\n      <th>2237</th>\n      <td>22</td>\n      <td>1976</td>\n      <td>46310.0</td>\n    </tr>\n    <tr>\n      <th>2238</th>\n      <td>528</td>\n      <td>1978</td>\n      <td>65819.0</td>\n    </tr>\n    <tr>\n      <th>2239</th>\n      <td>4070</td>\n      <td>1969</td>\n      <td>94871.0</td>\n    </tr>\n  </tbody>\n</table>\n<p>2240 rows × 3 columns</p>\n</div>"
     },
     "execution_count": 59,
     "metadata": {},
     "output_type": "execute_result"
    }
   ],
   "source": [
    "# dados_selecao = pd.read_csv(url, usecols=['Id', 'Year_Birth', 'Income'])\n",
    "dados_selecao = pd.read_csv(url, usecols=[0, 1, 4]) # selecionando colunas pelo índice\n",
    "dados_selecao"
   ],
   "metadata": {
    "collapsed": false,
    "ExecuteTime": {
     "end_time": "2024-01-05T14:07:06.707212Z",
     "start_time": "2024-01-05T14:07:06.553912Z"
    }
   },
   "id": "59bd66dc23528884"
  },
  {
   "cell_type": "code",
   "execution_count": 60,
   "outputs": [],
   "source": [
    "# dados_selecao.to_csv('dados_selecao.csv', index=False) # salvando o arquivo"
   ],
   "metadata": {
    "collapsed": false,
    "ExecuteTime": {
     "end_time": "2024-01-05T14:07:06.709486Z",
     "start_time": "2024-01-05T14:07:06.694268Z"
    }
   },
   "id": "7f5b19e5b1dc99d3"
  },
  {
   "cell_type": "code",
   "execution_count": 61,
   "outputs": [
    {
     "data": {
      "text/plain": "  Unidade da Federação     2008/Jan     2008/Fev     2008/Mar     2008/Abr  \\\n0             Rondônia   1388528.39   2931283.42   1541682.52   1525314.96   \n1                 Acre    902416.00   1497206.26   1794028.48   1730469.42   \n2             Amazonas   4735529.42   7118990.57   8196635.49   8259378.42   \n3              Roraima    657889.53    777939.31    718688.03    839994.39   \n4                 Pará  18864744.11  19553758.20  21937342.70  20842829.69   \n\n      2008/Mai     2008/Jun     2008/Jul     2008/Ago     2008/Set  ...  \\\n0   1645953.84   1406150.68   3065279.01   3231494.61   3117178.63  ...   \n1   1819443.92   1828496.00   2511754.59   2089107.14   2275708.53  ...   \n2   7831399.90   8477273.62   9368858.72   9352532.70   9363099.35  ...   \n3    862347.96    832440.66    996693.09    894271.18    910424.17  ...   \n4  23249952.88  23240687.56  24002223.56  23341218.03  25172261.32  ...   \n\n      2020/Jul     2020/Ago     2020/Set     2020/Out     2020/Nov  \\\n0  11824687.13  11733307.76  10201985.14   7955139.45   9357946.29   \n1   3915193.20   3640142.82   3391242.21   4044321.44   3276590.10   \n2  19769460.14  18059931.43  17841015.63  16408315.10  19895617.91   \n3   3015488.30   2826486.18   2928043.91   3090313.73   3621031.05   \n4  40804126.43  44385715.88  36820249.47  36965931.34  39004315.80   \n\n      2020/Dez     2021/Jan     2021/Fev     2021/Mar         Total  \n0   8880836.55   9266014.59   7730597.04  11023309.47  9.964113e+08  \n1   3696997.31   3715723.12   3538427.92   4077045.92  4.500485e+08  \n2  17765167.69  21430289.17  25917134.55  22032176.22  1.917248e+09  \n3   3454460.94   3266928.47   3519773.73   3985530.08  3.288770e+08  \n4  38015145.79  38354682.46  37688314.23  33276392.89  4.705309e+09  \n\n[5 rows x 161 columns]",
      "text/html": "<div>\n<style scoped>\n    .dataframe tbody tr th:only-of-type {\n        vertical-align: middle;\n    }\n\n    .dataframe tbody tr th {\n        vertical-align: top;\n    }\n\n    .dataframe thead th {\n        text-align: right;\n    }\n</style>\n<table border=\"1\" class=\"dataframe\">\n  <thead>\n    <tr style=\"text-align: right;\">\n      <th></th>\n      <th>Unidade da Federação</th>\n      <th>2008/Jan</th>\n      <th>2008/Fev</th>\n      <th>2008/Mar</th>\n      <th>2008/Abr</th>\n      <th>2008/Mai</th>\n      <th>2008/Jun</th>\n      <th>2008/Jul</th>\n      <th>2008/Ago</th>\n      <th>2008/Set</th>\n      <th>...</th>\n      <th>2020/Jul</th>\n      <th>2020/Ago</th>\n      <th>2020/Set</th>\n      <th>2020/Out</th>\n      <th>2020/Nov</th>\n      <th>2020/Dez</th>\n      <th>2021/Jan</th>\n      <th>2021/Fev</th>\n      <th>2021/Mar</th>\n      <th>Total</th>\n    </tr>\n  </thead>\n  <tbody>\n    <tr>\n      <th>0</th>\n      <td>Rondônia</td>\n      <td>1388528.39</td>\n      <td>2931283.42</td>\n      <td>1541682.52</td>\n      <td>1525314.96</td>\n      <td>1645953.84</td>\n      <td>1406150.68</td>\n      <td>3065279.01</td>\n      <td>3231494.61</td>\n      <td>3117178.63</td>\n      <td>...</td>\n      <td>11824687.13</td>\n      <td>11733307.76</td>\n      <td>10201985.14</td>\n      <td>7955139.45</td>\n      <td>9357946.29</td>\n      <td>8880836.55</td>\n      <td>9266014.59</td>\n      <td>7730597.04</td>\n      <td>11023309.47</td>\n      <td>9.964113e+08</td>\n    </tr>\n    <tr>\n      <th>1</th>\n      <td>Acre</td>\n      <td>902416.00</td>\n      <td>1497206.26</td>\n      <td>1794028.48</td>\n      <td>1730469.42</td>\n      <td>1819443.92</td>\n      <td>1828496.00</td>\n      <td>2511754.59</td>\n      <td>2089107.14</td>\n      <td>2275708.53</td>\n      <td>...</td>\n      <td>3915193.20</td>\n      <td>3640142.82</td>\n      <td>3391242.21</td>\n      <td>4044321.44</td>\n      <td>3276590.10</td>\n      <td>3696997.31</td>\n      <td>3715723.12</td>\n      <td>3538427.92</td>\n      <td>4077045.92</td>\n      <td>4.500485e+08</td>\n    </tr>\n    <tr>\n      <th>2</th>\n      <td>Amazonas</td>\n      <td>4735529.42</td>\n      <td>7118990.57</td>\n      <td>8196635.49</td>\n      <td>8259378.42</td>\n      <td>7831399.90</td>\n      <td>8477273.62</td>\n      <td>9368858.72</td>\n      <td>9352532.70</td>\n      <td>9363099.35</td>\n      <td>...</td>\n      <td>19769460.14</td>\n      <td>18059931.43</td>\n      <td>17841015.63</td>\n      <td>16408315.10</td>\n      <td>19895617.91</td>\n      <td>17765167.69</td>\n      <td>21430289.17</td>\n      <td>25917134.55</td>\n      <td>22032176.22</td>\n      <td>1.917248e+09</td>\n    </tr>\n    <tr>\n      <th>3</th>\n      <td>Roraima</td>\n      <td>657889.53</td>\n      <td>777939.31</td>\n      <td>718688.03</td>\n      <td>839994.39</td>\n      <td>862347.96</td>\n      <td>832440.66</td>\n      <td>996693.09</td>\n      <td>894271.18</td>\n      <td>910424.17</td>\n      <td>...</td>\n      <td>3015488.30</td>\n      <td>2826486.18</td>\n      <td>2928043.91</td>\n      <td>3090313.73</td>\n      <td>3621031.05</td>\n      <td>3454460.94</td>\n      <td>3266928.47</td>\n      <td>3519773.73</td>\n      <td>3985530.08</td>\n      <td>3.288770e+08</td>\n    </tr>\n    <tr>\n      <th>4</th>\n      <td>Pará</td>\n      <td>18864744.11</td>\n      <td>19553758.20</td>\n      <td>21937342.70</td>\n      <td>20842829.69</td>\n      <td>23249952.88</td>\n      <td>23240687.56</td>\n      <td>24002223.56</td>\n      <td>23341218.03</td>\n      <td>25172261.32</td>\n      <td>...</td>\n      <td>40804126.43</td>\n      <td>44385715.88</td>\n      <td>36820249.47</td>\n      <td>36965931.34</td>\n      <td>39004315.80</td>\n      <td>38015145.79</td>\n      <td>38354682.46</td>\n      <td>37688314.23</td>\n      <td>33276392.89</td>\n      <td>4.705309e+09</td>\n    </tr>\n  </tbody>\n</table>\n<p>5 rows × 161 columns</p>\n</div>"
     },
     "execution_count": 61,
     "metadata": {},
     "output_type": "execute_result"
    }
   ],
   "source": [
    "url_dados_sus = 'https://raw.githubusercontent.com/alura-cursos/Pandas/main/dados_sus.csv'\n",
    "dados_sus = pd.read_csv(url_dados_sus, encoding='ISO-8859-1', sep=';', skiprows=3, skipfooter=12, thousands='.', decimal=',', engine='python')\n",
    "dados_sus.head()"
   ],
   "metadata": {
    "collapsed": false,
    "ExecuteTime": {
     "end_time": "2024-01-05T14:07:07.000202Z",
     "start_time": "2024-01-05T14:07:06.707980Z"
    }
   },
   "id": "b512488e8672b40a"
  },
  {
   "cell_type": "markdown",
   "source": [
    "## XLXS\n",
    "\n",
    "### Lendo um arquivo XLSX"
   ],
   "metadata": {
    "collapsed": false
   },
   "id": "e5d2bda8b30354a0"
  },
  {
   "cell_type": "code",
   "execution_count": 62,
   "outputs": [
    {
     "data": {
      "text/plain": "          País ISO 3166-1 alpha-3   Ano  Total  Carvão  Oléo  Gás  Cimento  \\\n0  Afeganistão                AFG  1750    0.0     NaN   NaN  NaN      NaN   \n1  Afeganistão                AFG  1751    0.0     NaN   NaN  NaN      NaN   \n2  Afeganistão                AFG  1752    0.0     NaN   NaN  NaN      NaN   \n3  Afeganistão                AFG  1753    0.0     NaN   NaN  NaN      NaN   \n4  Afeganistão                AFG  1754    0.0     NaN   NaN  NaN      NaN   \n\n   Queima  Outro  Per Capita  \n0     NaN    NaN         NaN  \n1     NaN    NaN         NaN  \n2     NaN    NaN         NaN  \n3     NaN    NaN         NaN  \n4     NaN    NaN         NaN  ",
      "text/html": "<div>\n<style scoped>\n    .dataframe tbody tr th:only-of-type {\n        vertical-align: middle;\n    }\n\n    .dataframe tbody tr th {\n        vertical-align: top;\n    }\n\n    .dataframe thead th {\n        text-align: right;\n    }\n</style>\n<table border=\"1\" class=\"dataframe\">\n  <thead>\n    <tr style=\"text-align: right;\">\n      <th></th>\n      <th>País</th>\n      <th>ISO 3166-1 alpha-3</th>\n      <th>Ano</th>\n      <th>Total</th>\n      <th>Carvão</th>\n      <th>Oléo</th>\n      <th>Gás</th>\n      <th>Cimento</th>\n      <th>Queima</th>\n      <th>Outro</th>\n      <th>Per Capita</th>\n    </tr>\n  </thead>\n  <tbody>\n    <tr>\n      <th>0</th>\n      <td>Afeganistão</td>\n      <td>AFG</td>\n      <td>1750</td>\n      <td>0.0</td>\n      <td>NaN</td>\n      <td>NaN</td>\n      <td>NaN</td>\n      <td>NaN</td>\n      <td>NaN</td>\n      <td>NaN</td>\n      <td>NaN</td>\n    </tr>\n    <tr>\n      <th>1</th>\n      <td>Afeganistão</td>\n      <td>AFG</td>\n      <td>1751</td>\n      <td>0.0</td>\n      <td>NaN</td>\n      <td>NaN</td>\n      <td>NaN</td>\n      <td>NaN</td>\n      <td>NaN</td>\n      <td>NaN</td>\n      <td>NaN</td>\n    </tr>\n    <tr>\n      <th>2</th>\n      <td>Afeganistão</td>\n      <td>AFG</td>\n      <td>1752</td>\n      <td>0.0</td>\n      <td>NaN</td>\n      <td>NaN</td>\n      <td>NaN</td>\n      <td>NaN</td>\n      <td>NaN</td>\n      <td>NaN</td>\n      <td>NaN</td>\n    </tr>\n    <tr>\n      <th>3</th>\n      <td>Afeganistão</td>\n      <td>AFG</td>\n      <td>1753</td>\n      <td>0.0</td>\n      <td>NaN</td>\n      <td>NaN</td>\n      <td>NaN</td>\n      <td>NaN</td>\n      <td>NaN</td>\n      <td>NaN</td>\n      <td>NaN</td>\n    </tr>\n    <tr>\n      <th>4</th>\n      <td>Afeganistão</td>\n      <td>AFG</td>\n      <td>1754</td>\n      <td>0.0</td>\n      <td>NaN</td>\n      <td>NaN</td>\n      <td>NaN</td>\n      <td>NaN</td>\n      <td>NaN</td>\n      <td>NaN</td>\n      <td>NaN</td>\n    </tr>\n  </tbody>\n</table>\n</div>"
     },
     "execution_count": 62,
     "metadata": {},
     "output_type": "execute_result"
    }
   ],
   "source": [
    "url_xlsx = 'https://github.com/alura-cursos/Pandas/blob/main/emissoes_CO2.xlsx?raw=true'\n",
    "dados_xlsx = pd.read_excel(url_xlsx)\n",
    "# file = 'dados/emissoes_CO2.xlsx'\n",
    "# dados_xlsx = pd.read_excel(file)\n",
    "dados_xlsx.head()"
   ],
   "metadata": {
    "collapsed": false,
    "ExecuteTime": {
     "end_time": "2024-01-05T14:07:15.316358Z",
     "start_time": "2024-01-05T14:07:07.000717Z"
    }
   },
   "id": "38dfa6fe7a225367"
  },
  {
   "cell_type": "markdown",
   "source": [
    "### Manipulações em um arquivo XLSX"
   ],
   "metadata": {
    "collapsed": false
   },
   "id": "e34e5faf2494e834"
  },
  {
   "cell_type": "code",
   "execution_count": 63,
   "outputs": [
    {
     "data": {
      "text/plain": "array(['Afeganistão', 'Albânia', 'Argélia', 'Andorra', 'Angola',\n       'Anguila', 'Antártica', 'Antígua e Barbuda', 'Argentina',\n       'Armênia', 'Aruba', 'Austrália', 'Áustria', 'Azerbaijão',\n       'Bahamas', 'Bahrein', 'Bangladesh', 'Barbados', 'Bielorrússia',\n       'Bélgica', 'Belize', 'Benin', 'Bermudas', 'Butão',\n       'Bonaire, Saint Eustatius e Saba', 'Bósnia e Herzegovina',\n       'Botswana', 'Brasil', 'Ilhas Virgens Britânicas',\n       'Brunei Darussalam', 'Bulgária', 'Burkina Faso', 'Burundi',\n       'Camboja', 'Canadá', 'Cabo Verde', 'República da África Central',\n       'Chade', 'Chile', 'China', 'Ilha do Natal', 'Colômbia', 'Comores',\n       'Congo', 'Ilhas Cook', 'Costa Rica', 'Costa do Marfim', 'Croácia',\n       'Cuba', 'Curaçau', 'Chipp', 'Republica Checa', 'Coréia do Norte',\n       'República Democrática do Congo', 'Dinamarca', 'Dilandi',\n       'Dominica', 'República Dominicana', 'Equador', 'Egito',\n       'El Salvador', 'Guiné Equatorial', 'Eritreia', 'Estônia',\n       'Etiópia', 'Ilhas Faroé', 'Estados Federados da Micronésia',\n       'Micronésia (estados federados de)', 'Fiji', 'Finlândia',\n       'Zona do Canal do Panamá', 'França', 'África equatorial francesa',\n       'Guiana Francesa', 'Polinésia Francesa',\n       'África Ocidental francesa', 'Gabão', 'Gâmbia', 'Geórgia',\n       'Alemanha', 'Bonito', 'Grécia', 'Groenlândia', 'Granada',\n       'Guadalupe', 'Guatemala', 'Guiné', 'Guiné-bissau', 'Guiana',\n       'Haiti', 'Honduras', 'Hong Kong', 'Hungria', 'Islândia', 'Índia',\n       'Indonésia', 'Iraque', 'Irlanda', 'Irã', 'Israel', 'Itália',\n       'Jamaica', 'Japão', 'Jordânia', 'Cazaquistão', 'Quênia',\n       'Kiribati', 'Kosovo', 'Kuwait', 'Incêndios de óleo do Kuwait',\n       'Quirguistão', 'Laos', 'Letônia', 'Líbano', 'Ilhas Leeward',\n       'Lesoto', 'Libéria', 'Líbia', 'Liechtenstein', 'Lituânia',\n       'Luxemburgo', 'Macau', 'Macedônia do Norte', 'Madagáscar',\n       'Malauí', 'Malásia', 'Maldivas', 'Mali', 'Malta', 'Ilhas Marshall',\n       'Martinica', 'Mauritânia', 'Maurício', 'Mayotte', 'México',\n       'Mongólia', 'Montenegro', 'Montserrate', 'Marrocos', 'Moçambique',\n       'Mianmar', 'Namíbia', 'Nauru', 'Nepal', 'Holanda',\n       'Nova Caledônia', 'Nova Zelândia', 'Nicarágua', 'Níger', 'Nigéria',\n       'Niue', 'Noruega', 'Território palestino ocupado', 'Omã',\n       'Ilhas do Pacífico (Palau)', 'Paquistão', 'Palau', 'Panamá',\n       'Papua Nova Guiné', 'Paraguai', 'Peru', 'Filipinas', 'Bolívia',\n       'Polônia', 'Portugal', 'Porto Rico', 'Catar', 'Camarões',\n       'Coreia do Sul', 'Moldávia', 'Sudão do Sul', 'Sudão', 'Reunião',\n       'Romênia', 'Rússia', 'Ruanda', 'Ilhas Ryukyu', 'Santa Helena',\n       'Santa Lúcia', 'Sinta Marthes (parte holandesa)', 'Samoa',\n       'São Tomé e Príncipe', 'Arábia Saudita', 'Senegal', 'Sérvia',\n       'Seicheles', 'Serra Leoa', 'Cingapura', 'Eslováquia', 'Eslovênia',\n       'Ilhas Salomão', 'Somália', 'África do Sul', 'Espanha',\n       'Sri Lanka', 'São Cristóvão e Neves', 'St. Kitts-Nevis-Aguilla',\n       'São Pierre e Miquelon', 'São Vicente e Granadinas', 'Suriname',\n       'Suazilândia', 'Suécia', 'Suíça', 'Síria', 'Taiwan', 'Tajiquistão',\n       'Tailândia', 'Timor-Leste', 'Togo', 'Tonga', 'Trindade eTobago',\n       'Tunísia', 'Turquemenistão', 'Ilhas Turcas e Caicos', 'Tuvalu',\n       'Uganda', 'Ucrânia', 'Emirados Árabes Unidos', 'Reino Unido',\n       'Tanzânia', 'Estados Unidos', 'Uruguai', 'Uzbequistão', 'Vanuatu',\n       'Venezuela', 'Vietnã', 'Wallis e Futuna', 'Iémen', 'Zâmbia',\n       'Zimbábue', 'Transporte internacional', 'Global'], dtype=object)"
     },
     "execution_count": 63,
     "metadata": {},
     "output_type": "execute_result"
    }
   ],
   "source": [
    "dados_xlsx['País'].unique()"
   ],
   "metadata": {
    "collapsed": false,
    "ExecuteTime": {
     "end_time": "2024-01-05T14:07:15.322449Z",
     "start_time": "2024-01-05T14:07:15.317448Z"
    }
   },
   "id": "f256eae0c89b3679"
  },
  {
   "cell_type": "code",
   "execution_count": 64,
   "outputs": [
    {
     "data": {
      "text/plain": "['emissoes_C02', 'emissoes_percapita', 'fontes']"
     },
     "execution_count": 64,
     "metadata": {},
     "output_type": "execute_result"
    }
   ],
   "source": [
    "pd.ExcelFile(url_xlsx).sheet_names"
   ],
   "metadata": {
    "collapsed": false,
    "ExecuteTime": {
     "end_time": "2024-01-05T14:07:20.447418Z",
     "start_time": "2024-01-05T14:07:15.321413Z"
    }
   },
   "id": "6d773f20fa7be725"
  },
  {
   "cell_type": "code",
   "execution_count": 65,
   "outputs": [
    {
     "data": {
      "text/plain": "          País ISO 3166-1 alpha-3   Ano  Total  Carvão  Óleo  Gás  Cimento  \\\n0  Afeganistão                AFG  1750    NaN     NaN   NaN  NaN      NaN   \n1  Afeganistão                AFG  1751    NaN     NaN   NaN  NaN      NaN   \n2  Afeganistão                AFG  1752    NaN     NaN   NaN  NaN      NaN   \n3  Afeganistão                AFG  1753    NaN     NaN   NaN  NaN      NaN   \n4  Afeganistão                AFG  1754    NaN     NaN   NaN  NaN      NaN   \n\n   Queima  Outro  \n0     NaN    NaN  \n1     NaN    NaN  \n2     NaN    NaN  \n3     NaN    NaN  \n4     NaN    NaN  ",
      "text/html": "<div>\n<style scoped>\n    .dataframe tbody tr th:only-of-type {\n        vertical-align: middle;\n    }\n\n    .dataframe tbody tr th {\n        vertical-align: top;\n    }\n\n    .dataframe thead th {\n        text-align: right;\n    }\n</style>\n<table border=\"1\" class=\"dataframe\">\n  <thead>\n    <tr style=\"text-align: right;\">\n      <th></th>\n      <th>País</th>\n      <th>ISO 3166-1 alpha-3</th>\n      <th>Ano</th>\n      <th>Total</th>\n      <th>Carvão</th>\n      <th>Óleo</th>\n      <th>Gás</th>\n      <th>Cimento</th>\n      <th>Queima</th>\n      <th>Outro</th>\n    </tr>\n  </thead>\n  <tbody>\n    <tr>\n      <th>0</th>\n      <td>Afeganistão</td>\n      <td>AFG</td>\n      <td>1750</td>\n      <td>NaN</td>\n      <td>NaN</td>\n      <td>NaN</td>\n      <td>NaN</td>\n      <td>NaN</td>\n      <td>NaN</td>\n      <td>NaN</td>\n    </tr>\n    <tr>\n      <th>1</th>\n      <td>Afeganistão</td>\n      <td>AFG</td>\n      <td>1751</td>\n      <td>NaN</td>\n      <td>NaN</td>\n      <td>NaN</td>\n      <td>NaN</td>\n      <td>NaN</td>\n      <td>NaN</td>\n      <td>NaN</td>\n    </tr>\n    <tr>\n      <th>2</th>\n      <td>Afeganistão</td>\n      <td>AFG</td>\n      <td>1752</td>\n      <td>NaN</td>\n      <td>NaN</td>\n      <td>NaN</td>\n      <td>NaN</td>\n      <td>NaN</td>\n      <td>NaN</td>\n      <td>NaN</td>\n    </tr>\n    <tr>\n      <th>3</th>\n      <td>Afeganistão</td>\n      <td>AFG</td>\n      <td>1753</td>\n      <td>NaN</td>\n      <td>NaN</td>\n      <td>NaN</td>\n      <td>NaN</td>\n      <td>NaN</td>\n      <td>NaN</td>\n      <td>NaN</td>\n    </tr>\n    <tr>\n      <th>4</th>\n      <td>Afeganistão</td>\n      <td>AFG</td>\n      <td>1754</td>\n      <td>NaN</td>\n      <td>NaN</td>\n      <td>NaN</td>\n      <td>NaN</td>\n      <td>NaN</td>\n      <td>NaN</td>\n      <td>NaN</td>\n    </tr>\n  </tbody>\n</table>\n</div>"
     },
     "execution_count": 65,
     "metadata": {},
     "output_type": "execute_result"
    }
   ],
   "source": [
    "percapita = pd.read_excel(url_xlsx, sheet_name='emissoes_percapita')\n",
    "percapita.head()"
   ],
   "metadata": {
    "collapsed": false,
    "ExecuteTime": {
     "end_time": "2024-01-05T14:07:27.904352Z",
     "start_time": "2024-01-05T14:07:20.450590Z"
    }
   },
   "id": "af68cbafbad9b081"
  },
  {
   "cell_type": "code",
   "execution_count": 66,
   "outputs": [
    {
     "data": {
      "text/plain": "         País ISO 3166-1 alpha-3   Ano                                 Total  \\\n63099  Global                WLD  2017  CDIAC 2022, BP, and Sum of countries   \n63100  Global                WLD  2018  CDIAC 2022, BP, and Sum of countries   \n63101  Global                WLD  2019  CDIAC 2022, BP, and Sum of countries   \n63102  Global                WLD  2020  CDIAC 2022, BP, and Sum of countries   \n63103  Global                WLD  2021  CDIAC 2022, BP, and Sum of countries   \n\n                  Carvão               Oléo                Gás        Cimento  \\\n63099  CDIAC 2022 and BP  CDIAC 2022 and BP  CDIAC 2022 and BP  Andrew cement   \n63100  CDIAC 2022 and BP  CDIAC 2022 and BP  CDIAC 2022 and BP  Andrew cement   \n63101  CDIAC 2022 and BP  CDIAC 2022 and BP  CDIAC 2022 and BP  Andrew cement   \n63102  CDIAC 2022 and BP  CDIAC 2022 and BP  CDIAC 2022 and BP  Andrew cement   \n63103  CDIAC 2022 and BP  CDIAC 2022 and BP  CDIAC 2022 and BP  Andrew cement   \n\n                   Queima   Outro  \\\n63099  CDIAC 2022 and GCP  [NONE]   \n63100  CDIAC 2022 and GCP  [NONE]   \n63101  CDIAC 2022 and GCP  [NONE]   \n63102  CDIAC 2022 and GCP  [NONE]   \n63103  CDIAC 2022 and GCP  [NONE]   \n\n                                              Per Capita  \n63099  CDIAC 2022, BP, Sum of countries, and UN popul...  \n63100  CDIAC 2022, BP, Sum of countries, and UN popul...  \n63101  CDIAC 2022, BP, Sum of countries, and UN popul...  \n63102  CDIAC 2022, BP, Sum of countries, and UN popul...  \n63103  CDIAC 2022, BP, Sum of countries, and UN popul...  ",
      "text/html": "<div>\n<style scoped>\n    .dataframe tbody tr th:only-of-type {\n        vertical-align: middle;\n    }\n\n    .dataframe tbody tr th {\n        vertical-align: top;\n    }\n\n    .dataframe thead th {\n        text-align: right;\n    }\n</style>\n<table border=\"1\" class=\"dataframe\">\n  <thead>\n    <tr style=\"text-align: right;\">\n      <th></th>\n      <th>País</th>\n      <th>ISO 3166-1 alpha-3</th>\n      <th>Ano</th>\n      <th>Total</th>\n      <th>Carvão</th>\n      <th>Oléo</th>\n      <th>Gás</th>\n      <th>Cimento</th>\n      <th>Queima</th>\n      <th>Outro</th>\n      <th>Per Capita</th>\n    </tr>\n  </thead>\n  <tbody>\n    <tr>\n      <th>63099</th>\n      <td>Global</td>\n      <td>WLD</td>\n      <td>2017</td>\n      <td>CDIAC 2022, BP, and Sum of countries</td>\n      <td>CDIAC 2022 and BP</td>\n      <td>CDIAC 2022 and BP</td>\n      <td>CDIAC 2022 and BP</td>\n      <td>Andrew cement</td>\n      <td>CDIAC 2022 and GCP</td>\n      <td>[NONE]</td>\n      <td>CDIAC 2022, BP, Sum of countries, and UN popul...</td>\n    </tr>\n    <tr>\n      <th>63100</th>\n      <td>Global</td>\n      <td>WLD</td>\n      <td>2018</td>\n      <td>CDIAC 2022, BP, and Sum of countries</td>\n      <td>CDIAC 2022 and BP</td>\n      <td>CDIAC 2022 and BP</td>\n      <td>CDIAC 2022 and BP</td>\n      <td>Andrew cement</td>\n      <td>CDIAC 2022 and GCP</td>\n      <td>[NONE]</td>\n      <td>CDIAC 2022, BP, Sum of countries, and UN popul...</td>\n    </tr>\n    <tr>\n      <th>63101</th>\n      <td>Global</td>\n      <td>WLD</td>\n      <td>2019</td>\n      <td>CDIAC 2022, BP, and Sum of countries</td>\n      <td>CDIAC 2022 and BP</td>\n      <td>CDIAC 2022 and BP</td>\n      <td>CDIAC 2022 and BP</td>\n      <td>Andrew cement</td>\n      <td>CDIAC 2022 and GCP</td>\n      <td>[NONE]</td>\n      <td>CDIAC 2022, BP, Sum of countries, and UN popul...</td>\n    </tr>\n    <tr>\n      <th>63102</th>\n      <td>Global</td>\n      <td>WLD</td>\n      <td>2020</td>\n      <td>CDIAC 2022, BP, and Sum of countries</td>\n      <td>CDIAC 2022 and BP</td>\n      <td>CDIAC 2022 and BP</td>\n      <td>CDIAC 2022 and BP</td>\n      <td>Andrew cement</td>\n      <td>CDIAC 2022 and GCP</td>\n      <td>[NONE]</td>\n      <td>CDIAC 2022, BP, Sum of countries, and UN popul...</td>\n    </tr>\n    <tr>\n      <th>63103</th>\n      <td>Global</td>\n      <td>WLD</td>\n      <td>2021</td>\n      <td>CDIAC 2022, BP, and Sum of countries</td>\n      <td>CDIAC 2022 and BP</td>\n      <td>CDIAC 2022 and BP</td>\n      <td>CDIAC 2022 and BP</td>\n      <td>Andrew cement</td>\n      <td>CDIAC 2022 and GCP</td>\n      <td>[NONE]</td>\n      <td>CDIAC 2022, BP, Sum of countries, and UN popul...</td>\n    </tr>\n  </tbody>\n</table>\n</div>"
     },
     "execution_count": 66,
     "metadata": {},
     "output_type": "execute_result"
    }
   ],
   "source": [
    "fontes = pd.read_excel(url_xlsx, sheet_name='fontes')\n",
    "fontes.tail()"
   ],
   "metadata": {
    "collapsed": false,
    "ExecuteTime": {
     "end_time": "2024-01-05T14:07:35.643518Z",
     "start_time": "2024-01-05T14:07:27.903913Z"
    }
   },
   "id": "ef91bbf020acbc8"
  },
  {
   "cell_type": "code",
   "execution_count": 67,
   "outputs": [
    {
     "data": {
      "text/plain": "  ISO 3166-1 alpha-3   Ano\n0                AFG  1750\n1                AFG  1751\n2                AFG  1752\n3                AFG  1753\n4                AFG  1754\n5                AFG  1755\n6                AFG  1756\n7                AFG  1757\n8                AFG  1758\n9                AFG  1759",
      "text/html": "<div>\n<style scoped>\n    .dataframe tbody tr th:only-of-type {\n        vertical-align: middle;\n    }\n\n    .dataframe tbody tr th {\n        vertical-align: top;\n    }\n\n    .dataframe thead th {\n        text-align: right;\n    }\n</style>\n<table border=\"1\" class=\"dataframe\">\n  <thead>\n    <tr style=\"text-align: right;\">\n      <th></th>\n      <th>ISO 3166-1 alpha-3</th>\n      <th>Ano</th>\n    </tr>\n  </thead>\n  <tbody>\n    <tr>\n      <th>0</th>\n      <td>AFG</td>\n      <td>1750</td>\n    </tr>\n    <tr>\n      <th>1</th>\n      <td>AFG</td>\n      <td>1751</td>\n    </tr>\n    <tr>\n      <th>2</th>\n      <td>AFG</td>\n      <td>1752</td>\n    </tr>\n    <tr>\n      <th>3</th>\n      <td>AFG</td>\n      <td>1753</td>\n    </tr>\n    <tr>\n      <th>4</th>\n      <td>AFG</td>\n      <td>1754</td>\n    </tr>\n    <tr>\n      <th>5</th>\n      <td>AFG</td>\n      <td>1755</td>\n    </tr>\n    <tr>\n      <th>6</th>\n      <td>AFG</td>\n      <td>1756</td>\n    </tr>\n    <tr>\n      <th>7</th>\n      <td>AFG</td>\n      <td>1757</td>\n    </tr>\n    <tr>\n      <th>8</th>\n      <td>AFG</td>\n      <td>1758</td>\n    </tr>\n    <tr>\n      <th>9</th>\n      <td>AFG</td>\n      <td>1759</td>\n    </tr>\n  </tbody>\n</table>\n</div>"
     },
     "execution_count": 67,
     "metadata": {},
     "output_type": "execute_result"
    }
   ],
   "source": [
    "intervalo = pd.read_excel(url_xlsx, sheet_name='emissoes_C02', usecols='B:C', nrows=10)\n",
    "intervalo"
   ],
   "metadata": {
    "collapsed": false,
    "ExecuteTime": {
     "end_time": "2024-01-05T14:07:42.556863Z",
     "start_time": "2024-01-05T14:07:35.642886Z"
    }
   },
   "id": "6fbed41adbd39865"
  },
  {
   "cell_type": "code",
   "execution_count": 68,
   "outputs": [],
   "source": [
    "# percapita.to_excel('dados/percapita.xlsx', index=False)"
   ],
   "metadata": {
    "collapsed": false,
    "ExecuteTime": {
     "end_time": "2024-01-05T14:07:42.558986Z",
     "start_time": "2024-01-05T14:07:42.556797Z"
    }
   },
   "id": "6d44d8a6ea383e84"
  },
  {
   "cell_type": "markdown",
   "source": [
    "### Leitura de planilha do Google Sheets"
   ],
   "metadata": {
    "collapsed": false
   },
   "id": "c45ab841425a660d"
  },
  {
   "cell_type": "code",
   "execution_count": 69,
   "outputs": [
    {
     "data": {
      "text/plain": "  Country Name country_code                     Region  \\\n0        Aruba          ABW  Latin America & Caribbean   \n1  Afghanistan          AFG                 South Asia   \n2       Angola          AGO         Sub-Saharan Africa   \n3      Albania          ALB      Europe & Central Asia   \n4      Andorra          AND      Europe & Central Asia   \n\n                           Indicator Name           1990         1991  \\\n0  CO2 emissions (metric tons per capita)            NaN          NaN   \n1  CO2 emissions (metric tons per capita)    191.745.115  167.681.579   \n2  CO2 emissions (metric tons per capita)    553.661.955  544.538.649   \n3  CO2 emissions (metric tons per capita)  1.819.541.634  124.281.022   \n4  CO2 emissions (metric tons per capita)  7.521.831.658  723.537.924   \n\n          1992           1993           1994           1995  ...  \\\n0          NaN            NaN            NaN            NaN  ...   \n1   95.957.742      8.472.111     75.545.827     68.467.956  ...   \n2  543.557.223     70.898.423    836.804.405    912.141.485  ...   \n3  683.699.826    638.307.036    645.355.189    605.436.253  ...   \n4   69.630.787  6.724.177.518  6.541.578.914  6.733.479.486  ...   \n\n            2011           2012           2013           2014           2015  \\\n0            NaN            NaN            NaN            NaN            NaN   \n1     29.650.624    259.295.334     18.562.366    146.235.617    172.896.741   \n2    985.522.312    950.695.879  1.036.293.852  1.099.779.111    113.504.405   \n3    166.942.319    150.324.046  1.533.630.039  1.668.337.371    160.377.515   \n4  5.850.886.105  5.944.654.173  5.942.800.412  5.807.127.723  6.026.181.822   \n\n            2016           2017           2018           2019         2019.1  \n0            NaN            NaN            NaN            NaN            NaN  \n1    149.789.334    131.694.556      1.632.953    159.824.372    159.824.372  \n2  1.031.811.348     81.330.073    777.674.934    792.137.069    792.137.069  \n3  1.557.664.358  1.788.786.074  1.782.738.948    169.224.832    169.224.832  \n4  6.080.600.282  6.104.133.912  6.362.975.399  6.481.217.432  6.481.217.432  \n\n[5 rows x 35 columns]",
      "text/html": "<div>\n<style scoped>\n    .dataframe tbody tr th:only-of-type {\n        vertical-align: middle;\n    }\n\n    .dataframe tbody tr th {\n        vertical-align: top;\n    }\n\n    .dataframe thead th {\n        text-align: right;\n    }\n</style>\n<table border=\"1\" class=\"dataframe\">\n  <thead>\n    <tr style=\"text-align: right;\">\n      <th></th>\n      <th>Country Name</th>\n      <th>country_code</th>\n      <th>Region</th>\n      <th>Indicator Name</th>\n      <th>1990</th>\n      <th>1991</th>\n      <th>1992</th>\n      <th>1993</th>\n      <th>1994</th>\n      <th>1995</th>\n      <th>...</th>\n      <th>2011</th>\n      <th>2012</th>\n      <th>2013</th>\n      <th>2014</th>\n      <th>2015</th>\n      <th>2016</th>\n      <th>2017</th>\n      <th>2018</th>\n      <th>2019</th>\n      <th>2019.1</th>\n    </tr>\n  </thead>\n  <tbody>\n    <tr>\n      <th>0</th>\n      <td>Aruba</td>\n      <td>ABW</td>\n      <td>Latin America &amp; Caribbean</td>\n      <td>CO2 emissions (metric tons per capita)</td>\n      <td>NaN</td>\n      <td>NaN</td>\n      <td>NaN</td>\n      <td>NaN</td>\n      <td>NaN</td>\n      <td>NaN</td>\n      <td>...</td>\n      <td>NaN</td>\n      <td>NaN</td>\n      <td>NaN</td>\n      <td>NaN</td>\n      <td>NaN</td>\n      <td>NaN</td>\n      <td>NaN</td>\n      <td>NaN</td>\n      <td>NaN</td>\n      <td>NaN</td>\n    </tr>\n    <tr>\n      <th>1</th>\n      <td>Afghanistan</td>\n      <td>AFG</td>\n      <td>South Asia</td>\n      <td>CO2 emissions (metric tons per capita)</td>\n      <td>191.745.115</td>\n      <td>167.681.579</td>\n      <td>95.957.742</td>\n      <td>8.472.111</td>\n      <td>75.545.827</td>\n      <td>68.467.956</td>\n      <td>...</td>\n      <td>29.650.624</td>\n      <td>259.295.334</td>\n      <td>18.562.366</td>\n      <td>146.235.617</td>\n      <td>172.896.741</td>\n      <td>149.789.334</td>\n      <td>131.694.556</td>\n      <td>1.632.953</td>\n      <td>159.824.372</td>\n      <td>159.824.372</td>\n    </tr>\n    <tr>\n      <th>2</th>\n      <td>Angola</td>\n      <td>AGO</td>\n      <td>Sub-Saharan Africa</td>\n      <td>CO2 emissions (metric tons per capita)</td>\n      <td>553.661.955</td>\n      <td>544.538.649</td>\n      <td>543.557.223</td>\n      <td>70.898.423</td>\n      <td>836.804.405</td>\n      <td>912.141.485</td>\n      <td>...</td>\n      <td>985.522.312</td>\n      <td>950.695.879</td>\n      <td>1.036.293.852</td>\n      <td>1.099.779.111</td>\n      <td>113.504.405</td>\n      <td>1.031.811.348</td>\n      <td>81.330.073</td>\n      <td>777.674.934</td>\n      <td>792.137.069</td>\n      <td>792.137.069</td>\n    </tr>\n    <tr>\n      <th>3</th>\n      <td>Albania</td>\n      <td>ALB</td>\n      <td>Europe &amp; Central Asia</td>\n      <td>CO2 emissions (metric tons per capita)</td>\n      <td>1.819.541.634</td>\n      <td>124.281.022</td>\n      <td>683.699.826</td>\n      <td>638.307.036</td>\n      <td>645.355.189</td>\n      <td>605.436.253</td>\n      <td>...</td>\n      <td>166.942.319</td>\n      <td>150.324.046</td>\n      <td>1.533.630.039</td>\n      <td>1.668.337.371</td>\n      <td>160.377.515</td>\n      <td>1.557.664.358</td>\n      <td>1.788.786.074</td>\n      <td>1.782.738.948</td>\n      <td>169.224.832</td>\n      <td>169.224.832</td>\n    </tr>\n    <tr>\n      <th>4</th>\n      <td>Andorra</td>\n      <td>AND</td>\n      <td>Europe &amp; Central Asia</td>\n      <td>CO2 emissions (metric tons per capita)</td>\n      <td>7.521.831.658</td>\n      <td>723.537.924</td>\n      <td>69.630.787</td>\n      <td>6.724.177.518</td>\n      <td>6.541.578.914</td>\n      <td>6.733.479.486</td>\n      <td>...</td>\n      <td>5.850.886.105</td>\n      <td>5.944.654.173</td>\n      <td>5.942.800.412</td>\n      <td>5.807.127.723</td>\n      <td>6.026.181.822</td>\n      <td>6.080.600.282</td>\n      <td>6.104.133.912</td>\n      <td>6.362.975.399</td>\n      <td>6.481.217.432</td>\n      <td>6.481.217.432</td>\n    </tr>\n  </tbody>\n</table>\n<p>5 rows × 35 columns</p>\n</div>"
     },
     "execution_count": 69,
     "metadata": {},
     "output_type": "execute_result"
    }
   ],
   "source": [
    "sheet_id = '1pvBoLyX8kP0TjtUbadVMGdTl4yzm6bHMThhPiqCVtpw'\n",
    "url_google_sheets = f'https://docs.google.com/spreadsheets/d/{sheet_id}/gviz/tq?tqx=out:csv&sheet'\n",
    "dados_google_sheets = pd.read_csv(url_google_sheets)\n",
    "dados_google_sheets.head()"
   ],
   "metadata": {
    "collapsed": false,
    "ExecuteTime": {
     "end_time": "2024-01-05T14:07:43.472003Z",
     "start_time": "2024-01-05T14:07:42.559019Z"
    }
   },
   "id": "9bc8e301a7861917"
  },
  {
   "cell_type": "code",
   "execution_count": 70,
   "outputs": [],
   "source": [
    "# sheet_name = '' # nome da planilha\n",
    "# url_google_sheets = f'https://docs.google.com/spreadsheets/d/{sheet_id}/gviz/tq?tqx=out:csv&sheet={sheet_name}'\n",
    "# dados_google_sheets = pd.read_csv(url_google_sheets)\n",
    "# dados_google_sheets.head()"
   ],
   "metadata": {
    "collapsed": false,
    "ExecuteTime": {
     "end_time": "2024-01-05T14:07:43.475794Z",
     "start_time": "2024-01-05T14:07:43.468080Z"
    }
   },
   "id": "b7fa8394b2dcc27c"
  },
  {
   "cell_type": "code",
   "execution_count": 71,
   "outputs": [],
   "source": [
    "# dados_google_sheets.to_csv('dados/dados_google_sheets.csv', index=False)"
   ],
   "metadata": {
    "collapsed": false,
    "ExecuteTime": {
     "end_time": "2024-01-05T14:07:43.484667Z",
     "start_time": "2024-01-05T14:07:43.474427Z"
    }
   },
   "id": "2469439a4cf7d515"
  },
  {
   "cell_type": "markdown",
   "source": [
    "## JSON\n",
    "### Lendo um arquivo JSON"
   ],
   "metadata": {
    "collapsed": false
   },
   "id": "eacf7a09b989151f"
  },
  {
   "cell_type": "code",
   "execution_count": 72,
   "outputs": [
    {
     "data": {
      "text/plain": "   ID_paciente Doenca_cardiaca    IMC Fumante Consumo_alcool  AVC  \\\n0            0             Nao  16.60     Sim            Nao  Nao   \n1            1             Nao  20.34     Nao            Nao  Sim   \n2            2             Nao  26.58     Sim            Nao  Nao   \n3            3             Nao  24.21     Nao            Nao  Nao   \n4            4             Nao  23.71     Nao            Nao  Nao   \n\n   Saude_fisica  Saude_mental Dificuldade_caminhar Sexo_biologico  \\\n0             3            30                  Nao       Feminino   \n1             0             0                  Nao       Feminino   \n2            20            30                  Nao      Masculino   \n3             0             0                  Nao       Feminino   \n4            28             0                  Sim       Feminino   \n\n  Faixa_etaria    Raca Diabetes Atividade_fisica Saude_geral  Horas_sono Asma  \\\n0        55-59  Branca      Sim              Sim   Muito boa           5  Sim   \n1      80 ou +  Branca      Nao              Sim   Muito boa           7  Nao   \n2        65-69  Branca      Sim              Sim    Razoavel           8  Sim   \n3        75-79  Branca      Nao               No         Boa           6  Nao   \n4        40-44  Branca      Nao              Sim   Muito boa           8  Nao   \n\n  Doenca_renal Cancer_pele  \n0          Nao         Sim  \n1          Nao         Nao  \n2          Nao         Nao  \n3          Nao         Sim  \n4          Nao         Nao  ",
      "text/html": "<div>\n<style scoped>\n    .dataframe tbody tr th:only-of-type {\n        vertical-align: middle;\n    }\n\n    .dataframe tbody tr th {\n        vertical-align: top;\n    }\n\n    .dataframe thead th {\n        text-align: right;\n    }\n</style>\n<table border=\"1\" class=\"dataframe\">\n  <thead>\n    <tr style=\"text-align: right;\">\n      <th></th>\n      <th>ID_paciente</th>\n      <th>Doenca_cardiaca</th>\n      <th>IMC</th>\n      <th>Fumante</th>\n      <th>Consumo_alcool</th>\n      <th>AVC</th>\n      <th>Saude_fisica</th>\n      <th>Saude_mental</th>\n      <th>Dificuldade_caminhar</th>\n      <th>Sexo_biologico</th>\n      <th>Faixa_etaria</th>\n      <th>Raca</th>\n      <th>Diabetes</th>\n      <th>Atividade_fisica</th>\n      <th>Saude_geral</th>\n      <th>Horas_sono</th>\n      <th>Asma</th>\n      <th>Doenca_renal</th>\n      <th>Cancer_pele</th>\n    </tr>\n  </thead>\n  <tbody>\n    <tr>\n      <th>0</th>\n      <td>0</td>\n      <td>Nao</td>\n      <td>16.60</td>\n      <td>Sim</td>\n      <td>Nao</td>\n      <td>Nao</td>\n      <td>3</td>\n      <td>30</td>\n      <td>Nao</td>\n      <td>Feminino</td>\n      <td>55-59</td>\n      <td>Branca</td>\n      <td>Sim</td>\n      <td>Sim</td>\n      <td>Muito boa</td>\n      <td>5</td>\n      <td>Sim</td>\n      <td>Nao</td>\n      <td>Sim</td>\n    </tr>\n    <tr>\n      <th>1</th>\n      <td>1</td>\n      <td>Nao</td>\n      <td>20.34</td>\n      <td>Nao</td>\n      <td>Nao</td>\n      <td>Sim</td>\n      <td>0</td>\n      <td>0</td>\n      <td>Nao</td>\n      <td>Feminino</td>\n      <td>80 ou +</td>\n      <td>Branca</td>\n      <td>Nao</td>\n      <td>Sim</td>\n      <td>Muito boa</td>\n      <td>7</td>\n      <td>Nao</td>\n      <td>Nao</td>\n      <td>Nao</td>\n    </tr>\n    <tr>\n      <th>2</th>\n      <td>2</td>\n      <td>Nao</td>\n      <td>26.58</td>\n      <td>Sim</td>\n      <td>Nao</td>\n      <td>Nao</td>\n      <td>20</td>\n      <td>30</td>\n      <td>Nao</td>\n      <td>Masculino</td>\n      <td>65-69</td>\n      <td>Branca</td>\n      <td>Sim</td>\n      <td>Sim</td>\n      <td>Razoavel</td>\n      <td>8</td>\n      <td>Sim</td>\n      <td>Nao</td>\n      <td>Nao</td>\n    </tr>\n    <tr>\n      <th>3</th>\n      <td>3</td>\n      <td>Nao</td>\n      <td>24.21</td>\n      <td>Nao</td>\n      <td>Nao</td>\n      <td>Nao</td>\n      <td>0</td>\n      <td>0</td>\n      <td>Nao</td>\n      <td>Feminino</td>\n      <td>75-79</td>\n      <td>Branca</td>\n      <td>Nao</td>\n      <td>No</td>\n      <td>Boa</td>\n      <td>6</td>\n      <td>Nao</td>\n      <td>Nao</td>\n      <td>Sim</td>\n    </tr>\n    <tr>\n      <th>4</th>\n      <td>4</td>\n      <td>Nao</td>\n      <td>23.71</td>\n      <td>Nao</td>\n      <td>Nao</td>\n      <td>Nao</td>\n      <td>28</td>\n      <td>0</td>\n      <td>Sim</td>\n      <td>Feminino</td>\n      <td>40-44</td>\n      <td>Branca</td>\n      <td>Nao</td>\n      <td>Sim</td>\n      <td>Muito boa</td>\n      <td>8</td>\n      <td>Nao</td>\n      <td>Nao</td>\n      <td>Nao</td>\n    </tr>\n  </tbody>\n</table>\n</div>"
     },
     "execution_count": 72,
     "metadata": {},
     "output_type": "execute_result"
    }
   ],
   "source": [
    "url_json = 'https://raw.githubusercontent.com/alura-cursos/Pandas/main/pacientes.json'\n",
    "dados_json = pd.read_json(url_json)\n",
    "dados_json.head()"
   ],
   "metadata": {
    "collapsed": false,
    "ExecuteTime": {
     "end_time": "2024-01-05T14:07:43.812833Z",
     "start_time": "2024-01-05T14:07:43.477490Z"
    }
   },
   "id": "52b7db2e346031f1"
  },
  {
   "cell_type": "code",
   "execution_count": 73,
   "outputs": [
    {
     "data": {
      "text/plain": "                                    Pesquisa   Ano  \\\n0  Principais Indicadores de Doenca Cardiaca  2020   \n1  Principais Indicadores de Doenca Cardiaca  2020   \n2  Principais Indicadores de Doenca Cardiaca  2020   \n\n                                           Pacientes  \n0  {'ID': '01', 'Faixa_etaria': '55-59', 'Sexo_bi...  \n1  {'ID': '02', 'Faixa_etaria': '80 ou +', 'Sexo_...  \n2  {'ID': '03', 'Faixa_etaria': '65-69', 'Sexo_bi...  ",
      "text/html": "<div>\n<style scoped>\n    .dataframe tbody tr th:only-of-type {\n        vertical-align: middle;\n    }\n\n    .dataframe tbody tr th {\n        vertical-align: top;\n    }\n\n    .dataframe thead th {\n        text-align: right;\n    }\n</style>\n<table border=\"1\" class=\"dataframe\">\n  <thead>\n    <tr style=\"text-align: right;\">\n      <th></th>\n      <th>Pesquisa</th>\n      <th>Ano</th>\n      <th>Pacientes</th>\n    </tr>\n  </thead>\n  <tbody>\n    <tr>\n      <th>0</th>\n      <td>Principais Indicadores de Doenca Cardiaca</td>\n      <td>2020</td>\n      <td>{'ID': '01', 'Faixa_etaria': '55-59', 'Sexo_bi...</td>\n    </tr>\n    <tr>\n      <th>1</th>\n      <td>Principais Indicadores de Doenca Cardiaca</td>\n      <td>2020</td>\n      <td>{'ID': '02', 'Faixa_etaria': '80 ou +', 'Sexo_...</td>\n    </tr>\n    <tr>\n      <th>2</th>\n      <td>Principais Indicadores de Doenca Cardiaca</td>\n      <td>2020</td>\n      <td>{'ID': '03', 'Faixa_etaria': '65-69', 'Sexo_bi...</td>\n    </tr>\n  </tbody>\n</table>\n</div>"
     },
     "execution_count": 73,
     "metadata": {},
     "output_type": "execute_result"
    }
   ],
   "source": [
    "url_json_2 = 'https://raw.githubusercontent.com/alura-cursos/Pandas/main/pacientes_2.json'\n",
    "dados_json_2 = pd.read_json(url_json_2)\n",
    "dados_json_2.head()"
   ],
   "metadata": {
    "collapsed": false,
    "ExecuteTime": {
     "end_time": "2024-01-05T14:07:44.056857Z",
     "start_time": "2024-01-05T14:07:43.812949Z"
    }
   },
   "id": "7a7c2d51237a0c17"
  },
  {
   "cell_type": "markdown",
   "source": [
    "### Manipulações em um arquivo JSON\n",
    "#### Normalização de JSON com vários níveis (nested data/dados aninhados)"
   ],
   "metadata": {
    "collapsed": false
   },
   "id": "4d8af3e14cb78ef0"
  },
  {
   "cell_type": "code",
   "execution_count": 74,
   "outputs": [
    {
     "data": {
      "text/plain": "   ID Faixa_etaria Sexo_biologico    Raça    IMC Fumante Consumo_alcool  \\\n0  01        55-59       Feminino  Branca  16.60     Sim            Nao   \n1  02      80 ou +       Feminino  Branca  20.34     Nao            Nao   \n2  03        65-69      Masculino  Branca  26.58     Sim            Nao   \n\n   Saude_fisica  Saude_mental Dificuldade_caminhar Atividade_fisica  \\\n0             3            30                  Nao              Sim   \n1             0             0                  Nao              Sim   \n2            20            30                  Nao              Sim   \n\n  Saude_geral  Horas_sono                Problemas_saude  \n0   Muito boa           5  [Diabetes, Asma, Cancer_pele]  \n1   Muito boa           7                          [AVC]  \n2   Muito boa           8               [diabetes, Asma]  ",
      "text/html": "<div>\n<style scoped>\n    .dataframe tbody tr th:only-of-type {\n        vertical-align: middle;\n    }\n\n    .dataframe tbody tr th {\n        vertical-align: top;\n    }\n\n    .dataframe thead th {\n        text-align: right;\n    }\n</style>\n<table border=\"1\" class=\"dataframe\">\n  <thead>\n    <tr style=\"text-align: right;\">\n      <th></th>\n      <th>ID</th>\n      <th>Faixa_etaria</th>\n      <th>Sexo_biologico</th>\n      <th>Raça</th>\n      <th>IMC</th>\n      <th>Fumante</th>\n      <th>Consumo_alcool</th>\n      <th>Saude_fisica</th>\n      <th>Saude_mental</th>\n      <th>Dificuldade_caminhar</th>\n      <th>Atividade_fisica</th>\n      <th>Saude_geral</th>\n      <th>Horas_sono</th>\n      <th>Problemas_saude</th>\n    </tr>\n  </thead>\n  <tbody>\n    <tr>\n      <th>0</th>\n      <td>01</td>\n      <td>55-59</td>\n      <td>Feminino</td>\n      <td>Branca</td>\n      <td>16.60</td>\n      <td>Sim</td>\n      <td>Nao</td>\n      <td>3</td>\n      <td>30</td>\n      <td>Nao</td>\n      <td>Sim</td>\n      <td>Muito boa</td>\n      <td>5</td>\n      <td>[Diabetes, Asma, Cancer_pele]</td>\n    </tr>\n    <tr>\n      <th>1</th>\n      <td>02</td>\n      <td>80 ou +</td>\n      <td>Feminino</td>\n      <td>Branca</td>\n      <td>20.34</td>\n      <td>Nao</td>\n      <td>Nao</td>\n      <td>0</td>\n      <td>0</td>\n      <td>Nao</td>\n      <td>Sim</td>\n      <td>Muito boa</td>\n      <td>7</td>\n      <td>[AVC]</td>\n    </tr>\n    <tr>\n      <th>2</th>\n      <td>03</td>\n      <td>65-69</td>\n      <td>Masculino</td>\n      <td>Branca</td>\n      <td>26.58</td>\n      <td>Sim</td>\n      <td>Nao</td>\n      <td>20</td>\n      <td>30</td>\n      <td>Nao</td>\n      <td>Sim</td>\n      <td>Muito boa</td>\n      <td>8</td>\n      <td>[diabetes, Asma]</td>\n    </tr>\n  </tbody>\n</table>\n</div>"
     },
     "execution_count": 74,
     "metadata": {},
     "output_type": "execute_result"
    }
   ],
   "source": [
    "df_normalizado = pd.json_normalize(dados_json_2['Pacientes']) # A função normalize transforma um objeto aninhado em DataFrame\n",
    "df_normalizado"
   ],
   "metadata": {
    "collapsed": false,
    "ExecuteTime": {
     "end_time": "2024-01-05T14:07:44.062813Z",
     "start_time": "2024-01-05T14:07:44.060465Z"
    }
   },
   "id": "a51c44ac8a611822"
  },
  {
   "cell_type": "markdown",
   "source": [
    "#### Salvando um arquivo JSON"
   ],
   "metadata": {
    "collapsed": false
   },
   "id": "8b05a571f1604129"
  },
  {
   "cell_type": "code",
   "execution_count": 75,
   "outputs": [],
   "source": [
    "# df_normalizado.to_json('dados/pacientes_normalizado.json', orient='records', lines=True) # salvando o arquivo"
   ],
   "metadata": {
    "collapsed": false,
    "ExecuteTime": {
     "end_time": "2024-01-05T14:07:44.065221Z",
     "start_time": "2024-01-05T14:07:44.062724Z"
    }
   },
   "id": "a85e1d367176536"
  },
  {
   "cell_type": "markdown",
   "source": [
    "#### Normalização de JSON com vários níveis com parâmetros record_path e meta"
   ],
   "metadata": {
    "collapsed": false
   },
   "id": "58f0d1bafb750c9c"
  },
  {
   "cell_type": "code",
   "execution_count": 76,
   "outputs": [],
   "source": [
    "# #Importando o módulo JSON\n",
    "# import json\n",
    "# \n",
    "# #Lendo o arquivo json usando o módulo Python JSON\n",
    "# with open('pacientes_2.json','r') as f:\n",
    "#     dados = json.loads(f.read())\n",
    "# \n",
    "# #Normalizando os dados com os parâmetros record_path e meta\n",
    "# pd.json_normalize(dados, record_path='Pacientes', meta=['Pesquisa', 'Ano'])"
   ],
   "metadata": {
    "collapsed": false,
    "ExecuteTime": {
     "end_time": "2024-01-05T14:07:44.066751Z",
     "start_time": "2024-01-05T14:07:44.064452Z"
    }
   },
   "id": "ae27ea892b04b7a1"
  },
  {
   "cell_type": "markdown",
   "source": [
    "## HTML\n",
    "### Lendo um arquivo HTML"
   ],
   "metadata": {
    "collapsed": false
   },
   "id": "79ffbaaff5a42a02"
  },
  {
   "cell_type": "code",
   "execution_count": 77,
   "outputs": [
    {
     "data": {
      "text/plain": "[       0                      1\n 0   1998             100 Movies\n 1   1999              100 Stars\n 2   2000             100 Laughs\n 3   2001            100 Thrills\n 4   2002           100 Passions\n 5   2003  100 Heroes & Villains\n 6   2004              100 Songs\n 7   2005       100 Movie Quotes\n 8   2005              25 Scores\n 9   2006             100 Cheers\n 10  2006            25 Musicals\n 11  2007   100 Movies (Updated)\n 12  2008        AFI's 10 Top 10\n 13   vte                    vte,\n                             Film  Release year              Director  \\\n 0                   Citizen Kane          1941          Orson Welles   \n 1                     Casablanca          1942        Michael Curtiz   \n 2                  The Godfather          1972  Francis Ford Coppola   \n 3             Gone with the Wind          1939        Victor Fleming   \n 4             Lawrence of Arabia          1962            David Lean   \n ..                           ...           ...                   ...   \n 95                 The Searchers          1956             John Ford   \n 96              Bringing Up Baby          1938          Howard Hawks   \n 97                    Unforgiven          1992        Clint Eastwood   \n 98  Guess Who's Coming to Dinner          1967        Stanley Kramer   \n 99           Yankee Doodle Dandy          1942        Michael Curtiz   \n \n                       Production companies  Rank  \n 0                       RKO Radio Pictures     1  \n 1                    Warner Bros. Pictures     2  \n 2   Paramount Pictures, Alfran Productions     3  \n 3          Selznick International Pictures     4  \n 4                         Horizon Pictures     5  \n ..                                     ...   ...  \n 95                  C. V. Whitney Pictures    96  \n 96                      RKO Radio Pictures    97  \n 97                     The Malpaso Company    98  \n 98                       Columbia Pictures    99  \n 99                   Warner Bros. Pictures   100  \n \n [100 rows x 5 columns],\n           hidevteAFI's 100 Years...100 Movies (1998)  \\\n 0  Citizen Kane (1941) Casablanca (1942) The Godf...   \n \n         hidevteAFI's 100 Years...100 Movies (1998).1  \n 0  Citizen Kane (1941) Casablanca (1942) The Godf...  ]"
     },
     "execution_count": 77,
     "metadata": {},
     "output_type": "execute_result"
    }
   ],
   "source": [
    "url_html = 'https://raw.githubusercontent.com/alura-cursos/Pandas/main/filmes_wikipedia.html'\n",
    "dados_html = pd.read_html(url_html)\n",
    "dados_html"
   ],
   "metadata": {
    "collapsed": false,
    "ExecuteTime": {
     "end_time": "2024-01-05T14:07:44.404302Z",
     "start_time": "2024-01-05T14:07:44.065970Z"
    }
   },
   "id": "282c949e6d06cb2d"
  },
  {
   "cell_type": "code",
   "execution_count": 78,
   "outputs": [
    {
     "data": {
      "text/plain": "list"
     },
     "execution_count": 78,
     "metadata": {},
     "output_type": "execute_result"
    }
   ],
   "source": [
    "type(dados_html)"
   ],
   "metadata": {
    "collapsed": false,
    "ExecuteTime": {
     "end_time": "2024-01-05T14:07:44.408603Z",
     "start_time": "2024-01-05T14:07:44.404459Z"
    }
   },
   "id": "18f3577f7b26ee3b"
  },
  {
   "cell_type": "code",
   "execution_count": 79,
   "outputs": [
    {
     "data": {
      "text/plain": "3"
     },
     "execution_count": 79,
     "metadata": {},
     "output_type": "execute_result"
    }
   ],
   "source": [
    "len(dados_html)"
   ],
   "metadata": {
    "collapsed": false,
    "ExecuteTime": {
     "end_time": "2024-01-05T14:07:44.411928Z",
     "start_time": "2024-01-05T14:07:44.408108Z"
    }
   },
   "id": "ef072223c0777568"
  },
  {
   "cell_type": "code",
   "execution_count": 80,
   "outputs": [
    {
     "data": {
      "text/plain": "       0                      1\n0   1998             100 Movies\n1   1999              100 Stars\n2   2000             100 Laughs\n3   2001            100 Thrills\n4   2002           100 Passions\n5   2003  100 Heroes & Villains\n6   2004              100 Songs\n7   2005       100 Movie Quotes\n8   2005              25 Scores\n9   2006             100 Cheers\n10  2006            25 Musicals\n11  2007   100 Movies (Updated)\n12  2008        AFI's 10 Top 10\n13   vte                    vte",
      "text/html": "<div>\n<style scoped>\n    .dataframe tbody tr th:only-of-type {\n        vertical-align: middle;\n    }\n\n    .dataframe tbody tr th {\n        vertical-align: top;\n    }\n\n    .dataframe thead th {\n        text-align: right;\n    }\n</style>\n<table border=\"1\" class=\"dataframe\">\n  <thead>\n    <tr style=\"text-align: right;\">\n      <th></th>\n      <th>0</th>\n      <th>1</th>\n    </tr>\n  </thead>\n  <tbody>\n    <tr>\n      <th>0</th>\n      <td>1998</td>\n      <td>100 Movies</td>\n    </tr>\n    <tr>\n      <th>1</th>\n      <td>1999</td>\n      <td>100 Stars</td>\n    </tr>\n    <tr>\n      <th>2</th>\n      <td>2000</td>\n      <td>100 Laughs</td>\n    </tr>\n    <tr>\n      <th>3</th>\n      <td>2001</td>\n      <td>100 Thrills</td>\n    </tr>\n    <tr>\n      <th>4</th>\n      <td>2002</td>\n      <td>100 Passions</td>\n    </tr>\n    <tr>\n      <th>5</th>\n      <td>2003</td>\n      <td>100 Heroes &amp; Villains</td>\n    </tr>\n    <tr>\n      <th>6</th>\n      <td>2004</td>\n      <td>100 Songs</td>\n    </tr>\n    <tr>\n      <th>7</th>\n      <td>2005</td>\n      <td>100 Movie Quotes</td>\n    </tr>\n    <tr>\n      <th>8</th>\n      <td>2005</td>\n      <td>25 Scores</td>\n    </tr>\n    <tr>\n      <th>9</th>\n      <td>2006</td>\n      <td>100 Cheers</td>\n    </tr>\n    <tr>\n      <th>10</th>\n      <td>2006</td>\n      <td>25 Musicals</td>\n    </tr>\n    <tr>\n      <th>11</th>\n      <td>2007</td>\n      <td>100 Movies (Updated)</td>\n    </tr>\n    <tr>\n      <th>12</th>\n      <td>2008</td>\n      <td>AFI's 10 Top 10</td>\n    </tr>\n    <tr>\n      <th>13</th>\n      <td>vte</td>\n      <td>vte</td>\n    </tr>\n  </tbody>\n</table>\n</div>"
     },
     "execution_count": 80,
     "metadata": {},
     "output_type": "execute_result"
    }
   ],
   "source": [
    "dados_html[0]"
   ],
   "metadata": {
    "collapsed": false,
    "ExecuteTime": {
     "end_time": "2024-01-05T14:07:44.418790Z",
     "start_time": "2024-01-05T14:07:44.411810Z"
    }
   },
   "id": "873c94d571a22da6"
  },
  {
   "cell_type": "code",
   "execution_count": 81,
   "outputs": [
    {
     "data": {
      "text/plain": "                            Film  Release year              Director  \\\n0                   Citizen Kane          1941          Orson Welles   \n1                     Casablanca          1942        Michael Curtiz   \n2                  The Godfather          1972  Francis Ford Coppola   \n3             Gone with the Wind          1939        Victor Fleming   \n4             Lawrence of Arabia          1962            David Lean   \n..                           ...           ...                   ...   \n95                 The Searchers          1956             John Ford   \n96              Bringing Up Baby          1938          Howard Hawks   \n97                    Unforgiven          1992        Clint Eastwood   \n98  Guess Who's Coming to Dinner          1967        Stanley Kramer   \n99           Yankee Doodle Dandy          1942        Michael Curtiz   \n\n                      Production companies  Rank  \n0                       RKO Radio Pictures     1  \n1                    Warner Bros. Pictures     2  \n2   Paramount Pictures, Alfran Productions     3  \n3          Selznick International Pictures     4  \n4                         Horizon Pictures     5  \n..                                     ...   ...  \n95                  C. V. Whitney Pictures    96  \n96                      RKO Radio Pictures    97  \n97                     The Malpaso Company    98  \n98                       Columbia Pictures    99  \n99                   Warner Bros. Pictures   100  \n\n[100 rows x 5 columns]",
      "text/html": "<div>\n<style scoped>\n    .dataframe tbody tr th:only-of-type {\n        vertical-align: middle;\n    }\n\n    .dataframe tbody tr th {\n        vertical-align: top;\n    }\n\n    .dataframe thead th {\n        text-align: right;\n    }\n</style>\n<table border=\"1\" class=\"dataframe\">\n  <thead>\n    <tr style=\"text-align: right;\">\n      <th></th>\n      <th>Film</th>\n      <th>Release year</th>\n      <th>Director</th>\n      <th>Production companies</th>\n      <th>Rank</th>\n    </tr>\n  </thead>\n  <tbody>\n    <tr>\n      <th>0</th>\n      <td>Citizen Kane</td>\n      <td>1941</td>\n      <td>Orson Welles</td>\n      <td>RKO Radio Pictures</td>\n      <td>1</td>\n    </tr>\n    <tr>\n      <th>1</th>\n      <td>Casablanca</td>\n      <td>1942</td>\n      <td>Michael Curtiz</td>\n      <td>Warner Bros. Pictures</td>\n      <td>2</td>\n    </tr>\n    <tr>\n      <th>2</th>\n      <td>The Godfather</td>\n      <td>1972</td>\n      <td>Francis Ford Coppola</td>\n      <td>Paramount Pictures, Alfran Productions</td>\n      <td>3</td>\n    </tr>\n    <tr>\n      <th>3</th>\n      <td>Gone with the Wind</td>\n      <td>1939</td>\n      <td>Victor Fleming</td>\n      <td>Selznick International Pictures</td>\n      <td>4</td>\n    </tr>\n    <tr>\n      <th>4</th>\n      <td>Lawrence of Arabia</td>\n      <td>1962</td>\n      <td>David Lean</td>\n      <td>Horizon Pictures</td>\n      <td>5</td>\n    </tr>\n    <tr>\n      <th>...</th>\n      <td>...</td>\n      <td>...</td>\n      <td>...</td>\n      <td>...</td>\n      <td>...</td>\n    </tr>\n    <tr>\n      <th>95</th>\n      <td>The Searchers</td>\n      <td>1956</td>\n      <td>John Ford</td>\n      <td>C. V. Whitney Pictures</td>\n      <td>96</td>\n    </tr>\n    <tr>\n      <th>96</th>\n      <td>Bringing Up Baby</td>\n      <td>1938</td>\n      <td>Howard Hawks</td>\n      <td>RKO Radio Pictures</td>\n      <td>97</td>\n    </tr>\n    <tr>\n      <th>97</th>\n      <td>Unforgiven</td>\n      <td>1992</td>\n      <td>Clint Eastwood</td>\n      <td>The Malpaso Company</td>\n      <td>98</td>\n    </tr>\n    <tr>\n      <th>98</th>\n      <td>Guess Who's Coming to Dinner</td>\n      <td>1967</td>\n      <td>Stanley Kramer</td>\n      <td>Columbia Pictures</td>\n      <td>99</td>\n    </tr>\n    <tr>\n      <th>99</th>\n      <td>Yankee Doodle Dandy</td>\n      <td>1942</td>\n      <td>Michael Curtiz</td>\n      <td>Warner Bros. Pictures</td>\n      <td>100</td>\n    </tr>\n  </tbody>\n</table>\n<p>100 rows × 5 columns</p>\n</div>"
     },
     "execution_count": 81,
     "metadata": {},
     "output_type": "execute_result"
    }
   ],
   "source": [
    "dados_html[1]"
   ],
   "metadata": {
    "collapsed": false,
    "ExecuteTime": {
     "end_time": "2024-01-05T14:07:44.421556Z",
     "start_time": "2024-01-05T14:07:44.415974Z"
    }
   },
   "id": "f4feea98a24d4bf7"
  },
  {
   "cell_type": "code",
   "execution_count": 82,
   "outputs": [
    {
     "data": {
      "text/plain": "          hidevteAFI's 100 Years...100 Movies (1998)  \\\n0  Citizen Kane (1941) Casablanca (1942) The Godf...   \n\n        hidevteAFI's 100 Years...100 Movies (1998).1  \n0  Citizen Kane (1941) Casablanca (1942) The Godf...  ",
      "text/html": "<div>\n<style scoped>\n    .dataframe tbody tr th:only-of-type {\n        vertical-align: middle;\n    }\n\n    .dataframe tbody tr th {\n        vertical-align: top;\n    }\n\n    .dataframe thead th {\n        text-align: right;\n    }\n</style>\n<table border=\"1\" class=\"dataframe\">\n  <thead>\n    <tr style=\"text-align: right;\">\n      <th></th>\n      <th>hidevteAFI's 100 Years...100 Movies (1998)</th>\n      <th>hidevteAFI's 100 Years...100 Movies (1998).1</th>\n    </tr>\n  </thead>\n  <tbody>\n    <tr>\n      <th>0</th>\n      <td>Citizen Kane (1941) Casablanca (1942) The Godf...</td>\n      <td>Citizen Kane (1941) Casablanca (1942) The Godf...</td>\n    </tr>\n  </tbody>\n</table>\n</div>"
     },
     "execution_count": 82,
     "metadata": {},
     "output_type": "execute_result"
    }
   ],
   "source": [
    "dados_html[2]"
   ],
   "metadata": {
    "collapsed": false,
    "ExecuteTime": {
     "end_time": "2024-01-05T14:07:44.447274Z",
     "start_time": "2024-01-05T14:07:44.420608Z"
    }
   },
   "id": "6fae479046aeaac2"
  },
  {
   "cell_type": "code",
   "execution_count": 83,
   "outputs": [
    {
     "data": {
      "text/plain": "                 Film  Release year              Director  \\\n0        Citizen Kane          1941          Orson Welles   \n1          Casablanca          1942        Michael Curtiz   \n2       The Godfather          1972  Francis Ford Coppola   \n3  Gone with the Wind          1939        Victor Fleming   \n4  Lawrence of Arabia          1962            David Lean   \n\n                     Production companies  Rank  \n0                      RKO Radio Pictures     1  \n1                   Warner Bros. Pictures     2  \n2  Paramount Pictures, Alfran Productions     3  \n3         Selznick International Pictures     4  \n4                        Horizon Pictures     5  ",
      "text/html": "<div>\n<style scoped>\n    .dataframe tbody tr th:only-of-type {\n        vertical-align: middle;\n    }\n\n    .dataframe tbody tr th {\n        vertical-align: top;\n    }\n\n    .dataframe thead th {\n        text-align: right;\n    }\n</style>\n<table border=\"1\" class=\"dataframe\">\n  <thead>\n    <tr style=\"text-align: right;\">\n      <th></th>\n      <th>Film</th>\n      <th>Release year</th>\n      <th>Director</th>\n      <th>Production companies</th>\n      <th>Rank</th>\n    </tr>\n  </thead>\n  <tbody>\n    <tr>\n      <th>0</th>\n      <td>Citizen Kane</td>\n      <td>1941</td>\n      <td>Orson Welles</td>\n      <td>RKO Radio Pictures</td>\n      <td>1</td>\n    </tr>\n    <tr>\n      <th>1</th>\n      <td>Casablanca</td>\n      <td>1942</td>\n      <td>Michael Curtiz</td>\n      <td>Warner Bros. Pictures</td>\n      <td>2</td>\n    </tr>\n    <tr>\n      <th>2</th>\n      <td>The Godfather</td>\n      <td>1972</td>\n      <td>Francis Ford Coppola</td>\n      <td>Paramount Pictures, Alfran Productions</td>\n      <td>3</td>\n    </tr>\n    <tr>\n      <th>3</th>\n      <td>Gone with the Wind</td>\n      <td>1939</td>\n      <td>Victor Fleming</td>\n      <td>Selznick International Pictures</td>\n      <td>4</td>\n    </tr>\n    <tr>\n      <th>4</th>\n      <td>Lawrence of Arabia</td>\n      <td>1962</td>\n      <td>David Lean</td>\n      <td>Horizon Pictures</td>\n      <td>5</td>\n    </tr>\n  </tbody>\n</table>\n</div>"
     },
     "execution_count": 83,
     "metadata": {},
     "output_type": "execute_result"
    }
   ],
   "source": [
    "top_filmes = dados_html[1]\n",
    "top_filmes.head()"
   ],
   "metadata": {
    "collapsed": false,
    "ExecuteTime": {
     "end_time": "2024-01-05T14:07:44.448836Z",
     "start_time": "2024-01-05T14:07:44.427604Z"
    }
   },
   "id": "11f6cbb2aef5d775"
  },
  {
   "cell_type": "markdown",
   "source": [
    "### Salvar em formato HTML"
   ],
   "metadata": {
    "collapsed": false
   },
   "id": "c1857b86d2b12cd8"
  },
  {
   "cell_type": "code",
   "execution_count": 84,
   "outputs": [],
   "source": [
    "# top_filmes.to_html('dados/top_filmes.html', index=False)"
   ],
   "metadata": {
    "collapsed": false,
    "ExecuteTime": {
     "end_time": "2024-01-05T14:07:44.449699Z",
     "start_time": "2024-01-05T14:07:44.429728Z"
    }
   },
   "id": "e91fafbacd786c61"
  },
  {
   "cell_type": "markdown",
   "source": [
    "### Manipulando arquivos XML"
   ],
   "metadata": {
    "collapsed": false
   },
   "id": "6d758f11f05a5b11"
  },
  {
   "cell_type": "code",
   "execution_count": 85,
   "outputs": [
    {
     "data": {
      "text/plain": "   index                                        Poster_Link  \\\n0      0  https://m.media-amazon.com/images/M/MV5BMDFkYT...   \n1      1  https://m.media-amazon.com/images/M/MV5BM2MyNj...   \n2      2  https://m.media-amazon.com/images/M/MV5BMTMxNT...   \n3      3  https://m.media-amazon.com/images/M/MV5BMWMwMG...   \n4      4  https://m.media-amazon.com/images/M/MV5BMWU4N2...   \n\n               Series_Title Released_Year Certificate  Runtime  \\\n0  The Shawshank Redemption          1994           A  142 min   \n1             The Godfather          1972           A  175 min   \n2           The Dark Knight          2008          UA  152 min   \n3    The Godfather: Part II          1974           A  202 min   \n4              12 Angry Men          1957           U   96 min   \n\n                  Genre  IMDB_Rating  \\\n0                 Drama          9.3   \n1          Crime, Drama          9.2   \n2  Action, Crime, Drama          9.0   \n3          Crime, Drama          9.0   \n4          Crime, Drama          9.0   \n\n                                            Overview  Meta_score  \\\n0  Two imprisoned men bond over a number of years...        80.0   \n1  An organized crime dynasty's aging patriarch t...       100.0   \n2  When the menace known as the Joker wreaks havo...        84.0   \n3  The early life and career of Vito Corleone in ...        90.0   \n4  A jury holdout attempts to prevent a miscarria...        96.0   \n\n               Director           Star1           Star2          Star3  \\\n0        Frank Darabont     Tim Robbins  Morgan Freeman     Bob Gunton   \n1  Francis Ford Coppola   Marlon Brando       Al Pacino     James Caan   \n2     Christopher Nolan  Christian Bale    Heath Ledger  Aaron Eckhart   \n3  Francis Ford Coppola       Al Pacino  Robert De Niro  Robert Duvall   \n4          Sidney Lumet     Henry Fonda     Lee J. Cobb  Martin Balsam   \n\n            Star4  No_of_Votes        Gross  \n0  William Sadler      2343110   28,341,469  \n1    Diane Keaton      1620367  134,966,411  \n2   Michael Caine      2303232  534,858,444  \n3    Diane Keaton      1129952   57,300,000  \n4    John Fiedler       689845    4,360,000  ",
      "text/html": "<div>\n<style scoped>\n    .dataframe tbody tr th:only-of-type {\n        vertical-align: middle;\n    }\n\n    .dataframe tbody tr th {\n        vertical-align: top;\n    }\n\n    .dataframe thead th {\n        text-align: right;\n    }\n</style>\n<table border=\"1\" class=\"dataframe\">\n  <thead>\n    <tr style=\"text-align: right;\">\n      <th></th>\n      <th>index</th>\n      <th>Poster_Link</th>\n      <th>Series_Title</th>\n      <th>Released_Year</th>\n      <th>Certificate</th>\n      <th>Runtime</th>\n      <th>Genre</th>\n      <th>IMDB_Rating</th>\n      <th>Overview</th>\n      <th>Meta_score</th>\n      <th>Director</th>\n      <th>Star1</th>\n      <th>Star2</th>\n      <th>Star3</th>\n      <th>Star4</th>\n      <th>No_of_Votes</th>\n      <th>Gross</th>\n    </tr>\n  </thead>\n  <tbody>\n    <tr>\n      <th>0</th>\n      <td>0</td>\n      <td>https://m.media-amazon.com/images/M/MV5BMDFkYT...</td>\n      <td>The Shawshank Redemption</td>\n      <td>1994</td>\n      <td>A</td>\n      <td>142 min</td>\n      <td>Drama</td>\n      <td>9.3</td>\n      <td>Two imprisoned men bond over a number of years...</td>\n      <td>80.0</td>\n      <td>Frank Darabont</td>\n      <td>Tim Robbins</td>\n      <td>Morgan Freeman</td>\n      <td>Bob Gunton</td>\n      <td>William Sadler</td>\n      <td>2343110</td>\n      <td>28,341,469</td>\n    </tr>\n    <tr>\n      <th>1</th>\n      <td>1</td>\n      <td>https://m.media-amazon.com/images/M/MV5BM2MyNj...</td>\n      <td>The Godfather</td>\n      <td>1972</td>\n      <td>A</td>\n      <td>175 min</td>\n      <td>Crime, Drama</td>\n      <td>9.2</td>\n      <td>An organized crime dynasty's aging patriarch t...</td>\n      <td>100.0</td>\n      <td>Francis Ford Coppola</td>\n      <td>Marlon Brando</td>\n      <td>Al Pacino</td>\n      <td>James Caan</td>\n      <td>Diane Keaton</td>\n      <td>1620367</td>\n      <td>134,966,411</td>\n    </tr>\n    <tr>\n      <th>2</th>\n      <td>2</td>\n      <td>https://m.media-amazon.com/images/M/MV5BMTMxNT...</td>\n      <td>The Dark Knight</td>\n      <td>2008</td>\n      <td>UA</td>\n      <td>152 min</td>\n      <td>Action, Crime, Drama</td>\n      <td>9.0</td>\n      <td>When the menace known as the Joker wreaks havo...</td>\n      <td>84.0</td>\n      <td>Christopher Nolan</td>\n      <td>Christian Bale</td>\n      <td>Heath Ledger</td>\n      <td>Aaron Eckhart</td>\n      <td>Michael Caine</td>\n      <td>2303232</td>\n      <td>534,858,444</td>\n    </tr>\n    <tr>\n      <th>3</th>\n      <td>3</td>\n      <td>https://m.media-amazon.com/images/M/MV5BMWMwMG...</td>\n      <td>The Godfather: Part II</td>\n      <td>1974</td>\n      <td>A</td>\n      <td>202 min</td>\n      <td>Crime, Drama</td>\n      <td>9.0</td>\n      <td>The early life and career of Vito Corleone in ...</td>\n      <td>90.0</td>\n      <td>Francis Ford Coppola</td>\n      <td>Al Pacino</td>\n      <td>Robert De Niro</td>\n      <td>Robert Duvall</td>\n      <td>Diane Keaton</td>\n      <td>1129952</td>\n      <td>57,300,000</td>\n    </tr>\n    <tr>\n      <th>4</th>\n      <td>4</td>\n      <td>https://m.media-amazon.com/images/M/MV5BMWU4N2...</td>\n      <td>12 Angry Men</td>\n      <td>1957</td>\n      <td>U</td>\n      <td>96 min</td>\n      <td>Crime, Drama</td>\n      <td>9.0</td>\n      <td>A jury holdout attempts to prevent a miscarria...</td>\n      <td>96.0</td>\n      <td>Sidney Lumet</td>\n      <td>Henry Fonda</td>\n      <td>Lee J. Cobb</td>\n      <td>Martin Balsam</td>\n      <td>John Fiedler</td>\n      <td>689845</td>\n      <td>4,360,000</td>\n    </tr>\n  </tbody>\n</table>\n</div>"
     },
     "execution_count": 85,
     "metadata": {},
     "output_type": "execute_result"
    }
   ],
   "source": [
    "url_xml = 'https://raw.githubusercontent.com/alura-cursos/Pandas/main/imdb_top_1000.xml'\n",
    "dados_xml = pd.read_xml(url_xml)\n",
    "dados_xml.head()"
   ],
   "metadata": {
    "collapsed": false,
    "ExecuteTime": {
     "end_time": "2024-01-05T14:07:44.795956Z",
     "start_time": "2024-01-05T14:07:44.432237Z"
    }
   },
   "id": "82b2c46e1375de7f"
  },
  {
   "cell_type": "code",
   "execution_count": 86,
   "outputs": [],
   "source": [
    "# dados_xml.to_xml('dados/imdb_top_1000.xml')"
   ],
   "metadata": {
    "collapsed": false,
    "ExecuteTime": {
     "end_time": "2024-01-05T14:07:44.798479Z",
     "start_time": "2024-01-05T14:07:44.796108Z"
    }
   },
   "id": "1161613738c66545"
  },
  {
   "cell_type": "markdown",
   "source": [
    "## SQL\n",
    "### Manipulação de dados em um banco SQLite"
   ],
   "metadata": {
    "collapsed": false
   },
   "id": "734b03b45c45d5f1"
  },
  {
   "cell_type": "code",
   "execution_count": 87,
   "outputs": [],
   "source": [
    "import sqlalchemy, sqlite3\n",
    "from sqlalchemy import create_engine, MetaData, Table, select, inspect"
   ],
   "metadata": {
    "collapsed": false,
    "ExecuteTime": {
     "end_time": "2024-01-05T14:07:44.800737Z",
     "start_time": "2024-01-05T14:07:44.798432Z"
    }
   },
   "id": "d8af2a9d9835cc38"
  },
  {
   "cell_type": "code",
   "execution_count": 88,
   "outputs": [],
   "source": [
    "engine = create_engine('sqlite:///:memory:')"
   ],
   "metadata": {
    "collapsed": false,
    "ExecuteTime": {
     "end_time": "2024-01-05T14:07:44.802605Z",
     "start_time": "2024-01-05T14:07:44.800841Z"
    }
   },
   "id": "c7e80c8fa7183e0c"
  },
  {
   "cell_type": "code",
   "execution_count": 89,
   "outputs": [
    {
     "data": {
      "text/plain": "   ID_Cliente  Idade Grau_escolaridade   Estado_civil  Tamanho_familia  \\\n0     5008804     32   Ensino superior  União-estável                2   \n1     5008805     32   Ensino superior  União-estável                2   \n2     5008806     58      Ensino médio         Casado                2   \n3     5008808     52      Ensino médio       Solteiro                1   \n4     5008809     52      Ensino médio       Solteiro                1   \n\n    Categoria_de_renda   Ocupacao  Anos_empregado  Rendimento_anual  \\\n0            Empregado      Outro              12          427500.0   \n1            Empregado      Outro              12          427500.0   \n2            Empregado  Segurança               3          112500.0   \n3  Associado comercial     Vendas               8          270000.0   \n4  Associado comercial     Vendas               8          270000.0   \n\n   Tem_carro                   Moradia  \n0          1       Apartamento alugado  \n1          1       Apartamento alugado  \n2          1  Casa/apartamento próprio  \n3          0  Casa/apartamento próprio  \n4          0  Casa/apartamento próprio  ",
      "text/html": "<div>\n<style scoped>\n    .dataframe tbody tr th:only-of-type {\n        vertical-align: middle;\n    }\n\n    .dataframe tbody tr th {\n        vertical-align: top;\n    }\n\n    .dataframe thead th {\n        text-align: right;\n    }\n</style>\n<table border=\"1\" class=\"dataframe\">\n  <thead>\n    <tr style=\"text-align: right;\">\n      <th></th>\n      <th>ID_Cliente</th>\n      <th>Idade</th>\n      <th>Grau_escolaridade</th>\n      <th>Estado_civil</th>\n      <th>Tamanho_familia</th>\n      <th>Categoria_de_renda</th>\n      <th>Ocupacao</th>\n      <th>Anos_empregado</th>\n      <th>Rendimento_anual</th>\n      <th>Tem_carro</th>\n      <th>Moradia</th>\n    </tr>\n  </thead>\n  <tbody>\n    <tr>\n      <th>0</th>\n      <td>5008804</td>\n      <td>32</td>\n      <td>Ensino superior</td>\n      <td>União-estável</td>\n      <td>2</td>\n      <td>Empregado</td>\n      <td>Outro</td>\n      <td>12</td>\n      <td>427500.0</td>\n      <td>1</td>\n      <td>Apartamento alugado</td>\n    </tr>\n    <tr>\n      <th>1</th>\n      <td>5008805</td>\n      <td>32</td>\n      <td>Ensino superior</td>\n      <td>União-estável</td>\n      <td>2</td>\n      <td>Empregado</td>\n      <td>Outro</td>\n      <td>12</td>\n      <td>427500.0</td>\n      <td>1</td>\n      <td>Apartamento alugado</td>\n    </tr>\n    <tr>\n      <th>2</th>\n      <td>5008806</td>\n      <td>58</td>\n      <td>Ensino médio</td>\n      <td>Casado</td>\n      <td>2</td>\n      <td>Empregado</td>\n      <td>Segurança</td>\n      <td>3</td>\n      <td>112500.0</td>\n      <td>1</td>\n      <td>Casa/apartamento próprio</td>\n    </tr>\n    <tr>\n      <th>3</th>\n      <td>5008808</td>\n      <td>52</td>\n      <td>Ensino médio</td>\n      <td>Solteiro</td>\n      <td>1</td>\n      <td>Associado comercial</td>\n      <td>Vendas</td>\n      <td>8</td>\n      <td>270000.0</td>\n      <td>0</td>\n      <td>Casa/apartamento próprio</td>\n    </tr>\n    <tr>\n      <th>4</th>\n      <td>5008809</td>\n      <td>52</td>\n      <td>Ensino médio</td>\n      <td>Solteiro</td>\n      <td>1</td>\n      <td>Associado comercial</td>\n      <td>Vendas</td>\n      <td>8</td>\n      <td>270000.0</td>\n      <td>0</td>\n      <td>Casa/apartamento próprio</td>\n    </tr>\n  </tbody>\n</table>\n</div>"
     },
     "execution_count": 89,
     "metadata": {},
     "output_type": "execute_result"
    }
   ],
   "source": [
    "url_sql = 'https://raw.githubusercontent.com/alura-cursos/Pandas/main/clientes_banco.csv'\n",
    "dados_sql = pd.read_csv(url_sql)\n",
    "dados_sql.head()"
   ],
   "metadata": {
    "collapsed": false,
    "ExecuteTime": {
     "end_time": "2024-01-05T14:07:46.002091Z",
     "start_time": "2024-01-05T14:07:44.802759Z"
    }
   },
   "id": "e5d3ad8522c28fa3"
  },
  {
   "cell_type": "code",
   "execution_count": 90,
   "outputs": [
    {
     "data": {
      "text/plain": "438463"
     },
     "execution_count": 90,
     "metadata": {},
     "output_type": "execute_result"
    }
   ],
   "source": [
    "dados_sql.to_sql('clientes', con=engine, index=False)"
   ],
   "metadata": {
    "collapsed": false,
    "ExecuteTime": {
     "end_time": "2024-01-05T14:07:47.815097Z",
     "start_time": "2024-01-05T14:07:46.001392Z"
    }
   },
   "id": "2a37caaa625bee85"
  },
  {
   "cell_type": "code",
   "execution_count": 91,
   "outputs": [
    {
     "data": {
      "text/plain": "['clientes']"
     },
     "execution_count": 91,
     "metadata": {},
     "output_type": "execute_result"
    }
   ],
   "source": [
    "inspector = inspect(engine)\n",
    "inspector.get_table_names()"
   ],
   "metadata": {
    "collapsed": false,
    "ExecuteTime": {
     "end_time": "2024-01-05T14:07:47.818446Z",
     "start_time": "2024-01-05T14:07:47.815331Z"
    }
   },
   "id": "1fc99d568584c209"
  },
  {
   "cell_type": "code",
   "execution_count": 92,
   "outputs": [
    {
     "data": {
      "text/plain": "        ID_Cliente  Idade Grau_escolaridade   Estado_civil  Tamanho_familia  \\\n0          5008804     32   Ensino superior  União-estável                2   \n1          5008805     32   Ensino superior  União-estável                2   \n2          5008806     58      Ensino médio         Casado                2   \n3          5008815     46   Ensino superior         Casado                2   \n4          5112956     46   Ensino superior         Casado                2   \n...            ...    ...               ...            ...              ...   \n226054     6837905     43      Ensino médio         Casado                3   \n226055     6837906     43      Ensino médio         Casado                3   \n226056     6839936     34      Ensino médio         Casado                3   \n226057     6840222     43      Ensino médio       Solteiro                1   \n226058     6842885     51      Ensino médio         Casado                2   \n\n       Categoria_de_renda          Ocupacao  Anos_empregado  Rendimento_anual  \\\n0               Empregado             Outro              12          427500.0   \n1               Empregado             Outro              12          427500.0   \n2               Empregado         Segurança               3          112500.0   \n3               Empregado     Contabilidade               2          270000.0   \n4               Empregado     Contabilidade               2          270000.0   \n...                   ...               ...             ...               ...   \n226054          Empregado             Outro               7          355050.0   \n226055          Empregado             Outro               7          355050.0   \n226056          Empregado  Construção Civil               5          135000.0   \n226057          Empregado  Construção Civil               8          103500.0   \n226058          Empregado            Vendas               3          121500.0   \n\n        Tem_carro                   Moradia  \n0               1       Apartamento alugado  \n1               1       Apartamento alugado  \n2               1  Casa/apartamento próprio  \n3               1  Casa/apartamento próprio  \n4               1  Casa/apartamento próprio  \n...           ...                       ...  \n226054          1  Casa/apartamento próprio  \n226055          1  Casa/apartamento próprio  \n226056          1  Casa/apartamento próprio  \n226057          0  Casa/apartamento próprio  \n226058          0  Casa/apartamento próprio  \n\n[226059 rows x 11 columns]",
      "text/html": "<div>\n<style scoped>\n    .dataframe tbody tr th:only-of-type {\n        vertical-align: middle;\n    }\n\n    .dataframe tbody tr th {\n        vertical-align: top;\n    }\n\n    .dataframe thead th {\n        text-align: right;\n    }\n</style>\n<table border=\"1\" class=\"dataframe\">\n  <thead>\n    <tr style=\"text-align: right;\">\n      <th></th>\n      <th>ID_Cliente</th>\n      <th>Idade</th>\n      <th>Grau_escolaridade</th>\n      <th>Estado_civil</th>\n      <th>Tamanho_familia</th>\n      <th>Categoria_de_renda</th>\n      <th>Ocupacao</th>\n      <th>Anos_empregado</th>\n      <th>Rendimento_anual</th>\n      <th>Tem_carro</th>\n      <th>Moradia</th>\n    </tr>\n  </thead>\n  <tbody>\n    <tr>\n      <th>0</th>\n      <td>5008804</td>\n      <td>32</td>\n      <td>Ensino superior</td>\n      <td>União-estável</td>\n      <td>2</td>\n      <td>Empregado</td>\n      <td>Outro</td>\n      <td>12</td>\n      <td>427500.0</td>\n      <td>1</td>\n      <td>Apartamento alugado</td>\n    </tr>\n    <tr>\n      <th>1</th>\n      <td>5008805</td>\n      <td>32</td>\n      <td>Ensino superior</td>\n      <td>União-estável</td>\n      <td>2</td>\n      <td>Empregado</td>\n      <td>Outro</td>\n      <td>12</td>\n      <td>427500.0</td>\n      <td>1</td>\n      <td>Apartamento alugado</td>\n    </tr>\n    <tr>\n      <th>2</th>\n      <td>5008806</td>\n      <td>58</td>\n      <td>Ensino médio</td>\n      <td>Casado</td>\n      <td>2</td>\n      <td>Empregado</td>\n      <td>Segurança</td>\n      <td>3</td>\n      <td>112500.0</td>\n      <td>1</td>\n      <td>Casa/apartamento próprio</td>\n    </tr>\n    <tr>\n      <th>3</th>\n      <td>5008815</td>\n      <td>46</td>\n      <td>Ensino superior</td>\n      <td>Casado</td>\n      <td>2</td>\n      <td>Empregado</td>\n      <td>Contabilidade</td>\n      <td>2</td>\n      <td>270000.0</td>\n      <td>1</td>\n      <td>Casa/apartamento próprio</td>\n    </tr>\n    <tr>\n      <th>4</th>\n      <td>5112956</td>\n      <td>46</td>\n      <td>Ensino superior</td>\n      <td>Casado</td>\n      <td>2</td>\n      <td>Empregado</td>\n      <td>Contabilidade</td>\n      <td>2</td>\n      <td>270000.0</td>\n      <td>1</td>\n      <td>Casa/apartamento próprio</td>\n    </tr>\n    <tr>\n      <th>...</th>\n      <td>...</td>\n      <td>...</td>\n      <td>...</td>\n      <td>...</td>\n      <td>...</td>\n      <td>...</td>\n      <td>...</td>\n      <td>...</td>\n      <td>...</td>\n      <td>...</td>\n      <td>...</td>\n    </tr>\n    <tr>\n      <th>226054</th>\n      <td>6837905</td>\n      <td>43</td>\n      <td>Ensino médio</td>\n      <td>Casado</td>\n      <td>3</td>\n      <td>Empregado</td>\n      <td>Outro</td>\n      <td>7</td>\n      <td>355050.0</td>\n      <td>1</td>\n      <td>Casa/apartamento próprio</td>\n    </tr>\n    <tr>\n      <th>226055</th>\n      <td>6837906</td>\n      <td>43</td>\n      <td>Ensino médio</td>\n      <td>Casado</td>\n      <td>3</td>\n      <td>Empregado</td>\n      <td>Outro</td>\n      <td>7</td>\n      <td>355050.0</td>\n      <td>1</td>\n      <td>Casa/apartamento próprio</td>\n    </tr>\n    <tr>\n      <th>226056</th>\n      <td>6839936</td>\n      <td>34</td>\n      <td>Ensino médio</td>\n      <td>Casado</td>\n      <td>3</td>\n      <td>Empregado</td>\n      <td>Construção Civil</td>\n      <td>5</td>\n      <td>135000.0</td>\n      <td>1</td>\n      <td>Casa/apartamento próprio</td>\n    </tr>\n    <tr>\n      <th>226057</th>\n      <td>6840222</td>\n      <td>43</td>\n      <td>Ensino médio</td>\n      <td>Solteiro</td>\n      <td>1</td>\n      <td>Empregado</td>\n      <td>Construção Civil</td>\n      <td>8</td>\n      <td>103500.0</td>\n      <td>0</td>\n      <td>Casa/apartamento próprio</td>\n    </tr>\n    <tr>\n      <th>226058</th>\n      <td>6842885</td>\n      <td>51</td>\n      <td>Ensino médio</td>\n      <td>Casado</td>\n      <td>2</td>\n      <td>Empregado</td>\n      <td>Vendas</td>\n      <td>3</td>\n      <td>121500.0</td>\n      <td>0</td>\n      <td>Casa/apartamento próprio</td>\n    </tr>\n  </tbody>\n</table>\n<p>226059 rows × 11 columns</p>\n</div>"
     },
     "execution_count": 92,
     "metadata": {},
     "output_type": "execute_result"
    }
   ],
   "source": [
    "query = 'SELECT * FROM clientes WHERE Categoria_de_renda = \"Empregado\"'\n",
    "empregados = pd.read_sql(query, con=engine) # read_sql : leitura de uma consulta\n",
    "empregados"
   ],
   "metadata": {
    "collapsed": false,
    "ExecuteTime": {
     "end_time": "2024-01-05T14:07:48.374747Z",
     "start_time": "2024-01-05T14:07:47.818142Z"
    }
   },
   "id": "ffaa75a09d6ad600"
  },
  {
   "cell_type": "code",
   "execution_count": 93,
   "outputs": [
    {
     "data": {
      "text/plain": "226059"
     },
     "execution_count": 93,
     "metadata": {},
     "output_type": "execute_result"
    }
   ],
   "source": [
    "empregados.to_sql('empregados', con=engine, index=False)"
   ],
   "metadata": {
    "collapsed": false,
    "ExecuteTime": {
     "end_time": "2024-01-05T14:07:49.277406Z",
     "start_time": "2024-01-05T14:07:48.392972Z"
    }
   },
   "id": "d9a20a083c157208"
  },
  {
   "cell_type": "code",
   "execution_count": 94,
   "outputs": [
    {
     "data": {
      "text/plain": "        ID_Cliente  Idade Grau_escolaridade   Estado_civil  Tamanho_familia  \\\n0          5008804     32   Ensino superior  União-estável                2   \n1          5008805     32   Ensino superior  União-estável                2   \n2          5008806     58      Ensino médio         Casado                2   \n3          5008815     46   Ensino superior         Casado                2   \n4          5112956     46   Ensino superior         Casado                2   \n...            ...    ...               ...            ...              ...   \n226054     6837905     43      Ensino médio         Casado                3   \n226055     6837906     43      Ensino médio         Casado                3   \n226056     6839936     34      Ensino médio         Casado                3   \n226057     6840222     43      Ensino médio       Solteiro                1   \n226058     6842885     51      Ensino médio         Casado                2   \n\n       Categoria_de_renda          Ocupacao  Anos_empregado  Rendimento_anual  \\\n0               Empregado             Outro              12          427500.0   \n1               Empregado             Outro              12          427500.0   \n2               Empregado         Segurança               3          112500.0   \n3               Empregado     Contabilidade               2          270000.0   \n4               Empregado     Contabilidade               2          270000.0   \n...                   ...               ...             ...               ...   \n226054          Empregado             Outro               7          355050.0   \n226055          Empregado             Outro               7          355050.0   \n226056          Empregado  Construção Civil               5          135000.0   \n226057          Empregado  Construção Civil               8          103500.0   \n226058          Empregado            Vendas               3          121500.0   \n\n        Tem_carro                   Moradia  \n0               1       Apartamento alugado  \n1               1       Apartamento alugado  \n2               1  Casa/apartamento próprio  \n3               1  Casa/apartamento próprio  \n4               1  Casa/apartamento próprio  \n...           ...                       ...  \n226054          1  Casa/apartamento próprio  \n226055          1  Casa/apartamento próprio  \n226056          1  Casa/apartamento próprio  \n226057          0  Casa/apartamento próprio  \n226058          0  Casa/apartamento próprio  \n\n[226059 rows x 11 columns]",
      "text/html": "<div>\n<style scoped>\n    .dataframe tbody tr th:only-of-type {\n        vertical-align: middle;\n    }\n\n    .dataframe tbody tr th {\n        vertical-align: top;\n    }\n\n    .dataframe thead th {\n        text-align: right;\n    }\n</style>\n<table border=\"1\" class=\"dataframe\">\n  <thead>\n    <tr style=\"text-align: right;\">\n      <th></th>\n      <th>ID_Cliente</th>\n      <th>Idade</th>\n      <th>Grau_escolaridade</th>\n      <th>Estado_civil</th>\n      <th>Tamanho_familia</th>\n      <th>Categoria_de_renda</th>\n      <th>Ocupacao</th>\n      <th>Anos_empregado</th>\n      <th>Rendimento_anual</th>\n      <th>Tem_carro</th>\n      <th>Moradia</th>\n    </tr>\n  </thead>\n  <tbody>\n    <tr>\n      <th>0</th>\n      <td>5008804</td>\n      <td>32</td>\n      <td>Ensino superior</td>\n      <td>União-estável</td>\n      <td>2</td>\n      <td>Empregado</td>\n      <td>Outro</td>\n      <td>12</td>\n      <td>427500.0</td>\n      <td>1</td>\n      <td>Apartamento alugado</td>\n    </tr>\n    <tr>\n      <th>1</th>\n      <td>5008805</td>\n      <td>32</td>\n      <td>Ensino superior</td>\n      <td>União-estável</td>\n      <td>2</td>\n      <td>Empregado</td>\n      <td>Outro</td>\n      <td>12</td>\n      <td>427500.0</td>\n      <td>1</td>\n      <td>Apartamento alugado</td>\n    </tr>\n    <tr>\n      <th>2</th>\n      <td>5008806</td>\n      <td>58</td>\n      <td>Ensino médio</td>\n      <td>Casado</td>\n      <td>2</td>\n      <td>Empregado</td>\n      <td>Segurança</td>\n      <td>3</td>\n      <td>112500.0</td>\n      <td>1</td>\n      <td>Casa/apartamento próprio</td>\n    </tr>\n    <tr>\n      <th>3</th>\n      <td>5008815</td>\n      <td>46</td>\n      <td>Ensino superior</td>\n      <td>Casado</td>\n      <td>2</td>\n      <td>Empregado</td>\n      <td>Contabilidade</td>\n      <td>2</td>\n      <td>270000.0</td>\n      <td>1</td>\n      <td>Casa/apartamento próprio</td>\n    </tr>\n    <tr>\n      <th>4</th>\n      <td>5112956</td>\n      <td>46</td>\n      <td>Ensino superior</td>\n      <td>Casado</td>\n      <td>2</td>\n      <td>Empregado</td>\n      <td>Contabilidade</td>\n      <td>2</td>\n      <td>270000.0</td>\n      <td>1</td>\n      <td>Casa/apartamento próprio</td>\n    </tr>\n    <tr>\n      <th>...</th>\n      <td>...</td>\n      <td>...</td>\n      <td>...</td>\n      <td>...</td>\n      <td>...</td>\n      <td>...</td>\n      <td>...</td>\n      <td>...</td>\n      <td>...</td>\n      <td>...</td>\n      <td>...</td>\n    </tr>\n    <tr>\n      <th>226054</th>\n      <td>6837905</td>\n      <td>43</td>\n      <td>Ensino médio</td>\n      <td>Casado</td>\n      <td>3</td>\n      <td>Empregado</td>\n      <td>Outro</td>\n      <td>7</td>\n      <td>355050.0</td>\n      <td>1</td>\n      <td>Casa/apartamento próprio</td>\n    </tr>\n    <tr>\n      <th>226055</th>\n      <td>6837906</td>\n      <td>43</td>\n      <td>Ensino médio</td>\n      <td>Casado</td>\n      <td>3</td>\n      <td>Empregado</td>\n      <td>Outro</td>\n      <td>7</td>\n      <td>355050.0</td>\n      <td>1</td>\n      <td>Casa/apartamento próprio</td>\n    </tr>\n    <tr>\n      <th>226056</th>\n      <td>6839936</td>\n      <td>34</td>\n      <td>Ensino médio</td>\n      <td>Casado</td>\n      <td>3</td>\n      <td>Empregado</td>\n      <td>Construção Civil</td>\n      <td>5</td>\n      <td>135000.0</td>\n      <td>1</td>\n      <td>Casa/apartamento próprio</td>\n    </tr>\n    <tr>\n      <th>226057</th>\n      <td>6840222</td>\n      <td>43</td>\n      <td>Ensino médio</td>\n      <td>Solteiro</td>\n      <td>1</td>\n      <td>Empregado</td>\n      <td>Construção Civil</td>\n      <td>8</td>\n      <td>103500.0</td>\n      <td>0</td>\n      <td>Casa/apartamento próprio</td>\n    </tr>\n    <tr>\n      <th>226058</th>\n      <td>6842885</td>\n      <td>51</td>\n      <td>Ensino médio</td>\n      <td>Casado</td>\n      <td>2</td>\n      <td>Empregado</td>\n      <td>Vendas</td>\n      <td>3</td>\n      <td>121500.0</td>\n      <td>0</td>\n      <td>Casa/apartamento próprio</td>\n    </tr>\n  </tbody>\n</table>\n<p>226059 rows × 11 columns</p>\n</div>"
     },
     "execution_count": 94,
     "metadata": {},
     "output_type": "execute_result"
    }
   ],
   "source": [
    "pd.read_sql_table('empregados', con=engine) # read_sql_table : leitura de uma tabela"
   ],
   "metadata": {
    "collapsed": false,
    "ExecuteTime": {
     "end_time": "2024-01-05T14:07:49.933320Z",
     "start_time": "2024-01-05T14:07:49.277560Z"
    }
   },
   "id": "c619f204a00ac1c4"
  },
  {
   "cell_type": "code",
   "execution_count": 95,
   "outputs": [
    {
     "data": {
      "text/plain": "        ID_Cliente Grau_escolaridade  Rendimento_anual\n0          5008804   Ensino superior          427500.0\n1          5008805   Ensino superior          427500.0\n2          5008806      Ensino médio          112500.0\n3          5008815   Ensino superior          270000.0\n4          5112956   Ensino superior          270000.0\n...            ...               ...               ...\n226054     6837905      Ensino médio          355050.0\n226055     6837906      Ensino médio          355050.0\n226056     6839936      Ensino médio          135000.0\n226057     6840222      Ensino médio          103500.0\n226058     6842885      Ensino médio          121500.0\n\n[226059 rows x 3 columns]",
      "text/html": "<div>\n<style scoped>\n    .dataframe tbody tr th:only-of-type {\n        vertical-align: middle;\n    }\n\n    .dataframe tbody tr th {\n        vertical-align: top;\n    }\n\n    .dataframe thead th {\n        text-align: right;\n    }\n</style>\n<table border=\"1\" class=\"dataframe\">\n  <thead>\n    <tr style=\"text-align: right;\">\n      <th></th>\n      <th>ID_Cliente</th>\n      <th>Grau_escolaridade</th>\n      <th>Rendimento_anual</th>\n    </tr>\n  </thead>\n  <tbody>\n    <tr>\n      <th>0</th>\n      <td>5008804</td>\n      <td>Ensino superior</td>\n      <td>427500.0</td>\n    </tr>\n    <tr>\n      <th>1</th>\n      <td>5008805</td>\n      <td>Ensino superior</td>\n      <td>427500.0</td>\n    </tr>\n    <tr>\n      <th>2</th>\n      <td>5008806</td>\n      <td>Ensino médio</td>\n      <td>112500.0</td>\n    </tr>\n    <tr>\n      <th>3</th>\n      <td>5008815</td>\n      <td>Ensino superior</td>\n      <td>270000.0</td>\n    </tr>\n    <tr>\n      <th>4</th>\n      <td>5112956</td>\n      <td>Ensino superior</td>\n      <td>270000.0</td>\n    </tr>\n    <tr>\n      <th>...</th>\n      <td>...</td>\n      <td>...</td>\n      <td>...</td>\n    </tr>\n    <tr>\n      <th>226054</th>\n      <td>6837905</td>\n      <td>Ensino médio</td>\n      <td>355050.0</td>\n    </tr>\n    <tr>\n      <th>226055</th>\n      <td>6837906</td>\n      <td>Ensino médio</td>\n      <td>355050.0</td>\n    </tr>\n    <tr>\n      <th>226056</th>\n      <td>6839936</td>\n      <td>Ensino médio</td>\n      <td>135000.0</td>\n    </tr>\n    <tr>\n      <th>226057</th>\n      <td>6840222</td>\n      <td>Ensino médio</td>\n      <td>103500.0</td>\n    </tr>\n    <tr>\n      <th>226058</th>\n      <td>6842885</td>\n      <td>Ensino médio</td>\n      <td>121500.0</td>\n    </tr>\n  </tbody>\n</table>\n<p>226059 rows × 3 columns</p>\n</div>"
     },
     "execution_count": 95,
     "metadata": {},
     "output_type": "execute_result"
    }
   ],
   "source": [
    "pd.read_sql_table('empregados', con=engine, columns=['ID_Cliente', 'Grau_escolaridade', 'Rendimento_anual']) # leitura de colunas específicas da tabela"
   ],
   "metadata": {
    "collapsed": false,
    "ExecuteTime": {
     "end_time": "2024-01-05T14:07:50.241839Z",
     "start_time": "2024-01-05T14:07:49.933261Z"
    }
   },
   "id": "ca5269524c5aab29"
  },
  {
   "cell_type": "code",
   "execution_count": 96,
   "outputs": [
    {
     "data": {
      "text/plain": "        ID_Cliente  Idade Grau_escolaridade   Estado_civil  Tamanho_familia  \\\n0          5008804     32   Ensino superior  União-estável                2   \n1          5008805     32   Ensino superior  União-estável                2   \n2          5008806     58      Ensino médio         Casado                2   \n3          5008808     52      Ensino médio       Solteiro                1   \n4          5008809     52      Ensino médio       Solteiro                1   \n...            ...    ...               ...            ...              ...   \n438458     6840104     62      Ensino médio     Divorciado                1   \n438459     6840222     43      Ensino médio       Solteiro                1   \n438460     6841878     22   Ensino superior       Solteiro                1   \n438461     6842765     59      Ensino médio         Casado                2   \n438462     6842885     51      Ensino médio         Casado                2   \n\n         Categoria_de_renda          Ocupacao  Anos_empregado  \\\n0                 Empregado             Outro              12   \n1                 Empregado             Outro              12   \n2                 Empregado         Segurança               3   \n3       Associado comercial            Vendas               8   \n4       Associado comercial            Vendas               8   \n...                     ...               ...             ...   \n438458          Pensionista             Outro               0   \n438459            Empregado  Construção Civil               8   \n438460  Associado comercial            Vendas               1   \n438461          Pensionista             Outro               0   \n438462            Empregado            Vendas               3   \n\n        Rendimento_anual  Tem_carro                   Moradia  \n0               427500.0          1       Apartamento alugado  \n1               427500.0          1       Apartamento alugado  \n2               112500.0          1  Casa/apartamento próprio  \n3               270000.0          0  Casa/apartamento próprio  \n4               270000.0          0  Casa/apartamento próprio  \n...                  ...        ...                       ...  \n438458          135000.0          0  Casa/apartamento próprio  \n438459          103500.0          0  Casa/apartamento próprio  \n438460           54000.0          0          Mora com os pais  \n438461           72000.0          0  Casa/apartamento próprio  \n438462          121500.0          0  Casa/apartamento próprio  \n\n[438463 rows x 11 columns]",
      "text/html": "<div>\n<style scoped>\n    .dataframe tbody tr th:only-of-type {\n        vertical-align: middle;\n    }\n\n    .dataframe tbody tr th {\n        vertical-align: top;\n    }\n\n    .dataframe thead th {\n        text-align: right;\n    }\n</style>\n<table border=\"1\" class=\"dataframe\">\n  <thead>\n    <tr style=\"text-align: right;\">\n      <th></th>\n      <th>ID_Cliente</th>\n      <th>Idade</th>\n      <th>Grau_escolaridade</th>\n      <th>Estado_civil</th>\n      <th>Tamanho_familia</th>\n      <th>Categoria_de_renda</th>\n      <th>Ocupacao</th>\n      <th>Anos_empregado</th>\n      <th>Rendimento_anual</th>\n      <th>Tem_carro</th>\n      <th>Moradia</th>\n    </tr>\n  </thead>\n  <tbody>\n    <tr>\n      <th>0</th>\n      <td>5008804</td>\n      <td>32</td>\n      <td>Ensino superior</td>\n      <td>União-estável</td>\n      <td>2</td>\n      <td>Empregado</td>\n      <td>Outro</td>\n      <td>12</td>\n      <td>427500.0</td>\n      <td>1</td>\n      <td>Apartamento alugado</td>\n    </tr>\n    <tr>\n      <th>1</th>\n      <td>5008805</td>\n      <td>32</td>\n      <td>Ensino superior</td>\n      <td>União-estável</td>\n      <td>2</td>\n      <td>Empregado</td>\n      <td>Outro</td>\n      <td>12</td>\n      <td>427500.0</td>\n      <td>1</td>\n      <td>Apartamento alugado</td>\n    </tr>\n    <tr>\n      <th>2</th>\n      <td>5008806</td>\n      <td>58</td>\n      <td>Ensino médio</td>\n      <td>Casado</td>\n      <td>2</td>\n      <td>Empregado</td>\n      <td>Segurança</td>\n      <td>3</td>\n      <td>112500.0</td>\n      <td>1</td>\n      <td>Casa/apartamento próprio</td>\n    </tr>\n    <tr>\n      <th>3</th>\n      <td>5008808</td>\n      <td>52</td>\n      <td>Ensino médio</td>\n      <td>Solteiro</td>\n      <td>1</td>\n      <td>Associado comercial</td>\n      <td>Vendas</td>\n      <td>8</td>\n      <td>270000.0</td>\n      <td>0</td>\n      <td>Casa/apartamento próprio</td>\n    </tr>\n    <tr>\n      <th>4</th>\n      <td>5008809</td>\n      <td>52</td>\n      <td>Ensino médio</td>\n      <td>Solteiro</td>\n      <td>1</td>\n      <td>Associado comercial</td>\n      <td>Vendas</td>\n      <td>8</td>\n      <td>270000.0</td>\n      <td>0</td>\n      <td>Casa/apartamento próprio</td>\n    </tr>\n    <tr>\n      <th>...</th>\n      <td>...</td>\n      <td>...</td>\n      <td>...</td>\n      <td>...</td>\n      <td>...</td>\n      <td>...</td>\n      <td>...</td>\n      <td>...</td>\n      <td>...</td>\n      <td>...</td>\n      <td>...</td>\n    </tr>\n    <tr>\n      <th>438458</th>\n      <td>6840104</td>\n      <td>62</td>\n      <td>Ensino médio</td>\n      <td>Divorciado</td>\n      <td>1</td>\n      <td>Pensionista</td>\n      <td>Outro</td>\n      <td>0</td>\n      <td>135000.0</td>\n      <td>0</td>\n      <td>Casa/apartamento próprio</td>\n    </tr>\n    <tr>\n      <th>438459</th>\n      <td>6840222</td>\n      <td>43</td>\n      <td>Ensino médio</td>\n      <td>Solteiro</td>\n      <td>1</td>\n      <td>Empregado</td>\n      <td>Construção Civil</td>\n      <td>8</td>\n      <td>103500.0</td>\n      <td>0</td>\n      <td>Casa/apartamento próprio</td>\n    </tr>\n    <tr>\n      <th>438460</th>\n      <td>6841878</td>\n      <td>22</td>\n      <td>Ensino superior</td>\n      <td>Solteiro</td>\n      <td>1</td>\n      <td>Associado comercial</td>\n      <td>Vendas</td>\n      <td>1</td>\n      <td>54000.0</td>\n      <td>0</td>\n      <td>Mora com os pais</td>\n    </tr>\n    <tr>\n      <th>438461</th>\n      <td>6842765</td>\n      <td>59</td>\n      <td>Ensino médio</td>\n      <td>Casado</td>\n      <td>2</td>\n      <td>Pensionista</td>\n      <td>Outro</td>\n      <td>0</td>\n      <td>72000.0</td>\n      <td>0</td>\n      <td>Casa/apartamento próprio</td>\n    </tr>\n    <tr>\n      <th>438462</th>\n      <td>6842885</td>\n      <td>51</td>\n      <td>Ensino médio</td>\n      <td>Casado</td>\n      <td>2</td>\n      <td>Empregado</td>\n      <td>Vendas</td>\n      <td>3</td>\n      <td>121500.0</td>\n      <td>0</td>\n      <td>Casa/apartamento próprio</td>\n    </tr>\n  </tbody>\n</table>\n<p>438463 rows × 11 columns</p>\n</div>"
     },
     "execution_count": 96,
     "metadata": {},
     "output_type": "execute_result"
    }
   ],
   "source": [
    "query = 'SELECT * FROM clientes'\n",
    "pd.read_sql(query, con=engine)"
   ],
   "metadata": {
    "collapsed": false,
    "ExecuteTime": {
     "end_time": "2024-01-05T14:07:51.493087Z",
     "start_time": "2024-01-05T14:07:50.241714Z"
    }
   },
   "id": "aa3d7397157362c9"
  },
  {
   "cell_type": "code",
   "execution_count": 103,
   "outputs": [
    {
     "data": {
      "text/plain": "   ID_Cliente  Idade Grau_escolaridade   Estado_civil  Tamanho_familia  \\\n0     5008804     32   Ensino superior  União-estável                2   \n\n  Categoria_de_renda Ocupacao  Anos_empregado  Rendimento_anual  Tem_carro  \\\n0          Empregado    Outro              12          427500.0          1   \n\n               Moradia  \n0  Apartamento alugado  ",
      "text/html": "<div>\n<style scoped>\n    .dataframe tbody tr th:only-of-type {\n        vertical-align: middle;\n    }\n\n    .dataframe tbody tr th {\n        vertical-align: top;\n    }\n\n    .dataframe thead th {\n        text-align: right;\n    }\n</style>\n<table border=\"1\" class=\"dataframe\">\n  <thead>\n    <tr style=\"text-align: right;\">\n      <th></th>\n      <th>ID_Cliente</th>\n      <th>Idade</th>\n      <th>Grau_escolaridade</th>\n      <th>Estado_civil</th>\n      <th>Tamanho_familia</th>\n      <th>Categoria_de_renda</th>\n      <th>Ocupacao</th>\n      <th>Anos_empregado</th>\n      <th>Rendimento_anual</th>\n      <th>Tem_carro</th>\n      <th>Moradia</th>\n    </tr>\n  </thead>\n  <tbody>\n    <tr>\n      <th>0</th>\n      <td>5008804</td>\n      <td>32</td>\n      <td>Ensino superior</td>\n      <td>União-estável</td>\n      <td>2</td>\n      <td>Empregado</td>\n      <td>Outro</td>\n      <td>12</td>\n      <td>427500.0</td>\n      <td>1</td>\n      <td>Apartamento alugado</td>\n    </tr>\n  </tbody>\n</table>\n</div>"
     },
     "execution_count": 103,
     "metadata": {},
     "output_type": "execute_result"
    }
   ],
   "source": [
    "query = 'SELECT * FROM clientes WHERE ID_Cliente = \"5008804\"'\n",
    "resposta = pd.read_sql(query, con=engine)\n",
    "resposta"
   ],
   "metadata": {
    "collapsed": false,
    "ExecuteTime": {
     "end_time": "2024-01-05T14:11:44.012703Z",
     "start_time": "2024-01-05T14:11:43.990696Z"
    }
   },
   "id": "9b4143b9651a882b"
  },
  {
   "cell_type": "code",
   "execution_count": 104,
   "outputs": [
    {
     "data": {
      "text/plain": "False"
     },
     "execution_count": 104,
     "metadata": {},
     "output_type": "execute_result"
    }
   ],
   "source": [
    "resposta.empty"
   ],
   "metadata": {
    "collapsed": false,
    "ExecuteTime": {
     "end_time": "2024-01-05T14:11:57.234960Z",
     "start_time": "2024-01-05T14:11:57.222795Z"
    }
   },
   "id": "bf986b0ba9024dd"
  },
  {
   "cell_type": "code",
   "execution_count": 105,
   "outputs": [],
   "source": [
    "# ESTE CÓDIGO NÃO FUNCIONA EM VERSÕES ACIMA DA 2.0 DO SQLALCHEMY\n",
    "SQLALCHEMY_SILENCE_UBER_WARNING=1 # para suprimir o warning\n",
    "\n",
    "query = 'DELETE FROM clientes WHERE ID_Cliente = 5008804' \n",
    "with engine.connect() as conn: \n",
    "    conn.execute(query)"
   ],
   "metadata": {
    "collapsed": false,
    "ExecuteTime": {
     "end_time": "2024-01-05T14:12:21.335338Z",
     "start_time": "2024-01-05T14:12:21.312113Z"
    }
   },
   "id": "dc15636aee197a34"
  },
  {
   "cell_type": "code",
   "execution_count": 109,
   "outputs": [
    {
     "data": {
      "text/plain": "True"
     },
     "execution_count": 109,
     "metadata": {},
     "output_type": "execute_result"
    }
   ],
   "source": [
    "query = 'SELECT * FROM clientes WHERE ID_Cliente = \"5008804\"'\n",
    "resposta = pd.read_sql(query, con=engine)\n",
    "# resposta\n",
    "resposta.empty"
   ],
   "metadata": {
    "collapsed": false,
    "ExecuteTime": {
     "end_time": "2024-01-05T14:14:10.622486Z",
     "start_time": "2024-01-05T14:14:10.598497Z"
    }
   },
   "id": "91a86b40fdd9299b"
  },
  {
   "cell_type": "code",
   "execution_count": 111,
   "outputs": [
    {
     "data": {
      "text/plain": "   ID_Cliente  Idade Grau_escolaridade Estado_civil  Tamanho_familia  \\\n0     5008806     58      Ensino médio       Casado                2   \n\n  Categoria_de_renda   Ocupacao  Anos_empregado  Rendimento_anual  Tem_carro  \\\n0          Empregado  Segurança               3          112500.0          1   \n\n                    Moradia  \n0  Casa/apartamento próprio  ",
      "text/html": "<div>\n<style scoped>\n    .dataframe tbody tr th:only-of-type {\n        vertical-align: middle;\n    }\n\n    .dataframe tbody tr th {\n        vertical-align: top;\n    }\n\n    .dataframe thead th {\n        text-align: right;\n    }\n</style>\n<table border=\"1\" class=\"dataframe\">\n  <thead>\n    <tr style=\"text-align: right;\">\n      <th></th>\n      <th>ID_Cliente</th>\n      <th>Idade</th>\n      <th>Grau_escolaridade</th>\n      <th>Estado_civil</th>\n      <th>Tamanho_familia</th>\n      <th>Categoria_de_renda</th>\n      <th>Ocupacao</th>\n      <th>Anos_empregado</th>\n      <th>Rendimento_anual</th>\n      <th>Tem_carro</th>\n      <th>Moradia</th>\n    </tr>\n  </thead>\n  <tbody>\n    <tr>\n      <th>0</th>\n      <td>5008806</td>\n      <td>58</td>\n      <td>Ensino médio</td>\n      <td>Casado</td>\n      <td>2</td>\n      <td>Empregado</td>\n      <td>Segurança</td>\n      <td>3</td>\n      <td>112500.0</td>\n      <td>1</td>\n      <td>Casa/apartamento próprio</td>\n    </tr>\n  </tbody>\n</table>\n</div>"
     },
     "execution_count": 111,
     "metadata": {},
     "output_type": "execute_result"
    }
   ],
   "source": [
    "query = 'SELECT * FROM clientes WHERE ID_Cliente = \"5008806\"'\n",
    "pd.read_sql(query, con=engine)"
   ],
   "metadata": {
    "collapsed": false,
    "ExecuteTime": {
     "end_time": "2024-01-05T14:16:28.409896Z",
     "start_time": "2024-01-05T14:16:28.385025Z"
    }
   },
   "id": "73ad237c2dbc4a36"
  },
  {
   "cell_type": "code",
   "execution_count": 112,
   "outputs": [
    {
     "data": {
      "text/plain": "   ID_Cliente  Idade Grau_escolaridade Estado_civil  Tamanho_familia  \\\n0     5008806     58   Ensino superior       Casado                2   \n\n  Categoria_de_renda   Ocupacao  Anos_empregado  Rendimento_anual  Tem_carro  \\\n0          Empregado  Segurança               3          112500.0          1   \n\n                    Moradia  \n0  Casa/apartamento próprio  ",
      "text/html": "<div>\n<style scoped>\n    .dataframe tbody tr th:only-of-type {\n        vertical-align: middle;\n    }\n\n    .dataframe tbody tr th {\n        vertical-align: top;\n    }\n\n    .dataframe thead th {\n        text-align: right;\n    }\n</style>\n<table border=\"1\" class=\"dataframe\">\n  <thead>\n    <tr style=\"text-align: right;\">\n      <th></th>\n      <th>ID_Cliente</th>\n      <th>Idade</th>\n      <th>Grau_escolaridade</th>\n      <th>Estado_civil</th>\n      <th>Tamanho_familia</th>\n      <th>Categoria_de_renda</th>\n      <th>Ocupacao</th>\n      <th>Anos_empregado</th>\n      <th>Rendimento_anual</th>\n      <th>Tem_carro</th>\n      <th>Moradia</th>\n    </tr>\n  </thead>\n  <tbody>\n    <tr>\n      <th>0</th>\n      <td>5008806</td>\n      <td>58</td>\n      <td>Ensino superior</td>\n      <td>Casado</td>\n      <td>2</td>\n      <td>Empregado</td>\n      <td>Segurança</td>\n      <td>3</td>\n      <td>112500.0</td>\n      <td>1</td>\n      <td>Casa/apartamento próprio</td>\n    </tr>\n  </tbody>\n</table>\n</div>"
     },
     "execution_count": 112,
     "metadata": {},
     "output_type": "execute_result"
    }
   ],
   "source": [
    "query = 'UPDATE clientes SET Grau_escolaridade = \"Ensino superior\" WHERE ID_Cliente = 5008806'\n",
    "with engine.connect() as conn:\n",
    "    conn.execute(query)\n",
    "\n",
    "query = 'SELECT * FROM clientes WHERE ID_Cliente = \"5008806\"'\n",
    "pd.read_sql(query, con=engine)"
   ],
   "metadata": {
    "collapsed": false,
    "ExecuteTime": {
     "end_time": "2024-01-05T14:17:24.252797Z",
     "start_time": "2024-01-05T14:17:24.221685Z"
    }
   },
   "id": "16145685958caf59"
  },
  {
   "cell_type": "code",
   "execution_count": 114,
   "outputs": [],
   "source": [
    "query = 'INSERT INTO clientes VALUES (5000001, 54, \"Mestrado\", \"Casado(a)\", 3, \"Empregado\", \"Servidor(a) público(a)\", 10, 150000, 1, \"Studio\")'\n",
    "with engine.connect() as conn:\n",
    "    conn.execute(query)"
   ],
   "metadata": {
    "collapsed": false,
    "ExecuteTime": {
     "end_time": "2024-01-05T14:23:27.958262Z",
     "start_time": "2024-01-05T14:23:27.942480Z"
    }
   },
   "id": "be5b1c36d1cde34a"
  },
  {
   "cell_type": "code",
   "execution_count": 117,
   "outputs": [
    {
     "data": {
      "text/plain": "        ID_Cliente  Idade Grau_escolaridade Estado_civil  Tamanho_familia  \\\n438458     6840222     43      Ensino médio     Solteiro                1   \n438459     6841878     22   Ensino superior     Solteiro                1   \n438460     6842765     59      Ensino médio       Casado                2   \n438461     6842885     51      Ensino médio       Casado                2   \n438462     5000001     54          Mestrado    Casado(a)                3   \n\n         Categoria_de_renda                Ocupacao  Anos_empregado  \\\n438458            Empregado        Construção Civil               8   \n438459  Associado comercial                  Vendas               1   \n438460          Pensionista                   Outro               0   \n438461            Empregado                  Vendas               3   \n438462            Empregado  Servidor(a) público(a)              10   \n\n        Rendimento_anual  Tem_carro                   Moradia  \n438458          103500.0          0  Casa/apartamento próprio  \n438459           54000.0          0          Mora com os pais  \n438460           72000.0          0  Casa/apartamento próprio  \n438461          121500.0          0  Casa/apartamento próprio  \n438462          150000.0          1                    Studio  ",
      "text/html": "<div>\n<style scoped>\n    .dataframe tbody tr th:only-of-type {\n        vertical-align: middle;\n    }\n\n    .dataframe tbody tr th {\n        vertical-align: top;\n    }\n\n    .dataframe thead th {\n        text-align: right;\n    }\n</style>\n<table border=\"1\" class=\"dataframe\">\n  <thead>\n    <tr style=\"text-align: right;\">\n      <th></th>\n      <th>ID_Cliente</th>\n      <th>Idade</th>\n      <th>Grau_escolaridade</th>\n      <th>Estado_civil</th>\n      <th>Tamanho_familia</th>\n      <th>Categoria_de_renda</th>\n      <th>Ocupacao</th>\n      <th>Anos_empregado</th>\n      <th>Rendimento_anual</th>\n      <th>Tem_carro</th>\n      <th>Moradia</th>\n    </tr>\n  </thead>\n  <tbody>\n    <tr>\n      <th>438458</th>\n      <td>6840222</td>\n      <td>43</td>\n      <td>Ensino médio</td>\n      <td>Solteiro</td>\n      <td>1</td>\n      <td>Empregado</td>\n      <td>Construção Civil</td>\n      <td>8</td>\n      <td>103500.0</td>\n      <td>0</td>\n      <td>Casa/apartamento próprio</td>\n    </tr>\n    <tr>\n      <th>438459</th>\n      <td>6841878</td>\n      <td>22</td>\n      <td>Ensino superior</td>\n      <td>Solteiro</td>\n      <td>1</td>\n      <td>Associado comercial</td>\n      <td>Vendas</td>\n      <td>1</td>\n      <td>54000.0</td>\n      <td>0</td>\n      <td>Mora com os pais</td>\n    </tr>\n    <tr>\n      <th>438460</th>\n      <td>6842765</td>\n      <td>59</td>\n      <td>Ensino médio</td>\n      <td>Casado</td>\n      <td>2</td>\n      <td>Pensionista</td>\n      <td>Outro</td>\n      <td>0</td>\n      <td>72000.0</td>\n      <td>0</td>\n      <td>Casa/apartamento próprio</td>\n    </tr>\n    <tr>\n      <th>438461</th>\n      <td>6842885</td>\n      <td>51</td>\n      <td>Ensino médio</td>\n      <td>Casado</td>\n      <td>2</td>\n      <td>Empregado</td>\n      <td>Vendas</td>\n      <td>3</td>\n      <td>121500.0</td>\n      <td>0</td>\n      <td>Casa/apartamento próprio</td>\n    </tr>\n    <tr>\n      <th>438462</th>\n      <td>5000001</td>\n      <td>54</td>\n      <td>Mestrado</td>\n      <td>Casado(a)</td>\n      <td>3</td>\n      <td>Empregado</td>\n      <td>Servidor(a) público(a)</td>\n      <td>10</td>\n      <td>150000.0</td>\n      <td>1</td>\n      <td>Studio</td>\n    </tr>\n  </tbody>\n</table>\n</div>"
     },
     "execution_count": 117,
     "metadata": {},
     "output_type": "execute_result"
    }
   ],
   "source": [
    "pd.read_sql('SELECT * FROM clientes', con=engine).tail()"
   ],
   "metadata": {
    "collapsed": false,
    "ExecuteTime": {
     "end_time": "2024-01-05T14:24:34.328054Z",
     "start_time": "2024-01-05T14:24:33.078707Z"
    }
   },
   "id": "87e59aed05fd8578"
  },
  {
   "cell_type": "code",
   "execution_count": null,
   "outputs": [],
   "source": [],
   "metadata": {
    "collapsed": false
   },
   "id": "a68f708c6ad2a585"
  }
 ],
 "metadata": {
  "kernelspec": {
   "display_name": "Python 3",
   "language": "python",
   "name": "python3"
  },
  "language_info": {
   "codemirror_mode": {
    "name": "ipython",
    "version": 2
   },
   "file_extension": ".py",
   "mimetype": "text/x-python",
   "name": "python",
   "nbconvert_exporter": "python",
   "pygments_lexer": "ipython2",
   "version": "2.7.6"
  }
 },
 "nbformat": 4,
 "nbformat_minor": 5
}
